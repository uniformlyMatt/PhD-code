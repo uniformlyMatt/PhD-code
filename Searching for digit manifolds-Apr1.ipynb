{
 "cells": [
  {
   "cell_type": "markdown",
   "metadata": {},
   "source": [
    "# Searching for digit manifolds\n",
    "\n",
    "In this notebook, we'll calculate the level of agreement between elements of a class of digits. The intention is to use the similarity of class elements to sort the elements into a manifold (each successive element appears to be a slight perturbation or continuous deformation of the previous element).\n",
    "\n",
    "There are 10 classes of digits 0-9. Let $A$ and $B$ be elements of class $N$. For current purposes, the level of agreement between $A$ and $B$ is given by\n",
    "\n",
    "$$\n",
    "    \\frac{||A\\odot B||_F}{\\sqrt{||A\\odot A||_F}\\sqrt{||B\\odot B||_F}},\n",
    "$$\n",
    "where $\\odot$ represents the element-wise Hadamard product, and $||\\cdot||_F$ is the Frobenius norm.\n",
    "\n",
    "I've tried norms of various orders in the above expression for agreement. The norm in both the numerator and denominator should be the same order, since this will give perfect agreement (1.0) for $A = B$. I also tried using the convolution instead of the Hadamard product to allow for translations of $A$ when comparing to $B$. However, the convolution resulted in high agreement between all elements of the sample.\n",
    "\n",
    "The first few cells of the notebook are just data management and sorting. "
   ]
  },
  {
   "cell_type": "code",
   "execution_count": 63,
   "metadata": {},
   "outputs": [],
   "source": [
    "%matplotlib inline\n",
    "\n",
    "import numpy as np\n",
    "import pandas as pd\n",
    "import matplotlib.pyplot as plt\n",
    "from scipy.ndimage import morphology as morph\n",
    "from scipy.signal import fftconvolve, correlate\n",
    "import numpy.linalg as LA\n",
    "from sklearn.datasets import fetch_openml\n",
    "import copy"
   ]
  },
  {
   "cell_type": "code",
   "execution_count": 3,
   "metadata": {},
   "outputs": [],
   "source": [
    "# Load MNIST data from https://www.openml.org/d/554\n",
    "images, labels = fetch_openml('mnist_784', version=1, return_X_y=True)"
   ]
  },
  {
   "cell_type": "code",
   "execution_count": 4,
   "metadata": {},
   "outputs": [],
   "source": [
    "''' Right now the images and labels are in separate arrays. \n",
    "    I'll put them into a single pandas DataFrame to make it\n",
    "    easier to sort by label.\n",
    "'''\n",
    "\n",
    "images = pd.DataFrame(zip(images,labels), columns = ['Image','Class label'])\n",
    "\n",
    "# Not really necessary, but I'll sort the images by class label.\n",
    "images.sort_values(by = 'Class label', inplace = True)\n",
    "\n",
    "# By default, the 'Class label' column is not integer, so we'll convert it here.\n",
    "images['Class label'] = images['Class label'].apply(int)\n",
    "\n",
    "# The images are also flattened, so we'll reshape them to (28,28)\n",
    "images['Image'] = images['Image'].apply(lambda x: x.reshape((28,28)))"
   ]
  },
  {
   "cell_type": "code",
   "execution_count": 5,
   "metadata": {},
   "outputs": [],
   "source": [
    "def extract_image(frame, digit):\n",
    "    \"\"\" This function takes in a dataset containing images. \n",
    "        The set is converted to a DataFrame, and the images\n",
    "        corresponding to the given digit are extracted.\n",
    "        \n",
    "        An array containing images of the given digit is\n",
    "        returned.\n",
    "    \"\"\"\n",
    "        \n",
    "    ims = frame[frame['Class label'] == digit]\n",
    "    \n",
    "    # Now ims only contains labels matching the digit, so we can drop the label column.\n",
    "    ims = ims.drop('Class label', axis = 1)\n",
    "    \n",
    "    return np.array(ims['Image'])\n",
    "\n",
    "def display_lengths(data):\n",
    "    \"\"\" Display the total length of each subset of digits. \n",
    "    \n",
    "        Used for checking that the conversion worked as expected.\n",
    "    \"\"\"\n",
    "    \n",
    "    for i in range(10):\n",
    "        print('{} examples of digit {}'.format(len(data[i]), i))\n",
    "    print('{} examples in total\\n'.format(sum(len(data[i]) for i in range(10))))\n",
    "    return None"
   ]
  },
  {
   "cell_type": "code",
   "execution_count": 6,
   "metadata": {},
   "outputs": [
    {
     "name": "stdout",
     "output_type": "stream",
     "text": [
      "6903 examples of digit 0\n",
      "7877 examples of digit 1\n",
      "6990 examples of digit 2\n",
      "7141 examples of digit 3\n",
      "6824 examples of digit 4\n",
      "6313 examples of digit 5\n",
      "6876 examples of digit 6\n",
      "7293 examples of digit 7\n",
      "6825 examples of digit 8\n",
      "6958 examples of digit 9\n",
      "70000 examples in total\n",
      "\n"
     ]
    }
   ],
   "source": [
    "data = [extract_image(images, i) for i in range(10)]\n",
    "display_lengths(data)"
   ]
  },
  {
   "cell_type": "code",
   "execution_count": 7,
   "metadata": {},
   "outputs": [],
   "source": [
    "# Finally, save each digit separately\n",
    "\n",
    "zero = data[0]\n",
    "one = data[1]\n",
    "two = data[2]\n",
    "three = data[3]\n",
    "four = data[4]\n",
    "five = data[5]\n",
    "six = data[6]\n",
    "seven = data[7]\n",
    "eight = data[8]\n",
    "nine = data[9]"
   ]
  },
  {
   "cell_type": "markdown",
   "metadata": {},
   "source": [
    "# Calculating the agreement between classes\n",
    "\n",
    "We'll take samples from a class and calculate the sample variance. Next, we calculate the agreement within the sample."
   ]
  },
  {
   "cell_type": "code",
   "execution_count": 8,
   "metadata": {},
   "outputs": [],
   "source": [
    "# Take N samples from each digit\n",
    "\n",
    "N = 500\n",
    "\n",
    "sample0 = zero[:N]\n",
    "sample1 = one[:N]\n",
    "sample2 = two[:N]\n",
    "sample3 = three[:N]\n",
    "sample4 = four[:N]\n",
    "sample5 = five[:N]\n",
    "sample6 = six[:N]\n",
    "sample7 = seven[:N]\n",
    "sample8 = eight[:N]\n",
    "sample9 = nine[:N]"
   ]
  },
  {
   "cell_type": "code",
   "execution_count": 9,
   "metadata": {},
   "outputs": [
    {
     "data": {
      "image/png": "[encoded data removed]",
      "text/plain": [
       "<Figure size 720x720 with 4 Axes>"
      ]
     },
     "metadata": {},
     "output_type": "display_data"
    }
   ],
   "source": [
    "# Variance of the zero digits\n",
    "\n",
    "fig, ax = plt.subplots(2,2,figsize=(10,10))\n",
    "ax\n",
    "\n",
    "ax[0,0].imshow(zero.var(), cmap = 'gray')\n",
    "ax[0,0].set(title = 'Variance of Zero class', xticks = [], yticks = []);\n",
    "\n",
    "ax[0,1].imshow(zero.mean(), cmap = 'gray')\n",
    "ax[0,1].set(title = 'Mean of Zero class', xticks = [], yticks = []);\n",
    "\n",
    "ax[1,0].imshow(sample0.var(), cmap = 'gray')\n",
    "ax[1,0].set(title = 'Sample Variance of zero class', xticks = [], yticks = []);\n",
    "\n",
    "ax[1,1].imshow(sample0.mean(), cmap = 'gray')\n",
    "ax[1,1].set(title = 'Sample Mean of zero class', xticks = [], yticks = []);\n",
    "\n",
    "# plt.imshow(zero.var(), cmap = 'gray');"
   ]
  },
  {
   "cell_type": "markdown",
   "metadata": {},
   "source": [
    "# Finding the families for the zero digit class\n",
    "\n",
    "The algorithm below calculates the agreement between all elements in a sample of the zero digits. We then sort the elements into 'families', where the 'siblings' in each family are given by agreement over 80%. \n",
    "\n",
    "When each family is identified, we take the mean image of each family.\n",
    "\n",
    "**Note:** When I programmed this, I was using 'chain' instead of 'family'. We'll take that to mean the same thing for now and I'll change it later."
   ]
  },
  {
   "cell_type": "code",
   "execution_count": 18,
   "metadata": {},
   "outputs": [],
   "source": [
    "agree = [LA.norm(A*B,'fro')/(np.sqrt(LA.norm(A*A,'fro'))*np.sqrt(LA.norm(B*B,'fro'))) for A in sample0 for B in sample0]"
   ]
  },
  {
   "cell_type": "code",
   "execution_count": 19,
   "metadata": {},
   "outputs": [
    {
     "data": {
      "text/html": [
       "<div>\n",
       "<style scoped>\n",
       "    .dataframe tbody tr th:only-of-type {\n",
       "        vertical-align: middle;\n",
       "    }\n",
       "\n",
       "    .dataframe tbody tr th {\n",
       "        vertical-align: top;\n",
       "    }\n",
       "\n",
       "    .dataframe thead th {\n",
       "        text-align: right;\n",
       "    }\n",
       "</style>\n",
       "<table border=\"1\" class=\"dataframe\">\n",
       "  <thead>\n",
       "    <tr style=\"text-align: right;\">\n",
       "      <th></th>\n",
       "      <th>0</th>\n",
       "      <th>1</th>\n",
       "      <th>2</th>\n",
       "      <th>3</th>\n",
       "      <th>4</th>\n",
       "      <th>5</th>\n",
       "      <th>6</th>\n",
       "      <th>7</th>\n",
       "      <th>8</th>\n",
       "      <th>9</th>\n",
       "      <th>...</th>\n",
       "      <th>490</th>\n",
       "      <th>491</th>\n",
       "      <th>492</th>\n",
       "      <th>493</th>\n",
       "      <th>494</th>\n",
       "      <th>495</th>\n",
       "      <th>496</th>\n",
       "      <th>497</th>\n",
       "      <th>498</th>\n",
       "      <th>499</th>\n",
       "    </tr>\n",
       "  </thead>\n",
       "  <tbody>\n",
       "    <tr>\n",
       "      <th>0</th>\n",
       "      <td>0.000000</td>\n",
       "      <td>0.733372</td>\n",
       "      <td>0.833161</td>\n",
       "      <td>0.583950</td>\n",
       "      <td>0.902934</td>\n",
       "      <td>0.734831</td>\n",
       "      <td>0.657294</td>\n",
       "      <td>0.722485</td>\n",
       "      <td>0.516295</td>\n",
       "      <td>0.765430</td>\n",
       "      <td>...</td>\n",
       "      <td>0.816292</td>\n",
       "      <td>0.782138</td>\n",
       "      <td>0.657063</td>\n",
       "      <td>0.698689</td>\n",
       "      <td>0.708317</td>\n",
       "      <td>0.856218</td>\n",
       "      <td>0.765286</td>\n",
       "      <td>0.778703</td>\n",
       "      <td>0.769961</td>\n",
       "      <td>0.828176</td>\n",
       "    </tr>\n",
       "    <tr>\n",
       "      <th>1</th>\n",
       "      <td>0.733372</td>\n",
       "      <td>0.000000</td>\n",
       "      <td>0.859755</td>\n",
       "      <td>0.706382</td>\n",
       "      <td>0.832401</td>\n",
       "      <td>0.851721</td>\n",
       "      <td>0.654487</td>\n",
       "      <td>0.879061</td>\n",
       "      <td>0.829639</td>\n",
       "      <td>0.900750</td>\n",
       "      <td>...</td>\n",
       "      <td>0.831288</td>\n",
       "      <td>0.843591</td>\n",
       "      <td>0.580495</td>\n",
       "      <td>0.834017</td>\n",
       "      <td>0.940601</td>\n",
       "      <td>0.876460</td>\n",
       "      <td>0.853974</td>\n",
       "      <td>0.843759</td>\n",
       "      <td>0.818777</td>\n",
       "      <td>0.906462</td>\n",
       "    </tr>\n",
       "    <tr>\n",
       "      <th>2</th>\n",
       "      <td>0.833161</td>\n",
       "      <td>0.859755</td>\n",
       "      <td>0.000000</td>\n",
       "      <td>0.637924</td>\n",
       "      <td>0.911218</td>\n",
       "      <td>0.821698</td>\n",
       "      <td>0.703283</td>\n",
       "      <td>0.805367</td>\n",
       "      <td>0.622057</td>\n",
       "      <td>0.865587</td>\n",
       "      <td>...</td>\n",
       "      <td>0.767570</td>\n",
       "      <td>0.791218</td>\n",
       "      <td>0.611149</td>\n",
       "      <td>0.754858</td>\n",
       "      <td>0.803590</td>\n",
       "      <td>0.834233</td>\n",
       "      <td>0.781952</td>\n",
       "      <td>0.805554</td>\n",
       "      <td>0.768828</td>\n",
       "      <td>0.843317</td>\n",
       "    </tr>\n",
       "    <tr>\n",
       "      <th>3</th>\n",
       "      <td>0.583950</td>\n",
       "      <td>0.706382</td>\n",
       "      <td>0.637924</td>\n",
       "      <td>0.000000</td>\n",
       "      <td>0.604394</td>\n",
       "      <td>0.604734</td>\n",
       "      <td>0.663833</td>\n",
       "      <td>0.744473</td>\n",
       "      <td>0.764949</td>\n",
       "      <td>0.730210</td>\n",
       "      <td>...</td>\n",
       "      <td>0.691278</td>\n",
       "      <td>0.812326</td>\n",
       "      <td>0.723327</td>\n",
       "      <td>0.776014</td>\n",
       "      <td>0.640330</td>\n",
       "      <td>0.765400</td>\n",
       "      <td>0.874226</td>\n",
       "      <td>0.691240</td>\n",
       "      <td>0.755228</td>\n",
       "      <td>0.732312</td>\n",
       "    </tr>\n",
       "    <tr>\n",
       "      <th>4</th>\n",
       "      <td>0.902934</td>\n",
       "      <td>0.832401</td>\n",
       "      <td>0.911218</td>\n",
       "      <td>0.604394</td>\n",
       "      <td>0.000000</td>\n",
       "      <td>0.803136</td>\n",
       "      <td>0.649695</td>\n",
       "      <td>0.783085</td>\n",
       "      <td>0.561030</td>\n",
       "      <td>0.837318</td>\n",
       "      <td>...</td>\n",
       "      <td>0.780118</td>\n",
       "      <td>0.809760</td>\n",
       "      <td>0.638499</td>\n",
       "      <td>0.727314</td>\n",
       "      <td>0.787171</td>\n",
       "      <td>0.841791</td>\n",
       "      <td>0.792347</td>\n",
       "      <td>0.802423</td>\n",
       "      <td>0.771353</td>\n",
       "      <td>0.852304</td>\n",
       "    </tr>\n",
       "    <tr>\n",
       "      <th>...</th>\n",
       "      <td>...</td>\n",
       "      <td>...</td>\n",
       "      <td>...</td>\n",
       "      <td>...</td>\n",
       "      <td>...</td>\n",
       "      <td>...</td>\n",
       "      <td>...</td>\n",
       "      <td>...</td>\n",
       "      <td>...</td>\n",
       "      <td>...</td>\n",
       "      <td>...</td>\n",
       "      <td>...</td>\n",
       "      <td>...</td>\n",
       "      <td>...</td>\n",
       "      <td>...</td>\n",
       "      <td>...</td>\n",
       "      <td>...</td>\n",
       "      <td>...</td>\n",
       "      <td>...</td>\n",
       "      <td>...</td>\n",
       "      <td>...</td>\n",
       "    </tr>\n",
       "    <tr>\n",
       "      <th>495</th>\n",
       "      <td>0.856218</td>\n",
       "      <td>0.876460</td>\n",
       "      <td>0.834233</td>\n",
       "      <td>0.765400</td>\n",
       "      <td>0.841791</td>\n",
       "      <td>0.795855</td>\n",
       "      <td>0.725602</td>\n",
       "      <td>0.870652</td>\n",
       "      <td>0.731702</td>\n",
       "      <td>0.884043</td>\n",
       "      <td>...</td>\n",
       "      <td>0.908774</td>\n",
       "      <td>0.908230</td>\n",
       "      <td>0.697971</td>\n",
       "      <td>0.883239</td>\n",
       "      <td>0.818695</td>\n",
       "      <td>0.000000</td>\n",
       "      <td>0.931959</td>\n",
       "      <td>0.859908</td>\n",
       "      <td>0.899198</td>\n",
       "      <td>0.922732</td>\n",
       "    </tr>\n",
       "    <tr>\n",
       "      <th>496</th>\n",
       "      <td>0.765286</td>\n",
       "      <td>0.853974</td>\n",
       "      <td>0.781952</td>\n",
       "      <td>0.874226</td>\n",
       "      <td>0.792347</td>\n",
       "      <td>0.720520</td>\n",
       "      <td>0.693972</td>\n",
       "      <td>0.852461</td>\n",
       "      <td>0.789087</td>\n",
       "      <td>0.847904</td>\n",
       "      <td>...</td>\n",
       "      <td>0.844200</td>\n",
       "      <td>0.940892</td>\n",
       "      <td>0.761359</td>\n",
       "      <td>0.877333</td>\n",
       "      <td>0.803091</td>\n",
       "      <td>0.931959</td>\n",
       "      <td>0.000000</td>\n",
       "      <td>0.801340</td>\n",
       "      <td>0.908130</td>\n",
       "      <td>0.874205</td>\n",
       "    </tr>\n",
       "    <tr>\n",
       "      <th>497</th>\n",
       "      <td>0.778703</td>\n",
       "      <td>0.843759</td>\n",
       "      <td>0.805554</td>\n",
       "      <td>0.691240</td>\n",
       "      <td>0.802423</td>\n",
       "      <td>0.822913</td>\n",
       "      <td>0.829596</td>\n",
       "      <td>0.898638</td>\n",
       "      <td>0.638108</td>\n",
       "      <td>0.908156</td>\n",
       "      <td>...</td>\n",
       "      <td>0.937970</td>\n",
       "      <td>0.793021</td>\n",
       "      <td>0.572379</td>\n",
       "      <td>0.793416</td>\n",
       "      <td>0.798424</td>\n",
       "      <td>0.859908</td>\n",
       "      <td>0.801340</td>\n",
       "      <td>0.000000</td>\n",
       "      <td>0.808879</td>\n",
       "      <td>0.882897</td>\n",
       "    </tr>\n",
       "    <tr>\n",
       "      <th>498</th>\n",
       "      <td>0.769961</td>\n",
       "      <td>0.818777</td>\n",
       "      <td>0.768828</td>\n",
       "      <td>0.755228</td>\n",
       "      <td>0.771353</td>\n",
       "      <td>0.755198</td>\n",
       "      <td>0.708440</td>\n",
       "      <td>0.804267</td>\n",
       "      <td>0.705831</td>\n",
       "      <td>0.826638</td>\n",
       "      <td>...</td>\n",
       "      <td>0.841589</td>\n",
       "      <td>0.914484</td>\n",
       "      <td>0.794753</td>\n",
       "      <td>0.876975</td>\n",
       "      <td>0.759520</td>\n",
       "      <td>0.899198</td>\n",
       "      <td>0.908130</td>\n",
       "      <td>0.808879</td>\n",
       "      <td>0.000000</td>\n",
       "      <td>0.874366</td>\n",
       "    </tr>\n",
       "    <tr>\n",
       "      <th>499</th>\n",
       "      <td>0.828176</td>\n",
       "      <td>0.906462</td>\n",
       "      <td>0.843317</td>\n",
       "      <td>0.732312</td>\n",
       "      <td>0.852304</td>\n",
       "      <td>0.829794</td>\n",
       "      <td>0.731075</td>\n",
       "      <td>0.869553</td>\n",
       "      <td>0.731001</td>\n",
       "      <td>0.899878</td>\n",
       "      <td>...</td>\n",
       "      <td>0.883328</td>\n",
       "      <td>0.854821</td>\n",
       "      <td>0.663923</td>\n",
       "      <td>0.841188</td>\n",
       "      <td>0.823896</td>\n",
       "      <td>0.922732</td>\n",
       "      <td>0.874205</td>\n",
       "      <td>0.882897</td>\n",
       "      <td>0.874366</td>\n",
       "      <td>0.000000</td>\n",
       "    </tr>\n",
       "  </tbody>\n",
       "</table>\n",
       "<p>500 rows × 500 columns</p>\n",
       "</div>"
      ],
      "text/plain": [
       "          0         1         2         3         4         5         6    \\\n",
       "0    0.000000  0.733372  0.833161  0.583950  0.902934  0.734831  0.657294   \n",
       "1    0.733372  0.000000  0.859755  0.706382  0.832401  0.851721  0.654487   \n",
       "2    0.833161  0.859755  0.000000  0.637924  0.911218  0.821698  0.703283   \n",
       "3    0.583950  0.706382  0.637924  0.000000  0.604394  0.604734  0.663833   \n",
       "4    0.902934  0.832401  0.911218  0.604394  0.000000  0.803136  0.649695   \n",
       "..        ...       ...       ...       ...       ...       ...       ...   \n",
       "495  0.856218  0.876460  0.834233  0.765400  0.841791  0.795855  0.725602   \n",
       "496  0.765286  0.853974  0.781952  0.874226  0.792347  0.720520  0.693972   \n",
       "497  0.778703  0.843759  0.805554  0.691240  0.802423  0.822913  0.829596   \n",
       "498  0.769961  0.818777  0.768828  0.755228  0.771353  0.755198  0.708440   \n",
       "499  0.828176  0.906462  0.843317  0.732312  0.852304  0.829794  0.731075   \n",
       "\n",
       "          7         8         9    ...       490       491       492  \\\n",
       "0    0.722485  0.516295  0.765430  ...  0.816292  0.782138  0.657063   \n",
       "1    0.879061  0.829639  0.900750  ...  0.831288  0.843591  0.580495   \n",
       "2    0.805367  0.622057  0.865587  ...  0.767570  0.791218  0.611149   \n",
       "3    0.744473  0.764949  0.730210  ...  0.691278  0.812326  0.723327   \n",
       "4    0.783085  0.561030  0.837318  ...  0.780118  0.809760  0.638499   \n",
       "..        ...       ...       ...  ...       ...       ...       ...   \n",
       "495  0.870652  0.731702  0.884043  ...  0.908774  0.908230  0.697971   \n",
       "496  0.852461  0.789087  0.847904  ...  0.844200  0.940892  0.761359   \n",
       "497  0.898638  0.638108  0.908156  ...  0.937970  0.793021  0.572379   \n",
       "498  0.804267  0.705831  0.826638  ...  0.841589  0.914484  0.794753   \n",
       "499  0.869553  0.731001  0.899878  ...  0.883328  0.854821  0.663923   \n",
       "\n",
       "          493       494       495       496       497       498       499  \n",
       "0    0.698689  0.708317  0.856218  0.765286  0.778703  0.769961  0.828176  \n",
       "1    0.834017  0.940601  0.876460  0.853974  0.843759  0.818777  0.906462  \n",
       "2    0.754858  0.803590  0.834233  0.781952  0.805554  0.768828  0.843317  \n",
       "3    0.776014  0.640330  0.765400  0.874226  0.691240  0.755228  0.732312  \n",
       "4    0.727314  0.787171  0.841791  0.792347  0.802423  0.771353  0.852304  \n",
       "..        ...       ...       ...       ...       ...       ...       ...  \n",
       "495  0.883239  0.818695  0.000000  0.931959  0.859908  0.899198  0.922732  \n",
       "496  0.877333  0.803091  0.931959  0.000000  0.801340  0.908130  0.874205  \n",
       "497  0.793416  0.798424  0.859908  0.801340  0.000000  0.808879  0.882897  \n",
       "498  0.876975  0.759520  0.899198  0.908130  0.808879  0.000000  0.874366  \n",
       "499  0.841188  0.823896  0.922732  0.874205  0.882897  0.874366  0.000000  \n",
       "\n",
       "[500 rows x 500 columns]"
      ]
     },
     "execution_count": 19,
     "metadata": {},
     "output_type": "execute_result"
    }
   ],
   "source": [
    "agree_chart = pd.DataFrame(np.array(agree).reshape(N,N))\n",
    "agree_chart[agree_chart > 0.99] = 0\n",
    "agree_chart"
   ]
  },
  {
   "cell_type": "code",
   "execution_count": 20,
   "metadata": {},
   "outputs": [],
   "source": [
    "def get_chains(ag_chart, threshold = 0.8, start_row = 0):\n",
    "    \"\"\" Get the list of chains of digits with high levels of agreement. \n",
    "    \"\"\"\n",
    "    \n",
    "    chains = []   \n",
    "    \n",
    "    while not ag_chart.empty:\n",
    "        chain = [start_row]\n",
    "\n",
    "        ag_chart.drop(start_row, axis = 1, inplace = True)\n",
    "\n",
    "        while ag_chart.loc[start_row].max() > threshold:\n",
    "            \n",
    "            # Find the column that corresponds to the next row to search\n",
    "            next_row = ag_chart.loc[start_row].idxmax(axis = 0)\n",
    "            ag_chart.loc[start_row] = 0\n",
    "\n",
    "            start_row = next_row\n",
    "            # Drop the column we just searched\n",
    "            ag_chart.drop(start_row, axis = 1, inplace = True)\n",
    "\n",
    "            chain.append(start_row)\n",
    "        \n",
    "        ag_chart.drop(chain, axis = 0, inplace = True)\n",
    "        chains.append(chain)\n",
    "    \n",
    "        try:\n",
    "            start_row = ag_chart.index[0]\n",
    "        except:\n",
    "            break\n",
    "            \n",
    "    return chains"
   ]
  },
  {
   "cell_type": "markdown",
   "metadata": {},
   "source": [
    "This next cell finds the chains of digits that have agreement of more than 80%."
   ]
  },
  {
   "cell_type": "code",
   "execution_count": 21,
   "metadata": {
    "scrolled": true
   },
   "outputs": [
    {
     "name": "stdout",
     "output_type": "stream",
     "text": [
      "[[0, 282, 242, 51, 86, 64, 112, 391, 490, 394, 470, 485, 496, 237, 400, 399, 350, 375, 383, 365, 386, 384, 370, 393, 403, 13, 22, 272, 60, 135, 328, 331, 478, 460, 491, 93, 465, 158, 345, 137, 463, 63, 344, 440, 446, 192, 459, 189, 73, 260, 293, 243, 316, 405, 443, 284, 274, 276, 343, 101, 142, 95, 121, 311, 314, 355, 239, 480, 487, 475, 94, 48, 55, 362, 127, 187, 149, 432, 62, 47, 4, 163, 75, 99, 307, 67, 273, 107, 104, 69, 193, 182, 404, 132, 245, 359, 369, 190, 269, 20, 236, 396, 499, 58, 467, 59, 133, 116, 160, 420, 184, 361, 147, 352, 483, 24, 97, 257, 78, 215, 140, 165, 222, 229, 156, 419, 449, 413, 170, 150, 334, 1, 433, 9, 25, 426, 472, 411, 153, 113, 267, 197, 7, 497, 476, 179, 49, 326, 493, 281, 90, 461, 392, 151, 454, 148, 474, 106, 305, 30, 286, 358, 36, 186, 8, 232, 145, 373, 31, 438, 270, 347, 125, 141, 312, 130, 271, 3, 43, 431, 167, 181, 206, 202, 208, 205, 210, 495, 122, 92, 498, 336, 177, 275, 143, 418, 61, 407, 382, 248, 176, 76, 434, 168, 103, 379, 322, 303, 299, 120, 131, 238, 427, 346, 425, 233, 53, 450, 452, 441, 455, 477, 298, 363, 494, 250, 54, 240, 108, 451, 429, 196, 412, 118, 35, 261, 213, 288, 173, 479, 381, 172, 79, 134, 482, 224, 157, 278, 489, 349, 155, 169, 268, 19, 138, 37, 220, 329, 340, 216, 318, 302, 389, 353, 129, 114, 408, 469, 310, 297, 280, 462, 368, 228, 174, 372, 406, 178, 415, 29, 348, 110, 128, 226, 50, 102, 119, 14, 219, 308, 46, 360, 466, 367, 66, 397, 317, 136, 154, 15, 221, 457, 38, 410, 218, 332, 85, 124, 437, 84, 402, 88, 380, 414, 171, 263, 71, 227, 201, 214, 217], [2, 448, 259, 256, 180, 255, 335, 194, 252, 417, 241, 266, 175, 294, 231, 109, 251, 144, 166, 398, 488, 395, 456, 207, 357, 447, 17, 235, 265, 89, 98, 258, 309, 371, 164, 364, 295, 183, 377, 378, 87, 83, 77, 409, 421, 159, 195, 471, 473, 199, 445, 264, 254, 96, 146, 313, 416, 279, 262, 289, 253, 401, 5, 285, 161, 453, 458, 10, 68, 82, 436, 246, 423, 366, 342, 435, 65, 198, 424, 287, 117, 40, 42, 244, 234, 290, 34, 152, 12, 188, 385, 185, 481, 486, 212, 11, 304, 32, 21, 430, 23, 354, 292, 26, 56, 225, 492, 387, 327, 28, 320, 191, 74], [6], [16], [18, 296, 374], [27], [33, 200, 72], [39], [41, 91, 439], [44], [45], [52, 464, 111, 81, 300, 80], [57, 388, 390, 115], [70, 301, 330, 338, 341, 323, 339], [100], [105], [123], [126, 315], [139], [162], [203, 444, 209], [204], [211, 223], [230], [247, 283], [249], [277], [291], [306, 468], [319, 321], [324], [325], [333], [337], [351], [356], [376], [422], [428], [442], [484]]\n"
     ]
    }
   ],
   "source": [
    "threshold = 0.8\n",
    "\n",
    "families = get_chains(agree_chart, threshold = threshold)\n",
    "print(families)"
   ]
  },
  {
   "cell_type": "code",
   "execution_count": 22,
   "metadata": {},
   "outputs": [
    {
     "name": "stdout",
     "output_type": "stream",
     "text": [
      "Algorithm found 41 families of digits with threshold 0.8.\n"
     ]
    },
    {
     "data": {
      "image/png": "[encoded data removed]",
      "text/plain": [
       "<Figure size 864x864 with 41 Axes>"
      ]
     },
     "metadata": {},
     "output_type": "display_data"
    }
   ],
   "source": [
    "def display_chain(chains, sample):\n",
    "    \"\"\" Display the mean digit obtained by averaging over each chain of digits. \"\"\"\n",
    "    \n",
    "    ims = [sum(sample[i] for i in chain)/len(chain) for chain in chains]\n",
    "    \n",
    "    print('Algorithm found {} families of digits with threshold {}.'.format(len(chains), threshold))\n",
    "    \n",
    "    fig, ax = plt.subplots(1,len(ims),figsize=(12,12))\n",
    "    \n",
    "    for i in range(len(ims)):\n",
    "        ax[i].imshow(ims[i], cmap = 'gray');\n",
    "        ax[i].set(xticks = [], yticks = []);\n",
    "    return None\n",
    "\n",
    "display_chain(families, sample0)"
   ]
  },
  {
   "cell_type": "markdown",
   "metadata": {},
   "source": [
    "In the output above, families with more than one member have their 'family mean' displayed (the mean of all images in the family)."
   ]
  },
  {
   "cell_type": "markdown",
   "metadata": {},
   "source": [
    "# Finding family means for every digit class\n",
    "\n",
    "This is working really well for finding chains of similar digits. Now I'll perform the algorithm on each digit class."
   ]
  },
  {
   "cell_type": "code",
   "execution_count": 41,
   "metadata": {},
   "outputs": [],
   "source": [
    "samples = [sample0, sample1, sample2, sample3, sample4, sample5, sample6, sample7, sample8, sample9]"
   ]
  },
  {
   "cell_type": "code",
   "execution_count": 61,
   "metadata": {},
   "outputs": [],
   "source": [
    "def similarity(sample):\n",
    "    \"\"\" Find the similarity matrix for a sample taken from a class of digits. \"\"\"\n",
    "    \n",
    "    agree = [LA.norm(A*B,'fro')/(np.sqrt(LA.norm(A*A,'fro'))*np.sqrt(LA.norm(B*B,'fro'))) for A in sample for B in sample]\n",
    "    \n",
    "    agree_chart = pd.DataFrame(np.array(agree).reshape(N,N))\n",
    "    agree_chart[agree_chart > 0.99] = 0\n",
    "    \n",
    "    return agree_chart"
   ]
  },
  {
   "cell_type": "markdown",
   "metadata": {},
   "source": [
    "# THIS STEP IS THE MAJOR SLOWDOWN"
   ]
  },
  {
   "cell_type": "code",
   "execution_count": 64,
   "metadata": {},
   "outputs": [],
   "source": [
    "# Find the agreement chart for all samples\n",
    "agreement_charts = [similarity(sample) for sample in samples]\n",
    "\n",
    "# Get deep copies of the agreement charts to use in future test cases (deep copies ensure new objects are created)\n",
    "agreement_charts70 = copy.deepcopy(agreement_charts)\n",
    "agreement_charts80 = copy.deepcopy(agreement_charts)\n",
    "agreement_charts90 = copy.deepcopy(agreement_charts)"
   ]
  },
  {
   "cell_type": "code",
   "execution_count": 65,
   "metadata": {},
   "outputs": [],
   "source": [
    "# Find the chains of similar digits for all digit classes.\n",
    "\n",
    "all_families = {key:get_chains(ag, threshold = threshold) for key,ag in zip(range(len(agreement_charts80)), agreement_charts80)}"
   ]
  },
  {
   "cell_type": "code",
   "execution_count": 66,
   "metadata": {
    "scrolled": false
   },
   "outputs": [
    {
     "name": "stdout",
     "output_type": "stream",
     "text": [
      "Algorithm found 201 families of digits with threshold 0.9.\n",
      "Algorithm found 45 families of digits with threshold 0.9.\n",
      "Algorithm found 386 families of digits with threshold 0.9.\n",
      "Algorithm found 342 families of digits with threshold 0.9.\n",
      "Algorithm found 328 families of digits with threshold 0.9.\n",
      "Algorithm found 420 families of digits with threshold 0.9.\n",
      "Algorithm found 252 families of digits with threshold 0.9.\n",
      "Algorithm found 250 families of digits with threshold 0.9.\n",
      "Algorithm found 366 families of digits with threshold 0.9.\n",
      "Algorithm found 223 families of digits with threshold 0.9.\n"
     ]
    },
    {
     "data": {
      "image/png": "[encoded data removed]",
      "text/plain": [
       "<Figure size 864x864 with 201 Axes>"
      ]
     },
     "metadata": {},
     "output_type": "display_data"
    },
    {
     "data": {
      "image/png": "[encoded data removed]",
      "text/plain": [
       "<Figure size 864x864 with 45 Axes>"
      ]
     },
     "metadata": {},
     "output_type": "display_data"
    },
    {
     "data": {
      "image/png": "[encoded data removed]",
      "text/plain": [
       "<Figure size 864x864 with 386 Axes>"
      ]
     },
     "metadata": {},
     "output_type": "display_data"
    },
    {
     "data": {
      "image/png": "[encoded data removed]",
      "text/plain": [
       "<Figure size 864x864 with 342 Axes>"
      ]
     },
     "metadata": {},
     "output_type": "display_data"
    },
    {
     "data": {
      "image/png": "[encoded data removed]",
      "text/plain": [
       "<Figure size 864x864 with 328 Axes>"
      ]
     },
     "metadata": {},
     "output_type": "display_data"
    },
    {
     "data": {
      "image/png": "[encoded data removed]",
      "text/plain": [
       "<Figure size 864x864 with 420 Axes>"
      ]
     },
     "metadata": {},
     "output_type": "display_data"
    },
    {
     "data": {
      "image/png": "[encoded data removed]",
      "text/plain": [
       "<Figure size 864x864 with 252 Axes>"
      ]
     },
     "metadata": {},
     "output_type": "display_data"
    },
    {
     "data": {
      "image/png": "[encoded data removed]",
      "text/plain": [
       "<Figure size 864x864 with 250 Axes>"
      ]
     },
     "metadata": {},
     "output_type": "display_data"
    },
    {
     "data": {
      "image/png": "[encoded data removed]",
      "text/plain": [
       "<Figure size 864x864 with 366 Axes>"
      ]
     },
     "metadata": {},
     "output_type": "display_data"
    },
    {
     "data": {
      "image/png": "[encoded data removed]",
      "text/plain": [
       "<Figure size 864x864 with 223 Axes>"
      ]
     },
     "metadata": {},
     "output_type": "display_data"
    }
   ],
   "source": [
    "for key, sample in zip(all_families, samples):\n",
    "    display_chain(all_families[key], sample)"
   ]
  },
  {
   "cell_type": "markdown",
   "metadata": {},
   "source": [
    "# Computing projections onto the bases - an example with 10 test images\n",
    "\n",
    "- take some random examples of digits, calculate the agreement with each basis; take largest value as the class\n",
    "\n",
    "Further ideas:\n",
    "- reduce the basis size"
   ]
  },
  {
   "cell_type": "code",
   "execution_count": 67,
   "metadata": {},
   "outputs": [
    {
     "data": {
      "image/png": "[encoded data removed]",
      "text/plain": [
       "<Figure size 1440x288 with 10 Axes>"
      ]
     },
     "metadata": {},
     "output_type": "display_data"
    }
   ],
   "source": [
    "# Selecting test digits, 1 from each class\n",
    "\n",
    "testing = [np.random.choice(data[i][-500:]) for i in range(10)]\n",
    "\n",
    "# Show the test digits\n",
    "fig, ax = plt.subplots(1, 10, figsize = (20,4))\n",
    "\n",
    "for i in range(10):\n",
    "    ax[i].imshow(testing[i], cmap = 'gray')\n",
    "    ax[i].set(xticks = [], yticks = []);"
   ]
  },
  {
   "cell_type": "code",
   "execution_count": 68,
   "metadata": {},
   "outputs": [
    {
     "name": "stdout",
     "output_type": "stream",
     "text": [
      "201 images computed for family of length 201\n",
      "45 images computed for family of length 45\n",
      "386 images computed for family of length 386\n",
      "342 images computed for family of length 342\n",
      "328 images computed for family of length 328\n",
      "420 images computed for family of length 420\n",
      "252 images computed for family of length 252\n",
      "250 images computed for family of length 250\n",
      "366 images computed for family of length 366\n",
      "223 images computed for family of length 223\n"
     ]
    }
   ],
   "source": [
    "# Computing similarity of the test digits with the computed digit families - highest agreement indicates the digit class\n",
    "\n",
    "def project_test_digit(digit, family):\n",
    "    \"\"\" Calculate the projection of 'digit' onto a 'family' of digits. \"\"\"\n",
    "    \n",
    "    coef = [LA.norm(digit*B,'fro')/(np.sqrt(LA.norm(digit*digit,'fro'))*np.sqrt(LA.norm(B*B,'fro'))) for B in family]\n",
    "    \n",
    "    # Take infinity norm to find the best agreement for each family\n",
    "    max_agreement = np.max(coef)\n",
    "    return max_agreement\n",
    "\n",
    "def mean_digits(family, sample):\n",
    "    \"\"\" Take a family of digits, compute the mean image for long families. \"\"\"\n",
    "    \n",
    "    ims = [sum(sample[i] for i in chain)/len(chain) for chain in family]\n",
    "    print('{} images computed for family of length {}'.format(len(ims), len(family)))\n",
    "    \n",
    "    return ims\n",
    "\n",
    "bases = {}\n",
    "\n",
    "# Get the mean image for families with length greater than 1\n",
    "for key, sample, index in zip(all_families, samples, range(10)):\n",
    "    bases[index] = mean_digits(all_families[key], sample)"
   ]
  },
  {
   "cell_type": "code",
   "execution_count": 69,
   "metadata": {
    "scrolled": true
   },
   "outputs": [],
   "source": [
    "\"\"\" This calculates the projection of each testing digit onto every basis in 'bases'.\n",
    "\"\"\"\n",
    "\n",
    "projections = [[project_test_digit(digit, bases[j]) for j in range(10)] for digit in testing]"
   ]
  },
  {
   "cell_type": "code",
   "execution_count": 70,
   "metadata": {},
   "outputs": [],
   "source": [
    "# Finally, determining the class label for the testing images\n",
    "\n",
    "def get_labels(projections):\n",
    "    \"\"\" Calculate the class labels for each testing digit. \"\"\"\n",
    "    \n",
    "    msg = 'Test digit {} is most likely in class {}'\n",
    "    \n",
    "    labels = [np.argmax(proj) for proj in projections]\n",
    "    \n",
    "    for i in range(len(projections)):\n",
    "        print(msg.format(i, labels[i]))\n",
    "        \n",
    "    return list(zip(range(len(projections)),labels))"
   ]
  },
  {
   "cell_type": "code",
   "execution_count": 71,
   "metadata": {},
   "outputs": [
    {
     "name": "stdout",
     "output_type": "stream",
     "text": [
      "Test digit 0 is most likely in class 0\n",
      "Test digit 1 is most likely in class 7\n",
      "Test digit 2 is most likely in class 2\n",
      "Test digit 3 is most likely in class 3\n",
      "Test digit 4 is most likely in class 4\n",
      "Test digit 5 is most likely in class 5\n",
      "Test digit 6 is most likely in class 6\n",
      "Test digit 7 is most likely in class 7\n",
      "Test digit 8 is most likely in class 8\n",
      "Test digit 9 is most likely in class 9\n"
     ]
    },
    {
     "data": {
      "text/plain": [
       "[(0, 0),\n",
       " (1, 7),\n",
       " (2, 2),\n",
       " (3, 3),\n",
       " (4, 4),\n",
       " (5, 5),\n",
       " (6, 6),\n",
       " (7, 7),\n",
       " (8, 8),\n",
       " (9, 9)]"
      ]
     },
     "execution_count": 71,
     "metadata": {},
     "output_type": "execute_result"
    }
   ],
   "source": [
    "get_labels(projections)"
   ]
  },
  {
   "cell_type": "markdown",
   "metadata": {},
   "source": [
    "# March 31 2020\n",
    "\n",
    "# In-family similarity threshold: 80%\n",
    "\n",
    "Now we take 500 test images and run them through our algorithm. We compute the similarity of each test digit with the bases calculated above. The overall agreement between a test digit and a basis is given by the mean agreement of the test digit and all basis elements of the given basis. \n",
    "\n",
    "Let $K$ be the size of a given basis, $\\beta_k$ be a basis element, and $T$ be the test digit. The agreement of the test digit with a basis element is given by\n",
    "$$\n",
    "    \\text{sim}(T, \\beta_k) = \\frac{||T\\odot \\beta_k||_F}{\\sqrt{||T\\odot T||_F}\\sqrt{||\\beta_k\\odot \\beta_k||_F}},\n",
    "$$\n",
    "as above. \n",
    "\n",
    "The overall agreement between the test digit $T$ and the basis $B  = \\{ \\beta_k \\}$ is given by\n",
    "$$\n",
    "    \\mu(T, B) = \\frac{1}{K}\\sum_{k=1}^K \\text{sim}(T, \\beta_k).\n",
    "$$"
   ]
  },
  {
   "cell_type": "code",
   "execution_count": 72,
   "metadata": {},
   "outputs": [],
   "source": [
    "# Take the last 500 images as test images\n",
    "\n",
    "N = 500\n",
    "\n",
    "test_images = {0: zero[-N:],\n",
    "               1: one[-N:],\n",
    "               2: two[-N:],\n",
    "               3: three[-N:],\n",
    "               4: four[-N:],\n",
    "               5: five[-N:],\n",
    "               6: six[-N:],\n",
    "               7: seven[-N:],\n",
    "               8: eight[-N:],\n",
    "               9: nine[-N:]}"
   ]
  },
  {
   "cell_type": "code",
   "execution_count": 73,
   "metadata": {},
   "outputs": [
    {
     "name": "stdout",
     "output_type": "stream",
     "text": [
      "Computing projections for class 0...\n",
      "Computing projections for class 1...\n",
      "Computing projections for class 2...\n",
      "Computing projections for class 3...\n",
      "Computing projections for class 4...\n",
      "Computing projections for class 5...\n",
      "Computing projections for class 6...\n",
      "Computing projections for class 7...\n",
      "Computing projections for class 8...\n",
      "Computing projections for class 9...\n"
     ]
    }
   ],
   "source": [
    "\"\"\" This calculates the projection of each testing digit onto every basis in 'bases'.\n",
    "\"\"\"\n",
    "\n",
    "result = {}\n",
    "\n",
    "for key in test_images:\n",
    "    print('Computing projections for class {}...'.format(key))\n",
    "    result[key] = [[project_test_digit(digit, bases[j]) for j in range(10)] for digit in test_images[key]]"
   ]
  },
  {
   "cell_type": "code",
   "execution_count": 74,
   "metadata": {},
   "outputs": [],
   "source": [
    "# Get the computed labels \n",
    "def get_all_labels(result):\n",
    "    \"\"\" Take in a dictionary of projections for each digit class, predict the class. \"\"\"\n",
    "    \n",
    "    # Pair the predicted class with the correct class\n",
    "    predictions = {}\n",
    "    \n",
    "    for key in result:\n",
    "        # 'key' is the correct class, 'np.argmax(proj)' is the predicted class\n",
    "        predictions[key] = [np.argmax(proj) for proj in result[key]] \n",
    "            \n",
    "    return predictions\n",
    "\n",
    "pred = get_all_labels(result)"
   ]
  },
  {
   "cell_type": "code",
   "execution_count": 75,
   "metadata": {
    "scrolled": true
   },
   "outputs": [
    {
     "name": "stdout",
     "output_type": "stream",
     "text": [
      "Accuracy for class 0: 99.0%\n",
      "Accuracy for class 1: 97.0%\n",
      "Accuracy for class 2: 92.4%\n",
      "Accuracy for class 3: 94.2%\n",
      "Accuracy for class 4: 92.0%\n",
      "Accuracy for class 5: 86.6%\n",
      "Accuracy for class 6: 96.8%\n",
      "Accuracy for class 7: 93.2%\n",
      "Accuracy for class 8: 86.2%\n",
      "Accuracy for class 9: 87.6%\n",
      "Overall prediction accuracy: 92.5000%\n"
     ]
    }
   ],
   "source": [
    "def calc_accuracy(predictions):\n",
    "    \"\"\" From a dictionary of predicted class labels, compute the mis-classification ratio. \n",
    "    \n",
    "        Input:\n",
    "        ------\n",
    "        predictions := a dictionary containing {class: predicted_class_labels}\n",
    "        \n",
    "        Output:\n",
    "        -------\n",
    "        1 - error_rate := gives the overall accuracy of the method\n",
    "    \"\"\"\n",
    "    \n",
    "    N = 500\n",
    "    \n",
    "    length = N*10\n",
    "    wrong = 0\n",
    "    \n",
    "    wrong_per_class = []\n",
    "    \n",
    "    for correct_label in predictions:\n",
    "        # Make an array of correct class labels\n",
    "        temp_correct_list = np.array([correct_label]*N)\n",
    "        \n",
    "        # Make an array of 0 where the correct label was computed, 1 otherwise\n",
    "        amt_wrong = np.where(np.abs(temp_correct_list - predictions[correct_label]) > 0, 1, 0)\n",
    "        \n",
    "        wrong_per_class.append(amt_wrong.sum())\n",
    "        \n",
    "        wrong += amt_wrong.sum()\n",
    "        print('Accuracy for class {}: {:.1f}%'.format(correct_label, 100*(1 - amt_wrong.sum()/len(temp_correct_list))))\n",
    "    \n",
    "    error_rate = wrong/length\n",
    "    return 1 - error_rate\n",
    "        \n",
    "print('Overall prediction accuracy: {:.4f}%'.format(100*calc_accuracy(pred)))"
   ]
  },
  {
   "cell_type": "markdown",
   "metadata": {},
   "source": [
    "# Using a lower threshold\n",
    "\n",
    "This is the same experiment, but with the threshold for digit families in a basis set to 70%."
   ]
  },
  {
   "cell_type": "code",
   "execution_count": 76,
   "metadata": {},
   "outputs": [
    {
     "name": "stdout",
     "output_type": "stream",
     "text": [
      "Algorithm found 11 families of digits with threshold 0.7.\n",
      "Algorithm found 6 families of digits with threshold 0.7.\n",
      "Algorithm found 21 families of digits with threshold 0.7.\n",
      "Algorithm found 22 families of digits with threshold 0.7.\n",
      "Algorithm found 18 families of digits with threshold 0.7.\n",
      "Algorithm found 38 families of digits with threshold 0.7.\n",
      "Algorithm found 12 families of digits with threshold 0.7.\n",
      "Algorithm found 15 families of digits with threshold 0.7.\n",
      "Algorithm found 21 families of digits with threshold 0.7.\n",
      "Algorithm found 9 families of digits with threshold 0.7.\n"
     ]
    },
    {
     "data": {
      "image/png": "[encoded data removed]",
      "text/plain": [
       "<Figure size 864x864 with 11 Axes>"
      ]
     },
     "metadata": {},
     "output_type": "display_data"
    },
    {
     "data": {
      "image/png": "[encoded data removed]",
      "text/plain": [
       "<Figure size 864x864 with 6 Axes>"
      ]
     },
     "metadata": {},
     "output_type": "display_data"
    },
    {
     "data": {
      "image/png": "[encoded data removed]",
      "text/plain": [
       "<Figure size 864x864 with 21 Axes>"
      ]
     },
     "metadata": {},
     "output_type": "display_data"
    },
    {
     "data": {
      "image/png": "[encoded data removed]",
      "text/plain": [
       "<Figure size 864x864 with 22 Axes>"
      ]
     },
     "metadata": {},
     "output_type": "display_data"
    },
    {
     "data": {
      "image/png": "[encoded data removed]",
      "text/plain": [
       "<Figure size 864x864 with 18 Axes>"
      ]
     },
     "metadata": {},
     "output_type": "display_data"
    },
    {
     "data": {
      "image/png": "[encoded data removed]",
      "text/plain": [
       "<Figure size 864x864 with 38 Axes>"
      ]
     },
     "metadata": {},
     "output_type": "display_data"
    },
    {
     "data": {
      "image/png": "[encoded data removed]",
      "text/plain": [
       "<Figure size 864x864 with 12 Axes>"
      ]
     },
     "metadata": {},
     "output_type": "display_data"
    },
    {
     "data": {
      "image/png": "[encoded data removed]",
      "text/plain": [
       "<Figure size 864x864 with 15 Axes>"
      ]
     },
     "metadata": {},
     "output_type": "display_data"
    },
    {
     "data": {
      "image/png": "[encoded data removed]",
      "text/plain": [
       "<Figure size 864x864 with 21 Axes>"
      ]
     },
     "metadata": {},
     "output_type": "display_data"
    },
    {
     "data": {
      "image/png": "[encoded data removed]",
      "text/plain": [
       "<Figure size 864x864 with 9 Axes>"
      ]
     },
     "metadata": {},
     "output_type": "display_data"
    }
   ],
   "source": [
    "threshold = 0.7\n",
    "\n",
    "# agreement_charts = [similarity(sample) for sample in samples]\n",
    "all_families = {key:get_chains(ag, threshold = threshold) for key,ag in zip(range(len(agreement_charts70)), agreement_charts70)}\n",
    "\n",
    "for key, sample in zip(all_families, samples):\n",
    "    display_chain(all_families[key], sample)"
   ]
  },
  {
   "cell_type": "code",
   "execution_count": 77,
   "metadata": {},
   "outputs": [
    {
     "name": "stdout",
     "output_type": "stream",
     "text": [
      "11 images computed for family of length 11\n",
      "6 images computed for family of length 6\n",
      "21 images computed for family of length 21\n",
      "22 images computed for family of length 22\n",
      "18 images computed for family of length 18\n",
      "38 images computed for family of length 38\n",
      "12 images computed for family of length 12\n",
      "15 images computed for family of length 15\n",
      "21 images computed for family of length 21\n",
      "9 images computed for family of length 9\n"
     ]
    }
   ],
   "source": [
    "bases = {}\n",
    "\n",
    "# Get the mean image for families with length greater than 1\n",
    "for key, sample, index in zip(all_families, samples, range(10)):\n",
    "    bases[index] = mean_digits(all_families[key], sample)"
   ]
  },
  {
   "cell_type": "code",
   "execution_count": 78,
   "metadata": {},
   "outputs": [
    {
     "name": "stdout",
     "output_type": "stream",
     "text": [
      "Computing projections for class 0...\n",
      "Computing projections for class 1...\n",
      "Computing projections for class 2...\n",
      "Computing projections for class 3...\n",
      "Computing projections for class 4...\n",
      "Computing projections for class 5...\n",
      "Computing projections for class 6...\n",
      "Computing projections for class 7...\n",
      "Computing projections for class 8...\n",
      "Computing projections for class 9...\n",
      "Accuracy for class 0: 80.6%\n",
      "Accuracy for class 1: 91.8%\n",
      "Accuracy for class 2: 75.2%\n",
      "Accuracy for class 3: 84.4%\n",
      "Accuracy for class 4: 83.4%\n",
      "Accuracy for class 5: 76.6%\n",
      "Accuracy for class 6: 89.2%\n",
      "Accuracy for class 7: 84.0%\n",
      "Accuracy for class 8: 74.6%\n",
      "Accuracy for class 9: 65.4%\n",
      "Prediction accuracy: 80.5200%\n"
     ]
    }
   ],
   "source": [
    "\"\"\" This calculates the projection of each testing digit onto every basis in 'bases'.\n",
    "\"\"\"\n",
    "\n",
    "result = {}\n",
    "\n",
    "for key in test_images:\n",
    "    print('Computing projections for class {}...'.format(key))\n",
    "    result[key] = [[project_test_digit(digit, bases[j]) for j in range(10)] for digit in test_images[key]]\n",
    "    \n",
    "pred = get_all_labels(result)\n",
    "print('Prediction accuracy: {:.4f}%'.format(100*calc_accuracy(pred)))"
   ]
  },
  {
   "cell_type": "markdown",
   "metadata": {},
   "source": [
    "# Using a higher threshold\n",
    "\n",
    "Now we do the same experiment as above, but we increase the similarity threshold for bases to 90%."
   ]
  },
  {
   "cell_type": "code",
   "execution_count": 79,
   "metadata": {},
   "outputs": [
    {
     "name": "stdout",
     "output_type": "stream",
     "text": [
      "Algorithm found 201 families of digits with threshold 0.9.\n",
      "Algorithm found 45 families of digits with threshold 0.9.\n",
      "Algorithm found 386 families of digits with threshold 0.9.\n",
      "Algorithm found 342 families of digits with threshold 0.9.\n",
      "Algorithm found 328 families of digits with threshold 0.9.\n",
      "Algorithm found 420 families of digits with threshold 0.9.\n",
      "Algorithm found 252 families of digits with threshold 0.9.\n",
      "Algorithm found 250 families of digits with threshold 0.9.\n",
      "Algorithm found 366 families of digits with threshold 0.9.\n",
      "Algorithm found 223 families of digits with threshold 0.9.\n"
     ]
    },
    {
     "data": {
      "image/png": "[encoded data removed]",
      "text/plain": [
       "<Figure size 864x864 with 201 Axes>"
      ]
     },
     "metadata": {},
     "output_type": "display_data"
    },
    {
     "data": {
      "image/png": "[encoded data removed]",
      "text/plain": [
       "<Figure size 864x864 with 45 Axes>"
      ]
     },
     "metadata": {},
     "output_type": "display_data"
    },
    {
     "data": {
      "image/png": "[encoded data removed]",
      "text/plain": [
       "<Figure size 864x864 with 386 Axes>"
      ]
     },
     "metadata": {},
     "output_type": "display_data"
    },
    {
     "data": {
      "image/png": "[encoded data removed]",
      "text/plain": [
       "<Figure size 864x864 with 342 Axes>"
      ]
     },
     "metadata": {},
     "output_type": "display_data"
    },
    {
     "data": {
      "image/png": "[encoded data removed]",
      "text/plain": [
       "<Figure size 864x864 with 328 Axes>"
      ]
     },
     "metadata": {},
     "output_type": "display_data"
    },
    {
     "data": {
      "image/png": "[encoded data removed]",
      "text/plain": [
       "<Figure size 864x864 with 420 Axes>"
      ]
     },
     "metadata": {},
     "output_type": "display_data"
    },
    {
     "data": {
      "image/png": "[encoded data removed]",
      "text/plain": [
       "<Figure size 864x864 with 252 Axes>"
      ]
     },
     "metadata": {},
     "output_type": "display_data"
    },
    {
     "data": {
      "image/png": "[encoded data removed]",
      "text/plain": [
       "<Figure size 864x864 with 250 Axes>"
      ]
     },
     "metadata": {},
     "output_type": "display_data"
    },
    {
     "data": {
      "image/png": "[encoded data removed]",
      "text/plain": [
       "<Figure size 864x864 with 366 Axes>"
      ]
     },
     "metadata": {},
     "output_type": "display_data"
    },
    {
     "data": {
      "image/png": "[encoded data removed]",
      "text/plain": [
       "<Figure size 864x864 with 223 Axes>"
      ]
     },
     "metadata": {},
     "output_type": "display_data"
    }
   ],
   "source": [
    "threshold = 0.9\n",
    "\n",
    "all_families = {key:get_chains(ag, threshold = threshold) for key,ag in zip(range(len(agreement_charts90)), agreement_charts90)}\n",
    "\n",
    "for key, sample in zip(all_families, samples):\n",
    "    display_chain(all_families[key], sample)"
   ]
  },
  {
   "cell_type": "code",
   "execution_count": 80,
   "metadata": {},
   "outputs": [
    {
     "name": "stdout",
     "output_type": "stream",
     "text": [
      "201 images computed for family of length 201\n",
      "45 images computed for family of length 45\n",
      "386 images computed for family of length 386\n",
      "342 images computed for family of length 342\n",
      "328 images computed for family of length 328\n",
      "420 images computed for family of length 420\n",
      "252 images computed for family of length 252\n",
      "250 images computed for family of length 250\n",
      "366 images computed for family of length 366\n",
      "223 images computed for family of length 223\n"
     ]
    }
   ],
   "source": [
    "bases = {}\n",
    "\n",
    "# Get the mean image for families with length greater than 1\n",
    "for key, sample, index in zip(all_families, samples, range(10)):\n",
    "    bases[index] = mean_digits(all_families[key], sample)"
   ]
  },
  {
   "cell_type": "code",
   "execution_count": 81,
   "metadata": {},
   "outputs": [
    {
     "name": "stdout",
     "output_type": "stream",
     "text": [
      "Computing projections for class 0...\n",
      "Computing projections for class 1...\n",
      "Computing projections for class 2...\n",
      "Computing projections for class 3...\n",
      "Computing projections for class 4...\n",
      "Computing projections for class 5...\n",
      "Computing projections for class 6...\n",
      "Computing projections for class 7...\n",
      "Computing projections for class 8...\n",
      "Computing projections for class 9...\n",
      "Accuracy for class 0: 99.0%\n",
      "Accuracy for class 1: 97.0%\n",
      "Accuracy for class 2: 92.4%\n",
      "Accuracy for class 3: 94.2%\n",
      "Accuracy for class 4: 92.0%\n",
      "Accuracy for class 5: 86.6%\n",
      "Accuracy for class 6: 96.8%\n",
      "Accuracy for class 7: 93.2%\n",
      "Accuracy for class 8: 86.2%\n",
      "Accuracy for class 9: 87.6%\n",
      "Prediction accuracy: 92.5000%\n"
     ]
    }
   ],
   "source": [
    "\"\"\" This calculates the projection of each testing digit onto every basis in 'bases'.\n",
    "\"\"\"\n",
    "\n",
    "result = {}\n",
    "\n",
    "for key in test_images:\n",
    "    print('Computing projections for class {}...'.format(key))\n",
    "    result[key] = [[project_test_digit(digit, bases[j]) for j in range(10)] for digit in test_images[key]]\n",
    "    \n",
    "pred = get_all_labels(result)\n",
    "print('Prediction accuracy: {:.4f}%'.format(100*calc_accuracy(pred)))"
   ]
  },
  {
   "cell_type": "markdown",
   "metadata": {},
   "source": [
    "# Comparing the above technique with using the mean of the basis digits\n",
    "\n",
    "The accuracy of the first method above was about 34%. The accuracy for the second method (with 'family agreement' of 90%) was about 27%. Can we get a higher accuracy by simply using the mean of the training sets?"
   ]
  },
  {
   "cell_type": "code",
   "execution_count": 82,
   "metadata": {},
   "outputs": [],
   "source": [
    "bases = {label: sample.mean() for label, sample in zip(range(10), samples)}\n",
    "\n",
    "def project_onto_mean(digit, mean_image):\n",
    "    \"\"\" Calculate the projection of 'digit' onto a 'family' of digits. \"\"\"\n",
    "    \n",
    "    coef = LA.norm(digit*mean_image,'fro')/(np.sqrt(LA.norm(digit*digit,'fro'))*np.sqrt(LA.norm(mean_image*mean_image,'fro')))\n",
    "    \n",
    "    return coef"
   ]
  },
  {
   "cell_type": "code",
   "execution_count": 83,
   "metadata": {},
   "outputs": [
    {
     "name": "stdout",
     "output_type": "stream",
     "text": [
      "Computing projections for class 0...\n",
      "Computing projections for class 1...\n",
      "Computing projections for class 2...\n",
      "Computing projections for class 3...\n",
      "Computing projections for class 4...\n",
      "Computing projections for class 5...\n",
      "Computing projections for class 6...\n",
      "Computing projections for class 7...\n",
      "Computing projections for class 8...\n",
      "Computing projections for class 9...\n",
      "Accuracy for class 0: 87.2%\n",
      "Accuracy for class 1: 86.2%\n",
      "Accuracy for class 2: 74.0%\n",
      "Accuracy for class 3: 80.4%\n",
      "Accuracy for class 4: 81.4%\n",
      "Accuracy for class 5: 52.2%\n",
      "Accuracy for class 6: 86.4%\n",
      "Accuracy for class 7: 82.2%\n",
      "Accuracy for class 8: 71.4%\n",
      "Accuracy for class 9: 69.8%\n",
      "Prediction accuracy: 77.1200%\n"
     ]
    }
   ],
   "source": [
    "result = {}\n",
    "\n",
    "for key in test_images:\n",
    "    print('Computing projections for class {}...'.format(key))\n",
    "    result[key] = [[project_onto_mean(digit, bases[j]) for j in range(10)] for digit in test_images[key]]\n",
    "    \n",
    "pred = get_all_labels(result)\n",
    "print('Prediction accuracy: {:.4f}%'.format(100*calc_accuracy(pred)))"
   ]
  },
  {
   "cell_type": "markdown",
   "metadata": {},
   "source": [
    "# Comparing with using the variance of basis digits"
   ]
  },
  {
   "cell_type": "code",
   "execution_count": 84,
   "metadata": {},
   "outputs": [
    {
     "name": "stdout",
     "output_type": "stream",
     "text": [
      "Computing projections for class 0...\n",
      "Computing projections for class 1...\n",
      "Computing projections for class 2...\n",
      "Computing projections for class 3...\n",
      "Computing projections for class 4...\n",
      "Computing projections for class 5...\n",
      "Computing projections for class 6...\n",
      "Computing projections for class 7...\n",
      "Computing projections for class 8...\n",
      "Computing projections for class 9...\n",
      "Accuracy for class 0: 77.4%\n",
      "Accuracy for class 1: 81.0%\n",
      "Accuracy for class 2: 72.4%\n",
      "Accuracy for class 3: 62.0%\n",
      "Accuracy for class 4: 51.4%\n",
      "Accuracy for class 5: 64.4%\n",
      "Accuracy for class 6: 74.8%\n",
      "Accuracy for class 7: 79.8%\n",
      "Accuracy for class 8: 35.2%\n",
      "Accuracy for class 9: 34.6%\n",
      "Prediction accuracy: 63.3000%\n"
     ]
    }
   ],
   "source": [
    "bases = {label: sample.var() for label, sample in zip(range(10), samples)}\n",
    "\n",
    "result = {}\n",
    "\n",
    "for key in test_images:\n",
    "    print('Computing projections for class {}...'.format(key))\n",
    "    result[key] = [[project_onto_mean(digit, bases[j]) for j in range(10)] for digit in test_images[key]]\n",
    "    \n",
    "pred = get_all_labels(result)\n",
    "print('Prediction accuracy: {:.4f}%'.format(100*calc_accuracy(pred)))"
   ]
  },
  {
   "cell_type": "markdown",
   "metadata": {},
   "source": [
    "- Test training sets against bases to see if mean of siblings is getting high agreement"
   ]
  },
  {
   "cell_type": "markdown",
   "metadata": {},
   "source": [
    "# Migrating to Object-Oriented Programming"
   ]
  },
  {
   "cell_type": "code",
   "execution_count": 87,
   "metadata": {},
   "outputs": [],
   "source": [
    "class DigitFamily:    \n",
    "    def __init__(self):\n",
    "        from sklearn.datasets import fetch_openml\n",
    "        import copy\n",
    "        \n",
    "        # Load MNIST data from https://www.openml.org/d/554\n",
    "        self.images, self.labels = fetch_openml('mnist_784', version=1, return_X_y=True)\n",
    "        \n",
    "        ''' Right now the images and labels are in separate arrays. \n",
    "            I'll put them into a single pandas DataFrame to make it\n",
    "            easier to sort by label.\n",
    "        '''\n",
    "\n",
    "        self.images = pd.DataFrame(zip(self.images,self.labels), columns = ['Image','Class label'])\n",
    "\n",
    "        # By default, the 'Class label' column is not integer, so we'll convert it here.\n",
    "        self.images['Class label'] = self.images['Class label'].apply(int)\n",
    "\n",
    "        # The images are also flattened, so we'll reshape them to (28,28)\n",
    "        self.images['Image'] = self.images['Image'].apply(lambda x: x.reshape((28,28)))\n",
    "        \n",
    "        self.data = [self.extract_image(i) for i in range(10)]\n",
    "        \n",
    "        # Create the training and testing sets of 500 digits per class label\n",
    "        self.train = [data[i][:500] for i in range(10)]\n",
    "        self.test = [data[i][-500:] for i in range(10)]\n",
    "        \n",
    "        self.get_agreement_matrix()\n",
    "        \n",
    "    def extract_image(self, digit):\n",
    "        \"\"\" This function takes in a dataset containing images. \n",
    "            The set is converted to a DataFrame, and the images\n",
    "            corresponding to the given digit are extracted.\n",
    "\n",
    "            An array containing images of the given digit is\n",
    "            returned.\n",
    "        \"\"\"\n",
    "\n",
    "        ims = self.images[self.images['Class label'] == digit]\n",
    "\n",
    "        # Now ims only contains labels matching the digit, so we can drop the label column.\n",
    "        ims = ims.drop('Class label', axis = 1)\n",
    "\n",
    "        return np.array(ims['Image'])\n",
    "    \n",
    "    def get_agreement_matrix(self):\n",
    "        \"\"\" Find the similarity matrix for a sample taken from a class of digits. \"\"\"\n",
    "        def similarity(sample):\n",
    "            \"\"\" The similarity measure for two images, based on the Hadamard product and the Frobenius norm. \"\"\"\n",
    "\n",
    "            agree = [LA.norm(A*B,'fro')/(np.sqrt(LA.norm(A*A,'fro'))*np.sqrt(LA.norm(B*B,'fro'))) for A in sample for B in sample]\n",
    "\n",
    "            agree_chart = pd.DataFrame(np.array(agree).reshape(N,N))\n",
    "            agree_chart[agree_chart > 0.99] = 0\n",
    "\n",
    "            return agree_chart\n",
    "        \n",
    "        self.agreement_charts = [similarity(sample) for sample in self.train]\n",
    "    \n",
    "    def get_chains(ag_chart, threshold = 0.8, start_row = 0):\n",
    "        \"\"\" Get the list of chains of digits with high levels of agreement. \n",
    "        \"\"\"\n",
    "\n",
    "        chains = []   \n",
    "\n",
    "        while not ag_chart.empty:\n",
    "            chain = [start_row]\n",
    "\n",
    "            ag_chart.drop(start_row, axis = 1, inplace = True)\n",
    "\n",
    "            while ag_chart.loc[start_row].max() > threshold:\n",
    "\n",
    "                # Find the column that corresponds to the next row to search\n",
    "                next_row = ag_chart.loc[start_row].idxmax(axis = 0)\n",
    "                ag_chart.loc[start_row] = 0\n",
    "\n",
    "                start_row = next_row\n",
    "                # Drop the column we just searched\n",
    "                ag_chart.drop(start_row, axis = 1, inplace = True)\n",
    "\n",
    "                chain.append(start_row)\n",
    "\n",
    "            ag_chart.drop(chain, axis = 0, inplace = True)\n",
    "            chains.append(chain)\n",
    "\n",
    "            try:\n",
    "                start_row = ag_chart.index[0]\n",
    "            except:\n",
    "                break\n",
    "\n",
    "        return chains\n",
    "    \n",
    "    def run_experiment(self, threshold = 0.8):\n",
    "        \"\"\" Run the accuracy experiment with a given in-family threshold \"\"\"\n",
    "    \n",
    "        experiment_charts = copy.deepcopy(self.agreement_charts)\n",
    "        all_families = {key:self.get_chains(ag, threshold = threshold) for key,ag in zip(range(len(experiment_charts)),experiment_charts)}\n",
    "        "
   ]
  },
  {
   "cell_type": "code",
   "execution_count": 88,
   "metadata": {},
   "outputs": [],
   "source": [
    "way = DigitFamily()"
   ]
  },
  {
   "cell_type": "code",
   "execution_count": null,
   "metadata": {},
   "outputs": [],
   "source": []
  }
 ],
 "metadata": {
  "kernelspec": {
   "display_name": "Python 3",
   "language": "python",
   "name": "python3"
  },
  "language_info": {
   "codemirror_mode": {
    "name": "ipython",
    "version": 3
   },
   "file_extension": ".py",
   "mimetype": "text/x-python",
   "name": "python",
   "nbconvert_exporter": "python",
   "pygments_lexer": "ipython3",
   "version": "3.7.1"
  }
 },
 "nbformat": 4,
 "nbformat_minor": 2
}
