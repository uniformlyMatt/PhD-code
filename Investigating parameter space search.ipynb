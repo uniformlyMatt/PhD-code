{
 "cells": [
  {
   "cell_type": "markdown",
   "metadata": {},
   "source": [
    "I was thinking of neural networks as focusing a cone made up of hyperplanes in parameter space. However, after staring at a 2D example for a while, I'm thinking it might be more like a 'snake' moving through parameter space. In my mind, the parameter search kind of looks like the alien-controlled column of water in *the Abyss*. I want to see a simple example of this to see if I'm right."
   ]
  },
  {
   "cell_type": "code",
   "execution_count": 1,
   "metadata": {},
   "outputs": [],
   "source": [
    "import numpy as np\n",
    "import matplotlib.pyplot as plt"
   ]
  },
  {
   "cell_type": "code",
   "execution_count": 6,
   "metadata": {},
   "outputs": [],
   "source": [
    "x1 = np.array([-5,0,1])\n",
    "x2 = np.array([1,2,0])\n",
    "x3 = np.array([0,1,-10])\n",
    "\n",
    "mu, sigma = 0, 1/np.sqrt(3)\n",
    "\n",
    "W = np.random.normal(mu, sigma, 18)"
   ]
  },
  {
   "cell_type": "code",
   "execution_count": 7,
   "metadata": {},
   "outputs": [],
   "source": [
    "z1 = np.array([-5*W[0] + W[1], 2*W[1] + W[2], W[0] - 10*W[2]])\n",
    "z2 = np.array([-5*W[3] + W[4], 2*W[4] + W[5], W[3] - 10*W[5]])\n",
    "z3 = np.array([-5*W[6] + W[7], 2*W[7] + W[8], W[6] - 10*W[8]])"
   ]
  },
  {
   "cell_type": "code",
   "execution_count": 12,
   "metadata": {},
   "outputs": [],
   "source": [
    "# Plotting the first nine planes\n",
    "normal1 = x1\n",
    "normal2 = x2\n",
    "normal3 = x3\n",
    "\n",
    "# These go with normal1\n",
    "point11 = z1[0]\n",
    "point12 = z2[0]\n",
    "point13 = z3[0]\n",
    "\n",
    "# These go with normal2\n",
    "point21 = z1[1]\n",
    "point22 = z2[1]\n",
    "point23 = z3[1]\n",
    "\n",
    "# These go with normal3\n",
    "point31 = z1[2]\n",
    "point32 = z2[2]\n",
    "point33 = z3[2]"
   ]
  },
  {
   "cell_type": "code",
   "execution_count": 18,
   "metadata": {},
   "outputs": [
    {
     "name": "stderr",
     "output_type": "stream",
     "text": [
      "C:\\Users\\Matt\\anaconda3\\lib\\site-packages\\ipykernel_launcher.py:19: RuntimeWarning: divide by zero encountered in true_divide\n",
      "C:\\Users\\Matt\\anaconda3\\lib\\site-packages\\ipykernel_launcher.py:20: RuntimeWarning: divide by zero encountered in true_divide\n",
      "C:\\Users\\Matt\\anaconda3\\lib\\site-packages\\ipykernel_launcher.py:21: RuntimeWarning: divide by zero encountered in true_divide\n"
     ]
    }
   ],
   "source": [
    "%matplotlib qt\n",
    "\n",
    "import numpy as np\n",
    "import matplotlib.pyplot as plt\n",
    "from mpl_toolkits.mplot3d import Axes3D\n",
    "\n",
    "# a plane is a*x+b*y+c*z+d=0\n",
    "# [a,b,c] is the normal. Thus, we have to calculate\n",
    "# d and we're set\n",
    "\n",
    "# create x,y\n",
    "xx, yy = np.meshgrid(range(10), range(10))\n",
    "\n",
    "# calculate corresponding z\n",
    "z11 = (-normal1[0] * xx - normal1[1] * yy + point11) * 1. /normal1[2]\n",
    "z12 = (-normal1[0] * xx - normal1[1] * yy + point12) * 1. /normal1[2]\n",
    "z13 = (-normal1[0] * xx - normal1[1] * yy + point13) * 1. /normal1[2]\n",
    "\n",
    "z21 = (-normal2[0] * xx - normal2[1] * yy + point21) * 1. /normal2[2]\n",
    "z22 = (-normal2[0] * xx - normal2[1] * yy + point22) * 1. /normal2[2]\n",
    "z23 = (-normal2[0] * xx - normal2[1] * yy + point23) * 1. /normal2[2]\n",
    "\n",
    "z31 = (-normal3[0] * xx - normal3[1] * yy + point31) * 1. /normal3[2]\n",
    "z32 = (-normal3[0] * xx - normal3[1] * yy + point32) * 1. /normal3[2]\n",
    "z33 = (-normal3[0] * xx - normal3[1] * yy + point33) * 1. /normal3[2]\n",
    "\n",
    "\n",
    "# plot the surface\n",
    "plt3d = plt.figure().gca(projection='3d')\n",
    "\n",
    "# First three planes\n",
    "plt3d.plot_surface(xx, yy, z11)\n",
    "plt3d.plot_surface(xx, yy, z12)\n",
    "plt3d.plot_surface(xx, yy, z13)\n",
    "\n",
    "# Next three planes\n",
    "plt3d.plot_surface(xx, yy, z21)\n",
    "plt3d.plot_surface(xx, yy, z22)\n",
    "plt3d.plot_surface(xx, yy, z23)\n",
    "\n",
    "# Final three planes\n",
    "plt3d.plot_surface(xx, yy, z31)\n",
    "plt3d.plot_surface(xx, yy, z32)\n",
    "plt3d.plot_surface(xx, yy, z33)\n",
    "\n",
    "plt.show()"
   ]
  },
  {
   "cell_type": "code",
   "execution_count": 19,
   "metadata": {},
   "outputs": [
    {
     "data": {
      "text/plain": [
       "(1.1559379191006471, -1.9073049166768055, -1.6885633030435376)"
      ]
     },
     "execution_count": 19,
     "metadata": {},
     "output_type": "execute_result"
    }
   ],
   "source": [
    "point11, point12, point13"
   ]
  },
  {
   "cell_type": "code",
   "execution_count": 20,
   "metadata": {},
   "outputs": [
    {
     "data": {
      "text/plain": [
       "(1.188702993164267, -0.5464574660598779, -0.4780620506680915)"
      ]
     },
     "execution_count": 20,
     "metadata": {},
     "output_type": "execute_result"
    }
   ],
   "source": [
    "point21, point22, point23"
   ]
  },
  {
   "cell_type": "code",
   "execution_count": 21,
   "metadata": {},
   "outputs": [
    {
     "data": {
      "text/plain": [
       "(-8.628764018573367, 2.163970355038466, -1.75583967707902)"
      ]
     },
     "execution_count": 21,
     "metadata": {},
     "output_type": "execute_result"
    }
   ],
   "source": [
    "point31, point32, point33"
   ]
  },
  {
   "cell_type": "code",
   "execution_count": 22,
   "metadata": {},
   "outputs": [
    {
     "data": {
      "text/plain": [
       "(0.9228058248132451, 0.2582515357277924, -0.1054807747816886)"
      ]
     },
     "execution_count": 22,
     "metadata": {},
     "output_type": "execute_result"
    }
   ],
   "source": [
    "W[9]*point11 + W[10]*point21, W[12]*point11 + W[13]*point21, W[15]*point11 + W[16]*point21"
   ]
  },
  {
   "cell_type": "code",
   "execution_count": 23,
   "metadata": {},
   "outputs": [
    {
     "data": {
      "text/plain": [
       "(0.5399482169223709, 0.5864778845552039, -1.1476529019234167)"
      ]
     },
     "execution_count": 23,
     "metadata": {},
     "output_type": "execute_result"
    }
   ],
   "source": [
    "W[11]*point32, W[14]*point32, W[17]*point32"
   ]
  },
  {
   "cell_type": "code",
   "execution_count": 24,
   "metadata": {},
   "outputs": [],
   "source": [
    "y1 = np.array([W[9]*point11 + W[10]*point21, W[11]*point32, 0])\n",
    "y2 = np.array([W[12]*point11 + W[13]*point21, W[14]*point32, 0])\n",
    "y3 = np.array([W[15]*point11 + W[16]*point21, W[17]*point32, 0])"
   ]
  },
  {
   "cell_type": "code",
   "execution_count": 25,
   "metadata": {},
   "outputs": [],
   "source": [
    "# Plotting the second nine planes\n",
    "normal1 = y1\n",
    "normal2 = y2\n",
    "normal3 = y3\n",
    "\n",
    "# These go with normal1\n",
    "point11 = y1[0]\n",
    "point12 = y2[0]\n",
    "point13 = y3[0]\n",
    "\n",
    "# These go with normal2\n",
    "point21 = y1[1]\n",
    "point22 = y2[1]\n",
    "point23 = y3[1]\n",
    "\n",
    "# These go with normal3\n",
    "point31 = y1[2]\n",
    "point32 = y2[2]\n",
    "point33 = y3[2]"
   ]
  },
  {
   "cell_type": "markdown",
   "metadata": {},
   "source": [
    "It's getting hard to plot this in 3D, so let's try it in 2D and see what happens."
   ]
  },
  {
   "cell_type": "code",
   "execution_count": 8,
   "metadata": {},
   "outputs": [],
   "source": [
    "import numpy as np\n",
    "\n",
    "x1 = np.array([1,0])\n",
    "x2 = np.array([0,1])\n",
    "\n",
    "mu, sigma = 0, 1/np.sqrt(2)\n",
    "\n",
    "W1 = np.random.normal(mu, sigma, 4)\n",
    "\n",
    "# First trailing number is the layer, second number is the unit\n",
    "# Note: the order I use the W1 values doesn't matter\n",
    "z11 = W1[0]*x1 + W1[1]*x2\n",
    "z12 = W1[2]*x1 + W1[3]*x2"
   ]
  },
  {
   "cell_type": "code",
   "execution_count": 9,
   "metadata": {},
   "outputs": [
    {
     "data": {
      "text/plain": [
       "(array([-0.12236906,  0.06756541]), array([-0.48885834, -0.82781495]))"
      ]
     },
     "execution_count": 9,
     "metadata": {},
     "output_type": "execute_result"
    }
   ],
   "source": [
    "z11, z12"
   ]
  },
  {
   "cell_type": "code",
   "execution_count": 10,
   "metadata": {},
   "outputs": [
    {
     "data": {
      "text/plain": [
       "(array([-0.05833829,  0.        ]), array([ 0.03259977, -0.        ]))"
      ]
     },
     "execution_count": 10,
     "metadata": {},
     "output_type": "execute_result"
    }
   ],
   "source": [
    "a11 = np.array([z11[0], 0])\n",
    "a12 = np.array([0, 0])\n",
    "\n",
    "W2 = np.random.normal(mu, sigma, 4)\n",
    "\n",
    "z21 = W2[0]*a11 + W2[1]*a12\n",
    "z22 = W2[2]*a11 + W2[3]*a12\n",
    "\n",
    "z21, z22"
   ]
  },
  {
   "cell_type": "code",
   "execution_count": 11,
   "metadata": {},
   "outputs": [
    {
     "data": {
      "text/plain": [
       "(array([-0.02721093,  0.        ]), array([0.01703813, 0.        ]))"
      ]
     },
     "execution_count": 11,
     "metadata": {},
     "output_type": "execute_result"
    }
   ],
   "source": [
    "a21 = np.array([0, 0])\n",
    "a22 = np.array([z21[0], 0])\n",
    "\n",
    "W3 = np.random.normal(mu, sigma, 4)\n",
    "\n",
    "z31 = W3[0]*a21 + W3[1]*a22\n",
    "z32 = W3[2]*a21 + W3[3]*a22\n",
    "\n",
    "z31, z32"
   ]
  },
  {
   "cell_type": "code",
   "execution_count": null,
   "metadata": {},
   "outputs": [],
   "source": [
    "''' Now to plot the lines made at each layer '''\n",
    "\n",
    "# layer 1 lines\n",
    "def linear(slope, intercept):\n",
    "    x = np.linspace(-10,10,101)\n",
    "    return x*slope + intercept\n",
    "\n",
    "y11 = linear(0, W1[1])\n",
    "y12 = None\n",
    "\n",
    "y21 = None\n",
    "y22 = linear(a11[0], 0)\n",
    "\n"
   ]
  }
 ],
 "metadata": {
  "kernelspec": {
   "display_name": "Python 3",
   "language": "python",
   "name": "python3"
  },
  "language_info": {
   "codemirror_mode": {
    "name": "ipython",
    "version": 3
   },
   "file_extension": ".py",
   "mimetype": "text/x-python",
   "name": "python",
   "nbconvert_exporter": "python",
   "pygments_lexer": "ipython3",
   "version": "3.7.1"
  }
 },
 "nbformat": 4,
 "nbformat_minor": 4
}
