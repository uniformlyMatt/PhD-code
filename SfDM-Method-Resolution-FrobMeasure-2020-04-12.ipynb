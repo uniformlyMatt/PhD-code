{
 "cells": [
  {
   "cell_type": "markdown",
   "metadata": {},
   "source": [
    "# Searching for digit manifolds\n",
    "\n",
    "In this notebook, we'll calculate the level of agreement between elements of a class of digits. The intention is to use the similarity of class elements to sort the elements into a manifold (each successive element appears to be a slight perturbation or continuous deformation of the previous element).\n",
    "\n",
    "There are 10 classes of digits 0-9. Let $A$ and $B$ be elements of class $N$. For current purposes, the level of agreement between $A$ and $B$ is given by\n",
    "\n",
    "$$\n",
    "    \\frac{||A\\odot B||_F}{\\sqrt{||A\\odot A||_F}\\sqrt{||B\\odot B||_F}},\n",
    "$$\n",
    "where $\\odot$ represents the element-wise Hadamard product, and $||\\cdot||_F$ is the Frobenius norm.\n",
    "\n",
    "I've tried norms of various orders in the above expression for agreement. The norm in both the numerator and denominator should be the same order, since this will give perfect agreement (1.0) for $A = B$. I also tried using the convolution instead of the Hadamard product to allow for translations of $A$ when comparing to $B$. However, the convolution resulted in high agreement between all elements of the sample.\n",
    "\n",
    "The first few cells of the notebook are just data management and sorting. "
   ]
  },
  {
   "cell_type": "code",
   "execution_count": 1,
   "metadata": {},
   "outputs": [],
   "source": [
    "%matplotlib inline\n",
    "\n",
    "import numpy as np\n",
    "import pandas as pd\n",
    "import math\n",
    "import matplotlib.pyplot as plt\n",
    "from scipy.ndimage import morphology as morph\n",
    "from scipy.signal import fftconvolve, correlate\n",
    "import numpy.linalg as LA\n",
    "from sklearn.datasets import fetch_openml"
   ]
  },
  {
   "cell_type": "code",
   "execution_count": 2,
   "metadata": {},
   "outputs": [],
   "source": [
    "# Load MNIST data from https://www.openml.org/d/554\n",
    "images, labels = fetch_openml('mnist_784', version=1, return_X_y=True)"
   ]
  },
  {
   "cell_type": "code",
   "execution_count": 3,
   "metadata": {},
   "outputs": [],
   "source": [
    "''' Right now the images and labels are in separate arrays. \n",
    "    I'll put them into a single pandas DataFrame to make it\n",
    "    easier to sort by label.\n",
    "'''\n",
    "\n",
    "images = pd.DataFrame(zip(images,labels), columns = ['Image','Class label'])\n",
    "\n",
    "# Not really necessary, but I'll sort the images by class label.\n",
    "images.sort_values(by = 'Class label', inplace = True)\n",
    "\n",
    "# By default, the 'Class label' column is not integer, so we'll convert it here.\n",
    "images['Class label'] = images['Class label'].apply(int)\n",
    "\n",
    "# The images are also flattened, so we'll reshape them to (28,28)\n",
    "images['Image'] = images['Image'].apply(lambda x: x.reshape((28,28)))\n"
   ]
  },
  {
   "cell_type": "code",
   "execution_count": 4,
   "metadata": {},
   "outputs": [],
   "source": [
    "def extract_image(frame, digit):\n",
    "    \"\"\" This function takes in a dataset containing images. \n",
    "        The set is converted to a DataFrame, and the images\n",
    "        corresponding to the given digit are extracted.\n",
    "        \n",
    "        An array containing images of the given digit is\n",
    "        returned.\n",
    "    \"\"\"\n",
    "        \n",
    "    ims = frame[frame['Class label'] == digit]\n",
    "    \n",
    "    # Now ims only contains labels matching the digit, so we can drop the label column.\n",
    "    ims = ims.drop('Class label', axis = 1)\n",
    "    \n",
    "    return np.array(ims['Image'])\n",
    "\n",
    "def display_lengths(data):\n",
    "    \"\"\" Display the total length of each subset of digits. \n",
    "    \n",
    "        Used for checking that the conversion worked as expected.\n",
    "    \"\"\"\n",
    "    datalen=[]\n",
    "    for i in range(np.size(data)):\n",
    "        datalen.append(len(data[i]))\n",
    "        print('{} examples of digit {}'.format(len(data[i]), i))\n",
    "    print('{} examples in total\\n'.format(sum(len(data[i]) for i in range(np.size(data)))))\n",
    "    return datalen"
   ]
  },
  {
   "cell_type": "code",
   "execution_count": 5,
   "metadata": {},
   "outputs": [
    {
     "name": "stdout",
     "output_type": "stream",
     "text": [
      "6903 examples of digit 0\n",
      "7877 examples of digit 1\n",
      "6990 examples of digit 2\n",
      "7141 examples of digit 3\n",
      "6824 examples of digit 4\n",
      "6313 examples of digit 5\n",
      "6876 examples of digit 6\n",
      "7293 examples of digit 7\n",
      "6825 examples of digit 8\n",
      "6958 examples of digit 9\n",
      "70000 examples in total\n",
      "\n"
     ]
    }
   ],
   "source": [
    "data = [extract_image(images, i) for i in range(10)]\n",
    "dtalen = display_lengths(data)"
   ]
  },
  {
   "cell_type": "markdown",
   "metadata": {},
   "source": [
    "# Checking how good can we expect the method to be\n",
    "\n",
    "The idea is to use our test method (in our case we are using the Frobenious dot product to measure agreement) on the **whole** set of samples and find out how well this particular method can distinguish between different classes (in our case Digits).\n",
    "\n",
    "What we will do is simple. We compute the agreement between all the samples, then conpare the maximum agreement between all classes: We have ten classes: (0, 1, 2, 3, 4, 5, 6, 7, 8, 9), what gives us 100 possible products, in fact, only 55 different products if we disocunt order. Then we compute the maximum of each one.\n",
    "For example, we have N digits \"0\" and N digits \"8\", the (0,8) entry to compute would be the maximum of the dot products between each 0-sample and each 8-sample, which are N^2 products.\n",
    "\n",
    "Next, we record these 100 numbers into a matrix. We can plot it to visually check the \"goodness\", or the \"resolution\" that our method has. Ideally, the matrix would clearly highlight the diagonal. This owuld mean that the particular measurement we are looking at is very good to help us distinguish if two elelemnts belong or not to the same class."
   ]
  },
  {
   "cell_type": "code",
   "execution_count": 9,
   "metadata": {},
   "outputs": [],
   "source": [
    "def agree_Frob(samples0,samples1):\n",
    "# Input: samples1, samples1 = two arrays with the same number N of samples\n",
    "# Output: agree = agreements array of N*(N+1)/2 normalized Frobenious products\n",
    "#                 of samples s1 and s2 (in that order).\n",
    "#                 Because of symmetry, only producs above the diagonal are computed,\n",
    "\n",
    "    # C = number of classes (C=10 in our case)\n",
    "    N=np.size(samples0)\n",
    "    if not N==np.size(samples1):\n",
    "        print(\"samples are not the same size\")\n",
    "    \n",
    "    \n",
    "    # compute norms of samples\n",
    "    spnorm0=[]\n",
    "    spnorm1=[]\n",
    "    for j1 in range(N):\n",
    "        spnorm0.append(np.sqrt(np.sum(samples0[j1]*samples0[j1])))\n",
    "        spnorm1.append(np.sqrt(np.sum(samples1[j1]*samples1[j1])))\n",
    "\n",
    "    # compute the agreement between samples\n",
    "    agree=[]\n",
    "    for j1 in range(N):\n",
    "        for j2 in range(j1,N):\n",
    "            agree.append(np.sum(samples0[j1]*samples1[j2])/(spnorm0[j1]*spnorm1[j2])) \n",
    "            \n",
    "    return agree\n",
    "\n",
    "\n",
    "def cls_distinct(N,data):\n",
    "# Input:  N = number of samples from each class, extracted from \"data\" array\n",
    "#         data = array of arrays of samples for each class\n",
    "# Output: (C, N, agree, agree_to_disagreee), where\n",
    "#         C = number of classes\n",
    "#         N = number of samples\n",
    "#         agree = array of C*C DataFrames with agreement products \n",
    "#                 between all two DIFFERENT samples from each N-set of samples.\n",
    "#         agree_to_disagreee = C*C DataFrame with maximum agreement between all \n",
    "#                 two DIFFERENT samples from each N-set of samples from each class.\n",
    "#                 This matrix measures how much we can distinguish between\n",
    "#                 classes with the particular measurement we are using.\n",
    "\n",
    "    # Compute the number of classes\n",
    "    C=np.size(data)\n",
    "    \n",
    "    # Extract the samples\n",
    "    samples=[]\n",
    "    for j in range(C):\n",
    "        samples.append(data[j][:N])\n",
    "    \n",
    "    # Compute agreement products between sample sets\n",
    "    # Compute maximum agreement between different samples\n",
    "    agree = []\n",
    "    disagmax=[]\n",
    "    for j1 in range(C):\n",
    "        for j2 in range(j1,C):\n",
    "            agg=np.array(agree_Frob(samples[j1],samples[j2]))\n",
    "            # zero the ones in the diagonal when j1=j2\n",
    "            if j1==j2:\n",
    "                agree_ch = pd.DataFrame(agg)\n",
    "                agree_ch[agree_ch > .99] = 0\n",
    "                agg=np.array(agree_ch[0])\n",
    "            agree.append([agg,j1,j2])\n",
    "            disagmax.append(np.max(agg))\n",
    "            \n",
    "    print(disagmax)\n",
    "    # square the triangle \n",
    "    # Here we use the formula to find \n",
    "    # the index j in a \"flattened\" triangular matrix of size C, given (row,column) = (j1,j2)\n",
    "    #                                                                   where  j1 <= j2    \n",
    "    # We have : j = j(j1,j2) = j1*C+j2-j1-(j1*(j1-1)/2)\n",
    "    dimax=[]\n",
    "    for j1 in range(C):\n",
    "        for j2 in range(0,j1):\n",
    "            dimax.append(disagmax[j2*C+j1-j2-int(j2*(j2-1)/2)])\n",
    "        for j3 in range(j1,C):\n",
    "            dimax.append(disagmax[j1*C+j3-j1-int(j1*(j1-1)/2)])\n",
    "         \n",
    "    agree_to_disagreee = pd.DataFrame(np.array(dimax).reshape(C,C))  \n",
    "\n",
    "    return C,N,agree,agree_to_disagreee\n",
    "\n",
    "def disag_show(N, agree_to_disagreee): \n",
    "# Graphs CxC matrix of maximum agreement between different elements\n",
    "    plt.imshow(np.array(agree_to_disagreee))\n",
    "    plt.suptitle('Graph of maximum agreement between classes for sample size = {}'.format(N))\n",
    "    plt.show()\n",
    "    return None"
   ]
  },
  {
   "cell_type": "markdown",
   "metadata": {},
   "source": [
    "This computation takes a while..."
   ]
  },
  {
   "cell_type": "code",
   "execution_count": 10,
   "metadata": {},
   "outputs": [
    {
     "name": "stdout",
     "output_type": "stream",
     "text": [
      "[0.9382060445458444, 0.6135408932712788, 0.7417203397804242, 0.8094338892689003, 0.6428340325927503, 0.7371345280874327, 0.7408762394323966, 0.6897280407529641, 0.7447507982543847, 0.7251799043399952, 0.9655226520141813, 0.6972834563390155, 0.6412316309195918, 0.678286597311952, 0.6262093290893884, 0.743983480702474, 0.7763301463502003, 0.7606854385412434, 0.7034463370497036, 0.8655806853794, 0.7318252209448554, 0.6902866326739148, 0.7481369070661955, 0.7442606925648184, 0.7030425379275758, 0.7749471576379674, 0.6865669024092627, 0.8843981617855471, 0.6475878321606119, 0.7622721443911519, 0.6967695294228078, 0.6993214839608649, 0.8029396814879237, 0.7297707438210949, 0.899663636766743, 0.7072939168363932, 0.7100410306022596, 0.8402905879004235, 0.7623889814631788, 0.7994926566831508, 0.8455913260706663, 0.739913269655573, 0.6582167777578187, 0.7858441778803161, 0.7052182034678558, 0.9652213288654002, 0.5754205360775962, 0.7397459231297803, 0.6521607388523918, 0.9210539979333546, 0.7296507009683777, 0.8508281511854746, 0.9396576459652867, 0.7608729101743121, 0.9305733354369026]\n",
      "[0.9558703358843573, 0.7738638482772716, 0.8289624415307603, 0.8094338892689003, 0.8156184218019159, 0.7817128054043104, 0.8299957287513844, 0.7738968368533203, 0.8860740652879977, 0.838127052835706, 0.9874859404028856, 0.8223019870138555, 0.8036545709947053, 0.8202304590048904, 0.7138553566666067, 0.8233146154442664, 0.9160280715198503, 0.8589031473287527, 0.8059850860274989, 0.9297187307734269, 0.8067339486621038, 0.7704838337923106, 0.7481369070661955, 0.812399290601785, 0.830036459538908, 0.8451891490069396, 0.8246251541414952, 0.9584189405140912, 0.7292735296754148, 0.8504997834392977, 0.8233569522250321, 0.8036033345774052, 0.8615327023793423, 0.8616714109688353, 0.9442643571406444, 0.7212470385509275, 0.8177961976290853, 0.8402905879004235, 0.8423684270451292, 0.9055910037151804, 0.9348204136641223, 0.849136939814946, 0.7393341741412841, 0.8701158538716558, 0.8183415968523018, 0.9656625314945058, 0.7545618006847431, 0.8226138948513528, 0.8063333508915959, 0.9540194721505458, 0.8920109923326157, 0.8857816028245573, 0.94971656631251, 0.862363547257284, 0.9741101767050229]\n"
     ]
    },
    {
     "data": {
      "image/png": "[encoded data removed]",
      "text/plain": [
       "<Figure size 432x288 with 1 Axes>"
      ]
     },
     "metadata": {
      "needs_background": "light"
     },
     "output_type": "display_data"
    },
    {
     "data": {
      "image/png": "[encoded data removed]",
      "text/plain": [
       "<Figure size 432x288 with 1 Axes>"
      ]
     },
     "metadata": {
      "needs_background": "light"
     },
     "output_type": "display_data"
    }
   ],
   "source": [
    "agg_to_disag50=cls_distinct(50,data)[3]\n",
    "agg_to_disag500=cls_distinct(500,data)[3]\n",
    "disag_show(50, agg_to_disag50)\n",
    "disag_show(500, agg_to_disag500)"
   ]
  },
  {
   "cell_type": "markdown",
   "metadata": {},
   "source": [
    "The ideal outcome would be a matrix in which the clear maximum of each row (or column, since the matrix is symmetric) occurs at the diagonal. \n",
    "\n",
    "In the above graph we can see for exampe that the second row, corresponding to the digit 1, has a good maximum at the column 2, but there also seems to be a big number in column 8, corresponding to the comparison of the digit 1 with the digit 7.\n",
    "\n",
    "Here are the actual values of the matrix:"
   ]
  },
  {
   "cell_type": "code",
   "execution_count": 11,
   "metadata": {},
   "outputs": [
    {
     "name": "stdout",
     "output_type": "stream",
     "text": [
      "          0         1         2         3         4         5         6  \\\n",
      "0  0.938206  0.613541  0.741720  0.809434  0.642834  0.737135  0.740876   \n",
      "1  0.613541  0.965523  0.697283  0.641232  0.678287  0.626209  0.743983   \n",
      "2  0.741720  0.697283  0.865581  0.731825  0.690287  0.748137  0.744261   \n",
      "3  0.809434  0.641232  0.731825  0.884398  0.647588  0.762272  0.696770   \n",
      "4  0.642834  0.678287  0.690287  0.647588  0.899664  0.707294  0.710041   \n",
      "5  0.737135  0.626209  0.748137  0.762272  0.707294  0.845591  0.739913   \n",
      "6  0.740876  0.743983  0.744261  0.696770  0.710041  0.739913  0.965221   \n",
      "7  0.689728  0.776330  0.703043  0.699321  0.840291  0.658217  0.575421   \n",
      "8  0.744751  0.760685  0.774947  0.802940  0.762389  0.785844  0.739746   \n",
      "9  0.725180  0.703446  0.686567  0.729771  0.799493  0.705218  0.652161   \n",
      "\n",
      "          7         8         9  \n",
      "0  0.689728  0.744751  0.725180  \n",
      "1  0.776330  0.760685  0.703446  \n",
      "2  0.703043  0.774947  0.686567  \n",
      "3  0.699321  0.802940  0.729771  \n",
      "4  0.840291  0.762389  0.799493  \n",
      "5  0.658217  0.785844  0.705218  \n",
      "6  0.575421  0.739746  0.652161  \n",
      "7  0.921054  0.729651  0.850828  \n",
      "8  0.729651  0.939658  0.760873  \n",
      "9  0.850828  0.760873  0.930573  \n"
     ]
    }
   ],
   "source": [
    "print(agg_to_disag50)"
   ]
  },
  {
   "cell_type": "code",
   "execution_count": 8,
   "metadata": {},
   "outputs": [
    {
     "name": "stdout",
     "output_type": "stream",
     "text": [
      "          0         1         2         3         4         5         6  \\\n",
      "0  0.955870  0.773864  0.828962  0.809434  0.815618  0.781713  0.829996   \n",
      "1  0.773864  0.987486  0.822302  0.803655  0.820230  0.713855  0.823315   \n",
      "2  0.828962  0.822302  0.929719  0.806734  0.770484  0.748137  0.812399   \n",
      "3  0.809434  0.803655  0.806734  0.958419  0.729274  0.850500  0.823357   \n",
      "4  0.815618  0.820230  0.770484  0.729274  0.944264  0.721247  0.817796   \n",
      "5  0.781713  0.713855  0.748137  0.850500  0.721247  0.934820  0.849137   \n",
      "6  0.829996  0.823315  0.812399  0.823357  0.817796  0.849137  0.965663   \n",
      "7  0.773897  0.916028  0.830036  0.803603  0.840291  0.739334  0.754562   \n",
      "8  0.886074  0.858903  0.845189  0.861533  0.842368  0.870116  0.822614   \n",
      "9  0.838127  0.805985  0.824625  0.861671  0.905591  0.818342  0.806333   \n",
      "\n",
      "          7         8         9  \n",
      "0  0.773897  0.886074  0.838127  \n",
      "1  0.916028  0.858903  0.805985  \n",
      "2  0.830036  0.845189  0.824625  \n",
      "3  0.803603  0.861533  0.861671  \n",
      "4  0.840291  0.842368  0.905591  \n",
      "5  0.739334  0.870116  0.818342  \n",
      "6  0.754562  0.822614  0.806333  \n",
      "7  0.954019  0.892011  0.885782  \n",
      "8  0.892011  0.949717  0.862364  \n",
      "9  0.885782  0.862364  0.974110  \n"
     ]
    }
   ],
   "source": [
    "print(agg_to_disag500)"
   ]
  },
  {
   "cell_type": "markdown",
   "metadata": {},
   "source": [
    "We see that when all samples of the digit 1 are compared with all other different samples, the maximum occurs at comparing 1 with 1 at 0.987486, and the next closer digit is a 7, with a maximum of 0.916028. \n",
    "This tells us that if we impose a threshold of 0.9, many samples of 7 would qualify to belong to the family of 1.\n",
    "\n",
    "On the other hand, when we look at the digit 0, the maximum in comparing two different zeros is 0.955870, while the maximum of comparing any zero with any 8 is 0.886074. \n",
    "\n",
    "In ALL cases above, we see that the diagonal is biggest entry in each row, although not by much in some cases. \n",
    "\n",
    "It is interesting that the above matrix tells us that there are some 0s that look like 8s, some 1s that look like 7s, and some 4s that look like 9s."
   ]
  },
  {
   "cell_type": "markdown",
   "metadata": {},
   "source": [
    "# A rough testing method\n",
    "It occurred to me that we could perhaps use the above matrix to implement a rudimentary classification test. The idea is to take a sample that is NOT in the above list, test it with respect to ALL our samples (literally, taking all our samples as the basis), and use the matrix above to decide what digit our sample likely is.\n",
    "\n",
    "First, we write a function that computes the Frobenious product of the new sample with all the previous ones, and then computes the maximum product for eac class.\n",
    "\n",
    "Then, we compare the entries for each digit with the rows of the matrix above, and decide what digit our sample could be.\n",
    "\n",
    "## This method gives a 93.7% accuracy with the given database"
   ]
  },
  {
   "cell_type": "code",
   "execution_count": 9,
   "metadata": {},
   "outputs": [],
   "source": [
    "#################################################################################################################\n",
    "# This function computes \"coordinates\" of sample with respect to all members of the normalized basis \n",
    "# outputs only an array of the maximum attained coordinate for each given class\n",
    "#################################################################################################################\n",
    "def coord_Frob(sample,n_basis):\n",
    "# Input: sample = any digit sample, \n",
    "#        n_basis = an array with all our chosen samples (basis), with an equal number N of \n",
    "#                consecutive samples for each of the C classes. The samples should be normalized to norm 1.\n",
    "# Output: coord = array of C maximum agreement values between sample and elements of the basis, separated by class\n",
    "#                 \n",
    "    # N = number of samples in each class\n",
    "    # C = number of classes\n",
    "    N = int(np.size(n_basis[0]))\n",
    "    C = int(np.size(n_basis)/N)\n",
    "    \n",
    "    # norm of the sample\n",
    "    samplenorm=np.sqrt(np.sum(sample*sample))\n",
    "\n",
    "    # compute norms of basis elements\n",
    "    agree=[]\n",
    "    for j in range(C):\n",
    "        agrow=[]\n",
    "        for v in n_basis[j]:\n",
    "            agrow.append(np.sum(sample*v)/samplenorm)\n",
    "        agree.append(agrow)\n",
    "        \n",
    "    # compute the maximum agreement between sample and basis for each digit\n",
    "    \n",
    "    coord=[]                   \n",
    "    for j in range(C):\n",
    "        coord.append(np.max(np.array(agree[j])))\n",
    "            \n",
    "    return np.array(coord)\n",
    "\n",
    "\n",
    "#################################################################################################################\n",
    "# This function normalizes a set of samples (basis). Simply divides each vector by its L2 norm.\n",
    "#################################################################################################################\n",
    "def n_the_basis(basis):\n",
    "# takes a basis and normalizes its elements to norm 1\n",
    "    # N = number of samples in each class\n",
    "    # C = number of classes\n",
    "    N = int(np.size(basis[0]))\n",
    "    C = int(np.size(basis)/N)\n",
    "\n",
    "    # compute norms of basis elements\n",
    "    n_basis=[]\n",
    "    for c in range(C):\n",
    "        base=[]\n",
    "        for j in range(N):\n",
    "            basis[c][j]=basis[c][j]/np.sqrt(np.sum(basis[c][j]*basis[c][j]))\n",
    "    \n",
    "    return basis\n",
    "\n",
    "#################################################################################################################\n",
    "# This function implements a test based on the coordinates obtained from the basis.\n",
    "# The resulting digit is simply the location of the biggest coordinate.\n",
    "#################################################################################################################\n",
    "def test_digit(sample,n_basis):\n",
    "# compute coordinates of smaple with respect to the basis, and returns first digit with maximum agreement per class\n",
    "#        n_basis = an array with all our chosen samples (basis), with an equal number N of \n",
    "#                consecutive samples for each of the C classes. The samples should be normalized to norm 1.\n",
    "#     \n",
    "    coord = coord_Frob(sample,n_basis)\n",
    "    return np.argmax(coord)\n",
    "\n",
    "\n",
    "#################################################################################################################\n",
    "# This function displays an image of a sample for which the test has given an erroneous digit\n",
    "# it also diaplays in the title which digit the test produced\n",
    "#################################################################################################################\n",
    "def dis_method_error(xc,j):\n",
    "# Input: a DataFrame with three columns [c][j][d] where [c][j] idetifies the sample (digit = c) and d is\n",
    "#        the digit that the test returned\n",
    "    try:\n",
    "        plt.imshow(data[xc.loc[j][0]][xc.loc[j][1]], cmap = 'gray')\n",
    "        plt.suptitle('Method identifies this as a {}, but it is a {}'.format(xc.loc[j][2],xc.loc[j][0]))\n",
    "        plt.show()\n",
    "    except IndexError:\n",
    "        print('{} is not a valid index. The error list only has {} entries.'.format(j,len(xc)))\n",
    "\n",
    "\n",
    "#################################################################################################################\n",
    "# This function returns a random list of indexes with T samples from each class\n",
    "# The input is a list of how many samples each class has\n",
    "# The function ignores the first 500 samples, which were used as a basis\n",
    "#################################################################################################################\n",
    "def sampling(dtalen,T):\n",
    "# Input :    dtalen = list of number of samples in each data class\n",
    "#                 T = number of random samples to take from each class\n",
    "# Output: test_s_idx = list of arrays of T indexes from each class randomly chosen, \n",
    "#                     but avoiding the first 500 so no element of the \"basis\" are chosen\n",
    "    test_s_len=(np.array(dtalen)-500)\n",
    "    test_s_idx=[]\n",
    "    for j in test_s_len:\n",
    "        test_s_idx.append(np.random.choice(j, T, replace=False)+500) \n",
    "    return test_s_idx\n",
    "\n",
    "#################################################################################################################\n",
    "# This method takes a list of indexes and test the corresponding samples\n",
    "# It returns a list of the samples for which the test gave an erroneous digit as an answer\n",
    "# The output is t,s,xcep_sheet, where t is the total number of samples, \n",
    "# s is the total number of correct identifications, and xcep_sheet is an ordered list of the indexes\n",
    "# for which the test gave the wrong digist\n",
    "#################################################################################################################\n",
    "def testing(test_s_idx):\n",
    "    t=0\n",
    "    s=0\n",
    "    c=0\n",
    "    xcep=[]\n",
    "    for j in test_s_idx:\n",
    "        for k in j:\n",
    "            t+=1\n",
    "            test=data[c][k]\n",
    "            if test_digit(test,n_basis)==c:\n",
    "                s+=1\n",
    "            else:\n",
    "                xcep.append([c,k,test_digit(test,n_basis)])\n",
    "        c+=1\n",
    "        xcep_sheet=pd.DataFrame(np.array(xcep))\n",
    "    print('{} correct out of {}. {}% accuracy'.format(s,t,100*s/t))\n",
    "    return t,s,xcep_sheet.sort_values(by=[0, 1],ignore_index=True)"
   ]
  },
  {
   "cell_type": "markdown",
   "metadata": {},
   "source": [
    "First, we collect the data and the number of samples of each class into a list dtalen."
   ]
  },
  {
   "cell_type": "code",
   "execution_count": 10,
   "metadata": {},
   "outputs": [
    {
     "name": "stdout",
     "output_type": "stream",
     "text": [
      "6903 examples of digit 0\n",
      "7877 examples of digit 1\n",
      "6990 examples of digit 2\n",
      "7141 examples of digit 3\n",
      "6824 examples of digit 4\n",
      "6313 examples of digit 5\n",
      "6876 examples of digit 6\n",
      "7293 examples of digit 7\n",
      "6825 examples of digit 8\n",
      "6958 examples of digit 9\n",
      "70000 examples in total\n",
      "\n"
     ]
    }
   ],
   "source": [
    "data = [extract_image(images, i) for i in range(10)]\n",
    "dtalen = display_lengths(data)"
   ]
  },
  {
   "cell_type": "markdown",
   "metadata": {},
   "source": [
    "Now we extract the first 500 samples from each class. This will be our *basis*. We *normalize* them into a list called n_basis using the function n_the_basis."
   ]
  },
  {
   "cell_type": "code",
   "execution_count": 11,
   "metadata": {},
   "outputs": [],
   "source": [
    "samples=[]\n",
    "for j in range(10):\n",
    "    samples.append(data[j][:500])\n",
    "n_basis=n_the_basis(samples)"
   ]
  },
  {
   "cell_type": "markdown",
   "metadata": {},
   "source": [
    "Suppose we want to check what digit our method believes is in entry \"data[8][3210]\". The answer should be **8**."
   ]
  },
  {
   "cell_type": "code",
   "execution_count": 12,
   "metadata": {},
   "outputs": [
    {
     "data": {
      "text/plain": [
       "8"
      ]
     },
     "execution_count": 12,
     "metadata": {},
     "output_type": "execute_result"
    }
   ],
   "source": [
    "test_digit(data[8][3210],n_basis)"
   ]
  },
  {
   "cell_type": "markdown",
   "metadata": {},
   "source": [
    "This is promosing, we got the right digit identified. However, if we try enough digits eventually we find an error."
   ]
  },
  {
   "cell_type": "code",
   "execution_count": 13,
   "metadata": {},
   "outputs": [
    {
     "data": {
      "text/plain": [
       "3"
      ]
     },
     "execution_count": 13,
     "metadata": {},
     "output_type": "execute_result"
    }
   ],
   "source": [
    "test_digit(data[8][3024],n_basis)"
   ]
  },
  {
   "cell_type": "markdown",
   "metadata": {},
   "source": [
    "We should have gotten 8 as an answer, but we got a 3. We wonder how close that digit looks like an 8?\n",
    "We can check the image:"
   ]
  },
  {
   "cell_type": "code",
   "execution_count": 14,
   "metadata": {},
   "outputs": [
    {
     "data": {
      "image/png": "[encoded data removed]",
      "text/plain": [
       "<Figure size 432x288 with 1 Axes>"
      ]
     },
     "metadata": {
      "needs_background": "light"
     },
     "output_type": "display_data"
    }
   ],
   "source": [
    "plt.imshow(data[8][3024], cmap = 'gray')\n",
    "plt.suptitle('Method identifies this as a {}, but it is a {}'.format(3,8))\n",
    "plt.show()"
   ]
  },
  {
   "cell_type": "markdown",
   "metadata": {},
   "source": [
    "To estimate the actual accuracy of our method, we must select randomly a big number of samples and test them.\n",
    "\n",
    "We choose 1000 random samples from each class (not in the basis)."
   ]
  },
  {
   "cell_type": "code",
   "execution_count": 15,
   "metadata": {},
   "outputs": [],
   "source": [
    "test_s_idx=sampling(dtalen,1000)"
   ]
  },
  {
   "cell_type": "markdown",
   "metadata": {},
   "source": [
    "Now we run the test on each one of the randomly sampled digits. The *testing* function returns the total number of samples tested *t*, the total number of positively identified samples *s*, and a DataFrame with the samples that were incorrectly identified, together with what digit the test gave."
   ]
  },
  {
   "cell_type": "code",
   "execution_count": 16,
   "metadata": {},
   "outputs": [
    {
     "name": "stdout",
     "output_type": "stream",
     "text": [
      "9389 correct out of 10000. 93.89% accuracy\n",
      "     0     1  2\n",
      "0    0   605  2\n",
      "1    0  1368  6\n",
      "2    0  2739  9\n",
      "3    0  3218  9\n",
      "4    0  3344  8\n",
      "..  ..   ... ..\n",
      "606  9  6412  7\n",
      "607  9  6460  4\n",
      "608  9  6707  3\n",
      "609  9  6732  4\n",
      "610  9  6879  4\n",
      "\n",
      "[611 rows x 3 columns]\n"
     ]
    }
   ],
   "source": [
    "t,s,xcep_sheet=testing(test_s_idx)\n",
    "print(xcep_sheet)"
   ]
  },
  {
   "cell_type": "markdown",
   "metadata": {},
   "source": [
    "According to this testing sample the accuracy of the test is **93.7%**. Not bad for a start. This is indeed pretty close to the accuracy of the method if we test ALL the samples.\n",
    "\n",
    "The DataFrame *xcep_sheet* containing all the errors can be used to finding ways to improve the method.\n",
    "\n",
    "For example, we can display a few of the errors using the function *dis_method_error*."
   ]
  },
  {
   "cell_type": "code",
   "execution_count": 17,
   "metadata": {},
   "outputs": [
    {
     "data": {
      "image/png": "[encoded data removed]",
      "text/plain": [
       "<Figure size 432x288 with 1 Axes>"
      ]
     },
     "metadata": {
      "needs_background": "light"
     },
     "output_type": "display_data"
    },
    {
     "data": {
      "image/png": "[encoded data removed]",
      "text/plain": [
       "<Figure size 432x288 with 1 Axes>"
      ]
     },
     "metadata": {
      "needs_background": "light"
     },
     "output_type": "display_data"
    },
    {
     "data": {
      "image/png": "[encoded data removed]",
      "text/plain": [
       "<Figure size 432x288 with 1 Axes>"
      ]
     },
     "metadata": {
      "needs_background": "light"
     },
     "output_type": "display_data"
    },
    {
     "data": {
      "image/png": "[encoded data removed]",
      "text/plain": [
       "<Figure size 432x288 with 1 Axes>"
      ]
     },
     "metadata": {
      "needs_background": "light"
     },
     "output_type": "display_data"
    },
    {
     "data": {
      "image/png": "[encoded data removed]",
      "text/plain": [
       "<Figure size 432x288 with 1 Axes>"
      ]
     },
     "metadata": {
      "needs_background": "light"
     },
     "output_type": "display_data"
    },
    {
     "data": {
      "image/png": "[encoded data removed]",
      "text/plain": [
       "<Figure size 432x288 with 1 Axes>"
      ]
     },
     "metadata": {
      "needs_background": "light"
     },
     "output_type": "display_data"
    },
    {
     "data": {
      "image/png": "[encoded data removed]",
      "text/plain": [
       "<Figure size 432x288 with 1 Axes>"
      ]
     },
     "metadata": {
      "needs_background": "light"
     },
     "output_type": "display_data"
    }
   ],
   "source": [
    "dis_method_error(xcep_sheet,0)\n",
    "dis_method_error(xcep_sheet,100)\n",
    "dis_method_error(xcep_sheet,200)\n",
    "dis_method_error(xcep_sheet,300)\n",
    "dis_method_error(xcep_sheet,400)\n",
    "dis_method_error(xcep_sheet,500)\n",
    "dis_method_error(xcep_sheet,600)"
   ]
  }
 ],
 "metadata": {
  "kernelspec": {
   "display_name": "Python 3",
   "language": "python",
   "name": "python3"
  },
  "language_info": {
   "codemirror_mode": {
    "name": "ipython",
    "version": 3
   },
   "file_extension": ".py",
   "mimetype": "text/x-python",
   "name": "python",
   "nbconvert_exporter": "python",
   "pygments_lexer": "ipython3",
   "version": "3.7.1"
  }
 },
 "nbformat": 4,
 "nbformat_minor": 2
}
