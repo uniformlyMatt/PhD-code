{
 "cells": [
  {
   "cell_type": "code",
   "execution_count": 1,
   "metadata": {},
   "outputs": [],
   "source": [
    "import numpy as np\n",
    "import dash\n",
    "import matplotlib.pyplot as plt"
   ]
  },
  {
   "cell_type": "markdown",
   "metadata": {},
   "source": [
    "# The Linear Model\n",
    "\n",
    "First, we assume the model\n",
    "$$\n",
    "    y = w^Tx + b,\n",
    "$$\n",
    "where $w$ contains the linear coefficients and $b$ is the bias."
   ]
  },
  {
   "cell_type": "code",
   "execution_count": 26,
   "metadata": {},
   "outputs": [
    {
     "data": {
      "image/png": "[encoded data removed]",
      "text/plain": [
       "<Figure size 432x288 with 1 Axes>"
      ]
     },
     "metadata": {
      "needs_background": "light"
     },
     "output_type": "display_data"
    }
   ],
   "source": [
    "X_with_bias = np.asarray([[1,0,0],[1,0,1],[1,1,0],[1,1,1]])\n",
    "y = np.asarray([[0],[1],[1],[0]])\n",
    "\n",
    "# Split the data for visualizing the two groups\n",
    "group1 = np.asarray([[0,0],[1,1]])\n",
    "group2 = np.asarray([[0,1],[1,0]])\n",
    "\n",
    "fig, ax = plt.subplots()\n",
    "\n",
    "ax.scatter(group1[:,0], group1[:,1], color = 'red');\n",
    "ax.scatter(group2[:,0], group2[:,1], color = 'blue');"
   ]
  },
  {
   "cell_type": "code",
   "execution_count": 45,
   "metadata": {},
   "outputs": [
    {
     "data": {
      "text/plain": [
       "array([[0.5],\n",
       "       [0. ],\n",
       "       [0. ]])"
      ]
     },
     "execution_count": 45,
     "metadata": {},
     "output_type": "execute_result"
    }
   ],
   "source": [
    "inverse_step = np.linalg.inv(np.dot(X_with_bias.T, X_with_bias))\n",
    "w = inverse_step.dot(X_with_bias.T).dot(y)\n",
    "\n",
    "# The first coefficient of 'w' is the bias in the linear model\n",
    "w"
   ]
  },
  {
   "cell_type": "code",
   "execution_count": 46,
   "metadata": {},
   "outputs": [
    {
     "data": {
      "image/png": "[encoded data removed]",
      "text/plain": [
       "<Figure size 432x288 with 1 Axes>"
      ]
     },
     "metadata": {
      "needs_background": "light"
     },
     "output_type": "display_data"
    }
   ],
   "source": [
    "# Plot the result\n",
    "\n",
    "x = np.linspace(0,1,21)\n",
    "model_output = w[0]*np.ones(21)\n",
    "\n",
    "fig, ax = plt.subplots()\n",
    "\n",
    "ax.scatter(group1[:,0], group1[:,1], color = 'red');\n",
    "ax.scatter(group2[:,0], group2[:,1], color = 'blue');\n",
    "ax.plot(x, model_output);"
   ]
  },
  {
   "cell_type": "markdown",
   "metadata": {},
   "source": [
    "# The Single Layer NN\n",
    "\n",
    "We now use the model specified by\n",
    "$$\n",
    "    y = w^T\\max \\{0, W^Tx + c \\} + b\n",
    "$$"
   ]
  },
  {
   "cell_type": "code",
   "execution_count": 74,
   "metadata": {},
   "outputs": [],
   "source": [
    "X = np.asarray([[0,0],[0,1],[1,0],[1,1]])\n",
    "W = np.ones((2,2))\n",
    "\n",
    "w = np.asarray([[1],[-2]])\n",
    "c = np.asarray([[0,-1],[0,-1],[0,-1],[0,-1]])"
   ]
  },
  {
   "cell_type": "code",
   "execution_count": 75,
   "metadata": {},
   "outputs": [
    {
     "data": {
      "image/png": "[encoded data removed]",
      "text/plain": [
       "<Figure size 432x288 with 1 Axes>"
      ]
     },
     "metadata": {
      "needs_background": "light"
     },
     "output_type": "display_data"
    }
   ],
   "source": [
    "# Data with affine transformation applied\n",
    "Z = np.dot(X,W) + c\n",
    "\n",
    "group1_transformed = np.asarray([Z[0,:], Z[-1,:]])\n",
    "group2_transformed = np.asarray([Z[1,:], Z[2,:]])\n",
    "\n",
    "fig, ax = plt.subplots()\n",
    "\n",
    "ax.scatter(group1_transformed[:,0], group1_transformed[:,1], color = 'red');\n",
    "ax.scatter(group2_transformed[:,0], group2_transformed[:,1], color = 'blue');"
   ]
  },
  {
   "cell_type": "markdown",
   "metadata": {},
   "source": [
    "The two points from group2 have been collapsed to a single point. Now I'll apply the ReLU function and multiply by the output weight vector $w$."
   ]
  },
  {
   "cell_type": "code",
   "execution_count": 80,
   "metadata": {},
   "outputs": [],
   "source": [
    "def relu(x):\n",
    "    \"\"\" Find max(0, xi) for every xi in x. \"\"\"\n",
    "    \n",
    "    return np.asarray([[np.max([0, i]) for i in row] for row in x])"
   ]
  },
  {
   "cell_type": "code",
   "execution_count": 86,
   "metadata": {},
   "outputs": [
    {
     "data": {
      "image/png": "[encoded data removed]",
      "text/plain": [
       "<Figure size 432x288 with 1 Axes>"
      ]
     },
     "metadata": {
      "needs_background": "light"
     },
     "output_type": "display_data"
    }
   ],
   "source": [
    "# Plot the result after relu applied\n",
    "Z_relu = relu(Z)\n",
    "\n",
    "group1_relu = np.asarray([Z_relu[0,:], Z_relu[-1,:]])\n",
    "group2_relu = np.asarray([Z_relu[1,:], Z_relu[2,:]])\n",
    "\n",
    "fig, ax = plt.subplots()\n",
    "\n",
    "ax.scatter(group1_relu[:,0], group1_relu[:,1], color = 'red');\n",
    "ax.scatter(group2_relu[:,0], group2_relu[:,1], color = 'blue');"
   ]
  },
  {
   "cell_type": "code",
   "execution_count": 85,
   "metadata": {},
   "outputs": [
    {
     "data": {
      "text/plain": [
       "array([[0.],\n",
       "       [1.],\n",
       "       [1.],\n",
       "       [0.]])"
      ]
     },
     "execution_count": 85,
     "metadata": {},
     "output_type": "execute_result"
    }
   ],
   "source": [
    "output = np.dot(relu(Z), w)\n",
    "output"
   ]
  },
  {
   "cell_type": "code",
   "execution_count": null,
   "metadata": {},
   "outputs": [],
   "source": []
  }
 ],
 "metadata": {
  "kernelspec": {
   "display_name": "Python 3",
   "language": "python",
   "name": "python3"
  },
  "language_info": {
   "codemirror_mode": {
    "name": "ipython",
    "version": 3
   },
   "file_extension": ".py",
   "mimetype": "text/x-python",
   "name": "python",
   "nbconvert_exporter": "python",
   "pygments_lexer": "ipython3",
   "version": "3.7.1"
  }
 },
 "nbformat": 4,
 "nbformat_minor": 4
}
