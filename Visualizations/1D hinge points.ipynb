{
 "cells": [
  {
   "cell_type": "code",
   "execution_count": 1,
   "id": "casual-yahoo",
   "metadata": {},
   "outputs": [],
   "source": [
    "import numpy as np\n",
    "import plotly.express as px\n",
    "import plotly.graph_objects as go"
   ]
  },
  {
   "cell_type": "code",
   "execution_count": 2,
   "id": "surrounded-tsunami",
   "metadata": {},
   "outputs": [],
   "source": [
    "def relu(x):\n",
    "    return np.maximum(x, 0, x)\n",
    "\n",
    "def feedforward(x, func):\n",
    "    return np.matmul(Wout, func(np.matmul(W1, x)))"
   ]
  },
  {
   "cell_type": "code",
   "execution_count": 13,
   "id": "described-flour",
   "metadata": {},
   "outputs": [],
   "source": [
    "W1 = np.array([[0.5, 0.5],[0.5, 1]])\n",
    "W2 = np.array([[1, 0.5],[0.5, 0.5]])\n",
    "W3 = np.array([[0.5, 0.5],[0.5, -0.5]])\n",
    "Wout = np.array([1,1])"
   ]
  },
  {
   "cell_type": "code",
   "execution_count": 14,
   "id": "isolated-climate",
   "metadata": {},
   "outputs": [
    {
     "data": {
      "text/plain": [
       "array([[0.5, 0.5],\n",
       "       [0.5, 1. ]])"
      ]
     },
     "execution_count": 14,
     "metadata": {},
     "output_type": "execute_result"
    }
   ],
   "source": [
    "W1"
   ]
  },
  {
   "cell_type": "code",
   "execution_count": 15,
   "id": "beginning-charter",
   "metadata": {},
   "outputs": [],
   "source": [
    "X = np.linspace(-2, 2, 101)\n",
    "Y = [feedforward(np.array([1, i]), relu) for i in X]"
   ]
  },
  {
   "cell_type": "code",
   "execution_count": 16,
   "id": "tamil-miniature",
   "metadata": {},
   "outputs": [
    {
     "data": {
      "application/vnd.plotly.v1+json": {
       "config": {
        "plotlyServerURL": "https://plot.ly"
       },
       "data": [
        {
         "name": "model",
         "type": "scatter",
         "x": [
          -2,
          -1.96,
          -1.92,
          -1.88,
          -1.84,
          -1.8,
          -1.76,
          -1.72,
          -1.68,
          -1.6400000000000001,
          -1.6,
          -1.56,
          -1.52,
          -1.48,
          -1.44,
          -1.4,
          -1.3599999999999999,
          -1.3199999999999998,
          -1.28,
          -1.24,
          -1.2,
          -1.1600000000000001,
          -1.12,
          -1.08,
          -1.04,
          -1,
          -0.96,
          -0.9199999999999999,
          -0.8799999999999999,
          -0.8400000000000001,
          -0.8,
          -0.76,
          -0.72,
          -0.6799999999999999,
          -0.6399999999999999,
          -0.5999999999999999,
          -0.56,
          -0.52,
          -0.48,
          -0.43999999999999995,
          -0.3999999999999999,
          -0.3599999999999999,
          -0.32000000000000006,
          -0.28,
          -0.24,
          -0.19999999999999996,
          -0.15999999999999992,
          -0.11999999999999988,
          -0.08000000000000007,
          -0.040000000000000036,
          0,
          0.040000000000000036,
          0.08000000000000007,
          0.1200000000000001,
          0.16000000000000014,
          0.20000000000000018,
          0.2400000000000002,
          0.28000000000000025,
          0.31999999999999984,
          0.3599999999999999,
          0.3999999999999999,
          0.43999999999999995,
          0.48,
          0.52,
          0.56,
          0.6000000000000001,
          0.6400000000000001,
          0.6800000000000002,
          0.7200000000000002,
          0.7600000000000002,
          0.8000000000000003,
          0.8399999999999999,
          0.8799999999999999,
          0.9199999999999999,
          0.96,
          1,
          1.04,
          1.08,
          1.12,
          1.1600000000000001,
          1.2000000000000002,
          1.2400000000000002,
          1.2800000000000002,
          1.3200000000000003,
          1.3599999999999999,
          1.4,
          1.44,
          1.48,
          1.52,
          1.56,
          1.6,
          1.6400000000000001,
          1.6800000000000002,
          1.7200000000000002,
          1.7600000000000002,
          1.8000000000000003,
          1.8399999999999999,
          1.88,
          1.92,
          1.96,
          2
         ],
         "y": [
          0,
          0,
          0,
          0,
          0,
          0,
          0,
          0,
          0,
          0,
          0,
          0,
          0,
          0,
          0,
          0,
          0,
          0,
          0,
          0,
          0,
          0,
          0,
          0,
          0,
          0,
          0.020000000000000018,
          0.040000000000000036,
          0.06000000000000005,
          0.07999999999999996,
          0.09999999999999998,
          0.12,
          0.14,
          0.16000000000000003,
          0.18000000000000005,
          0.20000000000000007,
          0.21999999999999997,
          0.24,
          0.28,
          0.3400000000000001,
          0.40000000000000013,
          0.4600000000000002,
          0.5199999999999999,
          0.58,
          0.64,
          0.7000000000000001,
          0.7600000000000001,
          0.8200000000000002,
          0.8799999999999999,
          0.94,
          1,
          1.06,
          1.12,
          1.1800000000000002,
          1.2400000000000002,
          1.3000000000000003,
          1.3600000000000003,
          1.4200000000000004,
          1.4799999999999998,
          1.5399999999999998,
          1.5999999999999999,
          1.66,
          1.72,
          1.78,
          1.84,
          1.9000000000000001,
          1.9600000000000002,
          2.0200000000000005,
          2.08,
          2.1400000000000006,
          2.2,
          2.26,
          2.32,
          2.38,
          2.44,
          2.5,
          2.56,
          2.62,
          2.68,
          2.74,
          2.8000000000000003,
          2.8600000000000003,
          2.9200000000000004,
          2.9800000000000004,
          3.04,
          3.0999999999999996,
          3.16,
          3.2199999999999998,
          3.2800000000000002,
          3.34,
          3.4000000000000004,
          3.46,
          3.5200000000000005,
          3.58,
          3.6400000000000006,
          3.7,
          3.76,
          3.82,
          3.88,
          3.94,
          4
         ]
        }
       ],
       "layout": {
        "template": {
         "data": {
          "bar": [
           {
            "error_x": {
             "color": "#2a3f5f"
            },
            "error_y": {
             "color": "#2a3f5f"
            },
            "marker": {
             "line": {
              "color": "#E5ECF6",
              "width": 0.5
             }
            },
            "type": "bar"
           }
          ],
          "barpolar": [
           {
            "marker": {
             "line": {
              "color": "#E5ECF6",
              "width": 0.5
             }
            },
            "type": "barpolar"
           }
          ],
          "carpet": [
           {
            "aaxis": {
             "endlinecolor": "#2a3f5f",
             "gridcolor": "white",
             "linecolor": "white",
             "minorgridcolor": "white",
             "startlinecolor": "#2a3f5f"
            },
            "baxis": {
             "endlinecolor": "#2a3f5f",
             "gridcolor": "white",
             "linecolor": "white",
             "minorgridcolor": "white",
             "startlinecolor": "#2a3f5f"
            },
            "type": "carpet"
           }
          ],
          "choropleth": [
           {
            "colorbar": {
             "outlinewidth": 0,
             "ticks": ""
            },
            "type": "choropleth"
           }
          ],
          "contour": [
           {
            "colorbar": {
             "outlinewidth": 0,
             "ticks": ""
            },
            "colorscale": [
             [
              0,
              "#0d0887"
             ],
             [
              0.1111111111111111,
              "#46039f"
             ],
             [
              0.2222222222222222,
              "#7201a8"
             ],
             [
              0.3333333333333333,
              "#9c179e"
             ],
             [
              0.4444444444444444,
              "#bd3786"
             ],
             [
              0.5555555555555556,
              "#d8576b"
             ],
             [
              0.6666666666666666,
              "#ed7953"
             ],
             [
              0.7777777777777778,
              "#fb9f3a"
             ],
             [
              0.8888888888888888,
              "#fdca26"
             ],
             [
              1,
              "#f0f921"
             ]
            ],
            "type": "contour"
           }
          ],
          "contourcarpet": [
           {
            "colorbar": {
             "outlinewidth": 0,
             "ticks": ""
            },
            "type": "contourcarpet"
           }
          ],
          "heatmap": [
           {
            "colorbar": {
             "outlinewidth": 0,
             "ticks": ""
            },
            "colorscale": [
             [
              0,
              "#0d0887"
             ],
             [
              0.1111111111111111,
              "#46039f"
             ],
             [
              0.2222222222222222,
              "#7201a8"
             ],
             [
              0.3333333333333333,
              "#9c179e"
             ],
             [
              0.4444444444444444,
              "#bd3786"
             ],
             [
              0.5555555555555556,
              "#d8576b"
             ],
             [
              0.6666666666666666,
              "#ed7953"
             ],
             [
              0.7777777777777778,
              "#fb9f3a"
             ],
             [
              0.8888888888888888,
              "#fdca26"
             ],
             [
              1,
              "#f0f921"
             ]
            ],
            "type": "heatmap"
           }
          ],
          "heatmapgl": [
           {
            "colorbar": {
             "outlinewidth": 0,
             "ticks": ""
            },
            "colorscale": [
             [
              0,
              "#0d0887"
             ],
             [
              0.1111111111111111,
              "#46039f"
             ],
             [
              0.2222222222222222,
              "#7201a8"
             ],
             [
              0.3333333333333333,
              "#9c179e"
             ],
             [
              0.4444444444444444,
              "#bd3786"
             ],
             [
              0.5555555555555556,
              "#d8576b"
             ],
             [
              0.6666666666666666,
              "#ed7953"
             ],
             [
              0.7777777777777778,
              "#fb9f3a"
             ],
             [
              0.8888888888888888,
              "#fdca26"
             ],
             [
              1,
              "#f0f921"
             ]
            ],
            "type": "heatmapgl"
           }
          ],
          "histogram": [
           {
            "marker": {
             "colorbar": {
              "outlinewidth": 0,
              "ticks": ""
             }
            },
            "type": "histogram"
           }
          ],
          "histogram2d": [
           {
            "colorbar": {
             "outlinewidth": 0,
             "ticks": ""
            },
            "colorscale": [
             [
              0,
              "#0d0887"
             ],
             [
              0.1111111111111111,
              "#46039f"
             ],
             [
              0.2222222222222222,
              "#7201a8"
             ],
             [
              0.3333333333333333,
              "#9c179e"
             ],
             [
              0.4444444444444444,
              "#bd3786"
             ],
             [
              0.5555555555555556,
              "#d8576b"
             ],
             [
              0.6666666666666666,
              "#ed7953"
             ],
             [
              0.7777777777777778,
              "#fb9f3a"
             ],
             [
              0.8888888888888888,
              "#fdca26"
             ],
             [
              1,
              "#f0f921"
             ]
            ],
            "type": "histogram2d"
           }
          ],
          "histogram2dcontour": [
           {
            "colorbar": {
             "outlinewidth": 0,
             "ticks": ""
            },
            "colorscale": [
             [
              0,
              "#0d0887"
             ],
             [
              0.1111111111111111,
              "#46039f"
             ],
             [
              0.2222222222222222,
              "#7201a8"
             ],
             [
              0.3333333333333333,
              "#9c179e"
             ],
             [
              0.4444444444444444,
              "#bd3786"
             ],
             [
              0.5555555555555556,
              "#d8576b"
             ],
             [
              0.6666666666666666,
              "#ed7953"
             ],
             [
              0.7777777777777778,
              "#fb9f3a"
             ],
             [
              0.8888888888888888,
              "#fdca26"
             ],
             [
              1,
              "#f0f921"
             ]
            ],
            "type": "histogram2dcontour"
           }
          ],
          "mesh3d": [
           {
            "colorbar": {
             "outlinewidth": 0,
             "ticks": ""
            },
            "type": "mesh3d"
           }
          ],
          "parcoords": [
           {
            "line": {
             "colorbar": {
              "outlinewidth": 0,
              "ticks": ""
             }
            },
            "type": "parcoords"
           }
          ],
          "pie": [
           {
            "automargin": true,
            "type": "pie"
           }
          ],
          "scatter": [
           {
            "marker": {
             "colorbar": {
              "outlinewidth": 0,
              "ticks": ""
             }
            },
            "type": "scatter"
           }
          ],
          "scatter3d": [
           {
            "line": {
             "colorbar": {
              "outlinewidth": 0,
              "ticks": ""
             }
            },
            "marker": {
             "colorbar": {
              "outlinewidth": 0,
              "ticks": ""
             }
            },
            "type": "scatter3d"
           }
          ],
          "scattercarpet": [
           {
            "marker": {
             "colorbar": {
              "outlinewidth": 0,
              "ticks": ""
             }
            },
            "type": "scattercarpet"
           }
          ],
          "scattergeo": [
           {
            "marker": {
             "colorbar": {
              "outlinewidth": 0,
              "ticks": ""
             }
            },
            "type": "scattergeo"
           }
          ],
          "scattergl": [
           {
            "marker": {
             "colorbar": {
              "outlinewidth": 0,
              "ticks": ""
             }
            },
            "type": "scattergl"
           }
          ],
          "scattermapbox": [
           {
            "marker": {
             "colorbar": {
              "outlinewidth": 0,
              "ticks": ""
             }
            },
            "type": "scattermapbox"
           }
          ],
          "scatterpolar": [
           {
            "marker": {
             "colorbar": {
              "outlinewidth": 0,
              "ticks": ""
             }
            },
            "type": "scatterpolar"
           }
          ],
          "scatterpolargl": [
           {
            "marker": {
             "colorbar": {
              "outlinewidth": 0,
              "ticks": ""
             }
            },
            "type": "scatterpolargl"
           }
          ],
          "scatterternary": [
           {
            "marker": {
             "colorbar": {
              "outlinewidth": 0,
              "ticks": ""
             }
            },
            "type": "scatterternary"
           }
          ],
          "surface": [
           {
            "colorbar": {
             "outlinewidth": 0,
             "ticks": ""
            },
            "colorscale": [
             [
              0,
              "#0d0887"
             ],
             [
              0.1111111111111111,
              "#46039f"
             ],
             [
              0.2222222222222222,
              "#7201a8"
             ],
             [
              0.3333333333333333,
              "#9c179e"
             ],
             [
              0.4444444444444444,
              "#bd3786"
             ],
             [
              0.5555555555555556,
              "#d8576b"
             ],
             [
              0.6666666666666666,
              "#ed7953"
             ],
             [
              0.7777777777777778,
              "#fb9f3a"
             ],
             [
              0.8888888888888888,
              "#fdca26"
             ],
             [
              1,
              "#f0f921"
             ]
            ],
            "type": "surface"
           }
          ],
          "table": [
           {
            "cells": {
             "fill": {
              "color": "#EBF0F8"
             },
             "line": {
              "color": "white"
             }
            },
            "header": {
             "fill": {
              "color": "#C8D4E3"
             },
             "line": {
              "color": "white"
             }
            },
            "type": "table"
           }
          ]
         },
         "layout": {
          "annotationdefaults": {
           "arrowcolor": "#2a3f5f",
           "arrowhead": 0,
           "arrowwidth": 1
          },
          "autotypenumbers": "strict",
          "coloraxis": {
           "colorbar": {
            "outlinewidth": 0,
            "ticks": ""
           }
          },
          "colorscale": {
           "diverging": [
            [
             0,
             "#8e0152"
            ],
            [
             0.1,
             "#c51b7d"
            ],
            [
             0.2,
             "#de77ae"
            ],
            [
             0.3,
             "#f1b6da"
            ],
            [
             0.4,
             "#fde0ef"
            ],
            [
             0.5,
             "#f7f7f7"
            ],
            [
             0.6,
             "#e6f5d0"
            ],
            [
             0.7,
             "#b8e186"
            ],
            [
             0.8,
             "#7fbc41"
            ],
            [
             0.9,
             "#4d9221"
            ],
            [
             1,
             "#276419"
            ]
           ],
           "sequential": [
            [
             0,
             "#0d0887"
            ],
            [
             0.1111111111111111,
             "#46039f"
            ],
            [
             0.2222222222222222,
             "#7201a8"
            ],
            [
             0.3333333333333333,
             "#9c179e"
            ],
            [
             0.4444444444444444,
             "#bd3786"
            ],
            [
             0.5555555555555556,
             "#d8576b"
            ],
            [
             0.6666666666666666,
             "#ed7953"
            ],
            [
             0.7777777777777778,
             "#fb9f3a"
            ],
            [
             0.8888888888888888,
             "#fdca26"
            ],
            [
             1,
             "#f0f921"
            ]
           ],
           "sequentialminus": [
            [
             0,
             "#0d0887"
            ],
            [
             0.1111111111111111,
             "#46039f"
            ],
            [
             0.2222222222222222,
             "#7201a8"
            ],
            [
             0.3333333333333333,
             "#9c179e"
            ],
            [
             0.4444444444444444,
             "#bd3786"
            ],
            [
             0.5555555555555556,
             "#d8576b"
            ],
            [
             0.6666666666666666,
             "#ed7953"
            ],
            [
             0.7777777777777778,
             "#fb9f3a"
            ],
            [
             0.8888888888888888,
             "#fdca26"
            ],
            [
             1,
             "#f0f921"
            ]
           ]
          },
          "colorway": [
           "#636efa",
           "#EF553B",
           "#00cc96",
           "#ab63fa",
           "#FFA15A",
           "#19d3f3",
           "#FF6692",
           "#B6E880",
           "#FF97FF",
           "#FECB52"
          ],
          "font": {
           "color": "#2a3f5f"
          },
          "geo": {
           "bgcolor": "white",
           "lakecolor": "white",
           "landcolor": "#E5ECF6",
           "showlakes": true,
           "showland": true,
           "subunitcolor": "white"
          },
          "hoverlabel": {
           "align": "left"
          },
          "hovermode": "closest",
          "mapbox": {
           "style": "light"
          },
          "paper_bgcolor": "white",
          "plot_bgcolor": "#E5ECF6",
          "polar": {
           "angularaxis": {
            "gridcolor": "white",
            "linecolor": "white",
            "ticks": ""
           },
           "bgcolor": "#E5ECF6",
           "radialaxis": {
            "gridcolor": "white",
            "linecolor": "white",
            "ticks": ""
           }
          },
          "scene": {
           "xaxis": {
            "backgroundcolor": "#E5ECF6",
            "gridcolor": "white",
            "gridwidth": 2,
            "linecolor": "white",
            "showbackground": true,
            "ticks": "",
            "zerolinecolor": "white"
           },
           "yaxis": {
            "backgroundcolor": "#E5ECF6",
            "gridcolor": "white",
            "gridwidth": 2,
            "linecolor": "white",
            "showbackground": true,
            "ticks": "",
            "zerolinecolor": "white"
           },
           "zaxis": {
            "backgroundcolor": "#E5ECF6",
            "gridcolor": "white",
            "gridwidth": 2,
            "linecolor": "white",
            "showbackground": true,
            "ticks": "",
            "zerolinecolor": "white"
           }
          },
          "shapedefaults": {
           "line": {
            "color": "#2a3f5f"
           }
          },
          "ternary": {
           "aaxis": {
            "gridcolor": "white",
            "linecolor": "white",
            "ticks": ""
           },
           "baxis": {
            "gridcolor": "white",
            "linecolor": "white",
            "ticks": ""
           },
           "bgcolor": "#E5ECF6",
           "caxis": {
            "gridcolor": "white",
            "linecolor": "white",
            "ticks": ""
           }
          },
          "title": {
           "x": 0.05
          },
          "xaxis": {
           "automargin": true,
           "gridcolor": "white",
           "linecolor": "white",
           "ticks": "",
           "title": {
            "standoff": 15
           },
           "zerolinecolor": "white",
           "zerolinewidth": 2
          },
          "yaxis": {
           "automargin": true,
           "gridcolor": "white",
           "linecolor": "white",
           "ticks": "",
           "title": {
            "standoff": 15
           },
           "zerolinecolor": "white",
           "zerolinewidth": 2
          }
         }
        }
       }
      },
      "text/html": [
       "<div>                            <div id=\"475add79-630a-4fb7-a453-fcf4d22a12e8\" class=\"plotly-graph-div\" style=\"height:525px; width:100%;\"></div>            <script type=\"text/javascript\">                require([\"plotly\"], function(Plotly) {                    window.PLOTLYENV=window.PLOTLYENV || {};                                    if (document.getElementById(\"475add79-630a-4fb7-a453-fcf4d22a12e8\")) {                    Plotly.newPlot(                        \"475add79-630a-4fb7-a453-fcf4d22a12e8\",                        [{\"name\": \"model\", \"type\": \"scatter\", \"x\": [-2.0, -1.96, -1.92, -1.88, -1.84, -1.8, -1.76, -1.72, -1.68, -1.6400000000000001, -1.6, -1.56, -1.52, -1.48, -1.44, -1.4, -1.3599999999999999, -1.3199999999999998, -1.28, -1.24, -1.2, -1.1600000000000001, -1.12, -1.08, -1.04, -1.0, -0.96, -0.9199999999999999, -0.8799999999999999, -0.8400000000000001, -0.8, -0.76, -0.72, -0.6799999999999999, -0.6399999999999999, -0.5999999999999999, -0.56, -0.52, -0.48, -0.43999999999999995, -0.3999999999999999, -0.3599999999999999, -0.32000000000000006, -0.28, -0.24, -0.19999999999999996, -0.15999999999999992, -0.11999999999999988, -0.08000000000000007, -0.040000000000000036, 0.0, 0.040000000000000036, 0.08000000000000007, 0.1200000000000001, 0.16000000000000014, 0.20000000000000018, 0.2400000000000002, 0.28000000000000025, 0.31999999999999984, 0.3599999999999999, 0.3999999999999999, 0.43999999999999995, 0.48, 0.52, 0.56, 0.6000000000000001, 0.6400000000000001, 0.6800000000000002, 0.7200000000000002, 0.7600000000000002, 0.8000000000000003, 0.8399999999999999, 0.8799999999999999, 0.9199999999999999, 0.96, 1.0, 1.04, 1.08, 1.12, 1.1600000000000001, 1.2000000000000002, 1.2400000000000002, 1.2800000000000002, 1.3200000000000003, 1.3599999999999999, 1.4, 1.44, 1.48, 1.52, 1.56, 1.6, 1.6400000000000001, 1.6800000000000002, 1.7200000000000002, 1.7600000000000002, 1.8000000000000003, 1.8399999999999999, 1.88, 1.92, 1.96, 2.0], \"y\": [0.0, 0.0, 0.0, 0.0, 0.0, 0.0, 0.0, 0.0, 0.0, 0.0, 0.0, 0.0, 0.0, 0.0, 0.0, 0.0, 0.0, 0.0, 0.0, 0.0, 0.0, 0.0, 0.0, 0.0, 0.0, 0.0, 0.020000000000000018, 0.040000000000000036, 0.06000000000000005, 0.07999999999999996, 0.09999999999999998, 0.12, 0.14, 0.16000000000000003, 0.18000000000000005, 0.20000000000000007, 0.21999999999999997, 0.24, 0.28, 0.3400000000000001, 0.40000000000000013, 0.4600000000000002, 0.5199999999999999, 0.58, 0.64, 0.7000000000000001, 0.7600000000000001, 0.8200000000000002, 0.8799999999999999, 0.94, 1.0, 1.06, 1.12, 1.1800000000000002, 1.2400000000000002, 1.3000000000000003, 1.3600000000000003, 1.4200000000000004, 1.4799999999999998, 1.5399999999999998, 1.5999999999999999, 1.66, 1.72, 1.78, 1.84, 1.9000000000000001, 1.9600000000000002, 2.0200000000000005, 2.08, 2.1400000000000006, 2.2, 2.26, 2.32, 2.38, 2.44, 2.5, 2.56, 2.62, 2.68, 2.74, 2.8000000000000003, 2.8600000000000003, 2.9200000000000004, 2.9800000000000004, 3.04, 3.0999999999999996, 3.16, 3.2199999999999998, 3.2800000000000002, 3.34, 3.4000000000000004, 3.46, 3.5200000000000005, 3.58, 3.6400000000000006, 3.7, 3.76, 3.82, 3.88, 3.94, 4.0]}],                        {\"template\": {\"data\": {\"bar\": [{\"error_x\": {\"color\": \"#2a3f5f\"}, \"error_y\": {\"color\": \"#2a3f5f\"}, \"marker\": {\"line\": {\"color\": \"#E5ECF6\", \"width\": 0.5}}, \"type\": \"bar\"}], \"barpolar\": [{\"marker\": {\"line\": {\"color\": \"#E5ECF6\", \"width\": 0.5}}, \"type\": \"barpolar\"}], \"carpet\": [{\"aaxis\": {\"endlinecolor\": \"#2a3f5f\", \"gridcolor\": \"white\", \"linecolor\": \"white\", \"minorgridcolor\": \"white\", \"startlinecolor\": \"#2a3f5f\"}, \"baxis\": {\"endlinecolor\": \"#2a3f5f\", \"gridcolor\": \"white\", \"linecolor\": \"white\", \"minorgridcolor\": \"white\", \"startlinecolor\": \"#2a3f5f\"}, \"type\": \"carpet\"}], \"choropleth\": [{\"colorbar\": {\"outlinewidth\": 0, \"ticks\": \"\"}, \"type\": \"choropleth\"}], \"contour\": [{\"colorbar\": {\"outlinewidth\": 0, \"ticks\": \"\"}, \"colorscale\": [[0.0, \"#0d0887\"], [0.1111111111111111, \"#46039f\"], [0.2222222222222222, \"#7201a8\"], [0.3333333333333333, \"#9c179e\"], [0.4444444444444444, \"#bd3786\"], [0.5555555555555556, \"#d8576b\"], [0.6666666666666666, \"#ed7953\"], [0.7777777777777778, \"#fb9f3a\"], [0.8888888888888888, \"#fdca26\"], [1.0, \"#f0f921\"]], \"type\": \"contour\"}], \"contourcarpet\": [{\"colorbar\": {\"outlinewidth\": 0, \"ticks\": \"\"}, \"type\": \"contourcarpet\"}], \"heatmap\": [{\"colorbar\": {\"outlinewidth\": 0, \"ticks\": \"\"}, \"colorscale\": [[0.0, \"#0d0887\"], [0.1111111111111111, \"#46039f\"], [0.2222222222222222, \"#7201a8\"], [0.3333333333333333, \"#9c179e\"], [0.4444444444444444, \"#bd3786\"], [0.5555555555555556, \"#d8576b\"], [0.6666666666666666, \"#ed7953\"], [0.7777777777777778, \"#fb9f3a\"], [0.8888888888888888, \"#fdca26\"], [1.0, \"#f0f921\"]], \"type\": \"heatmap\"}], \"heatmapgl\": [{\"colorbar\": {\"outlinewidth\": 0, \"ticks\": \"\"}, \"colorscale\": [[0.0, \"#0d0887\"], [0.1111111111111111, \"#46039f\"], [0.2222222222222222, \"#7201a8\"], [0.3333333333333333, \"#9c179e\"], [0.4444444444444444, \"#bd3786\"], [0.5555555555555556, \"#d8576b\"], [0.6666666666666666, \"#ed7953\"], [0.7777777777777778, \"#fb9f3a\"], [0.8888888888888888, \"#fdca26\"], [1.0, \"#f0f921\"]], \"type\": \"heatmapgl\"}], \"histogram\": [{\"marker\": {\"colorbar\": {\"outlinewidth\": 0, \"ticks\": \"\"}}, \"type\": \"histogram\"}], \"histogram2d\": [{\"colorbar\": {\"outlinewidth\": 0, \"ticks\": \"\"}, \"colorscale\": [[0.0, \"#0d0887\"], [0.1111111111111111, \"#46039f\"], [0.2222222222222222, \"#7201a8\"], [0.3333333333333333, \"#9c179e\"], [0.4444444444444444, \"#bd3786\"], [0.5555555555555556, \"#d8576b\"], [0.6666666666666666, \"#ed7953\"], [0.7777777777777778, \"#fb9f3a\"], [0.8888888888888888, \"#fdca26\"], [1.0, \"#f0f921\"]], \"type\": \"histogram2d\"}], \"histogram2dcontour\": [{\"colorbar\": {\"outlinewidth\": 0, \"ticks\": \"\"}, \"colorscale\": [[0.0, \"#0d0887\"], [0.1111111111111111, \"#46039f\"], [0.2222222222222222, \"#7201a8\"], [0.3333333333333333, \"#9c179e\"], [0.4444444444444444, \"#bd3786\"], [0.5555555555555556, \"#d8576b\"], [0.6666666666666666, \"#ed7953\"], [0.7777777777777778, \"#fb9f3a\"], [0.8888888888888888, \"#fdca26\"], [1.0, \"#f0f921\"]], \"type\": \"histogram2dcontour\"}], \"mesh3d\": [{\"colorbar\": {\"outlinewidth\": 0, \"ticks\": \"\"}, \"type\": \"mesh3d\"}], \"parcoords\": [{\"line\": {\"colorbar\": {\"outlinewidth\": 0, \"ticks\": \"\"}}, \"type\": \"parcoords\"}], \"pie\": [{\"automargin\": true, \"type\": \"pie\"}], \"scatter\": [{\"marker\": {\"colorbar\": {\"outlinewidth\": 0, \"ticks\": \"\"}}, \"type\": \"scatter\"}], \"scatter3d\": [{\"line\": {\"colorbar\": {\"outlinewidth\": 0, \"ticks\": \"\"}}, \"marker\": {\"colorbar\": {\"outlinewidth\": 0, \"ticks\": \"\"}}, \"type\": \"scatter3d\"}], \"scattercarpet\": [{\"marker\": {\"colorbar\": {\"outlinewidth\": 0, \"ticks\": \"\"}}, \"type\": \"scattercarpet\"}], \"scattergeo\": [{\"marker\": {\"colorbar\": {\"outlinewidth\": 0, \"ticks\": \"\"}}, \"type\": \"scattergeo\"}], \"scattergl\": [{\"marker\": {\"colorbar\": {\"outlinewidth\": 0, \"ticks\": \"\"}}, \"type\": \"scattergl\"}], \"scattermapbox\": [{\"marker\": {\"colorbar\": {\"outlinewidth\": 0, \"ticks\": \"\"}}, \"type\": \"scattermapbox\"}], \"scatterpolar\": [{\"marker\": {\"colorbar\": {\"outlinewidth\": 0, \"ticks\": \"\"}}, \"type\": \"scatterpolar\"}], \"scatterpolargl\": [{\"marker\": {\"colorbar\": {\"outlinewidth\": 0, \"ticks\": \"\"}}, \"type\": \"scatterpolargl\"}], \"scatterternary\": [{\"marker\": {\"colorbar\": {\"outlinewidth\": 0, \"ticks\": \"\"}}, \"type\": \"scatterternary\"}], \"surface\": [{\"colorbar\": {\"outlinewidth\": 0, \"ticks\": \"\"}, \"colorscale\": [[0.0, \"#0d0887\"], [0.1111111111111111, \"#46039f\"], [0.2222222222222222, \"#7201a8\"], [0.3333333333333333, \"#9c179e\"], [0.4444444444444444, \"#bd3786\"], [0.5555555555555556, \"#d8576b\"], [0.6666666666666666, \"#ed7953\"], [0.7777777777777778, \"#fb9f3a\"], [0.8888888888888888, \"#fdca26\"], [1.0, \"#f0f921\"]], \"type\": \"surface\"}], \"table\": [{\"cells\": {\"fill\": {\"color\": \"#EBF0F8\"}, \"line\": {\"color\": \"white\"}}, \"header\": {\"fill\": {\"color\": \"#C8D4E3\"}, \"line\": {\"color\": \"white\"}}, \"type\": \"table\"}]}, \"layout\": {\"annotationdefaults\": {\"arrowcolor\": \"#2a3f5f\", \"arrowhead\": 0, \"arrowwidth\": 1}, \"autotypenumbers\": \"strict\", \"coloraxis\": {\"colorbar\": {\"outlinewidth\": 0, \"ticks\": \"\"}}, \"colorscale\": {\"diverging\": [[0, \"#8e0152\"], [0.1, \"#c51b7d\"], [0.2, \"#de77ae\"], [0.3, \"#f1b6da\"], [0.4, \"#fde0ef\"], [0.5, \"#f7f7f7\"], [0.6, \"#e6f5d0\"], [0.7, \"#b8e186\"], [0.8, \"#7fbc41\"], [0.9, \"#4d9221\"], [1, \"#276419\"]], \"sequential\": [[0.0, \"#0d0887\"], [0.1111111111111111, \"#46039f\"], [0.2222222222222222, \"#7201a8\"], [0.3333333333333333, \"#9c179e\"], [0.4444444444444444, \"#bd3786\"], [0.5555555555555556, \"#d8576b\"], [0.6666666666666666, \"#ed7953\"], [0.7777777777777778, \"#fb9f3a\"], [0.8888888888888888, \"#fdca26\"], [1.0, \"#f0f921\"]], \"sequentialminus\": [[0.0, \"#0d0887\"], [0.1111111111111111, \"#46039f\"], [0.2222222222222222, \"#7201a8\"], [0.3333333333333333, \"#9c179e\"], [0.4444444444444444, \"#bd3786\"], [0.5555555555555556, \"#d8576b\"], [0.6666666666666666, \"#ed7953\"], [0.7777777777777778, \"#fb9f3a\"], [0.8888888888888888, \"#fdca26\"], [1.0, \"#f0f921\"]]}, \"colorway\": [\"#636efa\", \"#EF553B\", \"#00cc96\", \"#ab63fa\", \"#FFA15A\", \"#19d3f3\", \"#FF6692\", \"#B6E880\", \"#FF97FF\", \"#FECB52\"], \"font\": {\"color\": \"#2a3f5f\"}, \"geo\": {\"bgcolor\": \"white\", \"lakecolor\": \"white\", \"landcolor\": \"#E5ECF6\", \"showlakes\": true, \"showland\": true, \"subunitcolor\": \"white\"}, \"hoverlabel\": {\"align\": \"left\"}, \"hovermode\": \"closest\", \"mapbox\": {\"style\": \"light\"}, \"paper_bgcolor\": \"white\", \"plot_bgcolor\": \"#E5ECF6\", \"polar\": {\"angularaxis\": {\"gridcolor\": \"white\", \"linecolor\": \"white\", \"ticks\": \"\"}, \"bgcolor\": \"#E5ECF6\", \"radialaxis\": {\"gridcolor\": \"white\", \"linecolor\": \"white\", \"ticks\": \"\"}}, \"scene\": {\"xaxis\": {\"backgroundcolor\": \"#E5ECF6\", \"gridcolor\": \"white\", \"gridwidth\": 2, \"linecolor\": \"white\", \"showbackground\": true, \"ticks\": \"\", \"zerolinecolor\": \"white\"}, \"yaxis\": {\"backgroundcolor\": \"#E5ECF6\", \"gridcolor\": \"white\", \"gridwidth\": 2, \"linecolor\": \"white\", \"showbackground\": true, \"ticks\": \"\", \"zerolinecolor\": \"white\"}, \"zaxis\": {\"backgroundcolor\": \"#E5ECF6\", \"gridcolor\": \"white\", \"gridwidth\": 2, \"linecolor\": \"white\", \"showbackground\": true, \"ticks\": \"\", \"zerolinecolor\": \"white\"}}, \"shapedefaults\": {\"line\": {\"color\": \"#2a3f5f\"}}, \"ternary\": {\"aaxis\": {\"gridcolor\": \"white\", \"linecolor\": \"white\", \"ticks\": \"\"}, \"baxis\": {\"gridcolor\": \"white\", \"linecolor\": \"white\", \"ticks\": \"\"}, \"bgcolor\": \"#E5ECF6\", \"caxis\": {\"gridcolor\": \"white\", \"linecolor\": \"white\", \"ticks\": \"\"}}, \"title\": {\"x\": 0.05}, \"xaxis\": {\"automargin\": true, \"gridcolor\": \"white\", \"linecolor\": \"white\", \"ticks\": \"\", \"title\": {\"standoff\": 15}, \"zerolinecolor\": \"white\", \"zerolinewidth\": 2}, \"yaxis\": {\"automargin\": true, \"gridcolor\": \"white\", \"linecolor\": \"white\", \"ticks\": \"\", \"title\": {\"standoff\": 15}, \"zerolinecolor\": \"white\", \"zerolinewidth\": 2}}}},                        {\"responsive\": true}                    ).then(function(){\n",
       "                            \n",
       "var gd = document.getElementById('475add79-630a-4fb7-a453-fcf4d22a12e8');\n",
       "var x = new MutationObserver(function (mutations, observer) {{\n",
       "        var display = window.getComputedStyle(gd).display;\n",
       "        if (!display || display === 'none') {{\n",
       "            console.log([gd, 'removed!']);\n",
       "            Plotly.purge(gd);\n",
       "            observer.disconnect();\n",
       "        }}\n",
       "}});\n",
       "\n",
       "// Listen for the removal of the full notebook cells\n",
       "var notebookContainer = gd.closest('#notebook-container');\n",
       "if (notebookContainer) {{\n",
       "    x.observe(notebookContainer, {childList: true});\n",
       "}}\n",
       "\n",
       "// Listen for the clearing of the current output cell\n",
       "var outputEl = gd.closest('.output');\n",
       "if (outputEl) {{\n",
       "    x.observe(outputEl, {childList: true});\n",
       "}}\n",
       "\n",
       "                        })                };                });            </script>        </div>"
      ]
     },
     "metadata": {},
     "output_type": "display_data"
    }
   ],
   "source": [
    "fig = go.Figure()\n",
    "\n",
    "fig.add_trace(\n",
    "    go.Scatter(\n",
    "        x = X,\n",
    "        y = Y,\n",
    "        name = 'model'\n",
    "    )\n",
    ")\n",
    "\n",
    "# fig.add_trace(\n",
    "#     go.Scatter(\n",
    "#         x = X,\n",
    "#         y = 0.5 + 0.5*X,\n",
    "#         name = 'plane 1'\n",
    "#     )\n",
    "# )\n",
    "\n",
    "# fig.add_trace(\n",
    "#     go.Scatter(\n",
    "#         x = X,\n",
    "#         y = 0.5 + X,\n",
    "#         name = 'plane 2'\n",
    "#     )\n",
    "# )\n",
    "\n",
    "# fig.add_trace(\n",
    "#     go.Scatter(\n",
    "#         x = X,\n",
    "#         y = 1 + 1.5*X,\n",
    "#         name = 'plane 1 + plane 2'\n",
    "#     )\n",
    "# )\n",
    "\n",
    "fig.show()"
   ]
  },
  {
   "cell_type": "markdown",
   "id": "bibliographic-explorer",
   "metadata": {},
   "source": [
    "# Using sigmoid activation function"
   ]
  },
  {
   "cell_type": "code",
   "execution_count": 106,
   "id": "forward-upgrade",
   "metadata": {},
   "outputs": [],
   "source": [
    "def sigmoid(x):\n",
    "    return np.exp(x)/(1 + np.exp(x))"
   ]
  },
  {
   "cell_type": "code",
   "execution_count": 114,
   "id": "floppy-florence",
   "metadata": {},
   "outputs": [],
   "source": [
    "X = np.linspace(-2, 2, 101)\n",
    "Y = [feedforward(np.array([1, i]), sigmoid) for i in X]\n",
    "\n",
    "Y1 = sigmoid(0.5 + 0.5*X)\n",
    "Y2 = sigmoid(0.5 + X)\n",
    "Y3 = Y1 + Y2"
   ]
  },
  {
   "cell_type": "code",
   "execution_count": 115,
   "id": "funky-madonna",
   "metadata": {},
   "outputs": [
    {
     "data": {
      "application/vnd.plotly.v1+json": {
       "config": {
        "plotlyServerURL": "https://plot.ly"
       },
       "data": [
        {
         "name": "model",
         "type": "scatter",
         "x": [
          -2,
          -1.96,
          -1.92,
          -1.88,
          -1.84,
          -1.8,
          -1.76,
          -1.72,
          -1.68,
          -1.6400000000000001,
          -1.6,
          -1.56,
          -1.52,
          -1.48,
          -1.44,
          -1.4,
          -1.3599999999999999,
          -1.3199999999999998,
          -1.28,
          -1.24,
          -1.2,
          -1.1600000000000001,
          -1.12,
          -1.08,
          -1.04,
          -1,
          -0.96,
          -0.9199999999999999,
          -0.8799999999999999,
          -0.8400000000000001,
          -0.8,
          -0.76,
          -0.72,
          -0.6799999999999999,
          -0.6399999999999999,
          -0.5999999999999999,
          -0.56,
          -0.52,
          -0.48,
          -0.43999999999999995,
          -0.3999999999999999,
          -0.3599999999999999,
          -0.32000000000000006,
          -0.28,
          -0.24,
          -0.19999999999999996,
          -0.15999999999999992,
          -0.11999999999999988,
          -0.08000000000000007,
          -0.040000000000000036,
          0,
          0.040000000000000036,
          0.08000000000000007,
          0.1200000000000001,
          0.16000000000000014,
          0.20000000000000018,
          0.2400000000000002,
          0.28000000000000025,
          0.31999999999999984,
          0.3599999999999999,
          0.3999999999999999,
          0.43999999999999995,
          0.48,
          0.52,
          0.56,
          0.6000000000000001,
          0.6400000000000001,
          0.6800000000000002,
          0.7200000000000002,
          0.7600000000000002,
          0.8000000000000003,
          0.8399999999999999,
          0.8799999999999999,
          0.9199999999999999,
          0.96,
          1,
          1.04,
          1.08,
          1.12,
          1.1600000000000001,
          1.2000000000000002,
          1.2400000000000002,
          1.2800000000000002,
          1.3200000000000003,
          1.3599999999999999,
          1.4,
          1.44,
          1.48,
          1.52,
          1.56,
          1.6,
          1.6400000000000001,
          1.6800000000000002,
          1.7200000000000002,
          1.7600000000000002,
          1.8000000000000003,
          1.8399999999999999,
          1.88,
          1.92,
          1.96,
          2
         ],
         "y": [
          0.5599661926045018,
          0.5707194504445704,
          0.5816474074522424,
          0.592749969004015,
          0.6040268086949093,
          0.6154773568449894,
          0.6271007892860452,
          0.6388960165145512,
          0.6508616733008279,
          0.6629961088475457,
          0.6752973775932234,
          0.6877632307580852,
          0.700391108730452,
          0.7131781343916777,
          0.7261211074764015,
          0.7392165000625182,
          0.7524604532816885,
          0.7658487753364038,
          0.7793769409035316,
          0.7930400919969052,
          0.8068330403528939,
          0.8207502713930328,
          0.8347859498067629,
          0.8489339267852175,
          0.8631877489238986,
          0.8775406687981455,
          0.8919856572006644,
          0.9065154170152392,
          0.9211223986852675,
          0.9357988172201743,
          0.9505366706672809,
          0.9653277599615426,
          0.9801637100509998,
          0.9950359921819857,
          1.0099359472153655,
          1.024854809833538,
          1.0397837334878046,
          1.0547138159271932,
          1.0696361251430289,
          1.0845417255586391,
          1.0994217042905992,
          1.114267197306964,
          1.1290694153089875,
          1.1438196691658797,
          1.1585093947371718,
          1.173130176924111,
          1.1876737728001339,
          1.2021321336806572,
          1.2164974260040617,
          1.2307620509085844,
          1.2449186624037092,
          1.2589601840492972,
          1.2728798240709187,
          1.2866710888553934,
          1.3003277947862024,
          1.3138440783939616,
          1.3272144048123502,
          1.3404335745445732,
          1.353496728559416,
          1.366399351749084,
          1.37913727479317,
          1.3917066744841442,
          1.4041040725796525,
          1.4163263332555442,
          1.4283706592409395,
          1.4402345867227302,
          1.4519159791117353,
          1.4634130197663033,
          1.4747242037715154,
          1.48584832887338,
          1.4967844856675625,
          1.507532047141354,
          1.5180906576658544,
          1.528460221532812,
          1.5386408911273102,
          1.5486330548236484,
          1.5584373246874021,
          1.5680545240618744,
          1.5774856751120712,
          1.586731986393993,
          1.595794840511583,
          1.6046757819181043,
          1.613376504913186,
          1.6218988418812605,
          1.6302447518117367,
          1.6384163091360198,
          1.646415692911438,
          1.6542451763773367,
          1.6619071169040316,
          1.6694039463510335,
          1.6767381618469457,
          1.6839123169997432,
          1.690929013542728,
          1.6977908934183543,
          1.7045006312993114,
          1.7110609275437256,
          1.7174745015791208,
          1.7237440857077968,
          1.729872419324586,
          1.7358622435364826,
          1.7417162961724002
         ]
        },
        {
         "name": "curve 1",
         "type": "scatter",
         "x": [
          -2,
          -1.96,
          -1.92,
          -1.88,
          -1.84,
          -1.8,
          -1.76,
          -1.72,
          -1.68,
          -1.6400000000000001,
          -1.6,
          -1.56,
          -1.52,
          -1.48,
          -1.44,
          -1.4,
          -1.3599999999999999,
          -1.3199999999999998,
          -1.28,
          -1.24,
          -1.2,
          -1.1600000000000001,
          -1.12,
          -1.08,
          -1.04,
          -1,
          -0.96,
          -0.9199999999999999,
          -0.8799999999999999,
          -0.8400000000000001,
          -0.8,
          -0.76,
          -0.72,
          -0.6799999999999999,
          -0.6399999999999999,
          -0.5999999999999999,
          -0.56,
          -0.52,
          -0.48,
          -0.43999999999999995,
          -0.3999999999999999,
          -0.3599999999999999,
          -0.32000000000000006,
          -0.28,
          -0.24,
          -0.19999999999999996,
          -0.15999999999999992,
          -0.11999999999999988,
          -0.08000000000000007,
          -0.040000000000000036,
          0,
          0.040000000000000036,
          0.08000000000000007,
          0.1200000000000001,
          0.16000000000000014,
          0.20000000000000018,
          0.2400000000000002,
          0.28000000000000025,
          0.31999999999999984,
          0.3599999999999999,
          0.3999999999999999,
          0.43999999999999995,
          0.48,
          0.52,
          0.56,
          0.6000000000000001,
          0.6400000000000001,
          0.6800000000000002,
          0.7200000000000002,
          0.7600000000000002,
          0.8000000000000003,
          0.8399999999999999,
          0.8799999999999999,
          0.9199999999999999,
          0.96,
          1,
          1.04,
          1.08,
          1.12,
          1.1600000000000001,
          1.2000000000000002,
          1.2400000000000002,
          1.2800000000000002,
          1.3200000000000003,
          1.3599999999999999,
          1.4,
          1.44,
          1.48,
          1.52,
          1.56,
          1.6,
          1.6400000000000001,
          1.6800000000000002,
          1.7200000000000002,
          1.7600000000000002,
          1.8000000000000003,
          1.8399999999999999,
          1.88,
          1.92,
          1.96,
          2
         ],
         "y": [
          0.37754066879814546,
          0.38225212523075097,
          0.38698582386066455,
          0.39174096925348556,
          0.3965167501352737,
          0.401312339887548,
          0.4061268970658573,
          0.41095956594133487,
          0.41580947706459265,
          0.42067574785125056,
          0.425557483188341,
          0.430453776060771,
          0.43536370819697084,
          0.4402863507328071,
          0.4452207648927853,
          0.4501660026875221,
          0.45512110762642,
          0.46008511544443437,
          0.4650570548417855,
          0.4700359482354282,
          0.47502081252106,
          0.4800106598444182,
          0.4850044983805899,
          0.4900013331200346,
          0.49500016666000024,
          0.5,
          0.5049998333399998,
          0.5099986668799655,
          0.5149955016194101,
          0.5199893401555817,
          0.5249791874789399,
          0.5299640517645717,
          0.5349429451582145,
          0.5399148845555657,
          0.54487889237358,
          0.549833997312478,
          0.5547792351072147,
          0.5597136492671929,
          0.5646362918030291,
          0.5695462239392289,
          0.574442516811659,
          0.5793242521487495,
          0.5841905229354074,
          0.589040434058665,
          0.5938731029341426,
          0.598687660112452,
          0.6034832498647263,
          0.6082590307465144,
          0.6130141761393355,
          0.617747874769249,
          0.6224593312018546,
          0.6271477663131956,
          0.6318124177361016,
          0.6364525402815664,
          0.6410674063348171,
          0.6456563062257955,
          0.6502185485738271,
          0.6547534606063192,
          0.6592603884513855,
          0.6637386974043527,
          0.6681877721681662,
          0.6726070170677604,
          0.676995856238523,
          0.6813537337890255,
          0.6856801139382538,
          0.6899744811276125,
          0.6942363401080306,
          0.6984652160025387,
          0.7026606543447315,
          0.7068222210935676,
          0.710949502625004,
          0.7150421057009897,
          0.7190996574163838,
          0.7231218051243898,
          0.7271082163411295,
          0.7310585786300049,
          0.7349725994665188,
          0.738850006084249,
          0.7426905453026857,
          0.7464939833376621,
          0.7502601055951176,
          0.753988716448948,
          0.7576796390037048,
          0.7613327148429104,
          0.7649478037637647,
          0.7685247834990176,
          0.7720635494267837,
          0.7755640142690734,
          0.7790261077798122,
          0.7824497764231125,
          0.7858349830425586,
          0.789181706522253,
          0.7924899414403644,
          0.7957596977159083,
          0.7989910002494707,
          0.8021838885585818,
          0.8053384164084221,
          0.8084546514385325,
          0.8115326747861805,
          0.8145725807070178,
          0.8175744761936437
         ]
        },
        {
         "name": "curve 2",
         "type": "scatter",
         "x": [
          -2,
          -1.96,
          -1.92,
          -1.88,
          -1.84,
          -1.8,
          -1.76,
          -1.72,
          -1.68,
          -1.6400000000000001,
          -1.6,
          -1.56,
          -1.52,
          -1.48,
          -1.44,
          -1.4,
          -1.3599999999999999,
          -1.3199999999999998,
          -1.28,
          -1.24,
          -1.2,
          -1.1600000000000001,
          -1.12,
          -1.08,
          -1.04,
          -1,
          -0.96,
          -0.9199999999999999,
          -0.8799999999999999,
          -0.8400000000000001,
          -0.8,
          -0.76,
          -0.72,
          -0.6799999999999999,
          -0.6399999999999999,
          -0.5999999999999999,
          -0.56,
          -0.52,
          -0.48,
          -0.43999999999999995,
          -0.3999999999999999,
          -0.3599999999999999,
          -0.32000000000000006,
          -0.28,
          -0.24,
          -0.19999999999999996,
          -0.15999999999999992,
          -0.11999999999999988,
          -0.08000000000000007,
          -0.040000000000000036,
          0,
          0.040000000000000036,
          0.08000000000000007,
          0.1200000000000001,
          0.16000000000000014,
          0.20000000000000018,
          0.2400000000000002,
          0.28000000000000025,
          0.31999999999999984,
          0.3599999999999999,
          0.3999999999999999,
          0.43999999999999995,
          0.48,
          0.52,
          0.56,
          0.6000000000000001,
          0.6400000000000001,
          0.6800000000000002,
          0.7200000000000002,
          0.7600000000000002,
          0.8000000000000003,
          0.8399999999999999,
          0.8799999999999999,
          0.9199999999999999,
          0.96,
          1,
          1.04,
          1.08,
          1.12,
          1.1600000000000001,
          1.2000000000000002,
          1.2400000000000002,
          1.2800000000000002,
          1.3200000000000003,
          1.3599999999999999,
          1.4,
          1.44,
          1.48,
          1.52,
          1.56,
          1.6,
          1.6400000000000001,
          1.6800000000000002,
          1.7200000000000002,
          1.7600000000000002,
          1.8000000000000003,
          1.8399999999999999,
          1.88,
          1.92,
          1.96,
          2
         ],
         "y": [
          0.18242552380635632,
          0.18846732521381945,
          0.19466158359157792,
          0.20100899975052938,
          0.2075100585596356,
          0.2141650169574414,
          0.22097389222018782,
          0.22793645057321626,
          0.2350521962362353,
          0.24232036099629514,
          0.2497398944048824,
          0.2573094546973142,
          0.26502740053348117,
          0.2728917836588705,
          0.2809003425836162,
          0.28905049737499605,
          0.29733934565526854,
          0.3057636598919695,
          0.31431988606174616,
          0.323004143761477,
          0.33181222783183395,
          0.34073961154861454,
          0.34978145142617295,
          0.35893259366518293,
          0.3681875822638983,
          0.37754066879814546,
          0.38698582386066455,
          0.3965167501352737,
          0.40612689706585736,
          0.41580947706459265,
          0.425557483188341,
          0.43536370819697084,
          0.4452207648927853,
          0.45512110762642,
          0.4650570548417855,
          0.47502081252106004,
          0.4850044983805899,
          0.49500016666000024,
          0.5049998333399998,
          0.5149955016194101,
          0.52497918747894,
          0.5349429451582145,
          0.54487889237358,
          0.5547792351072147,
          0.5646362918030291,
          0.574442516811659,
          0.5841905229354074,
          0.5938731029341427,
          0.6034832498647262,
          0.6130141761393355,
          0.6224593312018546,
          0.6318124177361016,
          0.6410674063348171,
          0.6502185485738271,
          0.6592603884513855,
          0.6681877721681662,
          0.6769958562385231,
          0.6856801139382539,
          0.6942363401080305,
          0.7026606543447315,
          0.7109495026250039,
          0.7190996574163838,
          0.7271082163411295,
          0.7349725994665188,
          0.7426905453026857,
          0.7502601055951176,
          0.7576796390037048,
          0.7649478037637647,
          0.7720635494267838,
          0.7790261077798122,
          0.7858349830425586,
          0.7924899414403643,
          0.7989910002494706,
          0.8053384164084221,
          0.8115326747861805,
          0.8175744761936437,
          0.8234647252208833,
          0.8292045179776255,
          0.8347951298093854,
          0.840238003056331,
          0.8455347349164654,
          0.8506870654691563,
          0.8556968659094814,
          0.86056612703835,
          0.8652969480479719,
          0.8698915256370021,
          0.8743521434846543,
          0.8786811621082632,
          0.8828810091242195,
          0.8869541699279211,
          0.8909031788043871,
          0.8947306104774903,
          0.8984390721023634,
          0.902031195702446,
          0.9055096310498407,
          0.9088770389851439,
          0.9121360851706988,
          0.9152894342692642,
          0.9183397445384054,
          0.9212896628294648,
          0.9241418199787564
         ]
        },
        {
         "name": "curve 1 + curve 2",
         "type": "scatter",
         "x": [
          -2,
          -1.96,
          -1.92,
          -1.88,
          -1.84,
          -1.8,
          -1.76,
          -1.72,
          -1.68,
          -1.6400000000000001,
          -1.6,
          -1.56,
          -1.52,
          -1.48,
          -1.44,
          -1.4,
          -1.3599999999999999,
          -1.3199999999999998,
          -1.28,
          -1.24,
          -1.2,
          -1.1600000000000001,
          -1.12,
          -1.08,
          -1.04,
          -1,
          -0.96,
          -0.9199999999999999,
          -0.8799999999999999,
          -0.8400000000000001,
          -0.8,
          -0.76,
          -0.72,
          -0.6799999999999999,
          -0.6399999999999999,
          -0.5999999999999999,
          -0.56,
          -0.52,
          -0.48,
          -0.43999999999999995,
          -0.3999999999999999,
          -0.3599999999999999,
          -0.32000000000000006,
          -0.28,
          -0.24,
          -0.19999999999999996,
          -0.15999999999999992,
          -0.11999999999999988,
          -0.08000000000000007,
          -0.040000000000000036,
          0,
          0.040000000000000036,
          0.08000000000000007,
          0.1200000000000001,
          0.16000000000000014,
          0.20000000000000018,
          0.2400000000000002,
          0.28000000000000025,
          0.31999999999999984,
          0.3599999999999999,
          0.3999999999999999,
          0.43999999999999995,
          0.48,
          0.52,
          0.56,
          0.6000000000000001,
          0.6400000000000001,
          0.6800000000000002,
          0.7200000000000002,
          0.7600000000000002,
          0.8000000000000003,
          0.8399999999999999,
          0.8799999999999999,
          0.9199999999999999,
          0.96,
          1,
          1.04,
          1.08,
          1.12,
          1.1600000000000001,
          1.2000000000000002,
          1.2400000000000002,
          1.2800000000000002,
          1.3200000000000003,
          1.3599999999999999,
          1.4,
          1.44,
          1.48,
          1.52,
          1.56,
          1.6,
          1.6400000000000001,
          1.6800000000000002,
          1.7200000000000002,
          1.7600000000000002,
          1.8000000000000003,
          1.8399999999999999,
          1.88,
          1.92,
          1.96,
          2
         ],
         "y": [
          0.5599661926045018,
          0.5707194504445704,
          0.5816474074522424,
          0.592749969004015,
          0.6040268086949093,
          0.6154773568449894,
          0.6271007892860452,
          0.6388960165145512,
          0.6508616733008279,
          0.6629961088475457,
          0.6752973775932234,
          0.6877632307580852,
          0.700391108730452,
          0.7131781343916777,
          0.7261211074764015,
          0.7392165000625182,
          0.7524604532816885,
          0.7658487753364038,
          0.7793769409035316,
          0.7930400919969052,
          0.8068330403528939,
          0.8207502713930328,
          0.8347859498067629,
          0.8489339267852175,
          0.8631877489238986,
          0.8775406687981455,
          0.8919856572006644,
          0.9065154170152392,
          0.9211223986852675,
          0.9357988172201743,
          0.9505366706672809,
          0.9653277599615426,
          0.9801637100509998,
          0.9950359921819857,
          1.0099359472153655,
          1.024854809833538,
          1.0397837334878046,
          1.0547138159271932,
          1.0696361251430289,
          1.0845417255586391,
          1.0994217042905992,
          1.114267197306964,
          1.1290694153089875,
          1.1438196691658797,
          1.1585093947371718,
          1.173130176924111,
          1.1876737728001339,
          1.2021321336806572,
          1.2164974260040617,
          1.2307620509085844,
          1.2449186624037092,
          1.2589601840492972,
          1.2728798240709187,
          1.2866710888553934,
          1.3003277947862024,
          1.3138440783939616,
          1.3272144048123502,
          1.3404335745445732,
          1.353496728559416,
          1.366399351749084,
          1.37913727479317,
          1.3917066744841442,
          1.4041040725796525,
          1.4163263332555442,
          1.4283706592409395,
          1.4402345867227302,
          1.4519159791117353,
          1.4634130197663033,
          1.4747242037715154,
          1.48584832887338,
          1.4967844856675625,
          1.507532047141354,
          1.5180906576658544,
          1.528460221532812,
          1.5386408911273102,
          1.5486330548236484,
          1.5584373246874021,
          1.5680545240618744,
          1.5774856751120712,
          1.586731986393993,
          1.595794840511583,
          1.6046757819181043,
          1.613376504913186,
          1.6218988418812605,
          1.6302447518117367,
          1.6384163091360198,
          1.646415692911438,
          1.6542451763773367,
          1.6619071169040316,
          1.6694039463510335,
          1.6767381618469457,
          1.6839123169997432,
          1.690929013542728,
          1.6977908934183543,
          1.7045006312993114,
          1.7110609275437256,
          1.7174745015791208,
          1.7237440857077968,
          1.729872419324586,
          1.7358622435364826,
          1.7417162961724002
         ]
        }
       ],
       "layout": {
        "template": {
         "data": {
          "bar": [
           {
            "error_x": {
             "color": "#2a3f5f"
            },
            "error_y": {
             "color": "#2a3f5f"
            },
            "marker": {
             "line": {
              "color": "#E5ECF6",
              "width": 0.5
             }
            },
            "type": "bar"
           }
          ],
          "barpolar": [
           {
            "marker": {
             "line": {
              "color": "#E5ECF6",
              "width": 0.5
             }
            },
            "type": "barpolar"
           }
          ],
          "carpet": [
           {
            "aaxis": {
             "endlinecolor": "#2a3f5f",
             "gridcolor": "white",
             "linecolor": "white",
             "minorgridcolor": "white",
             "startlinecolor": "#2a3f5f"
            },
            "baxis": {
             "endlinecolor": "#2a3f5f",
             "gridcolor": "white",
             "linecolor": "white",
             "minorgridcolor": "white",
             "startlinecolor": "#2a3f5f"
            },
            "type": "carpet"
           }
          ],
          "choropleth": [
           {
            "colorbar": {
             "outlinewidth": 0,
             "ticks": ""
            },
            "type": "choropleth"
           }
          ],
          "contour": [
           {
            "colorbar": {
             "outlinewidth": 0,
             "ticks": ""
            },
            "colorscale": [
             [
              0,
              "#0d0887"
             ],
             [
              0.1111111111111111,
              "#46039f"
             ],
             [
              0.2222222222222222,
              "#7201a8"
             ],
             [
              0.3333333333333333,
              "#9c179e"
             ],
             [
              0.4444444444444444,
              "#bd3786"
             ],
             [
              0.5555555555555556,
              "#d8576b"
             ],
             [
              0.6666666666666666,
              "#ed7953"
             ],
             [
              0.7777777777777778,
              "#fb9f3a"
             ],
             [
              0.8888888888888888,
              "#fdca26"
             ],
             [
              1,
              "#f0f921"
             ]
            ],
            "type": "contour"
           }
          ],
          "contourcarpet": [
           {
            "colorbar": {
             "outlinewidth": 0,
             "ticks": ""
            },
            "type": "contourcarpet"
           }
          ],
          "heatmap": [
           {
            "colorbar": {
             "outlinewidth": 0,
             "ticks": ""
            },
            "colorscale": [
             [
              0,
              "#0d0887"
             ],
             [
              0.1111111111111111,
              "#46039f"
             ],
             [
              0.2222222222222222,
              "#7201a8"
             ],
             [
              0.3333333333333333,
              "#9c179e"
             ],
             [
              0.4444444444444444,
              "#bd3786"
             ],
             [
              0.5555555555555556,
              "#d8576b"
             ],
             [
              0.6666666666666666,
              "#ed7953"
             ],
             [
              0.7777777777777778,
              "#fb9f3a"
             ],
             [
              0.8888888888888888,
              "#fdca26"
             ],
             [
              1,
              "#f0f921"
             ]
            ],
            "type": "heatmap"
           }
          ],
          "heatmapgl": [
           {
            "colorbar": {
             "outlinewidth": 0,
             "ticks": ""
            },
            "colorscale": [
             [
              0,
              "#0d0887"
             ],
             [
              0.1111111111111111,
              "#46039f"
             ],
             [
              0.2222222222222222,
              "#7201a8"
             ],
             [
              0.3333333333333333,
              "#9c179e"
             ],
             [
              0.4444444444444444,
              "#bd3786"
             ],
             [
              0.5555555555555556,
              "#d8576b"
             ],
             [
              0.6666666666666666,
              "#ed7953"
             ],
             [
              0.7777777777777778,
              "#fb9f3a"
             ],
             [
              0.8888888888888888,
              "#fdca26"
             ],
             [
              1,
              "#f0f921"
             ]
            ],
            "type": "heatmapgl"
           }
          ],
          "histogram": [
           {
            "marker": {
             "colorbar": {
              "outlinewidth": 0,
              "ticks": ""
             }
            },
            "type": "histogram"
           }
          ],
          "histogram2d": [
           {
            "colorbar": {
             "outlinewidth": 0,
             "ticks": ""
            },
            "colorscale": [
             [
              0,
              "#0d0887"
             ],
             [
              0.1111111111111111,
              "#46039f"
             ],
             [
              0.2222222222222222,
              "#7201a8"
             ],
             [
              0.3333333333333333,
              "#9c179e"
             ],
             [
              0.4444444444444444,
              "#bd3786"
             ],
             [
              0.5555555555555556,
              "#d8576b"
             ],
             [
              0.6666666666666666,
              "#ed7953"
             ],
             [
              0.7777777777777778,
              "#fb9f3a"
             ],
             [
              0.8888888888888888,
              "#fdca26"
             ],
             [
              1,
              "#f0f921"
             ]
            ],
            "type": "histogram2d"
           }
          ],
          "histogram2dcontour": [
           {
            "colorbar": {
             "outlinewidth": 0,
             "ticks": ""
            },
            "colorscale": [
             [
              0,
              "#0d0887"
             ],
             [
              0.1111111111111111,
              "#46039f"
             ],
             [
              0.2222222222222222,
              "#7201a8"
             ],
             [
              0.3333333333333333,
              "#9c179e"
             ],
             [
              0.4444444444444444,
              "#bd3786"
             ],
             [
              0.5555555555555556,
              "#d8576b"
             ],
             [
              0.6666666666666666,
              "#ed7953"
             ],
             [
              0.7777777777777778,
              "#fb9f3a"
             ],
             [
              0.8888888888888888,
              "#fdca26"
             ],
             [
              1,
              "#f0f921"
             ]
            ],
            "type": "histogram2dcontour"
           }
          ],
          "mesh3d": [
           {
            "colorbar": {
             "outlinewidth": 0,
             "ticks": ""
            },
            "type": "mesh3d"
           }
          ],
          "parcoords": [
           {
            "line": {
             "colorbar": {
              "outlinewidth": 0,
              "ticks": ""
             }
            },
            "type": "parcoords"
           }
          ],
          "pie": [
           {
            "automargin": true,
            "type": "pie"
           }
          ],
          "scatter": [
           {
            "marker": {
             "colorbar": {
              "outlinewidth": 0,
              "ticks": ""
             }
            },
            "type": "scatter"
           }
          ],
          "scatter3d": [
           {
            "line": {
             "colorbar": {
              "outlinewidth": 0,
              "ticks": ""
             }
            },
            "marker": {
             "colorbar": {
              "outlinewidth": 0,
              "ticks": ""
             }
            },
            "type": "scatter3d"
           }
          ],
          "scattercarpet": [
           {
            "marker": {
             "colorbar": {
              "outlinewidth": 0,
              "ticks": ""
             }
            },
            "type": "scattercarpet"
           }
          ],
          "scattergeo": [
           {
            "marker": {
             "colorbar": {
              "outlinewidth": 0,
              "ticks": ""
             }
            },
            "type": "scattergeo"
           }
          ],
          "scattergl": [
           {
            "marker": {
             "colorbar": {
              "outlinewidth": 0,
              "ticks": ""
             }
            },
            "type": "scattergl"
           }
          ],
          "scattermapbox": [
           {
            "marker": {
             "colorbar": {
              "outlinewidth": 0,
              "ticks": ""
             }
            },
            "type": "scattermapbox"
           }
          ],
          "scatterpolar": [
           {
            "marker": {
             "colorbar": {
              "outlinewidth": 0,
              "ticks": ""
             }
            },
            "type": "scatterpolar"
           }
          ],
          "scatterpolargl": [
           {
            "marker": {
             "colorbar": {
              "outlinewidth": 0,
              "ticks": ""
             }
            },
            "type": "scatterpolargl"
           }
          ],
          "scatterternary": [
           {
            "marker": {
             "colorbar": {
              "outlinewidth": 0,
              "ticks": ""
             }
            },
            "type": "scatterternary"
           }
          ],
          "surface": [
           {
            "colorbar": {
             "outlinewidth": 0,
             "ticks": ""
            },
            "colorscale": [
             [
              0,
              "#0d0887"
             ],
             [
              0.1111111111111111,
              "#46039f"
             ],
             [
              0.2222222222222222,
              "#7201a8"
             ],
             [
              0.3333333333333333,
              "#9c179e"
             ],
             [
              0.4444444444444444,
              "#bd3786"
             ],
             [
              0.5555555555555556,
              "#d8576b"
             ],
             [
              0.6666666666666666,
              "#ed7953"
             ],
             [
              0.7777777777777778,
              "#fb9f3a"
             ],
             [
              0.8888888888888888,
              "#fdca26"
             ],
             [
              1,
              "#f0f921"
             ]
            ],
            "type": "surface"
           }
          ],
          "table": [
           {
            "cells": {
             "fill": {
              "color": "#EBF0F8"
             },
             "line": {
              "color": "white"
             }
            },
            "header": {
             "fill": {
              "color": "#C8D4E3"
             },
             "line": {
              "color": "white"
             }
            },
            "type": "table"
           }
          ]
         },
         "layout": {
          "annotationdefaults": {
           "arrowcolor": "#2a3f5f",
           "arrowhead": 0,
           "arrowwidth": 1
          },
          "autotypenumbers": "strict",
          "coloraxis": {
           "colorbar": {
            "outlinewidth": 0,
            "ticks": ""
           }
          },
          "colorscale": {
           "diverging": [
            [
             0,
             "#8e0152"
            ],
            [
             0.1,
             "#c51b7d"
            ],
            [
             0.2,
             "#de77ae"
            ],
            [
             0.3,
             "#f1b6da"
            ],
            [
             0.4,
             "#fde0ef"
            ],
            [
             0.5,
             "#f7f7f7"
            ],
            [
             0.6,
             "#e6f5d0"
            ],
            [
             0.7,
             "#b8e186"
            ],
            [
             0.8,
             "#7fbc41"
            ],
            [
             0.9,
             "#4d9221"
            ],
            [
             1,
             "#276419"
            ]
           ],
           "sequential": [
            [
             0,
             "#0d0887"
            ],
            [
             0.1111111111111111,
             "#46039f"
            ],
            [
             0.2222222222222222,
             "#7201a8"
            ],
            [
             0.3333333333333333,
             "#9c179e"
            ],
            [
             0.4444444444444444,
             "#bd3786"
            ],
            [
             0.5555555555555556,
             "#d8576b"
            ],
            [
             0.6666666666666666,
             "#ed7953"
            ],
            [
             0.7777777777777778,
             "#fb9f3a"
            ],
            [
             0.8888888888888888,
             "#fdca26"
            ],
            [
             1,
             "#f0f921"
            ]
           ],
           "sequentialminus": [
            [
             0,
             "#0d0887"
            ],
            [
             0.1111111111111111,
             "#46039f"
            ],
            [
             0.2222222222222222,
             "#7201a8"
            ],
            [
             0.3333333333333333,
             "#9c179e"
            ],
            [
             0.4444444444444444,
             "#bd3786"
            ],
            [
             0.5555555555555556,
             "#d8576b"
            ],
            [
             0.6666666666666666,
             "#ed7953"
            ],
            [
             0.7777777777777778,
             "#fb9f3a"
            ],
            [
             0.8888888888888888,
             "#fdca26"
            ],
            [
             1,
             "#f0f921"
            ]
           ]
          },
          "colorway": [
           "#636efa",
           "#EF553B",
           "#00cc96",
           "#ab63fa",
           "#FFA15A",
           "#19d3f3",
           "#FF6692",
           "#B6E880",
           "#FF97FF",
           "#FECB52"
          ],
          "font": {
           "color": "#2a3f5f"
          },
          "geo": {
           "bgcolor": "white",
           "lakecolor": "white",
           "landcolor": "#E5ECF6",
           "showlakes": true,
           "showland": true,
           "subunitcolor": "white"
          },
          "hoverlabel": {
           "align": "left"
          },
          "hovermode": "closest",
          "mapbox": {
           "style": "light"
          },
          "paper_bgcolor": "white",
          "plot_bgcolor": "#E5ECF6",
          "polar": {
           "angularaxis": {
            "gridcolor": "white",
            "linecolor": "white",
            "ticks": ""
           },
           "bgcolor": "#E5ECF6",
           "radialaxis": {
            "gridcolor": "white",
            "linecolor": "white",
            "ticks": ""
           }
          },
          "scene": {
           "xaxis": {
            "backgroundcolor": "#E5ECF6",
            "gridcolor": "white",
            "gridwidth": 2,
            "linecolor": "white",
            "showbackground": true,
            "ticks": "",
            "zerolinecolor": "white"
           },
           "yaxis": {
            "backgroundcolor": "#E5ECF6",
            "gridcolor": "white",
            "gridwidth": 2,
            "linecolor": "white",
            "showbackground": true,
            "ticks": "",
            "zerolinecolor": "white"
           },
           "zaxis": {
            "backgroundcolor": "#E5ECF6",
            "gridcolor": "white",
            "gridwidth": 2,
            "linecolor": "white",
            "showbackground": true,
            "ticks": "",
            "zerolinecolor": "white"
           }
          },
          "shapedefaults": {
           "line": {
            "color": "#2a3f5f"
           }
          },
          "ternary": {
           "aaxis": {
            "gridcolor": "white",
            "linecolor": "white",
            "ticks": ""
           },
           "baxis": {
            "gridcolor": "white",
            "linecolor": "white",
            "ticks": ""
           },
           "bgcolor": "#E5ECF6",
           "caxis": {
            "gridcolor": "white",
            "linecolor": "white",
            "ticks": ""
           }
          },
          "title": {
           "x": 0.05
          },
          "xaxis": {
           "automargin": true,
           "gridcolor": "white",
           "linecolor": "white",
           "ticks": "",
           "title": {
            "standoff": 15
           },
           "zerolinecolor": "white",
           "zerolinewidth": 2
          },
          "yaxis": {
           "automargin": true,
           "gridcolor": "white",
           "linecolor": "white",
           "ticks": "",
           "title": {
            "standoff": 15
           },
           "zerolinecolor": "white",
           "zerolinewidth": 2
          }
         }
        }
       }
      },
      "text/html": [
       "<div>                            <div id=\"8ae0a3e1-1bfe-4b7d-97d5-d23d91a56ec3\" class=\"plotly-graph-div\" style=\"height:525px; width:100%;\"></div>            <script type=\"text/javascript\">                require([\"plotly\"], function(Plotly) {                    window.PLOTLYENV=window.PLOTLYENV || {};                                    if (document.getElementById(\"8ae0a3e1-1bfe-4b7d-97d5-d23d91a56ec3\")) {                    Plotly.newPlot(                        \"8ae0a3e1-1bfe-4b7d-97d5-d23d91a56ec3\",                        [{\"name\": \"model\", \"type\": \"scatter\", \"x\": [-2.0, -1.96, -1.92, -1.88, -1.84, -1.8, -1.76, -1.72, -1.68, -1.6400000000000001, -1.6, -1.56, -1.52, -1.48, -1.44, -1.4, -1.3599999999999999, -1.3199999999999998, -1.28, -1.24, -1.2, -1.1600000000000001, -1.12, -1.08, -1.04, -1.0, -0.96, -0.9199999999999999, -0.8799999999999999, -0.8400000000000001, -0.8, -0.76, -0.72, -0.6799999999999999, -0.6399999999999999, -0.5999999999999999, -0.56, -0.52, -0.48, -0.43999999999999995, -0.3999999999999999, -0.3599999999999999, -0.32000000000000006, -0.28, -0.24, -0.19999999999999996, -0.15999999999999992, -0.11999999999999988, -0.08000000000000007, -0.040000000000000036, 0.0, 0.040000000000000036, 0.08000000000000007, 0.1200000000000001, 0.16000000000000014, 0.20000000000000018, 0.2400000000000002, 0.28000000000000025, 0.31999999999999984, 0.3599999999999999, 0.3999999999999999, 0.43999999999999995, 0.48, 0.52, 0.56, 0.6000000000000001, 0.6400000000000001, 0.6800000000000002, 0.7200000000000002, 0.7600000000000002, 0.8000000000000003, 0.8399999999999999, 0.8799999999999999, 0.9199999999999999, 0.96, 1.0, 1.04, 1.08, 1.12, 1.1600000000000001, 1.2000000000000002, 1.2400000000000002, 1.2800000000000002, 1.3200000000000003, 1.3599999999999999, 1.4, 1.44, 1.48, 1.52, 1.56, 1.6, 1.6400000000000001, 1.6800000000000002, 1.7200000000000002, 1.7600000000000002, 1.8000000000000003, 1.8399999999999999, 1.88, 1.92, 1.96, 2.0], \"y\": [0.5599661926045018, 0.5707194504445704, 0.5816474074522424, 0.592749969004015, 0.6040268086949093, 0.6154773568449894, 0.6271007892860452, 0.6388960165145512, 0.6508616733008279, 0.6629961088475457, 0.6752973775932234, 0.6877632307580852, 0.700391108730452, 0.7131781343916777, 0.7261211074764015, 0.7392165000625182, 0.7524604532816885, 0.7658487753364038, 0.7793769409035316, 0.7930400919969052, 0.8068330403528939, 0.8207502713930328, 0.8347859498067629, 0.8489339267852175, 0.8631877489238986, 0.8775406687981455, 0.8919856572006644, 0.9065154170152392, 0.9211223986852675, 0.9357988172201743, 0.9505366706672809, 0.9653277599615426, 0.9801637100509998, 0.9950359921819857, 1.0099359472153655, 1.024854809833538, 1.0397837334878046, 1.0547138159271932, 1.0696361251430289, 1.0845417255586391, 1.0994217042905992, 1.114267197306964, 1.1290694153089875, 1.1438196691658797, 1.1585093947371718, 1.173130176924111, 1.1876737728001339, 1.2021321336806572, 1.2164974260040617, 1.2307620509085844, 1.2449186624037092, 1.2589601840492972, 1.2728798240709187, 1.2866710888553934, 1.3003277947862024, 1.3138440783939616, 1.3272144048123502, 1.3404335745445732, 1.353496728559416, 1.366399351749084, 1.37913727479317, 1.3917066744841442, 1.4041040725796525, 1.4163263332555442, 1.4283706592409395, 1.4402345867227302, 1.4519159791117353, 1.4634130197663033, 1.4747242037715154, 1.48584832887338, 1.4967844856675625, 1.507532047141354, 1.5180906576658544, 1.528460221532812, 1.5386408911273102, 1.5486330548236484, 1.5584373246874021, 1.5680545240618744, 1.5774856751120712, 1.586731986393993, 1.595794840511583, 1.6046757819181043, 1.613376504913186, 1.6218988418812605, 1.6302447518117367, 1.6384163091360198, 1.646415692911438, 1.6542451763773367, 1.6619071169040316, 1.6694039463510335, 1.6767381618469457, 1.6839123169997432, 1.690929013542728, 1.6977908934183543, 1.7045006312993114, 1.7110609275437256, 1.7174745015791208, 1.7237440857077968, 1.729872419324586, 1.7358622435364826, 1.7417162961724002]}, {\"name\": \"curve 1\", \"type\": \"scatter\", \"x\": [-2.0, -1.96, -1.92, -1.88, -1.84, -1.8, -1.76, -1.72, -1.68, -1.6400000000000001, -1.6, -1.56, -1.52, -1.48, -1.44, -1.4, -1.3599999999999999, -1.3199999999999998, -1.28, -1.24, -1.2, -1.1600000000000001, -1.12, -1.08, -1.04, -1.0, -0.96, -0.9199999999999999, -0.8799999999999999, -0.8400000000000001, -0.8, -0.76, -0.72, -0.6799999999999999, -0.6399999999999999, -0.5999999999999999, -0.56, -0.52, -0.48, -0.43999999999999995, -0.3999999999999999, -0.3599999999999999, -0.32000000000000006, -0.28, -0.24, -0.19999999999999996, -0.15999999999999992, -0.11999999999999988, -0.08000000000000007, -0.040000000000000036, 0.0, 0.040000000000000036, 0.08000000000000007, 0.1200000000000001, 0.16000000000000014, 0.20000000000000018, 0.2400000000000002, 0.28000000000000025, 0.31999999999999984, 0.3599999999999999, 0.3999999999999999, 0.43999999999999995, 0.48, 0.52, 0.56, 0.6000000000000001, 0.6400000000000001, 0.6800000000000002, 0.7200000000000002, 0.7600000000000002, 0.8000000000000003, 0.8399999999999999, 0.8799999999999999, 0.9199999999999999, 0.96, 1.0, 1.04, 1.08, 1.12, 1.1600000000000001, 1.2000000000000002, 1.2400000000000002, 1.2800000000000002, 1.3200000000000003, 1.3599999999999999, 1.4, 1.44, 1.48, 1.52, 1.56, 1.6, 1.6400000000000001, 1.6800000000000002, 1.7200000000000002, 1.7600000000000002, 1.8000000000000003, 1.8399999999999999, 1.88, 1.92, 1.96, 2.0], \"y\": [0.37754066879814546, 0.38225212523075097, 0.38698582386066455, 0.39174096925348556, 0.3965167501352737, 0.401312339887548, 0.4061268970658573, 0.41095956594133487, 0.41580947706459265, 0.42067574785125056, 0.425557483188341, 0.430453776060771, 0.43536370819697084, 0.4402863507328071, 0.4452207648927853, 0.4501660026875221, 0.45512110762642, 0.46008511544443437, 0.4650570548417855, 0.4700359482354282, 0.47502081252106, 0.4800106598444182, 0.4850044983805899, 0.4900013331200346, 0.49500016666000024, 0.5, 0.5049998333399998, 0.5099986668799655, 0.5149955016194101, 0.5199893401555817, 0.5249791874789399, 0.5299640517645717, 0.5349429451582145, 0.5399148845555657, 0.54487889237358, 0.549833997312478, 0.5547792351072147, 0.5597136492671929, 0.5646362918030291, 0.5695462239392289, 0.574442516811659, 0.5793242521487495, 0.5841905229354074, 0.589040434058665, 0.5938731029341426, 0.598687660112452, 0.6034832498647263, 0.6082590307465144, 0.6130141761393355, 0.617747874769249, 0.6224593312018546, 0.6271477663131956, 0.6318124177361016, 0.6364525402815664, 0.6410674063348171, 0.6456563062257955, 0.6502185485738271, 0.6547534606063192, 0.6592603884513855, 0.6637386974043527, 0.6681877721681662, 0.6726070170677604, 0.676995856238523, 0.6813537337890255, 0.6856801139382538, 0.6899744811276125, 0.6942363401080306, 0.6984652160025387, 0.7026606543447315, 0.7068222210935676, 0.710949502625004, 0.7150421057009897, 0.7190996574163838, 0.7231218051243898, 0.7271082163411295, 0.7310585786300049, 0.7349725994665188, 0.738850006084249, 0.7426905453026857, 0.7464939833376621, 0.7502601055951176, 0.753988716448948, 0.7576796390037048, 0.7613327148429104, 0.7649478037637647, 0.7685247834990176, 0.7720635494267837, 0.7755640142690734, 0.7790261077798122, 0.7824497764231125, 0.7858349830425586, 0.789181706522253, 0.7924899414403644, 0.7957596977159083, 0.7989910002494707, 0.8021838885585818, 0.8053384164084221, 0.8084546514385325, 0.8115326747861805, 0.8145725807070178, 0.8175744761936437]}, {\"name\": \"curve 2\", \"type\": \"scatter\", \"x\": [-2.0, -1.96, -1.92, -1.88, -1.84, -1.8, -1.76, -1.72, -1.68, -1.6400000000000001, -1.6, -1.56, -1.52, -1.48, -1.44, -1.4, -1.3599999999999999, -1.3199999999999998, -1.28, -1.24, -1.2, -1.1600000000000001, -1.12, -1.08, -1.04, -1.0, -0.96, -0.9199999999999999, -0.8799999999999999, -0.8400000000000001, -0.8, -0.76, -0.72, -0.6799999999999999, -0.6399999999999999, -0.5999999999999999, -0.56, -0.52, -0.48, -0.43999999999999995, -0.3999999999999999, -0.3599999999999999, -0.32000000000000006, -0.28, -0.24, -0.19999999999999996, -0.15999999999999992, -0.11999999999999988, -0.08000000000000007, -0.040000000000000036, 0.0, 0.040000000000000036, 0.08000000000000007, 0.1200000000000001, 0.16000000000000014, 0.20000000000000018, 0.2400000000000002, 0.28000000000000025, 0.31999999999999984, 0.3599999999999999, 0.3999999999999999, 0.43999999999999995, 0.48, 0.52, 0.56, 0.6000000000000001, 0.6400000000000001, 0.6800000000000002, 0.7200000000000002, 0.7600000000000002, 0.8000000000000003, 0.8399999999999999, 0.8799999999999999, 0.9199999999999999, 0.96, 1.0, 1.04, 1.08, 1.12, 1.1600000000000001, 1.2000000000000002, 1.2400000000000002, 1.2800000000000002, 1.3200000000000003, 1.3599999999999999, 1.4, 1.44, 1.48, 1.52, 1.56, 1.6, 1.6400000000000001, 1.6800000000000002, 1.7200000000000002, 1.7600000000000002, 1.8000000000000003, 1.8399999999999999, 1.88, 1.92, 1.96, 2.0], \"y\": [0.18242552380635632, 0.18846732521381945, 0.19466158359157792, 0.20100899975052938, 0.2075100585596356, 0.2141650169574414, 0.22097389222018782, 0.22793645057321626, 0.2350521962362353, 0.24232036099629514, 0.2497398944048824, 0.2573094546973142, 0.26502740053348117, 0.2728917836588705, 0.2809003425836162, 0.28905049737499605, 0.29733934565526854, 0.3057636598919695, 0.31431988606174616, 0.323004143761477, 0.33181222783183395, 0.34073961154861454, 0.34978145142617295, 0.35893259366518293, 0.3681875822638983, 0.37754066879814546, 0.38698582386066455, 0.3965167501352737, 0.40612689706585736, 0.41580947706459265, 0.425557483188341, 0.43536370819697084, 0.4452207648927853, 0.45512110762642, 0.4650570548417855, 0.47502081252106004, 0.4850044983805899, 0.49500016666000024, 0.5049998333399998, 0.5149955016194101, 0.52497918747894, 0.5349429451582145, 0.54487889237358, 0.5547792351072147, 0.5646362918030291, 0.574442516811659, 0.5841905229354074, 0.5938731029341427, 0.6034832498647262, 0.6130141761393355, 0.6224593312018546, 0.6318124177361016, 0.6410674063348171, 0.6502185485738271, 0.6592603884513855, 0.6681877721681662, 0.6769958562385231, 0.6856801139382539, 0.6942363401080305, 0.7026606543447315, 0.7109495026250039, 0.7190996574163838, 0.7271082163411295, 0.7349725994665188, 0.7426905453026857, 0.7502601055951176, 0.7576796390037048, 0.7649478037637647, 0.7720635494267838, 0.7790261077798122, 0.7858349830425586, 0.7924899414403643, 0.7989910002494706, 0.8053384164084221, 0.8115326747861805, 0.8175744761936437, 0.8234647252208833, 0.8292045179776255, 0.8347951298093854, 0.840238003056331, 0.8455347349164654, 0.8506870654691563, 0.8556968659094814, 0.86056612703835, 0.8652969480479719, 0.8698915256370021, 0.8743521434846543, 0.8786811621082632, 0.8828810091242195, 0.8869541699279211, 0.8909031788043871, 0.8947306104774903, 0.8984390721023634, 0.902031195702446, 0.9055096310498407, 0.9088770389851439, 0.9121360851706988, 0.9152894342692642, 0.9183397445384054, 0.9212896628294648, 0.9241418199787564]}, {\"name\": \"curve 1 + curve 2\", \"type\": \"scatter\", \"x\": [-2.0, -1.96, -1.92, -1.88, -1.84, -1.8, -1.76, -1.72, -1.68, -1.6400000000000001, -1.6, -1.56, -1.52, -1.48, -1.44, -1.4, -1.3599999999999999, -1.3199999999999998, -1.28, -1.24, -1.2, -1.1600000000000001, -1.12, -1.08, -1.04, -1.0, -0.96, -0.9199999999999999, -0.8799999999999999, -0.8400000000000001, -0.8, -0.76, -0.72, -0.6799999999999999, -0.6399999999999999, -0.5999999999999999, -0.56, -0.52, -0.48, -0.43999999999999995, -0.3999999999999999, -0.3599999999999999, -0.32000000000000006, -0.28, -0.24, -0.19999999999999996, -0.15999999999999992, -0.11999999999999988, -0.08000000000000007, -0.040000000000000036, 0.0, 0.040000000000000036, 0.08000000000000007, 0.1200000000000001, 0.16000000000000014, 0.20000000000000018, 0.2400000000000002, 0.28000000000000025, 0.31999999999999984, 0.3599999999999999, 0.3999999999999999, 0.43999999999999995, 0.48, 0.52, 0.56, 0.6000000000000001, 0.6400000000000001, 0.6800000000000002, 0.7200000000000002, 0.7600000000000002, 0.8000000000000003, 0.8399999999999999, 0.8799999999999999, 0.9199999999999999, 0.96, 1.0, 1.04, 1.08, 1.12, 1.1600000000000001, 1.2000000000000002, 1.2400000000000002, 1.2800000000000002, 1.3200000000000003, 1.3599999999999999, 1.4, 1.44, 1.48, 1.52, 1.56, 1.6, 1.6400000000000001, 1.6800000000000002, 1.7200000000000002, 1.7600000000000002, 1.8000000000000003, 1.8399999999999999, 1.88, 1.92, 1.96, 2.0], \"y\": [0.5599661926045018, 0.5707194504445704, 0.5816474074522424, 0.592749969004015, 0.6040268086949093, 0.6154773568449894, 0.6271007892860452, 0.6388960165145512, 0.6508616733008279, 0.6629961088475457, 0.6752973775932234, 0.6877632307580852, 0.700391108730452, 0.7131781343916777, 0.7261211074764015, 0.7392165000625182, 0.7524604532816885, 0.7658487753364038, 0.7793769409035316, 0.7930400919969052, 0.8068330403528939, 0.8207502713930328, 0.8347859498067629, 0.8489339267852175, 0.8631877489238986, 0.8775406687981455, 0.8919856572006644, 0.9065154170152392, 0.9211223986852675, 0.9357988172201743, 0.9505366706672809, 0.9653277599615426, 0.9801637100509998, 0.9950359921819857, 1.0099359472153655, 1.024854809833538, 1.0397837334878046, 1.0547138159271932, 1.0696361251430289, 1.0845417255586391, 1.0994217042905992, 1.114267197306964, 1.1290694153089875, 1.1438196691658797, 1.1585093947371718, 1.173130176924111, 1.1876737728001339, 1.2021321336806572, 1.2164974260040617, 1.2307620509085844, 1.2449186624037092, 1.2589601840492972, 1.2728798240709187, 1.2866710888553934, 1.3003277947862024, 1.3138440783939616, 1.3272144048123502, 1.3404335745445732, 1.353496728559416, 1.366399351749084, 1.37913727479317, 1.3917066744841442, 1.4041040725796525, 1.4163263332555442, 1.4283706592409395, 1.4402345867227302, 1.4519159791117353, 1.4634130197663033, 1.4747242037715154, 1.48584832887338, 1.4967844856675625, 1.507532047141354, 1.5180906576658544, 1.528460221532812, 1.5386408911273102, 1.5486330548236484, 1.5584373246874021, 1.5680545240618744, 1.5774856751120712, 1.586731986393993, 1.595794840511583, 1.6046757819181043, 1.613376504913186, 1.6218988418812605, 1.6302447518117367, 1.6384163091360198, 1.646415692911438, 1.6542451763773367, 1.6619071169040316, 1.6694039463510335, 1.6767381618469457, 1.6839123169997432, 1.690929013542728, 1.6977908934183543, 1.7045006312993114, 1.7110609275437256, 1.7174745015791208, 1.7237440857077968, 1.729872419324586, 1.7358622435364826, 1.7417162961724002]}],                        {\"template\": {\"data\": {\"bar\": [{\"error_x\": {\"color\": \"#2a3f5f\"}, \"error_y\": {\"color\": \"#2a3f5f\"}, \"marker\": {\"line\": {\"color\": \"#E5ECF6\", \"width\": 0.5}}, \"type\": \"bar\"}], \"barpolar\": [{\"marker\": {\"line\": {\"color\": \"#E5ECF6\", \"width\": 0.5}}, \"type\": \"barpolar\"}], \"carpet\": [{\"aaxis\": {\"endlinecolor\": \"#2a3f5f\", \"gridcolor\": \"white\", \"linecolor\": \"white\", \"minorgridcolor\": \"white\", \"startlinecolor\": \"#2a3f5f\"}, \"baxis\": {\"endlinecolor\": \"#2a3f5f\", \"gridcolor\": \"white\", \"linecolor\": \"white\", \"minorgridcolor\": \"white\", \"startlinecolor\": \"#2a3f5f\"}, \"type\": \"carpet\"}], \"choropleth\": [{\"colorbar\": {\"outlinewidth\": 0, \"ticks\": \"\"}, \"type\": \"choropleth\"}], \"contour\": [{\"colorbar\": {\"outlinewidth\": 0, \"ticks\": \"\"}, \"colorscale\": [[0.0, \"#0d0887\"], [0.1111111111111111, \"#46039f\"], [0.2222222222222222, \"#7201a8\"], [0.3333333333333333, \"#9c179e\"], [0.4444444444444444, \"#bd3786\"], [0.5555555555555556, \"#d8576b\"], [0.6666666666666666, \"#ed7953\"], [0.7777777777777778, \"#fb9f3a\"], [0.8888888888888888, \"#fdca26\"], [1.0, \"#f0f921\"]], \"type\": \"contour\"}], \"contourcarpet\": [{\"colorbar\": {\"outlinewidth\": 0, \"ticks\": \"\"}, \"type\": \"contourcarpet\"}], \"heatmap\": [{\"colorbar\": {\"outlinewidth\": 0, \"ticks\": \"\"}, \"colorscale\": [[0.0, \"#0d0887\"], [0.1111111111111111, \"#46039f\"], [0.2222222222222222, \"#7201a8\"], [0.3333333333333333, \"#9c179e\"], [0.4444444444444444, \"#bd3786\"], [0.5555555555555556, \"#d8576b\"], [0.6666666666666666, \"#ed7953\"], [0.7777777777777778, \"#fb9f3a\"], [0.8888888888888888, \"#fdca26\"], [1.0, \"#f0f921\"]], \"type\": \"heatmap\"}], \"heatmapgl\": [{\"colorbar\": {\"outlinewidth\": 0, \"ticks\": \"\"}, \"colorscale\": [[0.0, \"#0d0887\"], [0.1111111111111111, \"#46039f\"], [0.2222222222222222, \"#7201a8\"], [0.3333333333333333, \"#9c179e\"], [0.4444444444444444, \"#bd3786\"], [0.5555555555555556, \"#d8576b\"], [0.6666666666666666, \"#ed7953\"], [0.7777777777777778, \"#fb9f3a\"], [0.8888888888888888, \"#fdca26\"], [1.0, \"#f0f921\"]], \"type\": \"heatmapgl\"}], \"histogram\": [{\"marker\": {\"colorbar\": {\"outlinewidth\": 0, \"ticks\": \"\"}}, \"type\": \"histogram\"}], \"histogram2d\": [{\"colorbar\": {\"outlinewidth\": 0, \"ticks\": \"\"}, \"colorscale\": [[0.0, \"#0d0887\"], [0.1111111111111111, \"#46039f\"], [0.2222222222222222, \"#7201a8\"], [0.3333333333333333, \"#9c179e\"], [0.4444444444444444, \"#bd3786\"], [0.5555555555555556, \"#d8576b\"], [0.6666666666666666, \"#ed7953\"], [0.7777777777777778, \"#fb9f3a\"], [0.8888888888888888, \"#fdca26\"], [1.0, \"#f0f921\"]], \"type\": \"histogram2d\"}], \"histogram2dcontour\": [{\"colorbar\": {\"outlinewidth\": 0, \"ticks\": \"\"}, \"colorscale\": [[0.0, \"#0d0887\"], [0.1111111111111111, \"#46039f\"], [0.2222222222222222, \"#7201a8\"], [0.3333333333333333, \"#9c179e\"], [0.4444444444444444, \"#bd3786\"], [0.5555555555555556, \"#d8576b\"], [0.6666666666666666, \"#ed7953\"], [0.7777777777777778, \"#fb9f3a\"], [0.8888888888888888, \"#fdca26\"], [1.0, \"#f0f921\"]], \"type\": \"histogram2dcontour\"}], \"mesh3d\": [{\"colorbar\": {\"outlinewidth\": 0, \"ticks\": \"\"}, \"type\": \"mesh3d\"}], \"parcoords\": [{\"line\": {\"colorbar\": {\"outlinewidth\": 0, \"ticks\": \"\"}}, \"type\": \"parcoords\"}], \"pie\": [{\"automargin\": true, \"type\": \"pie\"}], \"scatter\": [{\"marker\": {\"colorbar\": {\"outlinewidth\": 0, \"ticks\": \"\"}}, \"type\": \"scatter\"}], \"scatter3d\": [{\"line\": {\"colorbar\": {\"outlinewidth\": 0, \"ticks\": \"\"}}, \"marker\": {\"colorbar\": {\"outlinewidth\": 0, \"ticks\": \"\"}}, \"type\": \"scatter3d\"}], \"scattercarpet\": [{\"marker\": {\"colorbar\": {\"outlinewidth\": 0, \"ticks\": \"\"}}, \"type\": \"scattercarpet\"}], \"scattergeo\": [{\"marker\": {\"colorbar\": {\"outlinewidth\": 0, \"ticks\": \"\"}}, \"type\": \"scattergeo\"}], \"scattergl\": [{\"marker\": {\"colorbar\": {\"outlinewidth\": 0, \"ticks\": \"\"}}, \"type\": \"scattergl\"}], \"scattermapbox\": [{\"marker\": {\"colorbar\": {\"outlinewidth\": 0, \"ticks\": \"\"}}, \"type\": \"scattermapbox\"}], \"scatterpolar\": [{\"marker\": {\"colorbar\": {\"outlinewidth\": 0, \"ticks\": \"\"}}, \"type\": \"scatterpolar\"}], \"scatterpolargl\": [{\"marker\": {\"colorbar\": {\"outlinewidth\": 0, \"ticks\": \"\"}}, \"type\": \"scatterpolargl\"}], \"scatterternary\": [{\"marker\": {\"colorbar\": {\"outlinewidth\": 0, \"ticks\": \"\"}}, \"type\": \"scatterternary\"}], \"surface\": [{\"colorbar\": {\"outlinewidth\": 0, \"ticks\": \"\"}, \"colorscale\": [[0.0, \"#0d0887\"], [0.1111111111111111, \"#46039f\"], [0.2222222222222222, \"#7201a8\"], [0.3333333333333333, \"#9c179e\"], [0.4444444444444444, \"#bd3786\"], [0.5555555555555556, \"#d8576b\"], [0.6666666666666666, \"#ed7953\"], [0.7777777777777778, \"#fb9f3a\"], [0.8888888888888888, \"#fdca26\"], [1.0, \"#f0f921\"]], \"type\": \"surface\"}], \"table\": [{\"cells\": {\"fill\": {\"color\": \"#EBF0F8\"}, \"line\": {\"color\": \"white\"}}, \"header\": {\"fill\": {\"color\": \"#C8D4E3\"}, \"line\": {\"color\": \"white\"}}, \"type\": \"table\"}]}, \"layout\": {\"annotationdefaults\": {\"arrowcolor\": \"#2a3f5f\", \"arrowhead\": 0, \"arrowwidth\": 1}, \"autotypenumbers\": \"strict\", \"coloraxis\": {\"colorbar\": {\"outlinewidth\": 0, \"ticks\": \"\"}}, \"colorscale\": {\"diverging\": [[0, \"#8e0152\"], [0.1, \"#c51b7d\"], [0.2, \"#de77ae\"], [0.3, \"#f1b6da\"], [0.4, \"#fde0ef\"], [0.5, \"#f7f7f7\"], [0.6, \"#e6f5d0\"], [0.7, \"#b8e186\"], [0.8, \"#7fbc41\"], [0.9, \"#4d9221\"], [1, \"#276419\"]], \"sequential\": [[0.0, \"#0d0887\"], [0.1111111111111111, \"#46039f\"], [0.2222222222222222, \"#7201a8\"], [0.3333333333333333, \"#9c179e\"], [0.4444444444444444, \"#bd3786\"], [0.5555555555555556, \"#d8576b\"], [0.6666666666666666, \"#ed7953\"], [0.7777777777777778, \"#fb9f3a\"], [0.8888888888888888, \"#fdca26\"], [1.0, \"#f0f921\"]], \"sequentialminus\": [[0.0, \"#0d0887\"], [0.1111111111111111, \"#46039f\"], [0.2222222222222222, \"#7201a8\"], [0.3333333333333333, \"#9c179e\"], [0.4444444444444444, \"#bd3786\"], [0.5555555555555556, \"#d8576b\"], [0.6666666666666666, \"#ed7953\"], [0.7777777777777778, \"#fb9f3a\"], [0.8888888888888888, \"#fdca26\"], [1.0, \"#f0f921\"]]}, \"colorway\": [\"#636efa\", \"#EF553B\", \"#00cc96\", \"#ab63fa\", \"#FFA15A\", \"#19d3f3\", \"#FF6692\", \"#B6E880\", \"#FF97FF\", \"#FECB52\"], \"font\": {\"color\": \"#2a3f5f\"}, \"geo\": {\"bgcolor\": \"white\", \"lakecolor\": \"white\", \"landcolor\": \"#E5ECF6\", \"showlakes\": true, \"showland\": true, \"subunitcolor\": \"white\"}, \"hoverlabel\": {\"align\": \"left\"}, \"hovermode\": \"closest\", \"mapbox\": {\"style\": \"light\"}, \"paper_bgcolor\": \"white\", \"plot_bgcolor\": \"#E5ECF6\", \"polar\": {\"angularaxis\": {\"gridcolor\": \"white\", \"linecolor\": \"white\", \"ticks\": \"\"}, \"bgcolor\": \"#E5ECF6\", \"radialaxis\": {\"gridcolor\": \"white\", \"linecolor\": \"white\", \"ticks\": \"\"}}, \"scene\": {\"xaxis\": {\"backgroundcolor\": \"#E5ECF6\", \"gridcolor\": \"white\", \"gridwidth\": 2, \"linecolor\": \"white\", \"showbackground\": true, \"ticks\": \"\", \"zerolinecolor\": \"white\"}, \"yaxis\": {\"backgroundcolor\": \"#E5ECF6\", \"gridcolor\": \"white\", \"gridwidth\": 2, \"linecolor\": \"white\", \"showbackground\": true, \"ticks\": \"\", \"zerolinecolor\": \"white\"}, \"zaxis\": {\"backgroundcolor\": \"#E5ECF6\", \"gridcolor\": \"white\", \"gridwidth\": 2, \"linecolor\": \"white\", \"showbackground\": true, \"ticks\": \"\", \"zerolinecolor\": \"white\"}}, \"shapedefaults\": {\"line\": {\"color\": \"#2a3f5f\"}}, \"ternary\": {\"aaxis\": {\"gridcolor\": \"white\", \"linecolor\": \"white\", \"ticks\": \"\"}, \"baxis\": {\"gridcolor\": \"white\", \"linecolor\": \"white\", \"ticks\": \"\"}, \"bgcolor\": \"#E5ECF6\", \"caxis\": {\"gridcolor\": \"white\", \"linecolor\": \"white\", \"ticks\": \"\"}}, \"title\": {\"x\": 0.05}, \"xaxis\": {\"automargin\": true, \"gridcolor\": \"white\", \"linecolor\": \"white\", \"ticks\": \"\", \"title\": {\"standoff\": 15}, \"zerolinecolor\": \"white\", \"zerolinewidth\": 2}, \"yaxis\": {\"automargin\": true, \"gridcolor\": \"white\", \"linecolor\": \"white\", \"ticks\": \"\", \"title\": {\"standoff\": 15}, \"zerolinecolor\": \"white\", \"zerolinewidth\": 2}}}},                        {\"responsive\": true}                    ).then(function(){\n",
       "                            \n",
       "var gd = document.getElementById('8ae0a3e1-1bfe-4b7d-97d5-d23d91a56ec3');\n",
       "var x = new MutationObserver(function (mutations, observer) {{\n",
       "        var display = window.getComputedStyle(gd).display;\n",
       "        if (!display || display === 'none') {{\n",
       "            console.log([gd, 'removed!']);\n",
       "            Plotly.purge(gd);\n",
       "            observer.disconnect();\n",
       "        }}\n",
       "}});\n",
       "\n",
       "// Listen for the removal of the full notebook cells\n",
       "var notebookContainer = gd.closest('#notebook-container');\n",
       "if (notebookContainer) {{\n",
       "    x.observe(notebookContainer, {childList: true});\n",
       "}}\n",
       "\n",
       "// Listen for the clearing of the current output cell\n",
       "var outputEl = gd.closest('.output');\n",
       "if (outputEl) {{\n",
       "    x.observe(outputEl, {childList: true});\n",
       "}}\n",
       "\n",
       "                        })                };                });            </script>        </div>"
      ]
     },
     "metadata": {},
     "output_type": "display_data"
    }
   ],
   "source": [
    "fig = go.Figure()\n",
    "\n",
    "fig.add_trace(\n",
    "    go.Scatter(\n",
    "        x = X,\n",
    "        y = Y,\n",
    "        name = 'model'\n",
    "    )\n",
    ")\n",
    "\n",
    "fig.add_trace(\n",
    "    go.Scatter(\n",
    "        x = X,\n",
    "        y = Y1,\n",
    "        name = 'curve 1'\n",
    "    )\n",
    ")\n",
    "\n",
    "fig.add_trace(\n",
    "    go.Scatter(\n",
    "        x = X,\n",
    "        y = Y2,\n",
    "        name = 'curve 2'\n",
    "    )\n",
    ")\n",
    "\n",
    "fig.add_trace(\n",
    "    go.Scatter(\n",
    "        x = X,\n",
    "        y = Y3,\n",
    "        name = 'curve 1 + curve 2'\n",
    "    )\n",
    ")\n",
    "\n",
    "fig.show()"
   ]
  },
  {
   "cell_type": "markdown",
   "id": "pacific-belfast",
   "metadata": {},
   "source": [
    "# ReLU with 2 layers"
   ]
  },
  {
   "cell_type": "code",
   "execution_count": 117,
   "id": "southern-minnesota",
   "metadata": {},
   "outputs": [],
   "source": [
    "def relu(x):\n",
    "    return np.maximum(x, 0, x)\n",
    "\n",
    "def feedforward2(x, func):\n",
    "    return np.matmul(Wout, func(np.matmul(W2, func(np.matmul(W1, x)))))"
   ]
  },
  {
   "cell_type": "code",
   "execution_count": 125,
   "id": "european-butterfly",
   "metadata": {},
   "outputs": [],
   "source": [
    "W1 = np.array([[0.5, 0.5],[0.5, 1]])\n",
    "W2 = np.array([[1, 0.5],[0.5, 1]])\n",
    "W3 = np.array([[0.5, 0.5],[0.5, -0.5]])\n",
    "Wout = np.array([1,1])\n",
    "\n",
    "X = np.linspace(-2, 2, 101)\n",
    "Y = [feedforward2(np.array([1, i]), relu) for i in X]"
   ]
  },
  {
   "cell_type": "code",
   "execution_count": 128,
   "id": "widespread-funeral",
   "metadata": {},
   "outputs": [],
   "source": [
    "Y11 = 0.5 + 0.5*X\n",
    "Y12 = 0.5 + X\n",
    "\n",
    "Y21 = 1*Y11 + 0.5*Y12\n",
    "Y22 = 0.5*Y11 + Y12"
   ]
  },
  {
   "cell_type": "code",
   "execution_count": 129,
   "id": "harmful-label",
   "metadata": {},
   "outputs": [
    {
     "data": {
      "application/vnd.plotly.v1+json": {
       "config": {
        "plotlyServerURL": "https://plot.ly"
       },
       "data": [
        {
         "name": "model",
         "type": "scatter",
         "x": [
          -2,
          -1.96,
          -1.92,
          -1.88,
          -1.84,
          -1.8,
          -1.76,
          -1.72,
          -1.68,
          -1.6400000000000001,
          -1.6,
          -1.56,
          -1.52,
          -1.48,
          -1.44,
          -1.4,
          -1.3599999999999999,
          -1.3199999999999998,
          -1.28,
          -1.24,
          -1.2,
          -1.1600000000000001,
          -1.12,
          -1.08,
          -1.04,
          -1,
          -0.96,
          -0.9199999999999999,
          -0.8799999999999999,
          -0.8400000000000001,
          -0.8,
          -0.76,
          -0.72,
          -0.6799999999999999,
          -0.6399999999999999,
          -0.5999999999999999,
          -0.56,
          -0.52,
          -0.48,
          -0.43999999999999995,
          -0.3999999999999999,
          -0.3599999999999999,
          -0.32000000000000006,
          -0.28,
          -0.24,
          -0.19999999999999996,
          -0.15999999999999992,
          -0.11999999999999988,
          -0.08000000000000007,
          -0.040000000000000036,
          0,
          0.040000000000000036,
          0.08000000000000007,
          0.1200000000000001,
          0.16000000000000014,
          0.20000000000000018,
          0.2400000000000002,
          0.28000000000000025,
          0.31999999999999984,
          0.3599999999999999,
          0.3999999999999999,
          0.43999999999999995,
          0.48,
          0.52,
          0.56,
          0.6000000000000001,
          0.6400000000000001,
          0.6800000000000002,
          0.7200000000000002,
          0.7600000000000002,
          0.8000000000000003,
          0.8399999999999999,
          0.8799999999999999,
          0.9199999999999999,
          0.96,
          1,
          1.04,
          1.08,
          1.12,
          1.1600000000000001,
          1.2000000000000002,
          1.2400000000000002,
          1.2800000000000002,
          1.3200000000000003,
          1.3599999999999999,
          1.4,
          1.44,
          1.48,
          1.52,
          1.56,
          1.6,
          1.6400000000000001,
          1.6800000000000002,
          1.7200000000000002,
          1.7600000000000002,
          1.8000000000000003,
          1.8399999999999999,
          1.88,
          1.92,
          1.96,
          2
         ],
         "y": [
          0,
          0,
          0,
          0,
          0,
          0,
          0,
          0,
          0,
          0,
          0,
          0,
          0,
          0,
          0,
          0,
          0,
          0,
          0,
          0,
          0,
          0,
          0,
          0,
          0,
          0,
          0.030000000000000027,
          0.06000000000000005,
          0.09000000000000008,
          0.11999999999999994,
          0.14999999999999997,
          0.18,
          0.21000000000000002,
          0.24000000000000005,
          0.2700000000000001,
          0.3000000000000001,
          0.32999999999999996,
          0.36,
          0.42000000000000004,
          0.5100000000000001,
          0.6000000000000002,
          0.6900000000000003,
          0.7799999999999998,
          0.8699999999999999,
          0.96,
          1.05,
          1.1400000000000001,
          1.2300000000000002,
          1.3199999999999998,
          1.41,
          1.5,
          1.59,
          1.6800000000000002,
          1.7700000000000002,
          1.8600000000000003,
          1.9500000000000004,
          2.0400000000000005,
          2.130000000000001,
          2.2199999999999998,
          2.3099999999999996,
          2.4,
          2.4899999999999998,
          2.58,
          2.67,
          2.7600000000000002,
          2.85,
          2.9400000000000004,
          3.0300000000000002,
          3.1200000000000006,
          3.2100000000000004,
          3.3000000000000007,
          3.3899999999999997,
          3.4799999999999995,
          3.57,
          3.66,
          3.75,
          3.84,
          3.93,
          4.0200000000000005,
          4.11,
          4.2,
          4.290000000000001,
          4.380000000000001,
          4.470000000000001,
          4.56,
          4.65,
          4.74,
          4.83,
          4.92,
          5.01,
          5.1,
          5.19,
          5.28,
          5.370000000000001,
          5.460000000000001,
          5.550000000000001,
          5.64,
          5.7299999999999995,
          5.82,
          5.91,
          6
         ]
        },
        {
         "name": "plane 21",
         "type": "scatter",
         "x": [
          -2,
          -1.96,
          -1.92,
          -1.88,
          -1.84,
          -1.8,
          -1.76,
          -1.72,
          -1.68,
          -1.6400000000000001,
          -1.6,
          -1.56,
          -1.52,
          -1.48,
          -1.44,
          -1.4,
          -1.3599999999999999,
          -1.3199999999999998,
          -1.28,
          -1.24,
          -1.2,
          -1.1600000000000001,
          -1.12,
          -1.08,
          -1.04,
          -1,
          -0.96,
          -0.9199999999999999,
          -0.8799999999999999,
          -0.8400000000000001,
          -0.8,
          -0.76,
          -0.72,
          -0.6799999999999999,
          -0.6399999999999999,
          -0.5999999999999999,
          -0.56,
          -0.52,
          -0.48,
          -0.43999999999999995,
          -0.3999999999999999,
          -0.3599999999999999,
          -0.32000000000000006,
          -0.28,
          -0.24,
          -0.19999999999999996,
          -0.15999999999999992,
          -0.11999999999999988,
          -0.08000000000000007,
          -0.040000000000000036,
          0,
          0.040000000000000036,
          0.08000000000000007,
          0.1200000000000001,
          0.16000000000000014,
          0.20000000000000018,
          0.2400000000000002,
          0.28000000000000025,
          0.31999999999999984,
          0.3599999999999999,
          0.3999999999999999,
          0.43999999999999995,
          0.48,
          0.52,
          0.56,
          0.6000000000000001,
          0.6400000000000001,
          0.6800000000000002,
          0.7200000000000002,
          0.7600000000000002,
          0.8000000000000003,
          0.8399999999999999,
          0.8799999999999999,
          0.9199999999999999,
          0.96,
          1,
          1.04,
          1.08,
          1.12,
          1.1600000000000001,
          1.2000000000000002,
          1.2400000000000002,
          1.2800000000000002,
          1.3200000000000003,
          1.3599999999999999,
          1.4,
          1.44,
          1.48,
          1.52,
          1.56,
          1.6,
          1.6400000000000001,
          1.6800000000000002,
          1.7200000000000002,
          1.7600000000000002,
          1.8000000000000003,
          1.8399999999999999,
          1.88,
          1.92,
          1.96,
          2
         ],
         "y": [
          -1.25,
          -1.21,
          -1.17,
          -1.13,
          -1.09,
          -1.05,
          -1.01,
          -0.97,
          -0.9299999999999999,
          -0.8900000000000001,
          -0.8500000000000001,
          -0.81,
          -0.77,
          -0.73,
          -0.69,
          -0.6499999999999999,
          -0.6099999999999999,
          -0.5699999999999998,
          -0.53,
          -0.49,
          -0.44999999999999996,
          -0.41000000000000014,
          -0.3700000000000001,
          -0.33000000000000007,
          -0.29000000000000004,
          -0.25,
          -0.20999999999999996,
          -0.16999999999999993,
          -0.1299999999999999,
          -0.09000000000000008,
          -0.050000000000000044,
          -0.010000000000000009,
          0.030000000000000027,
          0.07000000000000006,
          0.1100000000000001,
          0.15000000000000013,
          0.18999999999999995,
          0.22999999999999998,
          0.27,
          0.31000000000000005,
          0.3500000000000001,
          0.3900000000000001,
          0.42999999999999994,
          0.47,
          0.51,
          0.55,
          0.5900000000000001,
          0.6300000000000001,
          0.6699999999999999,
          0.71,
          0.75,
          0.79,
          0.8300000000000001,
          0.8700000000000001,
          0.9100000000000001,
          0.9500000000000002,
          0.9900000000000002,
          1.0300000000000002,
          1.0699999999999998,
          1.1099999999999999,
          1.15,
          1.19,
          1.23,
          1.27,
          1.31,
          1.35,
          1.3900000000000001,
          1.4300000000000002,
          1.4700000000000002,
          1.5100000000000002,
          1.5500000000000003,
          1.5899999999999999,
          1.63,
          1.67,
          1.71,
          1.75,
          1.79,
          1.83,
          1.87,
          1.9100000000000001,
          1.9500000000000002,
          1.9900000000000002,
          2.0300000000000002,
          2.0700000000000003,
          2.11,
          2.15,
          2.19,
          2.23,
          2.27,
          2.31,
          2.35,
          2.39,
          2.43,
          2.47,
          2.5100000000000002,
          2.5500000000000003,
          2.59,
          2.63,
          2.67,
          2.71,
          2.75
         ]
        },
        {
         "name": "plane 22",
         "type": "scatter",
         "x": [
          -2,
          -1.96,
          -1.92,
          -1.88,
          -1.84,
          -1.8,
          -1.76,
          -1.72,
          -1.68,
          -1.6400000000000001,
          -1.6,
          -1.56,
          -1.52,
          -1.48,
          -1.44,
          -1.4,
          -1.3599999999999999,
          -1.3199999999999998,
          -1.28,
          -1.24,
          -1.2,
          -1.1600000000000001,
          -1.12,
          -1.08,
          -1.04,
          -1,
          -0.96,
          -0.9199999999999999,
          -0.8799999999999999,
          -0.8400000000000001,
          -0.8,
          -0.76,
          -0.72,
          -0.6799999999999999,
          -0.6399999999999999,
          -0.5999999999999999,
          -0.56,
          -0.52,
          -0.48,
          -0.43999999999999995,
          -0.3999999999999999,
          -0.3599999999999999,
          -0.32000000000000006,
          -0.28,
          -0.24,
          -0.19999999999999996,
          -0.15999999999999992,
          -0.11999999999999988,
          -0.08000000000000007,
          -0.040000000000000036,
          0,
          0.040000000000000036,
          0.08000000000000007,
          0.1200000000000001,
          0.16000000000000014,
          0.20000000000000018,
          0.2400000000000002,
          0.28000000000000025,
          0.31999999999999984,
          0.3599999999999999,
          0.3999999999999999,
          0.43999999999999995,
          0.48,
          0.52,
          0.56,
          0.6000000000000001,
          0.6400000000000001,
          0.6800000000000002,
          0.7200000000000002,
          0.7600000000000002,
          0.8000000000000003,
          0.8399999999999999,
          0.8799999999999999,
          0.9199999999999999,
          0.96,
          1,
          1.04,
          1.08,
          1.12,
          1.1600000000000001,
          1.2000000000000002,
          1.2400000000000002,
          1.2800000000000002,
          1.3200000000000003,
          1.3599999999999999,
          1.4,
          1.44,
          1.48,
          1.52,
          1.56,
          1.6,
          1.6400000000000001,
          1.6800000000000002,
          1.7200000000000002,
          1.7600000000000002,
          1.8000000000000003,
          1.8399999999999999,
          1.88,
          1.92,
          1.96,
          2
         ],
         "y": [
          -1.75,
          -1.7,
          -1.65,
          -1.5999999999999999,
          -1.55,
          -1.5,
          -1.45,
          -1.4,
          -1.3499999999999999,
          -1.3000000000000003,
          -1.25,
          -1.2000000000000002,
          -1.15,
          -1.1,
          -1.0499999999999998,
          -0.9999999999999999,
          -0.9499999999999998,
          -0.8999999999999998,
          -0.8500000000000001,
          -0.8,
          -0.75,
          -0.7000000000000002,
          -0.6500000000000001,
          -0.6000000000000001,
          -0.55,
          -0.5,
          -0.44999999999999996,
          -0.3999999999999999,
          -0.34999999999999987,
          -0.3000000000000001,
          -0.25000000000000006,
          -0.2,
          -0.14999999999999997,
          -0.09999999999999992,
          -0.04999999999999988,
          1.6653345369377348e-16,
          0.04999999999999993,
          0.09999999999999998,
          0.15000000000000002,
          0.20000000000000007,
          0.2500000000000001,
          0.30000000000000016,
          0.3499999999999999,
          0.39999999999999997,
          0.45,
          0.5,
          0.55,
          0.6000000000000001,
          0.6499999999999999,
          0.7,
          0.75,
          0.8,
          0.8500000000000001,
          0.9000000000000001,
          0.9500000000000002,
          1.0000000000000002,
          1.0500000000000003,
          1.1000000000000003,
          1.15,
          1.1999999999999997,
          1.25,
          1.2999999999999998,
          1.35,
          1.4,
          1.4500000000000002,
          1.5,
          1.5500000000000003,
          1.6,
          1.6500000000000004,
          1.7000000000000002,
          1.7500000000000004,
          1.7999999999999998,
          1.8499999999999999,
          1.9,
          1.95,
          2,
          2.05,
          2.1,
          2.1500000000000004,
          2.2,
          2.25,
          2.3000000000000003,
          2.3500000000000005,
          2.4000000000000004,
          2.4499999999999997,
          2.5,
          2.55,
          2.6,
          2.65,
          2.7,
          2.75,
          2.8000000000000003,
          2.85,
          2.9000000000000004,
          2.95,
          3.0000000000000004,
          3.05,
          3.0999999999999996,
          3.15,
          3.2,
          3.25
         ]
        },
        {
         "name": "plane 21 + plane 22",
         "type": "scatter",
         "x": [
          -2,
          -1.96,
          -1.92,
          -1.88,
          -1.84,
          -1.8,
          -1.76,
          -1.72,
          -1.68,
          -1.6400000000000001,
          -1.6,
          -1.56,
          -1.52,
          -1.48,
          -1.44,
          -1.4,
          -1.3599999999999999,
          -1.3199999999999998,
          -1.28,
          -1.24,
          -1.2,
          -1.1600000000000001,
          -1.12,
          -1.08,
          -1.04,
          -1,
          -0.96,
          -0.9199999999999999,
          -0.8799999999999999,
          -0.8400000000000001,
          -0.8,
          -0.76,
          -0.72,
          -0.6799999999999999,
          -0.6399999999999999,
          -0.5999999999999999,
          -0.56,
          -0.52,
          -0.48,
          -0.43999999999999995,
          -0.3999999999999999,
          -0.3599999999999999,
          -0.32000000000000006,
          -0.28,
          -0.24,
          -0.19999999999999996,
          -0.15999999999999992,
          -0.11999999999999988,
          -0.08000000000000007,
          -0.040000000000000036,
          0,
          0.040000000000000036,
          0.08000000000000007,
          0.1200000000000001,
          0.16000000000000014,
          0.20000000000000018,
          0.2400000000000002,
          0.28000000000000025,
          0.31999999999999984,
          0.3599999999999999,
          0.3999999999999999,
          0.43999999999999995,
          0.48,
          0.52,
          0.56,
          0.6000000000000001,
          0.6400000000000001,
          0.6800000000000002,
          0.7200000000000002,
          0.7600000000000002,
          0.8000000000000003,
          0.8399999999999999,
          0.8799999999999999,
          0.9199999999999999,
          0.96,
          1,
          1.04,
          1.08,
          1.12,
          1.1600000000000001,
          1.2000000000000002,
          1.2400000000000002,
          1.2800000000000002,
          1.3200000000000003,
          1.3599999999999999,
          1.4,
          1.44,
          1.48,
          1.52,
          1.56,
          1.6,
          1.6400000000000001,
          1.6800000000000002,
          1.7200000000000002,
          1.7600000000000002,
          1.8000000000000003,
          1.8399999999999999,
          1.88,
          1.92,
          1.96,
          2
         ],
         "y": [
          -3,
          -2.91,
          -2.82,
          -2.7299999999999995,
          -2.64,
          -2.55,
          -2.46,
          -2.37,
          -2.28,
          -2.1900000000000004,
          -2.1,
          -2.0100000000000002,
          -1.92,
          -1.83,
          -1.7399999999999998,
          -1.65,
          -1.5599999999999996,
          -1.4699999999999998,
          -1.3800000000000001,
          -1.29,
          -1.2,
          -1.1100000000000003,
          -1.0200000000000002,
          -0.9300000000000002,
          -0.8400000000000001,
          -0.75,
          -0.6599999999999999,
          -0.5699999999999998,
          -0.47999999999999976,
          -0.3900000000000002,
          -0.3000000000000001,
          -0.21000000000000002,
          -0.11999999999999994,
          -0.02999999999999986,
          0.06000000000000022,
          0.1500000000000003,
          0.23999999999999988,
          0.32999999999999996,
          0.42000000000000004,
          0.5100000000000001,
          0.6000000000000002,
          0.6900000000000003,
          0.7799999999999998,
          0.8699999999999999,
          0.96,
          1.05,
          1.1400000000000001,
          1.2300000000000002,
          1.3199999999999998,
          1.41,
          1.5,
          1.59,
          1.6800000000000002,
          1.7700000000000002,
          1.8600000000000003,
          1.9500000000000004,
          2.0400000000000005,
          2.130000000000001,
          2.2199999999999998,
          2.3099999999999996,
          2.4,
          2.4899999999999998,
          2.58,
          2.67,
          2.7600000000000002,
          2.85,
          2.9400000000000004,
          3.0300000000000002,
          3.1200000000000006,
          3.2100000000000004,
          3.3000000000000007,
          3.3899999999999997,
          3.4799999999999995,
          3.57,
          3.66,
          3.75,
          3.84,
          3.93,
          4.0200000000000005,
          4.11,
          4.2,
          4.290000000000001,
          4.380000000000001,
          4.470000000000001,
          4.56,
          4.65,
          4.74,
          4.83,
          4.92,
          5.01,
          5.1,
          5.19,
          5.28,
          5.370000000000001,
          5.460000000000001,
          5.550000000000001,
          5.64,
          5.7299999999999995,
          5.82,
          5.91,
          6
         ]
        }
       ],
       "layout": {
        "template": {
         "data": {
          "bar": [
           {
            "error_x": {
             "color": "#2a3f5f"
            },
            "error_y": {
             "color": "#2a3f5f"
            },
            "marker": {
             "line": {
              "color": "#E5ECF6",
              "width": 0.5
             }
            },
            "type": "bar"
           }
          ],
          "barpolar": [
           {
            "marker": {
             "line": {
              "color": "#E5ECF6",
              "width": 0.5
             }
            },
            "type": "barpolar"
           }
          ],
          "carpet": [
           {
            "aaxis": {
             "endlinecolor": "#2a3f5f",
             "gridcolor": "white",
             "linecolor": "white",
             "minorgridcolor": "white",
             "startlinecolor": "#2a3f5f"
            },
            "baxis": {
             "endlinecolor": "#2a3f5f",
             "gridcolor": "white",
             "linecolor": "white",
             "minorgridcolor": "white",
             "startlinecolor": "#2a3f5f"
            },
            "type": "carpet"
           }
          ],
          "choropleth": [
           {
            "colorbar": {
             "outlinewidth": 0,
             "ticks": ""
            },
            "type": "choropleth"
           }
          ],
          "contour": [
           {
            "colorbar": {
             "outlinewidth": 0,
             "ticks": ""
            },
            "colorscale": [
             [
              0,
              "#0d0887"
             ],
             [
              0.1111111111111111,
              "#46039f"
             ],
             [
              0.2222222222222222,
              "#7201a8"
             ],
             [
              0.3333333333333333,
              "#9c179e"
             ],
             [
              0.4444444444444444,
              "#bd3786"
             ],
             [
              0.5555555555555556,
              "#d8576b"
             ],
             [
              0.6666666666666666,
              "#ed7953"
             ],
             [
              0.7777777777777778,
              "#fb9f3a"
             ],
             [
              0.8888888888888888,
              "#fdca26"
             ],
             [
              1,
              "#f0f921"
             ]
            ],
            "type": "contour"
           }
          ],
          "contourcarpet": [
           {
            "colorbar": {
             "outlinewidth": 0,
             "ticks": ""
            },
            "type": "contourcarpet"
           }
          ],
          "heatmap": [
           {
            "colorbar": {
             "outlinewidth": 0,
             "ticks": ""
            },
            "colorscale": [
             [
              0,
              "#0d0887"
             ],
             [
              0.1111111111111111,
              "#46039f"
             ],
             [
              0.2222222222222222,
              "#7201a8"
             ],
             [
              0.3333333333333333,
              "#9c179e"
             ],
             [
              0.4444444444444444,
              "#bd3786"
             ],
             [
              0.5555555555555556,
              "#d8576b"
             ],
             [
              0.6666666666666666,
              "#ed7953"
             ],
             [
              0.7777777777777778,
              "#fb9f3a"
             ],
             [
              0.8888888888888888,
              "#fdca26"
             ],
             [
              1,
              "#f0f921"
             ]
            ],
            "type": "heatmap"
           }
          ],
          "heatmapgl": [
           {
            "colorbar": {
             "outlinewidth": 0,
             "ticks": ""
            },
            "colorscale": [
             [
              0,
              "#0d0887"
             ],
             [
              0.1111111111111111,
              "#46039f"
             ],
             [
              0.2222222222222222,
              "#7201a8"
             ],
             [
              0.3333333333333333,
              "#9c179e"
             ],
             [
              0.4444444444444444,
              "#bd3786"
             ],
             [
              0.5555555555555556,
              "#d8576b"
             ],
             [
              0.6666666666666666,
              "#ed7953"
             ],
             [
              0.7777777777777778,
              "#fb9f3a"
             ],
             [
              0.8888888888888888,
              "#fdca26"
             ],
             [
              1,
              "#f0f921"
             ]
            ],
            "type": "heatmapgl"
           }
          ],
          "histogram": [
           {
            "marker": {
             "colorbar": {
              "outlinewidth": 0,
              "ticks": ""
             }
            },
            "type": "histogram"
           }
          ],
          "histogram2d": [
           {
            "colorbar": {
             "outlinewidth": 0,
             "ticks": ""
            },
            "colorscale": [
             [
              0,
              "#0d0887"
             ],
             [
              0.1111111111111111,
              "#46039f"
             ],
             [
              0.2222222222222222,
              "#7201a8"
             ],
             [
              0.3333333333333333,
              "#9c179e"
             ],
             [
              0.4444444444444444,
              "#bd3786"
             ],
             [
              0.5555555555555556,
              "#d8576b"
             ],
             [
              0.6666666666666666,
              "#ed7953"
             ],
             [
              0.7777777777777778,
              "#fb9f3a"
             ],
             [
              0.8888888888888888,
              "#fdca26"
             ],
             [
              1,
              "#f0f921"
             ]
            ],
            "type": "histogram2d"
           }
          ],
          "histogram2dcontour": [
           {
            "colorbar": {
             "outlinewidth": 0,
             "ticks": ""
            },
            "colorscale": [
             [
              0,
              "#0d0887"
             ],
             [
              0.1111111111111111,
              "#46039f"
             ],
             [
              0.2222222222222222,
              "#7201a8"
             ],
             [
              0.3333333333333333,
              "#9c179e"
             ],
             [
              0.4444444444444444,
              "#bd3786"
             ],
             [
              0.5555555555555556,
              "#d8576b"
             ],
             [
              0.6666666666666666,
              "#ed7953"
             ],
             [
              0.7777777777777778,
              "#fb9f3a"
             ],
             [
              0.8888888888888888,
              "#fdca26"
             ],
             [
              1,
              "#f0f921"
             ]
            ],
            "type": "histogram2dcontour"
           }
          ],
          "mesh3d": [
           {
            "colorbar": {
             "outlinewidth": 0,
             "ticks": ""
            },
            "type": "mesh3d"
           }
          ],
          "parcoords": [
           {
            "line": {
             "colorbar": {
              "outlinewidth": 0,
              "ticks": ""
             }
            },
            "type": "parcoords"
           }
          ],
          "pie": [
           {
            "automargin": true,
            "type": "pie"
           }
          ],
          "scatter": [
           {
            "marker": {
             "colorbar": {
              "outlinewidth": 0,
              "ticks": ""
             }
            },
            "type": "scatter"
           }
          ],
          "scatter3d": [
           {
            "line": {
             "colorbar": {
              "outlinewidth": 0,
              "ticks": ""
             }
            },
            "marker": {
             "colorbar": {
              "outlinewidth": 0,
              "ticks": ""
             }
            },
            "type": "scatter3d"
           }
          ],
          "scattercarpet": [
           {
            "marker": {
             "colorbar": {
              "outlinewidth": 0,
              "ticks": ""
             }
            },
            "type": "scattercarpet"
           }
          ],
          "scattergeo": [
           {
            "marker": {
             "colorbar": {
              "outlinewidth": 0,
              "ticks": ""
             }
            },
            "type": "scattergeo"
           }
          ],
          "scattergl": [
           {
            "marker": {
             "colorbar": {
              "outlinewidth": 0,
              "ticks": ""
             }
            },
            "type": "scattergl"
           }
          ],
          "scattermapbox": [
           {
            "marker": {
             "colorbar": {
              "outlinewidth": 0,
              "ticks": ""
             }
            },
            "type": "scattermapbox"
           }
          ],
          "scatterpolar": [
           {
            "marker": {
             "colorbar": {
              "outlinewidth": 0,
              "ticks": ""
             }
            },
            "type": "scatterpolar"
           }
          ],
          "scatterpolargl": [
           {
            "marker": {
             "colorbar": {
              "outlinewidth": 0,
              "ticks": ""
             }
            },
            "type": "scatterpolargl"
           }
          ],
          "scatterternary": [
           {
            "marker": {
             "colorbar": {
              "outlinewidth": 0,
              "ticks": ""
             }
            },
            "type": "scatterternary"
           }
          ],
          "surface": [
           {
            "colorbar": {
             "outlinewidth": 0,
             "ticks": ""
            },
            "colorscale": [
             [
              0,
              "#0d0887"
             ],
             [
              0.1111111111111111,
              "#46039f"
             ],
             [
              0.2222222222222222,
              "#7201a8"
             ],
             [
              0.3333333333333333,
              "#9c179e"
             ],
             [
              0.4444444444444444,
              "#bd3786"
             ],
             [
              0.5555555555555556,
              "#d8576b"
             ],
             [
              0.6666666666666666,
              "#ed7953"
             ],
             [
              0.7777777777777778,
              "#fb9f3a"
             ],
             [
              0.8888888888888888,
              "#fdca26"
             ],
             [
              1,
              "#f0f921"
             ]
            ],
            "type": "surface"
           }
          ],
          "table": [
           {
            "cells": {
             "fill": {
              "color": "#EBF0F8"
             },
             "line": {
              "color": "white"
             }
            },
            "header": {
             "fill": {
              "color": "#C8D4E3"
             },
             "line": {
              "color": "white"
             }
            },
            "type": "table"
           }
          ]
         },
         "layout": {
          "annotationdefaults": {
           "arrowcolor": "#2a3f5f",
           "arrowhead": 0,
           "arrowwidth": 1
          },
          "autotypenumbers": "strict",
          "coloraxis": {
           "colorbar": {
            "outlinewidth": 0,
            "ticks": ""
           }
          },
          "colorscale": {
           "diverging": [
            [
             0,
             "#8e0152"
            ],
            [
             0.1,
             "#c51b7d"
            ],
            [
             0.2,
             "#de77ae"
            ],
            [
             0.3,
             "#f1b6da"
            ],
            [
             0.4,
             "#fde0ef"
            ],
            [
             0.5,
             "#f7f7f7"
            ],
            [
             0.6,
             "#e6f5d0"
            ],
            [
             0.7,
             "#b8e186"
            ],
            [
             0.8,
             "#7fbc41"
            ],
            [
             0.9,
             "#4d9221"
            ],
            [
             1,
             "#276419"
            ]
           ],
           "sequential": [
            [
             0,
             "#0d0887"
            ],
            [
             0.1111111111111111,
             "#46039f"
            ],
            [
             0.2222222222222222,
             "#7201a8"
            ],
            [
             0.3333333333333333,
             "#9c179e"
            ],
            [
             0.4444444444444444,
             "#bd3786"
            ],
            [
             0.5555555555555556,
             "#d8576b"
            ],
            [
             0.6666666666666666,
             "#ed7953"
            ],
            [
             0.7777777777777778,
             "#fb9f3a"
            ],
            [
             0.8888888888888888,
             "#fdca26"
            ],
            [
             1,
             "#f0f921"
            ]
           ],
           "sequentialminus": [
            [
             0,
             "#0d0887"
            ],
            [
             0.1111111111111111,
             "#46039f"
            ],
            [
             0.2222222222222222,
             "#7201a8"
            ],
            [
             0.3333333333333333,
             "#9c179e"
            ],
            [
             0.4444444444444444,
             "#bd3786"
            ],
            [
             0.5555555555555556,
             "#d8576b"
            ],
            [
             0.6666666666666666,
             "#ed7953"
            ],
            [
             0.7777777777777778,
             "#fb9f3a"
            ],
            [
             0.8888888888888888,
             "#fdca26"
            ],
            [
             1,
             "#f0f921"
            ]
           ]
          },
          "colorway": [
           "#636efa",
           "#EF553B",
           "#00cc96",
           "#ab63fa",
           "#FFA15A",
           "#19d3f3",
           "#FF6692",
           "#B6E880",
           "#FF97FF",
           "#FECB52"
          ],
          "font": {
           "color": "#2a3f5f"
          },
          "geo": {
           "bgcolor": "white",
           "lakecolor": "white",
           "landcolor": "#E5ECF6",
           "showlakes": true,
           "showland": true,
           "subunitcolor": "white"
          },
          "hoverlabel": {
           "align": "left"
          },
          "hovermode": "closest",
          "mapbox": {
           "style": "light"
          },
          "paper_bgcolor": "white",
          "plot_bgcolor": "#E5ECF6",
          "polar": {
           "angularaxis": {
            "gridcolor": "white",
            "linecolor": "white",
            "ticks": ""
           },
           "bgcolor": "#E5ECF6",
           "radialaxis": {
            "gridcolor": "white",
            "linecolor": "white",
            "ticks": ""
           }
          },
          "scene": {
           "xaxis": {
            "backgroundcolor": "#E5ECF6",
            "gridcolor": "white",
            "gridwidth": 2,
            "linecolor": "white",
            "showbackground": true,
            "ticks": "",
            "zerolinecolor": "white"
           },
           "yaxis": {
            "backgroundcolor": "#E5ECF6",
            "gridcolor": "white",
            "gridwidth": 2,
            "linecolor": "white",
            "showbackground": true,
            "ticks": "",
            "zerolinecolor": "white"
           },
           "zaxis": {
            "backgroundcolor": "#E5ECF6",
            "gridcolor": "white",
            "gridwidth": 2,
            "linecolor": "white",
            "showbackground": true,
            "ticks": "",
            "zerolinecolor": "white"
           }
          },
          "shapedefaults": {
           "line": {
            "color": "#2a3f5f"
           }
          },
          "ternary": {
           "aaxis": {
            "gridcolor": "white",
            "linecolor": "white",
            "ticks": ""
           },
           "baxis": {
            "gridcolor": "white",
            "linecolor": "white",
            "ticks": ""
           },
           "bgcolor": "#E5ECF6",
           "caxis": {
            "gridcolor": "white",
            "linecolor": "white",
            "ticks": ""
           }
          },
          "title": {
           "x": 0.05
          },
          "xaxis": {
           "automargin": true,
           "gridcolor": "white",
           "linecolor": "white",
           "ticks": "",
           "title": {
            "standoff": 15
           },
           "zerolinecolor": "white",
           "zerolinewidth": 2
          },
          "yaxis": {
           "automargin": true,
           "gridcolor": "white",
           "linecolor": "white",
           "ticks": "",
           "title": {
            "standoff": 15
           },
           "zerolinecolor": "white",
           "zerolinewidth": 2
          }
         }
        }
       }
      },
      "text/html": [
       "<div>                            <div id=\"ecff3ab9-3eca-4887-9cf1-ac9b8431f003\" class=\"plotly-graph-div\" style=\"height:525px; width:100%;\"></div>            <script type=\"text/javascript\">                require([\"plotly\"], function(Plotly) {                    window.PLOTLYENV=window.PLOTLYENV || {};                                    if (document.getElementById(\"ecff3ab9-3eca-4887-9cf1-ac9b8431f003\")) {                    Plotly.newPlot(                        \"ecff3ab9-3eca-4887-9cf1-ac9b8431f003\",                        [{\"name\": \"model\", \"type\": \"scatter\", \"x\": [-2.0, -1.96, -1.92, -1.88, -1.84, -1.8, -1.76, -1.72, -1.68, -1.6400000000000001, -1.6, -1.56, -1.52, -1.48, -1.44, -1.4, -1.3599999999999999, -1.3199999999999998, -1.28, -1.24, -1.2, -1.1600000000000001, -1.12, -1.08, -1.04, -1.0, -0.96, -0.9199999999999999, -0.8799999999999999, -0.8400000000000001, -0.8, -0.76, -0.72, -0.6799999999999999, -0.6399999999999999, -0.5999999999999999, -0.56, -0.52, -0.48, -0.43999999999999995, -0.3999999999999999, -0.3599999999999999, -0.32000000000000006, -0.28, -0.24, -0.19999999999999996, -0.15999999999999992, -0.11999999999999988, -0.08000000000000007, -0.040000000000000036, 0.0, 0.040000000000000036, 0.08000000000000007, 0.1200000000000001, 0.16000000000000014, 0.20000000000000018, 0.2400000000000002, 0.28000000000000025, 0.31999999999999984, 0.3599999999999999, 0.3999999999999999, 0.43999999999999995, 0.48, 0.52, 0.56, 0.6000000000000001, 0.6400000000000001, 0.6800000000000002, 0.7200000000000002, 0.7600000000000002, 0.8000000000000003, 0.8399999999999999, 0.8799999999999999, 0.9199999999999999, 0.96, 1.0, 1.04, 1.08, 1.12, 1.1600000000000001, 1.2000000000000002, 1.2400000000000002, 1.2800000000000002, 1.3200000000000003, 1.3599999999999999, 1.4, 1.44, 1.48, 1.52, 1.56, 1.6, 1.6400000000000001, 1.6800000000000002, 1.7200000000000002, 1.7600000000000002, 1.8000000000000003, 1.8399999999999999, 1.88, 1.92, 1.96, 2.0], \"y\": [0.0, 0.0, 0.0, 0.0, 0.0, 0.0, 0.0, 0.0, 0.0, 0.0, 0.0, 0.0, 0.0, 0.0, 0.0, 0.0, 0.0, 0.0, 0.0, 0.0, 0.0, 0.0, 0.0, 0.0, 0.0, 0.0, 0.030000000000000027, 0.06000000000000005, 0.09000000000000008, 0.11999999999999994, 0.14999999999999997, 0.18, 0.21000000000000002, 0.24000000000000005, 0.2700000000000001, 0.3000000000000001, 0.32999999999999996, 0.36, 0.42000000000000004, 0.5100000000000001, 0.6000000000000002, 0.6900000000000003, 0.7799999999999998, 0.8699999999999999, 0.96, 1.05, 1.1400000000000001, 1.2300000000000002, 1.3199999999999998, 1.41, 1.5, 1.59, 1.6800000000000002, 1.7700000000000002, 1.8600000000000003, 1.9500000000000004, 2.0400000000000005, 2.130000000000001, 2.2199999999999998, 2.3099999999999996, 2.4, 2.4899999999999998, 2.58, 2.67, 2.7600000000000002, 2.85, 2.9400000000000004, 3.0300000000000002, 3.1200000000000006, 3.2100000000000004, 3.3000000000000007, 3.3899999999999997, 3.4799999999999995, 3.57, 3.66, 3.75, 3.84, 3.93, 4.0200000000000005, 4.11, 4.2, 4.290000000000001, 4.380000000000001, 4.470000000000001, 4.56, 4.65, 4.74, 4.83, 4.92, 5.01, 5.1, 5.19, 5.28, 5.370000000000001, 5.460000000000001, 5.550000000000001, 5.64, 5.7299999999999995, 5.82, 5.91, 6.0]}, {\"name\": \"plane 21\", \"type\": \"scatter\", \"x\": [-2.0, -1.96, -1.92, -1.88, -1.84, -1.8, -1.76, -1.72, -1.68, -1.6400000000000001, -1.6, -1.56, -1.52, -1.48, -1.44, -1.4, -1.3599999999999999, -1.3199999999999998, -1.28, -1.24, -1.2, -1.1600000000000001, -1.12, -1.08, -1.04, -1.0, -0.96, -0.9199999999999999, -0.8799999999999999, -0.8400000000000001, -0.8, -0.76, -0.72, -0.6799999999999999, -0.6399999999999999, -0.5999999999999999, -0.56, -0.52, -0.48, -0.43999999999999995, -0.3999999999999999, -0.3599999999999999, -0.32000000000000006, -0.28, -0.24, -0.19999999999999996, -0.15999999999999992, -0.11999999999999988, -0.08000000000000007, -0.040000000000000036, 0.0, 0.040000000000000036, 0.08000000000000007, 0.1200000000000001, 0.16000000000000014, 0.20000000000000018, 0.2400000000000002, 0.28000000000000025, 0.31999999999999984, 0.3599999999999999, 0.3999999999999999, 0.43999999999999995, 0.48, 0.52, 0.56, 0.6000000000000001, 0.6400000000000001, 0.6800000000000002, 0.7200000000000002, 0.7600000000000002, 0.8000000000000003, 0.8399999999999999, 0.8799999999999999, 0.9199999999999999, 0.96, 1.0, 1.04, 1.08, 1.12, 1.1600000000000001, 1.2000000000000002, 1.2400000000000002, 1.2800000000000002, 1.3200000000000003, 1.3599999999999999, 1.4, 1.44, 1.48, 1.52, 1.56, 1.6, 1.6400000000000001, 1.6800000000000002, 1.7200000000000002, 1.7600000000000002, 1.8000000000000003, 1.8399999999999999, 1.88, 1.92, 1.96, 2.0], \"y\": [-1.25, -1.21, -1.17, -1.13, -1.09, -1.05, -1.01, -0.97, -0.9299999999999999, -0.8900000000000001, -0.8500000000000001, -0.81, -0.77, -0.73, -0.69, -0.6499999999999999, -0.6099999999999999, -0.5699999999999998, -0.53, -0.49, -0.44999999999999996, -0.41000000000000014, -0.3700000000000001, -0.33000000000000007, -0.29000000000000004, -0.25, -0.20999999999999996, -0.16999999999999993, -0.1299999999999999, -0.09000000000000008, -0.050000000000000044, -0.010000000000000009, 0.030000000000000027, 0.07000000000000006, 0.1100000000000001, 0.15000000000000013, 0.18999999999999995, 0.22999999999999998, 0.27, 0.31000000000000005, 0.3500000000000001, 0.3900000000000001, 0.42999999999999994, 0.47, 0.51, 0.55, 0.5900000000000001, 0.6300000000000001, 0.6699999999999999, 0.71, 0.75, 0.79, 0.8300000000000001, 0.8700000000000001, 0.9100000000000001, 0.9500000000000002, 0.9900000000000002, 1.0300000000000002, 1.0699999999999998, 1.1099999999999999, 1.15, 1.19, 1.23, 1.27, 1.31, 1.35, 1.3900000000000001, 1.4300000000000002, 1.4700000000000002, 1.5100000000000002, 1.5500000000000003, 1.5899999999999999, 1.63, 1.67, 1.71, 1.75, 1.79, 1.83, 1.87, 1.9100000000000001, 1.9500000000000002, 1.9900000000000002, 2.0300000000000002, 2.0700000000000003, 2.11, 2.15, 2.19, 2.23, 2.27, 2.31, 2.35, 2.39, 2.43, 2.47, 2.5100000000000002, 2.5500000000000003, 2.59, 2.63, 2.67, 2.71, 2.75]}, {\"name\": \"plane 22\", \"type\": \"scatter\", \"x\": [-2.0, -1.96, -1.92, -1.88, -1.84, -1.8, -1.76, -1.72, -1.68, -1.6400000000000001, -1.6, -1.56, -1.52, -1.48, -1.44, -1.4, -1.3599999999999999, -1.3199999999999998, -1.28, -1.24, -1.2, -1.1600000000000001, -1.12, -1.08, -1.04, -1.0, -0.96, -0.9199999999999999, -0.8799999999999999, -0.8400000000000001, -0.8, -0.76, -0.72, -0.6799999999999999, -0.6399999999999999, -0.5999999999999999, -0.56, -0.52, -0.48, -0.43999999999999995, -0.3999999999999999, -0.3599999999999999, -0.32000000000000006, -0.28, -0.24, -0.19999999999999996, -0.15999999999999992, -0.11999999999999988, -0.08000000000000007, -0.040000000000000036, 0.0, 0.040000000000000036, 0.08000000000000007, 0.1200000000000001, 0.16000000000000014, 0.20000000000000018, 0.2400000000000002, 0.28000000000000025, 0.31999999999999984, 0.3599999999999999, 0.3999999999999999, 0.43999999999999995, 0.48, 0.52, 0.56, 0.6000000000000001, 0.6400000000000001, 0.6800000000000002, 0.7200000000000002, 0.7600000000000002, 0.8000000000000003, 0.8399999999999999, 0.8799999999999999, 0.9199999999999999, 0.96, 1.0, 1.04, 1.08, 1.12, 1.1600000000000001, 1.2000000000000002, 1.2400000000000002, 1.2800000000000002, 1.3200000000000003, 1.3599999999999999, 1.4, 1.44, 1.48, 1.52, 1.56, 1.6, 1.6400000000000001, 1.6800000000000002, 1.7200000000000002, 1.7600000000000002, 1.8000000000000003, 1.8399999999999999, 1.88, 1.92, 1.96, 2.0], \"y\": [-1.75, -1.7, -1.65, -1.5999999999999999, -1.55, -1.5, -1.45, -1.4, -1.3499999999999999, -1.3000000000000003, -1.25, -1.2000000000000002, -1.15, -1.1, -1.0499999999999998, -0.9999999999999999, -0.9499999999999998, -0.8999999999999998, -0.8500000000000001, -0.8, -0.75, -0.7000000000000002, -0.6500000000000001, -0.6000000000000001, -0.55, -0.5, -0.44999999999999996, -0.3999999999999999, -0.34999999999999987, -0.3000000000000001, -0.25000000000000006, -0.2, -0.14999999999999997, -0.09999999999999992, -0.04999999999999988, 1.6653345369377348e-16, 0.04999999999999993, 0.09999999999999998, 0.15000000000000002, 0.20000000000000007, 0.2500000000000001, 0.30000000000000016, 0.3499999999999999, 0.39999999999999997, 0.45, 0.5, 0.55, 0.6000000000000001, 0.6499999999999999, 0.7, 0.75, 0.8, 0.8500000000000001, 0.9000000000000001, 0.9500000000000002, 1.0000000000000002, 1.0500000000000003, 1.1000000000000003, 1.15, 1.1999999999999997, 1.25, 1.2999999999999998, 1.35, 1.4, 1.4500000000000002, 1.5, 1.5500000000000003, 1.6, 1.6500000000000004, 1.7000000000000002, 1.7500000000000004, 1.7999999999999998, 1.8499999999999999, 1.9, 1.95, 2.0, 2.05, 2.1, 2.1500000000000004, 2.2, 2.25, 2.3000000000000003, 2.3500000000000005, 2.4000000000000004, 2.4499999999999997, 2.5, 2.55, 2.6, 2.65, 2.7, 2.75, 2.8000000000000003, 2.85, 2.9000000000000004, 2.95, 3.0000000000000004, 3.05, 3.0999999999999996, 3.15, 3.2, 3.25]}, {\"name\": \"plane 21 + plane 22\", \"type\": \"scatter\", \"x\": [-2.0, -1.96, -1.92, -1.88, -1.84, -1.8, -1.76, -1.72, -1.68, -1.6400000000000001, -1.6, -1.56, -1.52, -1.48, -1.44, -1.4, -1.3599999999999999, -1.3199999999999998, -1.28, -1.24, -1.2, -1.1600000000000001, -1.12, -1.08, -1.04, -1.0, -0.96, -0.9199999999999999, -0.8799999999999999, -0.8400000000000001, -0.8, -0.76, -0.72, -0.6799999999999999, -0.6399999999999999, -0.5999999999999999, -0.56, -0.52, -0.48, -0.43999999999999995, -0.3999999999999999, -0.3599999999999999, -0.32000000000000006, -0.28, -0.24, -0.19999999999999996, -0.15999999999999992, -0.11999999999999988, -0.08000000000000007, -0.040000000000000036, 0.0, 0.040000000000000036, 0.08000000000000007, 0.1200000000000001, 0.16000000000000014, 0.20000000000000018, 0.2400000000000002, 0.28000000000000025, 0.31999999999999984, 0.3599999999999999, 0.3999999999999999, 0.43999999999999995, 0.48, 0.52, 0.56, 0.6000000000000001, 0.6400000000000001, 0.6800000000000002, 0.7200000000000002, 0.7600000000000002, 0.8000000000000003, 0.8399999999999999, 0.8799999999999999, 0.9199999999999999, 0.96, 1.0, 1.04, 1.08, 1.12, 1.1600000000000001, 1.2000000000000002, 1.2400000000000002, 1.2800000000000002, 1.3200000000000003, 1.3599999999999999, 1.4, 1.44, 1.48, 1.52, 1.56, 1.6, 1.6400000000000001, 1.6800000000000002, 1.7200000000000002, 1.7600000000000002, 1.8000000000000003, 1.8399999999999999, 1.88, 1.92, 1.96, 2.0], \"y\": [-3.0, -2.91, -2.82, -2.7299999999999995, -2.64, -2.55, -2.46, -2.37, -2.28, -2.1900000000000004, -2.1, -2.0100000000000002, -1.92, -1.83, -1.7399999999999998, -1.65, -1.5599999999999996, -1.4699999999999998, -1.3800000000000001, -1.29, -1.2, -1.1100000000000003, -1.0200000000000002, -0.9300000000000002, -0.8400000000000001, -0.75, -0.6599999999999999, -0.5699999999999998, -0.47999999999999976, -0.3900000000000002, -0.3000000000000001, -0.21000000000000002, -0.11999999999999994, -0.02999999999999986, 0.06000000000000022, 0.1500000000000003, 0.23999999999999988, 0.32999999999999996, 0.42000000000000004, 0.5100000000000001, 0.6000000000000002, 0.6900000000000003, 0.7799999999999998, 0.8699999999999999, 0.96, 1.05, 1.1400000000000001, 1.2300000000000002, 1.3199999999999998, 1.41, 1.5, 1.59, 1.6800000000000002, 1.7700000000000002, 1.8600000000000003, 1.9500000000000004, 2.0400000000000005, 2.130000000000001, 2.2199999999999998, 2.3099999999999996, 2.4, 2.4899999999999998, 2.58, 2.67, 2.7600000000000002, 2.85, 2.9400000000000004, 3.0300000000000002, 3.1200000000000006, 3.2100000000000004, 3.3000000000000007, 3.3899999999999997, 3.4799999999999995, 3.57, 3.66, 3.75, 3.84, 3.93, 4.0200000000000005, 4.11, 4.2, 4.290000000000001, 4.380000000000001, 4.470000000000001, 4.56, 4.65, 4.74, 4.83, 4.92, 5.01, 5.1, 5.19, 5.28, 5.370000000000001, 5.460000000000001, 5.550000000000001, 5.64, 5.7299999999999995, 5.82, 5.91, 6.0]}],                        {\"template\": {\"data\": {\"bar\": [{\"error_x\": {\"color\": \"#2a3f5f\"}, \"error_y\": {\"color\": \"#2a3f5f\"}, \"marker\": {\"line\": {\"color\": \"#E5ECF6\", \"width\": 0.5}}, \"type\": \"bar\"}], \"barpolar\": [{\"marker\": {\"line\": {\"color\": \"#E5ECF6\", \"width\": 0.5}}, \"type\": \"barpolar\"}], \"carpet\": [{\"aaxis\": {\"endlinecolor\": \"#2a3f5f\", \"gridcolor\": \"white\", \"linecolor\": \"white\", \"minorgridcolor\": \"white\", \"startlinecolor\": \"#2a3f5f\"}, \"baxis\": {\"endlinecolor\": \"#2a3f5f\", \"gridcolor\": \"white\", \"linecolor\": \"white\", \"minorgridcolor\": \"white\", \"startlinecolor\": \"#2a3f5f\"}, \"type\": \"carpet\"}], \"choropleth\": [{\"colorbar\": {\"outlinewidth\": 0, \"ticks\": \"\"}, \"type\": \"choropleth\"}], \"contour\": [{\"colorbar\": {\"outlinewidth\": 0, \"ticks\": \"\"}, \"colorscale\": [[0.0, \"#0d0887\"], [0.1111111111111111, \"#46039f\"], [0.2222222222222222, \"#7201a8\"], [0.3333333333333333, \"#9c179e\"], [0.4444444444444444, \"#bd3786\"], [0.5555555555555556, \"#d8576b\"], [0.6666666666666666, \"#ed7953\"], [0.7777777777777778, \"#fb9f3a\"], [0.8888888888888888, \"#fdca26\"], [1.0, \"#f0f921\"]], \"type\": \"contour\"}], \"contourcarpet\": [{\"colorbar\": {\"outlinewidth\": 0, \"ticks\": \"\"}, \"type\": \"contourcarpet\"}], \"heatmap\": [{\"colorbar\": {\"outlinewidth\": 0, \"ticks\": \"\"}, \"colorscale\": [[0.0, \"#0d0887\"], [0.1111111111111111, \"#46039f\"], [0.2222222222222222, \"#7201a8\"], [0.3333333333333333, \"#9c179e\"], [0.4444444444444444, \"#bd3786\"], [0.5555555555555556, \"#d8576b\"], [0.6666666666666666, \"#ed7953\"], [0.7777777777777778, \"#fb9f3a\"], [0.8888888888888888, \"#fdca26\"], [1.0, \"#f0f921\"]], \"type\": \"heatmap\"}], \"heatmapgl\": [{\"colorbar\": {\"outlinewidth\": 0, \"ticks\": \"\"}, \"colorscale\": [[0.0, \"#0d0887\"], [0.1111111111111111, \"#46039f\"], [0.2222222222222222, \"#7201a8\"], [0.3333333333333333, \"#9c179e\"], [0.4444444444444444, \"#bd3786\"], [0.5555555555555556, \"#d8576b\"], [0.6666666666666666, \"#ed7953\"], [0.7777777777777778, \"#fb9f3a\"], [0.8888888888888888, \"#fdca26\"], [1.0, \"#f0f921\"]], \"type\": \"heatmapgl\"}], \"histogram\": [{\"marker\": {\"colorbar\": {\"outlinewidth\": 0, \"ticks\": \"\"}}, \"type\": \"histogram\"}], \"histogram2d\": [{\"colorbar\": {\"outlinewidth\": 0, \"ticks\": \"\"}, \"colorscale\": [[0.0, \"#0d0887\"], [0.1111111111111111, \"#46039f\"], [0.2222222222222222, \"#7201a8\"], [0.3333333333333333, \"#9c179e\"], [0.4444444444444444, \"#bd3786\"], [0.5555555555555556, \"#d8576b\"], [0.6666666666666666, \"#ed7953\"], [0.7777777777777778, \"#fb9f3a\"], [0.8888888888888888, \"#fdca26\"], [1.0, \"#f0f921\"]], \"type\": \"histogram2d\"}], \"histogram2dcontour\": [{\"colorbar\": {\"outlinewidth\": 0, \"ticks\": \"\"}, \"colorscale\": [[0.0, \"#0d0887\"], [0.1111111111111111, \"#46039f\"], [0.2222222222222222, \"#7201a8\"], [0.3333333333333333, \"#9c179e\"], [0.4444444444444444, \"#bd3786\"], [0.5555555555555556, \"#d8576b\"], [0.6666666666666666, \"#ed7953\"], [0.7777777777777778, \"#fb9f3a\"], [0.8888888888888888, \"#fdca26\"], [1.0, \"#f0f921\"]], \"type\": \"histogram2dcontour\"}], \"mesh3d\": [{\"colorbar\": {\"outlinewidth\": 0, \"ticks\": \"\"}, \"type\": \"mesh3d\"}], \"parcoords\": [{\"line\": {\"colorbar\": {\"outlinewidth\": 0, \"ticks\": \"\"}}, \"type\": \"parcoords\"}], \"pie\": [{\"automargin\": true, \"type\": \"pie\"}], \"scatter\": [{\"marker\": {\"colorbar\": {\"outlinewidth\": 0, \"ticks\": \"\"}}, \"type\": \"scatter\"}], \"scatter3d\": [{\"line\": {\"colorbar\": {\"outlinewidth\": 0, \"ticks\": \"\"}}, \"marker\": {\"colorbar\": {\"outlinewidth\": 0, \"ticks\": \"\"}}, \"type\": \"scatter3d\"}], \"scattercarpet\": [{\"marker\": {\"colorbar\": {\"outlinewidth\": 0, \"ticks\": \"\"}}, \"type\": \"scattercarpet\"}], \"scattergeo\": [{\"marker\": {\"colorbar\": {\"outlinewidth\": 0, \"ticks\": \"\"}}, \"type\": \"scattergeo\"}], \"scattergl\": [{\"marker\": {\"colorbar\": {\"outlinewidth\": 0, \"ticks\": \"\"}}, \"type\": \"scattergl\"}], \"scattermapbox\": [{\"marker\": {\"colorbar\": {\"outlinewidth\": 0, \"ticks\": \"\"}}, \"type\": \"scattermapbox\"}], \"scatterpolar\": [{\"marker\": {\"colorbar\": {\"outlinewidth\": 0, \"ticks\": \"\"}}, \"type\": \"scatterpolar\"}], \"scatterpolargl\": [{\"marker\": {\"colorbar\": {\"outlinewidth\": 0, \"ticks\": \"\"}}, \"type\": \"scatterpolargl\"}], \"scatterternary\": [{\"marker\": {\"colorbar\": {\"outlinewidth\": 0, \"ticks\": \"\"}}, \"type\": \"scatterternary\"}], \"surface\": [{\"colorbar\": {\"outlinewidth\": 0, \"ticks\": \"\"}, \"colorscale\": [[0.0, \"#0d0887\"], [0.1111111111111111, \"#46039f\"], [0.2222222222222222, \"#7201a8\"], [0.3333333333333333, \"#9c179e\"], [0.4444444444444444, \"#bd3786\"], [0.5555555555555556, \"#d8576b\"], [0.6666666666666666, \"#ed7953\"], [0.7777777777777778, \"#fb9f3a\"], [0.8888888888888888, \"#fdca26\"], [1.0, \"#f0f921\"]], \"type\": \"surface\"}], \"table\": [{\"cells\": {\"fill\": {\"color\": \"#EBF0F8\"}, \"line\": {\"color\": \"white\"}}, \"header\": {\"fill\": {\"color\": \"#C8D4E3\"}, \"line\": {\"color\": \"white\"}}, \"type\": \"table\"}]}, \"layout\": {\"annotationdefaults\": {\"arrowcolor\": \"#2a3f5f\", \"arrowhead\": 0, \"arrowwidth\": 1}, \"autotypenumbers\": \"strict\", \"coloraxis\": {\"colorbar\": {\"outlinewidth\": 0, \"ticks\": \"\"}}, \"colorscale\": {\"diverging\": [[0, \"#8e0152\"], [0.1, \"#c51b7d\"], [0.2, \"#de77ae\"], [0.3, \"#f1b6da\"], [0.4, \"#fde0ef\"], [0.5, \"#f7f7f7\"], [0.6, \"#e6f5d0\"], [0.7, \"#b8e186\"], [0.8, \"#7fbc41\"], [0.9, \"#4d9221\"], [1, \"#276419\"]], \"sequential\": [[0.0, \"#0d0887\"], [0.1111111111111111, \"#46039f\"], [0.2222222222222222, \"#7201a8\"], [0.3333333333333333, \"#9c179e\"], [0.4444444444444444, \"#bd3786\"], [0.5555555555555556, \"#d8576b\"], [0.6666666666666666, \"#ed7953\"], [0.7777777777777778, \"#fb9f3a\"], [0.8888888888888888, \"#fdca26\"], [1.0, \"#f0f921\"]], \"sequentialminus\": [[0.0, \"#0d0887\"], [0.1111111111111111, \"#46039f\"], [0.2222222222222222, \"#7201a8\"], [0.3333333333333333, \"#9c179e\"], [0.4444444444444444, \"#bd3786\"], [0.5555555555555556, \"#d8576b\"], [0.6666666666666666, \"#ed7953\"], [0.7777777777777778, \"#fb9f3a\"], [0.8888888888888888, \"#fdca26\"], [1.0, \"#f0f921\"]]}, \"colorway\": [\"#636efa\", \"#EF553B\", \"#00cc96\", \"#ab63fa\", \"#FFA15A\", \"#19d3f3\", \"#FF6692\", \"#B6E880\", \"#FF97FF\", \"#FECB52\"], \"font\": {\"color\": \"#2a3f5f\"}, \"geo\": {\"bgcolor\": \"white\", \"lakecolor\": \"white\", \"landcolor\": \"#E5ECF6\", \"showlakes\": true, \"showland\": true, \"subunitcolor\": \"white\"}, \"hoverlabel\": {\"align\": \"left\"}, \"hovermode\": \"closest\", \"mapbox\": {\"style\": \"light\"}, \"paper_bgcolor\": \"white\", \"plot_bgcolor\": \"#E5ECF6\", \"polar\": {\"angularaxis\": {\"gridcolor\": \"white\", \"linecolor\": \"white\", \"ticks\": \"\"}, \"bgcolor\": \"#E5ECF6\", \"radialaxis\": {\"gridcolor\": \"white\", \"linecolor\": \"white\", \"ticks\": \"\"}}, \"scene\": {\"xaxis\": {\"backgroundcolor\": \"#E5ECF6\", \"gridcolor\": \"white\", \"gridwidth\": 2, \"linecolor\": \"white\", \"showbackground\": true, \"ticks\": \"\", \"zerolinecolor\": \"white\"}, \"yaxis\": {\"backgroundcolor\": \"#E5ECF6\", \"gridcolor\": \"white\", \"gridwidth\": 2, \"linecolor\": \"white\", \"showbackground\": true, \"ticks\": \"\", \"zerolinecolor\": \"white\"}, \"zaxis\": {\"backgroundcolor\": \"#E5ECF6\", \"gridcolor\": \"white\", \"gridwidth\": 2, \"linecolor\": \"white\", \"showbackground\": true, \"ticks\": \"\", \"zerolinecolor\": \"white\"}}, \"shapedefaults\": {\"line\": {\"color\": \"#2a3f5f\"}}, \"ternary\": {\"aaxis\": {\"gridcolor\": \"white\", \"linecolor\": \"white\", \"ticks\": \"\"}, \"baxis\": {\"gridcolor\": \"white\", \"linecolor\": \"white\", \"ticks\": \"\"}, \"bgcolor\": \"#E5ECF6\", \"caxis\": {\"gridcolor\": \"white\", \"linecolor\": \"white\", \"ticks\": \"\"}}, \"title\": {\"x\": 0.05}, \"xaxis\": {\"automargin\": true, \"gridcolor\": \"white\", \"linecolor\": \"white\", \"ticks\": \"\", \"title\": {\"standoff\": 15}, \"zerolinecolor\": \"white\", \"zerolinewidth\": 2}, \"yaxis\": {\"automargin\": true, \"gridcolor\": \"white\", \"linecolor\": \"white\", \"ticks\": \"\", \"title\": {\"standoff\": 15}, \"zerolinecolor\": \"white\", \"zerolinewidth\": 2}}}},                        {\"responsive\": true}                    ).then(function(){\n",
       "                            \n",
       "var gd = document.getElementById('ecff3ab9-3eca-4887-9cf1-ac9b8431f003');\n",
       "var x = new MutationObserver(function (mutations, observer) {{\n",
       "        var display = window.getComputedStyle(gd).display;\n",
       "        if (!display || display === 'none') {{\n",
       "            console.log([gd, 'removed!']);\n",
       "            Plotly.purge(gd);\n",
       "            observer.disconnect();\n",
       "        }}\n",
       "}});\n",
       "\n",
       "// Listen for the removal of the full notebook cells\n",
       "var notebookContainer = gd.closest('#notebook-container');\n",
       "if (notebookContainer) {{\n",
       "    x.observe(notebookContainer, {childList: true});\n",
       "}}\n",
       "\n",
       "// Listen for the clearing of the current output cell\n",
       "var outputEl = gd.closest('.output');\n",
       "if (outputEl) {{\n",
       "    x.observe(outputEl, {childList: true});\n",
       "}}\n",
       "\n",
       "                        })                };                });            </script>        </div>"
      ]
     },
     "metadata": {},
     "output_type": "display_data"
    }
   ],
   "source": [
    "fig = go.Figure()\n",
    "\n",
    "fig.add_trace(\n",
    "    go.Scatter(\n",
    "        x = X,\n",
    "        y = Y,\n",
    "        name = 'model'\n",
    "    )\n",
    ")\n",
    "\n",
    "# fig.add_trace(\n",
    "#     go.Scatter(\n",
    "#         x = X,\n",
    "#         y = Y11,\n",
    "#         name = 'plane 11'\n",
    "#     )\n",
    "# )\n",
    "\n",
    "# fig.add_trace(\n",
    "#     go.Scatter(\n",
    "#         x = X,\n",
    "#         y = Y12,\n",
    "#         name = 'plane 12'\n",
    "#     )\n",
    "# )\n",
    "\n",
    "fig.add_trace(\n",
    "    go.Scatter(\n",
    "        x = X,\n",
    "        y = Y21,\n",
    "        name = 'plane 21'\n",
    "    )\n",
    ")\n",
    "\n",
    "fig.add_trace(\n",
    "    go.Scatter(\n",
    "        x = X,\n",
    "        y = Y22,\n",
    "        name = 'plane 22'\n",
    "    )\n",
    ")\n",
    "\n",
    "fig.add_trace(\n",
    "    go.Scatter(\n",
    "        x = X,\n",
    "        y = Y21 + Y22,\n",
    "        name = 'plane 21 + plane 22'\n",
    "    )\n",
    ")\n",
    "\n",
    "fig.show()"
   ]
  },
  {
   "cell_type": "code",
   "execution_count": null,
   "id": "binding-romantic",
   "metadata": {},
   "outputs": [],
   "source": []
  }
 ],
 "metadata": {
  "kernelspec": {
   "display_name": "Python 3",
   "language": "python",
   "name": "python3"
  },
  "language_info": {
   "codemirror_mode": {
    "name": "ipython",
    "version": 3
   },
   "file_extension": ".py",
   "mimetype": "text/x-python",
   "name": "python",
   "nbconvert_exporter": "python",
   "pygments_lexer": "ipython3",
   "version": "3.7.10"
  }
 },
 "nbformat": 4,
 "nbformat_minor": 5
}
