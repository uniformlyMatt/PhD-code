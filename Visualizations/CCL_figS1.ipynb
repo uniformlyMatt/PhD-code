{
 "cells": [
  {
   "cell_type": "code",
   "execution_count": 24,
   "metadata": {},
   "outputs": [],
   "source": [
    "import matplotlib.pyplot as plt\n",
    "import numpy as np\n",
    "from scipy.special import binom"
   ]
  },
  {
   "cell_type": "code",
   "execution_count": 30,
   "metadata": {},
   "outputs": [],
   "source": [
    "def separation_probability(P, N):\n",
    "    \"\"\" Returns the number of dichotomies that can be separated by a  \n",
    "        linear hyperplane through the origin.\n",
    "    \"\"\"\n",
    "    \n",
    "    total = 2*sum([binom(P-1, k) for k in range(N)]) \n",
    "    \n",
    "    return total\n",
    "\n",
    "def get_P(N):    \n",
    "    lower = N/10\n",
    "    upper = N*10\n",
    "    \n",
    "    return np.arange(lower, upper, dtype=int)"
   ]
  },
  {
   "cell_type": "code",
   "execution_count": 31,
   "metadata": {},
   "outputs": [],
   "source": [
    "dimensions = [50, 500]\n",
    "manifold_dims = [0, 1, 2, 4]\n",
    "ratios = [get_P(N)/N for N in dimensions]\n",
    "num_objects = [get_P(N) for N in dimensions]"
   ]
  },
  {
   "cell_type": "code",
   "execution_count": 52,
   "metadata": {},
   "outputs": [],
   "source": [
    "probs_50_1 = [2**(-float(P))*separation_probability(P, 50 - P*1) for P in num_objects[0]]\n",
    "probs_50_2 = [2**(-float(P))*separation_probability(P, 50 - P*2) for P in num_objects[0]]"
   ]
  },
  {
   "cell_type": "code",
   "execution_count": 58,
   "metadata": {},
   "outputs": [
    {
     "data": {
      "image/png": "[encoded data removed]",
      "text/plain": [
       "<Figure size 432x288 with 1 Axes>"
      ]
     },
     "metadata": {
      "needs_background": "light"
     },
     "output_type": "display_data"
    }
   ],
   "source": [
    "fig, ax = plt.subplots()\n",
    "\n",
    "ax.plot(ratios[0], probs_50_1, color = 'r');\n",
    "ax.plot(ratios[0], probs_50_2, color = 'g');\n",
    "ax.axvline(x = 2/3, color = 'k', linestyle = '--');\n",
    "ax.axvline(x = 2/5, color = 'k', linestyle = '--');\n",
    "ax.set_title('Reproduction of Figure S1');"
   ]
  },
  {
   "cell_type": "code",
   "execution_count": null,
   "metadata": {},
   "outputs": [],
   "source": []
  }
 ],
 "metadata": {
  "kernelspec": {
   "display_name": "Python 3",
   "language": "python",
   "name": "python3"
  },
  "language_info": {
   "codemirror_mode": {
    "name": "ipython",
    "version": 3
   },
   "file_extension": ".py",
   "mimetype": "text/x-python",
   "name": "python",
   "nbconvert_exporter": "python",
   "pygments_lexer": "ipython3",
   "version": "3.7.1"
  }
 },
 "nbformat": 4,
 "nbformat_minor": 4
}
