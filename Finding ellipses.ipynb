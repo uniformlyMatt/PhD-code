{
 "cells": [
  {
   "cell_type": "code",
   "execution_count": 1,
   "metadata": {},
   "outputs": [],
   "source": [
    "import numpy as np\n",
    "import matplotlib.pyplot as plt\n",
    "from scipy.signal import fftconvolve, correlate"
   ]
  },
  {
   "cell_type": "code",
   "execution_count": 152,
   "metadata": {},
   "outputs": [],
   "source": [
    "class Ellipse:\n",
    "    def __init__(self, r, a, b, theta = np.linspace(0, 2*np.pi, 301)):\n",
    "        self.r = r\n",
    "        self.theta = theta\n",
    "        self.a = a\n",
    "        self.b = b\n",
    "        \n",
    "    def xy(self):\n",
    "        return self.a*self.r*np.cos(self.theta), self.b*self.r*np.sin(self.theta)\n",
    "        \n",
    "    def display(self):\n",
    "        fig, ax = plt.subplots()\n",
    "        ax.set_aspect(1)\n",
    "        \n",
    "        ax.plot(*self.xy(), c = 'r', ls = '-');"
   ]
  },
  {
   "cell_type": "code",
   "execution_count": 155,
   "metadata": {},
   "outputs": [
    {
     "data": {
      "image/png": "[encoded data removed]",
      "text/plain": [
       "<Figure size 432x288 with 1 Axes>"
      ]
     },
     "metadata": {
      "needs_background": "light"
     },
     "output_type": "display_data"
    }
   ],
   "source": [
    "ell1 = Ellipse(4, 3, 1.5)\n",
    "ell1.display()"
   ]
  },
  {
   "cell_type": "markdown",
   "metadata": {},
   "source": [
    "Now how do I make this into an image array?"
   ]
  },
  {
   "cell_type": "code",
   "execution_count": 157,
   "metadata": {},
   "outputs": [],
   "source": [
    "class Line:\n",
    "    def __init__(self, slope = 1, intercept = 0, t = np.linspace(0,1,101)):\n",
    "        self.slope = slope\n",
    "        self.intercept = intercept\n",
    "        self.t = t\n",
    "        \n",
    "    def xy(self):\n",
    "        return self.t, self.slope*self.t + self.intercept\n",
    "    \n",
    "    def display(self):\n",
    "        fig, ax = plt.subplots()\n",
    "        ax.set_aspect(1)\n",
    "        \n",
    "        ax.plot(*self.xy(), c = 'r', ls = '-');"
   ]
  },
  {
   "cell_type": "code",
   "execution_count": 161,
   "metadata": {},
   "outputs": [
    {
     "data": {
      "image/png": "[encoded data removed]",
      "text/plain": [
       "<Figure size 432x288 with 1 Axes>"
      ]
     },
     "metadata": {
      "needs_background": "light"
     },
     "output_type": "display_data"
    }
   ],
   "source": [
    "line1 = Line(slope = 10)\n",
    "line1.display()"
   ]
  },
  {
   "cell_type": "code",
   "execution_count": null,
   "metadata": {},
   "outputs": [],
   "source": []
  }
 ],
 "metadata": {
  "kernelspec": {
   "display_name": "Python 3",
   "language": "python",
   "name": "python3"
  },
  "language_info": {
   "codemirror_mode": {
    "name": "ipython",
    "version": 3
   },
   "file_extension": ".py",
   "mimetype": "text/x-python",
   "name": "python",
   "nbconvert_exporter": "python",
   "pygments_lexer": "ipython3",
   "version": "3.7.1"
  }
 },
 "nbformat": 4,
 "nbformat_minor": 4
}
