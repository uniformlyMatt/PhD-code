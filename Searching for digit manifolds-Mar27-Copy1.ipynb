{
 "cells": [
  {
   "cell_type": "markdown",
   "metadata": {},
   "source": [
    "# Searching for digit manifolds\n",
    "\n",
    "In this notebook, we'll calculate the level of agreement between elements of a class of digits. The intention is to use the similarity of class elements to sort the elements into a manifold (each successive element appears to be a slight perturbation or continuous deformation of the previous element).\n",
    "\n",
    "There are 10 classes of digits 0-9. Let $A$ and $B$ be elements of class $N$. For current purposes, the distance between $A$ and $B$ is given by\n",
    "\n",
    "$$\n",
    "    ||A - B||_F,\n",
    "$$\n",
    "where $||\\cdot||_F$ represents the Frobenius norm.\n",
    "\n",
    "The first few cells of the notebook are just data management and sorting. "
   ]
  },
  {
   "cell_type": "code",
   "execution_count": 11,
   "metadata": {},
   "outputs": [],
   "source": [
    "%matplotlib inline\n",
    "\n",
    "import numpy as np\n",
    "import pandas as pd\n",
    "import matplotlib.pyplot as plt\n",
    "from scipy.ndimage import morphology as morph\n",
    "from scipy.signal import fftconvolve, correlate\n",
    "import numpy.linalg as LA\n",
    "from sklearn.datasets import fetch_openml"
   ]
  },
  {
   "cell_type": "code",
   "execution_count": 2,
   "metadata": {},
   "outputs": [],
   "source": [
    "# Load MNIST data from https://www.openml.org/d/554\n",
    "images, labels = fetch_openml('mnist_784', version=1, return_X_y=True)"
   ]
  },
  {
   "cell_type": "code",
   "execution_count": 3,
   "metadata": {},
   "outputs": [],
   "source": [
    "''' Right now the images and labels are in separate arrays. \n",
    "    I'll put them into a single pandas DataFrame to make it\n",
    "    easier to sort by label.\n",
    "'''\n",
    "\n",
    "images = pd.DataFrame(zip(images,labels), columns = ['Image','Class label'])\n",
    "\n",
    "# Not really necessary, but I'll sort the images by class label.\n",
    "images.sort_values(by = 'Class label', inplace = True)\n",
    "\n",
    "# By default, the 'Class label' column is not integer, so we'll convert it here.\n",
    "images['Class label'] = images['Class label'].apply(int)\n",
    "\n",
    "# The images are also flattened, so we'll reshape them to (28,28)\n",
    "images['Image'] = images['Image'].apply(lambda x: x.reshape((28,28)))"
   ]
  },
  {
   "cell_type": "code",
   "execution_count": 4,
   "metadata": {},
   "outputs": [],
   "source": [
    "def extract_image(frame, digit):\n",
    "    \"\"\" This function takes in a dataset containing images. \n",
    "        The set is converted to a DataFrame, and the images\n",
    "        corresponding to the given digit are extracted.\n",
    "        \n",
    "        An array containing images of the given digit is\n",
    "        returned.\n",
    "    \"\"\"\n",
    "        \n",
    "    ims = frame[frame['Class label'] == digit]\n",
    "    \n",
    "    # Now ims only contains labels matching the digit, so we can drop the label column.\n",
    "    ims = ims.drop('Class label', axis = 1)\n",
    "    \n",
    "    return np.array(ims['Image'])\n",
    "\n",
    "def display_lengths(data):\n",
    "    \"\"\" Display the total length of each subset of digits. \n",
    "    \n",
    "        Used for checking that the conversion worked as expected.\n",
    "    \"\"\"\n",
    "    \n",
    "    for i in range(10):\n",
    "        print('{} examples of digit {}'.format(len(data[i]), i))\n",
    "    print('{} examples in total\\n'.format(sum(len(data[i]) for i in range(10))))\n",
    "    return None"
   ]
  },
  {
   "cell_type": "code",
   "execution_count": 32,
   "metadata": {},
   "outputs": [
    {
     "name": "stdout",
     "output_type": "stream",
     "text": [
      "6903 examples of digit 0\n",
      "7877 examples of digit 1\n",
      "6990 examples of digit 2\n",
      "7141 examples of digit 3\n",
      "6824 examples of digit 4\n",
      "6313 examples of digit 5\n",
      "6876 examples of digit 6\n",
      "7293 examples of digit 7\n",
      "6825 examples of digit 8\n",
      "6958 examples of digit 9\n",
      "70000 examples in total\n",
      "\n"
     ]
    }
   ],
   "source": [
    "data = [extract_image(images, i) for i in range(10)]\n",
    "display_lengths(data)"
   ]
  },
  {
   "cell_type": "code",
   "execution_count": 6,
   "metadata": {},
   "outputs": [],
   "source": [
    "# Finally, save each digit separately\n",
    "\n",
    "zero = data[0]\n",
    "one = data[1]\n",
    "two = data[2]\n",
    "three = data[3]\n",
    "four = data[4]\n",
    "five = data[5]\n",
    "six = data[6]\n",
    "seven = data[7]\n",
    "eight = data[8]\n",
    "nine = data[9]"
   ]
  },
  {
   "cell_type": "markdown",
   "metadata": {},
   "source": [
    "# Calculating the agreement between classes\n",
    "\n",
    "We'll take samples from a class and calculate the sample variance. Next, we calculate the agreement within the sample."
   ]
  },
  {
   "cell_type": "code",
   "execution_count": 7,
   "metadata": {},
   "outputs": [],
   "source": [
    "# Take N samples from each digit\n",
    "\n",
    "N = 250\n",
    "\n",
    "sample0 = zero[:N]\n",
    "sample1 = one[:N]\n",
    "sample2 = two[:N]\n",
    "sample3 = three[:N]\n",
    "sample4 = four[:N]\n",
    "sample5 = five[:N]\n",
    "sample6 = six[:N]\n",
    "sample7 = seven[:N]\n",
    "sample8 = eight[:N]\n",
    "sample9 = nine[:N]"
   ]
  },
  {
   "cell_type": "code",
   "execution_count": 8,
   "metadata": {},
   "outputs": [
    {
     "data": {
      "image/png": "[encoded data removed]",
      "text/plain": [
       "<Figure size 720x720 with 4 Axes>"
      ]
     },
     "metadata": {},
     "output_type": "display_data"
    }
   ],
   "source": [
    "# Variance of the zero digits\n",
    "\n",
    "fig, ax = plt.subplots(2,2,figsize=(10,10))\n",
    "ax\n",
    "\n",
    "ax[0,0].imshow(zero.var(), cmap = 'gray')\n",
    "ax[0,0].set(title = 'Variance of Zero class', xticks = [], yticks = []);\n",
    "\n",
    "ax[0,1].imshow(zero.mean(), cmap = 'gray')\n",
    "ax[0,1].set(title = 'Mean of Zero class', xticks = [], yticks = []);\n",
    "\n",
    "ax[1,0].imshow(sample0.var(), cmap = 'gray')\n",
    "ax[1,0].set(title = 'Sample Variance of zero class', xticks = [], yticks = []);\n",
    "\n",
    "ax[1,1].imshow(sample0.mean(), cmap = 'gray')\n",
    "ax[1,1].set(title = 'Sample Mean of zero class', xticks = [], yticks = []);\n",
    "\n",
    "# plt.imshow(zero.var(), cmap = 'gray');"
   ]
  },
  {
   "cell_type": "markdown",
   "metadata": {},
   "source": [
    "# Finding the families for the zero digit class\n",
    "\n",
    "The algorithm below calculates the agreement between all elements in a sample of the zero digits. We then sort the elements into 'families', where the 'siblings' in each family are given by agreement over 80%. \n",
    "\n",
    "When each family is identified, we take the mean image of each family.\n",
    "\n",
    "**Note:** When I programmed this, I was using 'chain' instead of 'family'. We'll take that to mean the same thing for now and I'll change it later."
   ]
  },
  {
   "cell_type": "code",
   "execution_count": 35,
   "metadata": {},
   "outputs": [],
   "source": [
    "distance = [LA.norm(A-B,'fro') for A in sample0 for B in sample0]"
   ]
  },
  {
   "cell_type": "code",
   "execution_count": 18,
   "metadata": {},
   "outputs": [
    {
     "data": {
      "text/html": [
       "<div>\n",
       "<style scoped>\n",
       "    .dataframe tbody tr th:only-of-type {\n",
       "        vertical-align: middle;\n",
       "    }\n",
       "\n",
       "    .dataframe tbody tr th {\n",
       "        vertical-align: top;\n",
       "    }\n",
       "\n",
       "    .dataframe thead th {\n",
       "        text-align: right;\n",
       "    }\n",
       "</style>\n",
       "<table border=\"1\" class=\"dataframe\">\n",
       "  <thead>\n",
       "    <tr style=\"text-align: right;\">\n",
       "      <th></th>\n",
       "      <th>0</th>\n",
       "      <th>1</th>\n",
       "      <th>2</th>\n",
       "      <th>3</th>\n",
       "      <th>4</th>\n",
       "      <th>5</th>\n",
       "      <th>6</th>\n",
       "      <th>7</th>\n",
       "      <th>8</th>\n",
       "      <th>9</th>\n",
       "      <th>...</th>\n",
       "      <th>240</th>\n",
       "      <th>241</th>\n",
       "      <th>242</th>\n",
       "      <th>243</th>\n",
       "      <th>244</th>\n",
       "      <th>245</th>\n",
       "      <th>246</th>\n",
       "      <th>247</th>\n",
       "      <th>248</th>\n",
       "      <th>249</th>\n",
       "    </tr>\n",
       "  </thead>\n",
       "  <tbody>\n",
       "    <tr>\n",
       "      <th>0</th>\n",
       "      <td>NaN</td>\n",
       "      <td>2417.260846</td>\n",
       "      <td>1837.475442</td>\n",
       "      <td>3101.254424</td>\n",
       "      <td>1443.170122</td>\n",
       "      <td>2180.883766</td>\n",
       "      <td>2467.329528</td>\n",
       "      <td>2431.790493</td>\n",
       "      <td>2955.406402</td>\n",
       "      <td>2222.081907</td>\n",
       "      <td>...</td>\n",
       "      <td>2428.464124</td>\n",
       "      <td>1807.847892</td>\n",
       "      <td>1775.443043</td>\n",
       "      <td>2622.165136</td>\n",
       "      <td>2461.835494</td>\n",
       "      <td>1754.651247</td>\n",
       "      <td>2811.885666</td>\n",
       "      <td>3062.352364</td>\n",
       "      <td>2931.985334</td>\n",
       "      <td>2760.381133</td>\n",
       "    </tr>\n",
       "    <tr>\n",
       "      <th>1</th>\n",
       "      <td>2417.260846</td>\n",
       "      <td>NaN</td>\n",
       "      <td>1655.749981</td>\n",
       "      <td>2548.322782</td>\n",
       "      <td>1835.711851</td>\n",
       "      <td>1678.054826</td>\n",
       "      <td>2367.751465</td>\n",
       "      <td>1565.004473</td>\n",
       "      <td>1885.544749</td>\n",
       "      <td>1452.785600</td>\n",
       "      <td>...</td>\n",
       "      <td>1499.503251</td>\n",
       "      <td>2031.025849</td>\n",
       "      <td>1964.781922</td>\n",
       "      <td>1922.517100</td>\n",
       "      <td>2862.580654</td>\n",
       "      <td>2004.069610</td>\n",
       "      <td>2046.312537</td>\n",
       "      <td>2469.498735</td>\n",
       "      <td>2530.526427</td>\n",
       "      <td>2074.962650</td>\n",
       "    </tr>\n",
       "    <tr>\n",
       "      <th>2</th>\n",
       "      <td>1837.475442</td>\n",
       "      <td>1655.749981</td>\n",
       "      <td>NaN</td>\n",
       "      <td>2721.957200</td>\n",
       "      <td>1234.780952</td>\n",
       "      <td>1518.894993</td>\n",
       "      <td>2042.589778</td>\n",
       "      <td>1834.634841</td>\n",
       "      <td>2370.707700</td>\n",
       "      <td>1545.364682</td>\n",
       "      <td>...</td>\n",
       "      <td>1939.855149</td>\n",
       "      <td>1520.345356</td>\n",
       "      <td>2007.413261</td>\n",
       "      <td>2011.202128</td>\n",
       "      <td>2621.955377</td>\n",
       "      <td>1895.132449</td>\n",
       "      <td>2388.819583</td>\n",
       "      <td>2720.337111</td>\n",
       "      <td>2600.503028</td>\n",
       "      <td>2466.932103</td>\n",
       "    </tr>\n",
       "    <tr>\n",
       "      <th>3</th>\n",
       "      <td>3101.254424</td>\n",
       "      <td>2548.322782</td>\n",
       "      <td>2721.957200</td>\n",
       "      <td>NaN</td>\n",
       "      <td>2858.195410</td>\n",
       "      <td>2673.148144</td>\n",
       "      <td>2522.632752</td>\n",
       "      <td>2353.864907</td>\n",
       "      <td>2139.366261</td>\n",
       "      <td>2460.166864</td>\n",
       "      <td>...</td>\n",
       "      <td>2589.762344</td>\n",
       "      <td>2791.958990</td>\n",
       "      <td>2770.776606</td>\n",
       "      <td>2617.137941</td>\n",
       "      <td>3225.423228</td>\n",
       "      <td>2993.990982</td>\n",
       "      <td>1916.671072</td>\n",
       "      <td>2442.140659</td>\n",
       "      <td>1631.277720</td>\n",
       "      <td>2600.284408</td>\n",
       "    </tr>\n",
       "    <tr>\n",
       "      <th>4</th>\n",
       "      <td>1443.170122</td>\n",
       "      <td>1835.711851</td>\n",
       "      <td>1234.780952</td>\n",
       "      <td>2858.195410</td>\n",
       "      <td>NaN</td>\n",
       "      <td>1666.340901</td>\n",
       "      <td>2203.355850</td>\n",
       "      <td>2014.221189</td>\n",
       "      <td>2618.078494</td>\n",
       "      <td>1750.983724</td>\n",
       "      <td>...</td>\n",
       "      <td>2126.621264</td>\n",
       "      <td>1476.589313</td>\n",
       "      <td>1639.856091</td>\n",
       "      <td>2139.606973</td>\n",
       "      <td>2400.644497</td>\n",
       "      <td>1738.163111</td>\n",
       "      <td>2424.651109</td>\n",
       "      <td>2711.872416</td>\n",
       "      <td>2754.253438</td>\n",
       "      <td>2533.279692</td>\n",
       "    </tr>\n",
       "    <tr>\n",
       "      <th>...</th>\n",
       "      <td>...</td>\n",
       "      <td>...</td>\n",
       "      <td>...</td>\n",
       "      <td>...</td>\n",
       "      <td>...</td>\n",
       "      <td>...</td>\n",
       "      <td>...</td>\n",
       "      <td>...</td>\n",
       "      <td>...</td>\n",
       "      <td>...</td>\n",
       "      <td>...</td>\n",
       "      <td>...</td>\n",
       "      <td>...</td>\n",
       "      <td>...</td>\n",
       "      <td>...</td>\n",
       "      <td>...</td>\n",
       "      <td>...</td>\n",
       "      <td>...</td>\n",
       "      <td>...</td>\n",
       "      <td>...</td>\n",
       "      <td>...</td>\n",
       "    </tr>\n",
       "    <tr>\n",
       "      <th>245</th>\n",
       "      <td>1754.651247</td>\n",
       "      <td>2004.069610</td>\n",
       "      <td>1895.132449</td>\n",
       "      <td>2993.990982</td>\n",
       "      <td>1738.163111</td>\n",
       "      <td>1891.327840</td>\n",
       "      <td>2352.289948</td>\n",
       "      <td>2020.029703</td>\n",
       "      <td>2860.025524</td>\n",
       "      <td>1740.633505</td>\n",
       "      <td>...</td>\n",
       "      <td>1850.011081</td>\n",
       "      <td>2334.469747</td>\n",
       "      <td>1406.991471</td>\n",
       "      <td>2518.457266</td>\n",
       "      <td>2909.645511</td>\n",
       "      <td>NaN</td>\n",
       "      <td>2662.807916</td>\n",
       "      <td>2968.643293</td>\n",
       "      <td>2829.812891</td>\n",
       "      <td>2474.230992</td>\n",
       "    </tr>\n",
       "    <tr>\n",
       "      <th>246</th>\n",
       "      <td>2811.885666</td>\n",
       "      <td>2046.312537</td>\n",
       "      <td>2388.819583</td>\n",
       "      <td>1916.671072</td>\n",
       "      <td>2424.651109</td>\n",
       "      <td>2312.284801</td>\n",
       "      <td>2231.941307</td>\n",
       "      <td>1959.495343</td>\n",
       "      <td>1941.238265</td>\n",
       "      <td>2083.939299</td>\n",
       "      <td>...</td>\n",
       "      <td>2291.354403</td>\n",
       "      <td>2303.446765</td>\n",
       "      <td>2457.869606</td>\n",
       "      <td>2157.204441</td>\n",
       "      <td>3007.692637</td>\n",
       "      <td>2662.807916</td>\n",
       "      <td>NaN</td>\n",
       "      <td>2140.174058</td>\n",
       "      <td>2040.571734</td>\n",
       "      <td>1977.460240</td>\n",
       "    </tr>\n",
       "    <tr>\n",
       "      <th>247</th>\n",
       "      <td>3062.352364</td>\n",
       "      <td>2469.498735</td>\n",
       "      <td>2720.337111</td>\n",
       "      <td>2442.140659</td>\n",
       "      <td>2711.872416</td>\n",
       "      <td>2360.422420</td>\n",
       "      <td>2489.706208</td>\n",
       "      <td>2647.679928</td>\n",
       "      <td>2372.758943</td>\n",
       "      <td>2628.869339</td>\n",
       "      <td>...</td>\n",
       "      <td>2696.662011</td>\n",
       "      <td>2689.955018</td>\n",
       "      <td>2838.392150</td>\n",
       "      <td>2914.201091</td>\n",
       "      <td>3228.385665</td>\n",
       "      <td>2968.643293</td>\n",
       "      <td>2140.174058</td>\n",
       "      <td>NaN</td>\n",
       "      <td>2491.880816</td>\n",
       "      <td>2547.382578</td>\n",
       "    </tr>\n",
       "    <tr>\n",
       "      <th>248</th>\n",
       "      <td>2931.985334</td>\n",
       "      <td>2530.526427</td>\n",
       "      <td>2600.503028</td>\n",
       "      <td>1631.277720</td>\n",
       "      <td>2754.253438</td>\n",
       "      <td>2556.771010</td>\n",
       "      <td>2445.574166</td>\n",
       "      <td>2363.839039</td>\n",
       "      <td>2448.600212</td>\n",
       "      <td>2500.276385</td>\n",
       "      <td>...</td>\n",
       "      <td>2493.725326</td>\n",
       "      <td>2689.943866</td>\n",
       "      <td>2768.182075</td>\n",
       "      <td>2577.529437</td>\n",
       "      <td>3155.091758</td>\n",
       "      <td>2829.812891</td>\n",
       "      <td>2040.571734</td>\n",
       "      <td>2491.880816</td>\n",
       "      <td>NaN</td>\n",
       "      <td>2599.379541</td>\n",
       "    </tr>\n",
       "    <tr>\n",
       "      <th>249</th>\n",
       "      <td>2760.381133</td>\n",
       "      <td>2074.962650</td>\n",
       "      <td>2466.932103</td>\n",
       "      <td>2600.284408</td>\n",
       "      <td>2533.279692</td>\n",
       "      <td>2439.848356</td>\n",
       "      <td>2434.795885</td>\n",
       "      <td>2195.028246</td>\n",
       "      <td>2267.439305</td>\n",
       "      <td>2085.974592</td>\n",
       "      <td>...</td>\n",
       "      <td>2288.863910</td>\n",
       "      <td>2457.846212</td>\n",
       "      <td>2403.891844</td>\n",
       "      <td>2577.247757</td>\n",
       "      <td>3028.345423</td>\n",
       "      <td>2474.230992</td>\n",
       "      <td>1977.460240</td>\n",
       "      <td>2547.382578</td>\n",
       "      <td>2599.379541</td>\n",
       "      <td>NaN</td>\n",
       "    </tr>\n",
       "  </tbody>\n",
       "</table>\n",
       "<p>250 rows × 250 columns</p>\n",
       "</div>"
      ],
      "text/plain": [
       "             0            1            2            3            4    \\\n",
       "0            NaN  2417.260846  1837.475442  3101.254424  1443.170122   \n",
       "1    2417.260846          NaN  1655.749981  2548.322782  1835.711851   \n",
       "2    1837.475442  1655.749981          NaN  2721.957200  1234.780952   \n",
       "3    3101.254424  2548.322782  2721.957200          NaN  2858.195410   \n",
       "4    1443.170122  1835.711851  1234.780952  2858.195410          NaN   \n",
       "..           ...          ...          ...          ...          ...   \n",
       "245  1754.651247  2004.069610  1895.132449  2993.990982  1738.163111   \n",
       "246  2811.885666  2046.312537  2388.819583  1916.671072  2424.651109   \n",
       "247  3062.352364  2469.498735  2720.337111  2442.140659  2711.872416   \n",
       "248  2931.985334  2530.526427  2600.503028  1631.277720  2754.253438   \n",
       "249  2760.381133  2074.962650  2466.932103  2600.284408  2533.279692   \n",
       "\n",
       "             5            6            7            8            9    ...  \\\n",
       "0    2180.883766  2467.329528  2431.790493  2955.406402  2222.081907  ...   \n",
       "1    1678.054826  2367.751465  1565.004473  1885.544749  1452.785600  ...   \n",
       "2    1518.894993  2042.589778  1834.634841  2370.707700  1545.364682  ...   \n",
       "3    2673.148144  2522.632752  2353.864907  2139.366261  2460.166864  ...   \n",
       "4    1666.340901  2203.355850  2014.221189  2618.078494  1750.983724  ...   \n",
       "..           ...          ...          ...          ...          ...  ...   \n",
       "245  1891.327840  2352.289948  2020.029703  2860.025524  1740.633505  ...   \n",
       "246  2312.284801  2231.941307  1959.495343  1941.238265  2083.939299  ...   \n",
       "247  2360.422420  2489.706208  2647.679928  2372.758943  2628.869339  ...   \n",
       "248  2556.771010  2445.574166  2363.839039  2448.600212  2500.276385  ...   \n",
       "249  2439.848356  2434.795885  2195.028246  2267.439305  2085.974592  ...   \n",
       "\n",
       "             240          241          242          243          244  \\\n",
       "0    2428.464124  1807.847892  1775.443043  2622.165136  2461.835494   \n",
       "1    1499.503251  2031.025849  1964.781922  1922.517100  2862.580654   \n",
       "2    1939.855149  1520.345356  2007.413261  2011.202128  2621.955377   \n",
       "3    2589.762344  2791.958990  2770.776606  2617.137941  3225.423228   \n",
       "4    2126.621264  1476.589313  1639.856091  2139.606973  2400.644497   \n",
       "..           ...          ...          ...          ...          ...   \n",
       "245  1850.011081  2334.469747  1406.991471  2518.457266  2909.645511   \n",
       "246  2291.354403  2303.446765  2457.869606  2157.204441  3007.692637   \n",
       "247  2696.662011  2689.955018  2838.392150  2914.201091  3228.385665   \n",
       "248  2493.725326  2689.943866  2768.182075  2577.529437  3155.091758   \n",
       "249  2288.863910  2457.846212  2403.891844  2577.247757  3028.345423   \n",
       "\n",
       "             245          246          247          248          249  \n",
       "0    1754.651247  2811.885666  3062.352364  2931.985334  2760.381133  \n",
       "1    2004.069610  2046.312537  2469.498735  2530.526427  2074.962650  \n",
       "2    1895.132449  2388.819583  2720.337111  2600.503028  2466.932103  \n",
       "3    2993.990982  1916.671072  2442.140659  1631.277720  2600.284408  \n",
       "4    1738.163111  2424.651109  2711.872416  2754.253438  2533.279692  \n",
       "..           ...          ...          ...          ...          ...  \n",
       "245          NaN  2662.807916  2968.643293  2829.812891  2474.230992  \n",
       "246  2662.807916          NaN  2140.174058  2040.571734  1977.460240  \n",
       "247  2968.643293  2140.174058          NaN  2491.880816  2547.382578  \n",
       "248  2829.812891  2040.571734  2491.880816          NaN  2599.379541  \n",
       "249  2474.230992  1977.460240  2547.382578  2599.379541          NaN  \n",
       "\n",
       "[250 rows x 250 columns]"
      ]
     },
     "execution_count": 18,
     "metadata": {},
     "output_type": "execute_result"
    }
   ],
   "source": [
    "dist_chart = pd.DataFrame(np.array(distance).reshape(N,N))\n",
    "dist_chart[dist_chart == 0.0] = np.nan\n",
    "dist_chart"
   ]
  },
  {
   "cell_type": "code",
   "execution_count": 31,
   "metadata": {},
   "outputs": [
    {
     "data": {
      "text/plain": [
       "0      127\n",
       "1      232\n",
       "2        4\n",
       "3       43\n",
       "4       62\n",
       "      ... \n",
       "245    132\n",
       "246     24\n",
       "247     91\n",
       "248    130\n",
       "249     24\n",
       "Length: 250, dtype: int64"
      ]
     },
     "execution_count": 31,
     "metadata": {},
     "output_type": "execute_result"
    }
   ],
   "source": [
    "dist_chart.idxmin(axis = 1, skipna = True)"
   ]
  },
  {
   "cell_type": "code",
   "execution_count": 26,
   "metadata": {},
   "outputs": [
    {
     "name": "stdout",
     "output_type": "stream",
     "text": [
      "3817.0142782022704\n",
      "53\n"
     ]
    }
   ],
   "source": [
    "def get_manifold(dist_chart, start_row = 0):\n",
    "    \"\"\" Get the manifold represented by the sample digits in dist_chart. \"\"\"\n",
    "    \n",
    "    manifold = []  \n",
    "    \n",
    "    # Find the two most dissimilar digits and make them the boundaries of the manifold\n",
    "    print(np.nanmax(dist_chart.values))\n",
    "#     print(dist_chart)\n",
    "    \n",
    "#     return manifold\n",
    "#     while not dist_chart.empty:\n",
    "#         chain = [start_row]\n",
    "\n",
    "#         ag_chart.drop(start_row, axis = 1, inplace = True)\n",
    "\n",
    "#         while ag_chart.loc[start_row].max() > threshold:\n",
    "            \n",
    "#             # Find the column that corresponds to the next row to search\n",
    "#             next_row = ag_chart.loc[start_row].idxmax(axis = 0)\n",
    "#             ag_chart.loc[start_row] = 0\n",
    "\n",
    "#             start_row = next_row\n",
    "#             # Drop the column we just searched\n",
    "#             ag_chart.drop(start_row, axis = 1, inplace = True)\n",
    "\n",
    "#             chain.append(start_row)\n",
    "        \n",
    "#         ag_chart.drop(chain, axis = 0, inplace = True)\n",
    "#         chains.append(chain)\n",
    "    \n",
    "#         try:\n",
    "#             start_row = ag_chart.index[0]\n",
    "#         except:\n",
    "#             break\n",
    "            \n",
    "#     return chains\n",
    "\n",
    "get_manifold(dist_chart)"
   ]
  },
  {
   "cell_type": "markdown",
   "metadata": {},
   "source": [
    "This next cell finds the chains of digits that have agreement of more than 80%."
   ]
  },
  {
   "cell_type": "code",
   "execution_count": 14,
   "metadata": {
    "scrolled": true
   },
   "outputs": [
    {
     "name": "stdout",
     "output_type": "stream",
     "text": [
      "[[0, 127, 187, 149, 163, 4, 75, 99, 67, 1, 222, 165, 140, 49, 215, 145, 229, 156, 82, 36, 43, 142, 95, 121, 169, 61, 72, 31, 137, 63, 93, 158, 122, 92, 53, 48, 55, 244, 87, 83, 238, 131, 120, 129, 114, 73, 189, 239, 224, 90, 37, 220, 181, 206, 160, 116, 133, 159, 144, 109, 107, 104, 69, 193, 182, 245, 132, 154, 242, 51, 86, 64, 112, 54, 240, 71, 201, 214, 217, 227, 236, 209, 190, 20, 9, 7, 25, 161, 213, 150, 170, 108, 118, 35, 196, 58, 166, 194, 94, 233, 65, 198, 77, 26, 56, 225, 134, 79, 172, 80, 106, 148, 101, 24, 246, 249, 97, 232, 192, 68, 10, 32, 30, 21, 3, 19, 167, 130, 176, 76, 237, 205, 208, 202, 157, 23, 155, 151, 186, 8, 91, 41], [2, 11, 178, 146, 96, 128, 110, 102, 119, 14, 219, 46, 50, 226, 29, 62, 47, 175, 180, 228, 174, 195, 59, 230], [5, 235, 17, 152, 218, 212, 136, 66, 85], [6], [12, 243], [13, 22, 103, 177, 216, 135, 60, 168, 200, 153, 113, 197, 78, 147, 143, 184], [15, 207, 231, 241, 34], [16, 42, 45], [18, 38], [27], [28, 191, 74], [33], [39, 81, 185, 52], [40, 117], [44], [57, 125, 141, 138, 115], [70, 204, 210, 88, 84], [89, 98, 223], [100], [105], [111], [123], [124], [126], [139, 171, 179, 164], [162], [173], [183], [188], [199], [203], [211], [221], [234], [247], [248]]\n"
     ]
    }
   ],
   "source": [
    "threshold = 0.8\n",
    "\n",
    "families = get_chains(agree_chart, threshold = threshold)\n",
    "print(families)"
   ]
  },
  {
   "cell_type": "code",
   "execution_count": 15,
   "metadata": {},
   "outputs": [
    {
     "name": "stdout",
     "output_type": "stream",
     "text": [
      "Algorithm found 36 families of digits with threshold 0.8.\n"
     ]
    },
    {
     "data": {
      "image/png": "[encoded data removed]",
      "text/plain": [
       "<Figure size 864x864 with 36 Axes>"
      ]
     },
     "metadata": {},
     "output_type": "display_data"
    }
   ],
   "source": [
    "def display_chain(chains, sample):\n",
    "    \"\"\" Display the mean digit obtained by averaging over each chain of digits. \"\"\"\n",
    "    \n",
    "    ims = [sum(sample[i] for i in chain)/len(chain) for chain in chains]\n",
    "    \n",
    "    print('Algorithm found {} families of digits with threshold {}.'.format(len(chains), threshold))\n",
    "    \n",
    "    fig, ax = plt.subplots(1,len(ims),figsize=(12,12))\n",
    "    \n",
    "    for i in range(len(ims)):\n",
    "        ax[i].imshow(ims[i], cmap = 'gray');\n",
    "        ax[i].set(xticks = [], yticks = []);\n",
    "    return None\n",
    "\n",
    "display_chain(families, sample0)"
   ]
  },
  {
   "cell_type": "markdown",
   "metadata": {},
   "source": [
    "In the output above, families with more than one member have their 'family mean' displayed (the mean of all images in the family)."
   ]
  },
  {
   "cell_type": "markdown",
   "metadata": {},
   "source": [
    "## Finding family means for every digit class\n",
    "\n",
    "This is working really well for finding chains of similar digits. Now I'll perform the algorithm on each digit class."
   ]
  },
  {
   "cell_type": "code",
   "execution_count": 16,
   "metadata": {},
   "outputs": [],
   "source": [
    "samples = [sample0, sample1, sample2, sample3, sample4, sample5, sample6, sample7, sample8, sample9]"
   ]
  },
  {
   "cell_type": "code",
   "execution_count": 17,
   "metadata": {},
   "outputs": [],
   "source": [
    "def similarity(sample):\n",
    "    \"\"\" Find the similarity matrix for a sample taken from a class of digits. \"\"\"\n",
    "    \n",
    "    agree = [LA.norm(A*B,2)/(np.sqrt(LA.norm(A*A,2))*np.sqrt(LA.norm(B*B,2))) for A in sample for B in sample]\n",
    "    \n",
    "    agree_chart = pd.DataFrame(np.array(agree).reshape(N,N))\n",
    "    agree_chart[agree_chart > 0.99] = 0\n",
    "    \n",
    "    return agree_chart"
   ]
  },
  {
   "cell_type": "code",
   "execution_count": 18,
   "metadata": {},
   "outputs": [],
   "source": [
    "# Find the agreement chart for all samples.\n",
    "agreement_charts = [similarity(sample) for sample in samples]"
   ]
  },
  {
   "cell_type": "code",
   "execution_count": 19,
   "metadata": {},
   "outputs": [],
   "source": [
    "# Find the chains of similar digits for all digit classes.\n",
    "\n",
    "all_families = {key:get_chains(ag, threshold = threshold) for key,ag in zip(range(len(agreement_charts)),agreement_charts)}"
   ]
  },
  {
   "cell_type": "code",
   "execution_count": 20,
   "metadata": {
    "scrolled": false
   },
   "outputs": [
    {
     "name": "stdout",
     "output_type": "stream",
     "text": [
      "Algorithm found 36 families of digits with threshold 0.8.\n",
      "Algorithm found 8 families of digits with threshold 0.8.\n",
      "Algorithm found 66 families of digits with threshold 0.8.\n",
      "Algorithm found 56 families of digits with threshold 0.8.\n",
      "Algorithm found 37 families of digits with threshold 0.8.\n",
      "Algorithm found 73 families of digits with threshold 0.8.\n",
      "Algorithm found 45 families of digits with threshold 0.8.\n",
      "Algorithm found 34 families of digits with threshold 0.8.\n",
      "Algorithm found 65 families of digits with threshold 0.8.\n",
      "Algorithm found 33 families of digits with threshold 0.8.\n"
     ]
    },
    {
     "data": {
      "image/png": "[encoded data removed]",
      "text/plain": [
       "<Figure size 864x864 with 36 Axes>"
      ]
     },
     "metadata": {},
     "output_type": "display_data"
    },
    {
     "data": {
      "image/png": "[encoded data removed]",
      "text/plain": [
       "<Figure size 864x864 with 8 Axes>"
      ]
     },
     "metadata": {},
     "output_type": "display_data"
    },
    {
     "data": {
      "image/png": "[encoded data removed]",
      "text/plain": [
       "<Figure size 864x864 with 66 Axes>"
      ]
     },
     "metadata": {},
     "output_type": "display_data"
    },
    {
     "data": {
      "image/png": "[encoded data removed]",
      "text/plain": [
       "<Figure size 864x864 with 56 Axes>"
      ]
     },
     "metadata": {},
     "output_type": "display_data"
    },
    {
     "data": {
      "image/png": "[encoded data removed]",
      "text/plain": [
       "<Figure size 864x864 with 37 Axes>"
      ]
     },
     "metadata": {},
     "output_type": "display_data"
    },
    {
     "data": {
      "image/png": "[encoded data removed]",
      "text/plain": [
       "<Figure size 864x864 with 73 Axes>"
      ]
     },
     "metadata": {},
     "output_type": "display_data"
    },
    {
     "data": {
      "image/png": "[encoded data removed]",
      "text/plain": [
       "<Figure size 864x864 with 45 Axes>"
      ]
     },
     "metadata": {},
     "output_type": "display_data"
    },
    {
     "data": {
      "image/png": "[encoded data removed]",
      "text/plain": [
       "<Figure size 864x864 with 34 Axes>"
      ]
     },
     "metadata": {},
     "output_type": "display_data"
    },
    {
     "data": {
      "image/png": "[encoded data removed]",
      "text/plain": [
       "<Figure size 864x864 with 65 Axes>"
      ]
     },
     "metadata": {},
     "output_type": "display_data"
    },
    {
     "data": {
      "image/png": "[encoded data removed]",
      "text/plain": [
       "<Figure size 864x864 with 33 Axes>"
      ]
     },
     "metadata": {},
     "output_type": "display_data"
    }
   ],
   "source": [
    "for key, sample in zip(all_families, samples):\n",
    "    display_chain(all_families[key], sample)"
   ]
  },
  {
   "cell_type": "markdown",
   "metadata": {},
   "source": [
    "# Computing projections onto the bases\n",
    "\n",
    "- take some random examples of digits, calculate the agreement with each basis; take largest value as the class\n",
    "\n",
    "Further ideas:\n",
    "- reduce the basis size"
   ]
  },
  {
   "cell_type": "code",
   "execution_count": 43,
   "metadata": {},
   "outputs": [
    {
     "data": {
      "image/png": "[encoded data removed]",
      "text/plain": [
       "<Figure size 1440x288 with 10 Axes>"
      ]
     },
     "metadata": {},
     "output_type": "display_data"
    }
   ],
   "source": [
    "# Selecting test digits, 1 from each class\n",
    "\n",
    "testing = [np.random.choice(data[i][500:]) for i in range(10)]\n",
    "\n",
    "# Show the test digits\n",
    "fig, ax = plt.subplots(1, 10, figsize = (20,4))\n",
    "\n",
    "for i in range(10):\n",
    "    ax[i].imshow(testing[i], cmap = 'gray')\n",
    "    ax[i].set(xticks = [], yticks = []);"
   ]
  },
  {
   "cell_type": "code",
   "execution_count": 233,
   "metadata": {},
   "outputs": [
    {
     "name": "stdout",
     "output_type": "stream",
     "text": [
      "36 images computed for family of length 36\n",
      "8 images computed for family of length 8\n",
      "66 images computed for family of length 66\n",
      "56 images computed for family of length 56\n",
      "37 images computed for family of length 37\n",
      "73 images computed for family of length 73\n",
      "45 images computed for family of length 45\n",
      "34 images computed for family of length 34\n",
      "65 images computed for family of length 65\n",
      "33 images computed for family of length 33\n"
     ]
    }
   ],
   "source": [
    "# Computing similarity of the test digits with the computed digit families - highest agreement indicates the digit class\n",
    "\n",
    "def project_test_digit(digit, family):\n",
    "    \"\"\" Calculate the projection of 'digit' onto a 'family' of digits. \"\"\"\n",
    "    \n",
    "    coef = [LA.norm(digit*B,'fro')/(np.sqrt(LA.norm(digit*digit,'fro'))*np.sqrt(LA.norm(B*B,'fro'))) for B in family]\n",
    "    \n",
    "    mean_agreement = np.mean(coef)\n",
    "    return mean_agreement\n",
    "\n",
    "def mean_digits(family, sample):\n",
    "    \"\"\" Take a family of digits, compute the mean image for long families. \"\"\"\n",
    "    \n",
    "    ims = [sum(sample[i] for i in chain)/len(chain) for chain in family]\n",
    "    print('{} images computed for family of length {}'.format(len(ims), len(family)))\n",
    "    \n",
    "    return ims\n",
    "\n",
    "bases = {}\n",
    "\n",
    "# Get the mean image for families with length greater than 1\n",
    "for key, sample, index in zip(all_families, samples, range(10)):\n",
    "    bases[index] = mean_digits(all_families[key], sample)\n",
    "    "
   ]
  },
  {
   "cell_type": "code",
   "execution_count": 245,
   "metadata": {
    "scrolled": true
   },
   "outputs": [],
   "source": [
    "\"\"\" This calculates the projection of each testing digit onto every basis in 'bases'.\n",
    "\"\"\"\n",
    "\n",
    "projections = [[project_test_digit(digit, bases[j]) for j in range(10)] for digit in testing]"
   ]
  },
  {
   "cell_type": "code",
   "execution_count": 255,
   "metadata": {},
   "outputs": [],
   "source": [
    "# Finally, determining the class label for the testing images\n",
    "\n",
    "def get_labels(projections):\n",
    "    \"\"\" Calculate the class labels for each testing digit. \"\"\"\n",
    "    \n",
    "    msg = 'Test digit {} is most likely in class {}'\n",
    "    \n",
    "    labels = [np.argmax(proj) for proj in projections]\n",
    "    \n",
    "    for i in range(len(projections)):\n",
    "        print(msg.format(i, labels[i]))\n",
    "        \n",
    "    return list(zip(range(len(projections)),labels))"
   ]
  },
  {
   "cell_type": "code",
   "execution_count": 256,
   "metadata": {},
   "outputs": [
    {
     "data": {
      "text/plain": [
       "88"
      ]
     },
     "execution_count": 256,
     "metadata": {},
     "output_type": "execute_result"
    }
   ],
   "source": [
    "np.argmax(projections)"
   ]
  },
  {
   "cell_type": "code",
   "execution_count": 257,
   "metadata": {},
   "outputs": [
    {
     "name": "stdout",
     "output_type": "stream",
     "text": [
      "Test digit 0 is most likely in class 0\n",
      "Test digit 1 is most likely in class 1\n",
      "Test digit 2 is most likely in class 9\n",
      "Test digit 3 is most likely in class 3\n",
      "Test digit 4 is most likely in class 9\n",
      "Test digit 5 is most likely in class 0\n",
      "Test digit 6 is most likely in class 6\n",
      "Test digit 7 is most likely in class 9\n",
      "Test digit 8 is most likely in class 8\n",
      "Test digit 9 is most likely in class 0\n"
     ]
    },
    {
     "data": {
      "text/plain": [
       "[(0, 0),\n",
       " (1, 1),\n",
       " (2, 9),\n",
       " (3, 3),\n",
       " (4, 9),\n",
       " (5, 0),\n",
       " (6, 6),\n",
       " (7, 9),\n",
       " (8, 8),\n",
       " (9, 0)]"
      ]
     },
     "execution_count": 257,
     "metadata": {},
     "output_type": "execute_result"
    }
   ],
   "source": [
    "get_labels(projections)"
   ]
  },
  {
   "cell_type": "code",
   "execution_count": null,
   "metadata": {},
   "outputs": [],
   "source": [
    "def classification_error(result):\n",
    "    pass"
   ]
  }
 ],
 "metadata": {
  "kernelspec": {
   "display_name": "Python 3",
   "language": "python",
   "name": "python3"
  },
  "language_info": {
   "codemirror_mode": {
    "name": "ipython",
    "version": 3
   },
   "file_extension": ".py",
   "mimetype": "text/x-python",
   "name": "python",
   "nbconvert_exporter": "python",
   "pygments_lexer": "ipython3",
   "version": "3.7.6"
  }
 },
 "nbformat": 4,
 "nbformat_minor": 2
}
