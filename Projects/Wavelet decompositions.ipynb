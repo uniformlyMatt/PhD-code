{
 "cells": [
  {
   "cell_type": "markdown",
   "id": "368f0323-86a0-4532-9372-021487976122",
   "metadata": {},
   "source": [
    "# Goal\n",
    "\n",
    "I want to explore various wavelet decompositions on digital images.\n",
    "\n",
    "Questions:\n",
    "- What effect do various scale and translation parameters have on the decomposition?\n",
    "- How similar are the decompositions of the same object imaged at two different scales?\n",
    "- How similar are the decompositions of translations of the same objects?\n",
    "\n",
    "The overall goal is to investigate if wavelet decompositions might be suitable for constructing adjacency graphs for real-world digital image data."
   ]
  },
  {
   "cell_type": "code",
   "execution_count": 1,
   "id": "9ae0409f-a6f9-424b-91d3-b721eda864a1",
   "metadata": {},
   "outputs": [],
   "source": [
    "import numpy as np\n",
    "import plotly.express as px\n",
    "import plotly.graph_objects as go\n",
    "\n",
    "from sklearn.decomposition import PCA\n",
    "from sklearn.metrics.pairwise import euclidean_distances\n",
    "from sklearn.metrics import classification_report\n",
    "\n",
    "from scipy.linalg import eigh\n",
    "\n",
    "import pyshearlab as ps\n",
    "import pywt\n",
    "\n",
    "from keras.datasets import mnist\n",
    "from keras.utils import to_categorical\n",
    "\n",
    "from tabulate import tabulate"
   ]
  },
  {
   "cell_type": "code",
   "execution_count": 9,
   "id": "455782c6-36e7-40ce-86c4-60c51c327e6b",
   "metadata": {},
   "outputs": [],
   "source": [
    "# load in MNIST dataset\n",
    "(X_train, y_train), (X_test, y_test) = mnist.load_data()\n",
    "\n",
    "# only do this for grayscale images\n",
    "X_train = X_train.astype('float32') / 255.\n",
    "X_test = X_test.astype('float32') / 255.\n",
    "\n",
    "# X_train = X_train.reshape((len(X_train), np.prod(X_train.shape[1:])))\n",
    "# X_test = X_test.reshape((len(X_test), np.prod(X_test.shape[1:])))\n",
    "\n",
    "# encode the class labels as one-hot vectors\n",
    "y_train = to_categorical(y_train)\n",
    "y_test = to_categorical(y_test)"
   ]
  },
  {
   "cell_type": "code",
   "execution_count": 54,
   "id": "25137cad-2f73-47e7-a411-65d356ba4dbf",
   "metadata": {},
   "outputs": [
    {
     "name": "stdout",
     "output_type": "stream",
     "text": [
      "Help on function wavedec2 in module pywt._multilevel:\n",
      "\n",
      "wavedec2(data, wavelet, mode='symmetric', level=None, axes=(-2, -1))\n",
      "    Multilevel 2D Discrete Wavelet Transform.\n",
      "    \n",
      "    Parameters\n",
      "    ----------\n",
      "    data : ndarray\n",
      "        2D input data\n",
      "    wavelet : Wavelet object or name string, or 2-tuple of wavelets\n",
      "        Wavelet to use.  This can also be a tuple containing a wavelet to\n",
      "        apply along each axis in ``axes``.\n",
      "    mode : str or 2-tuple of str, optional\n",
      "        Signal extension mode, see :ref:`Modes <ref-modes>`. This can\n",
      "        also be a tuple containing a mode to apply along each axis in ``axes``.\n",
      "    level : int, optional\n",
      "        Decomposition level (must be >= 0). If level is None (default) then it\n",
      "        will be calculated using the ``dwt_max_level`` function.\n",
      "    axes : 2-tuple of ints, optional\n",
      "        Axes over which to compute the DWT. Repeated elements are not allowed.\n",
      "    \n",
      "    Returns\n",
      "    -------\n",
      "    [cAn, (cHn, cVn, cDn), ... (cH1, cV1, cD1)] : list\n",
      "        Coefficients list.  For user-specified ``axes``, ``cH*``\n",
      "        corresponds to ``axes[0]`` while ``cV*`` corresponds to ``axes[1]``.\n",
      "        The first element returned is the approximation coefficients for the\n",
      "        nth level of decomposition.  Remaining elements are tuples of detail\n",
      "        coefficients in descending order of decomposition level.\n",
      "        (i.e. ``cH1`` are the horizontal detail coefficients at the first\n",
      "        level)\n",
      "    \n",
      "    Examples\n",
      "    --------\n",
      "    >>> import pywt\n",
      "    >>> import numpy as np\n",
      "    >>> coeffs = pywt.wavedec2(np.ones((4,4)), 'db1')\n",
      "    >>> # Levels:\n",
      "    >>> len(coeffs)-1\n",
      "    2\n",
      "    >>> pywt.waverec2(coeffs, 'db1')\n",
      "    array([[ 1.,  1.,  1.,  1.],\n",
      "           [ 1.,  1.,  1.,  1.],\n",
      "           [ 1.,  1.,  1.,  1.],\n",
      "           [ 1.,  1.,  1.,  1.]])\n",
      "\n"
     ]
    }
   ],
   "source": [
    "help(pywt.wavedec2)"
   ]
  },
  {
   "cell_type": "code",
   "execution_count": 55,
   "id": "2565767d-eb59-443e-ac83-610ba2739056",
   "metadata": {},
   "outputs": [],
   "source": [
    "# wavelet decomposition\n",
    "n = 3 # number of scales\n",
    "w = 'db1' # type of mother wavelet\n",
    "\n",
    "coeffs = [pywt.wavedec2(\n",
    "    B,\n",
    "    wavelet = w,\n",
    "    level = n\n",
    ") for B in X_train]\n",
    "\n",
    "# coeff_arrs, coeff_slices = pywt.coeffs_to_array(coeffs)"
   ]
  },
  {
   "cell_type": "code",
   "execution_count": 56,
   "id": "57003d32-542a-4d62-bd2e-bd80c492d2cb",
   "metadata": {},
   "outputs": [],
   "source": [
    "decomp = [(lambda x: pywt.coeffs_to_array(x))(coeff) for coeff in coeffs]"
   ]
  },
  {
   "cell_type": "code",
   "execution_count": 57,
   "id": "a4c20b8f-bff3-448e-a5a9-ed2c7364ad9b",
   "metadata": {},
   "outputs": [],
   "source": [
    "wavelet_coeffs = np.asarray([decomp[i][0] for i in range(len(decomp))])"
   ]
  },
  {
   "cell_type": "code",
   "execution_count": 58,
   "id": "04873f22-5c67-4fb3-a719-e5802364fd84",
   "metadata": {},
   "outputs": [
    {
     "data": {
      "text/plain": [
       "[(slice(None, 4, None), slice(None, 4, None)),\n",
       " {'ad': (slice(None, 4, None), slice(4, 8, None)),\n",
       "  'da': (slice(4, 8, None), slice(None, 4, None)),\n",
       "  'dd': (slice(4, 8, None), slice(4, 8, None))},\n",
       " {'ad': (slice(None, 7, None), slice(8, 15, None)),\n",
       "  'da': (slice(8, 15, None), slice(None, 7, None)),\n",
       "  'dd': (slice(8, 15, None), slice(8, 15, None))},\n",
       " {'ad': (slice(None, 14, None), slice(15, 29, None)),\n",
       "  'da': (slice(15, 29, None), slice(None, 14, None)),\n",
       "  'dd': (slice(15, 29, None), slice(15, 29, None))}]"
      ]
     },
     "execution_count": 58,
     "metadata": {},
     "output_type": "execute_result"
    }
   ],
   "source": [
    "decomp[0][1]"
   ]
  },
  {
   "cell_type": "code",
   "execution_count": 59,
   "id": "80714b2a-c3c9-4e19-8845-48f8e91c20d8",
   "metadata": {},
   "outputs": [
    {
     "data": {
      "text/plain": [
       "(60000, 29, 29)"
      ]
     },
     "execution_count": 59,
     "metadata": {},
     "output_type": "execute_result"
    }
   ],
   "source": [
    "wavelet_coeffs.shape"
   ]
  },
  {
   "cell_type": "code",
   "execution_count": 60,
   "id": "e77af8b3-d1dd-4849-b678-3c08dc53e8f0",
   "metadata": {},
   "outputs": [
    {
     "data": {
      "text/plain": [
       "(60000, 28, 28)"
      ]
     },
     "execution_count": 60,
     "metadata": {},
     "output_type": "execute_result"
    }
   ],
   "source": [
    "X_train.shape"
   ]
  },
  {
   "cell_type": "code",
   "execution_count": 61,
   "id": "4ebecf7a-eb2b-4318-94e1-b4e9c3ea3b63",
   "metadata": {},
   "outputs": [
    {
     "data": {
      "text/plain": [
       "(29, 29)"
      ]
     },
     "execution_count": 61,
     "metadata": {},
     "output_type": "execute_result"
    }
   ],
   "source": [
    "wavelet_coeffs[0].shape"
   ]
  },
  {
   "cell_type": "code",
   "execution_count": 62,
   "id": "9002e7fd-72f0-4443-9a9f-3f72bdd6489a",
   "metadata": {},
   "outputs": [
    {
     "data": {
      "application/vnd.plotly.v1+json": {
       "config": {
        "plotlyServerURL": "https://plot.ly"
       },
       "data": [
        {
         "coloraxis": "coloraxis",
         "hovertemplate": "x: %{x}<br>y: %{y}<br>color: %{z}<extra></extra>",
         "name": "0",
         "type": "heatmap",
         "xaxis": "x",
         "yaxis": "y",
         "z": [
          [
           0.024019604548811913,
           1.622058629989624,
           1.84852933883667,
           0,
           -0.024019604548811913,
           -0.3367646336555481,
           0.15637260675430298,
           0,
           0,
           0,
           0,
           0,
           0,
           0,
           0,
           0,
           0,
           0,
           0,
           0,
           0,
           0,
           0,
           0,
           0,
           0,
           0,
           0,
           0
          ],
          [
           0.008823529817163944,
           2.948529005050659,
           0.9186273813247681,
           0,
           -0.008823529817163944,
           -1.092646837234497,
           0.9186273813247681,
           0,
           0,
           -0.048039209097623825,
           -0.19313722848892212,
           -0.09607833623886108,
           0.4892156720161438,
           0.37450969219207764,
           0,
           0,
           0,
           0,
           0,
           0,
           0,
           0,
           0,
           0,
           0,
           0,
           0,
           0,
           0
          ],
          [
           0.4387255012989044,
           3.016176223754883,
           1.9857841730117798,
           0,
           -0.4387255012989044,
           -0.39460766315460205,
           1.9210783243179321,
           0,
           0,
           -0.01764705963432789,
           -0.4294116497039795,
           1.3303921222686768,
           0.6715685725212097,
           0,
           0,
           0,
           0,
           0,
           0,
           0,
           0,
           -0.029411766678094864,
           0,
           -0.019607871770858765,
           0.2921568751335144,
           -0.17450976371765137,
           0.2352941334247589,
           0,
           0
          ],
          [
           0.8774509429931641,
           0.48529407382011414,
           0,
           0,
           -0.8774509429931641,
           0.48529407382011414,
           0,
           0,
           0,
           0,
           -0.010784313082695007,
           -0.3715687394142151,
           0.7696077823638916,
           0,
           0,
           0,
           0,
           0,
           -0.09607842564582825,
           -0.04117649793624878,
           -0.11764711141586304,
           -0.16274505853652954,
           0,
           0.003921627998352051,
           0.12549015879631042,
           0.07254904508590698,
           0.333333283662796,
           0,
           0
          ],
          [
           -0.024019604548811913,
           -1.622058629989624,
           -1.84852933883667,
           0,
           0.024019604548811913,
           0.3367646336555481,
           -0.15637260675430298,
           0,
           0,
           0,
           0,
           -0.4774509370326996,
           -0.2921569347381592,
           0.06470587104558945,
           0,
           0,
           0,
           0,
           -0.03529411926865578,
           -0.21568620204925537,
           -0.2862745523452759,
           0.09411764144897461,
           0.05294111371040344,
           -0.20588243007659912,
           0,
           0,
           0,
           0,
           0
          ],
          [
           0.008823529817163944,
           0.9975489974021912,
           -0.24705883860588074,
           0,
           -0.008823529817163944,
           0.8367646336555481,
           -0.24705883860588074,
           0,
           0,
           -0.4323529601097107,
           -0.5294116735458374,
           0.5156861543655396,
           0.44999995827674866,
           0,
           0,
           0,
           0,
           0,
           0,
           -0.027450978755950928,
           -0.5725491046905518,
           0.4431372880935669,
           0.003921568393707275,
           0,
           0,
           0,
           0,
           0,
           0
          ],
          [
           -0.4387255012989044,
           -2.1720588207244873,
           1.382843017578125,
           0,
           0.4387255012989044,
           -0.44950979948043823,
           1.3181371688842773,
           0,
           0,
           -0.114705890417099,
           0.19509801268577576,
           0,
           0,
           0,
           0,
           0,
           0,
           0,
           0,
           0,
           -0.021568626165390015,
           -0.5274509787559509,
           0.2647058665752411,
           0.20980392396450043,
           0,
           0,
           0,
           0,
           0
          ],
          [
           0,
           0,
           0,
           0,
           0,
           0,
           0,
           0,
           0,
           0,
           0,
           0,
           0,
           0,
           0,
           0,
           0,
           0,
           0,
           0,
           0,
           -0.15882351994514465,
           -0.3019607663154602,
           0.2627451419830322,
           0.29019609093666077,
           0,
           0,
           0,
           0
          ],
          [
           0,
           0,
           0,
           0,
           0,
           0,
           0,
           0,
           0,
           0,
           0,
           0,
           0,
           0,
           0,
           0,
           0,
           0,
           0,
           0,
           0,
           0,
           -0.0313725471496582,
           -0.7999999523162842,
           0.13725489377975464,
           0.1254901885986328,
           0,
           0,
           0
          ],
          [
           0,
           -0.048039209097623825,
           -1.2852940559387207,
           -1.847058892250061,
           -1.097058653831482,
           -0.1333332061767578,
           0,
           0,
           0,
           0.048039209097623825,
           0.19313722848892212,
           0.0666666030883789,
           -0.3696077764034271,
           -0.28235289454460144,
           0,
           0,
           0,
           0,
           0,
           0,
           0,
           -0.2137254774570465,
           -0.21176475286483765,
           -0.13725489377975464,
           0.22352933883666992,
           0.003921568393707275,
           0,
           0,
           0
          ],
          [
           0,
           0.01764705963432789,
           1.2411763668060303,
           0.5558823347091675,
           0.6715685725212097,
           0,
           0,
           0,
           0,
           -0.01764705963432789,
           0.11960786581039429,
           -0.20686261355876923,
           0.6715685725212097,
           0,
           0,
           0,
           0,
           0,
           0,
           -0.08431373536586761,
           -0.2549020051956177,
           -0.0627450942993164,
           0.10784316062927246,
           0.2568627595901489,
           0.15294116735458374,
           0,
           0,
           0,
           0
          ],
          [
           0,
           0,
           0.010784313082695007,
           0.3617646098136902,
           -0.9519608020782471,
           0,
           0,
           0,
           0,
           0,
           -0.010784313082695007,
           0.8892156481742859,
           -0.5558823347091675,
           0,
           0,
           0,
           0,
           -0.229411780834198,
           -0.35294121503829956,
           -0.06666672229766846,
           0.017647087574005127,
           0.3529411852359772,
           0.13921569287776947,
           0,
           0,
           0,
           0,
           0,
           0
          ],
          [
           0,
           0,
           0,
           -0.8127449750900269,
           -0.292156845331192,
           0.06078431010246277,
           0,
           0,
           0,
           0,
           0,
           0.4460783898830414,
           -0.3901959955692291,
           0.06078431010246277,
           0,
           0,
           0,
           -0.2294117510318756,
           0,
           0.1509803831577301,
           0.22745099663734436,
           0,
           0,
           0,
           0,
           0,
           0,
           0,
           0
          ],
          [
           0,
           -0.8774510025978088,
           -1.2627450227737427,
           1.2313724756240845,
           0.6029411554336548,
           0,
           0,
           0,
           0,
           0.4323529601097107,
           -0.48039206862449646,
           -0.47058817744255066,
           0.44999995827674866,
           0,
           0,
           0,
           0,
           0,
           0,
           0,
           0,
           0,
           0,
           0,
           0,
           0,
           0,
           0,
           0
          ],
          [
           0,
           0.8774509429931641,
           0.48529407382011414,
           0,
           0,
           0,
           0,
           0,
           0,
           -0.114705890417099,
           0.19509801268577576,
           0,
           0,
           0,
           0,
           0,
           0,
           0,
           0,
           0,
           0,
           0,
           0,
           0,
           0,
           0,
           0,
           0,
           0
          ],
          [
           0,
           0,
           0,
           0,
           0,
           0,
           0,
           0,
           0,
           0,
           0,
           0,
           0,
           0,
           0,
           0,
           0,
           0,
           0,
           0,
           0,
           0,
           0,
           0,
           0,
           0,
           0,
           0,
           0
          ],
          [
           0,
           0,
           0,
           0,
           0,
           0,
           0,
           0,
           0,
           0,
           0,
           0,
           0,
           0,
           0,
           0,
           0,
           0,
           0,
           0,
           0,
           0,
           0,
           0,
           0,
           0,
           0,
           0,
           0
          ],
          [
           0,
           0,
           0,
           0,
           0,
           0,
           -0.04117647185921669,
           -0.07058823853731155,
           -0.5137255191802979,
           -0.39411765336990356,
           -0.8254901766777039,
           -0.7333333492279053,
           0,
           0,
           0,
           0,
           0,
           0,
           0,
           0,
           0,
           0.029411766678094864,
           0,
           0.019607871770858765,
           -0.2921568751335144,
           0.17450976371765137,
           -0.2352941334247589,
           0,
           0
          ],
          [
           0,
           0,
           0,
           -0.09607842564582825,
           -0.8333333730697632,
           -0.5058823227882385,
           -0.16274510324001312,
           0,
           0.003921595402061939,
           0.43529415130615234,
           0.6999999284744263,
           0.4313725233078003,
           0,
           0,
           0,
           0,
           0,
           0,
           0.09607842564582825,
           0.01764702796936035,
           -0.11764705181121826,
           -0.16274510324001312,
           0,
           -0.003921595402061939,
           0.08235295116901398,
           -0.029411762952804565,
           0.18039214611053467,
           0,
           0
          ],
          [
           0,
           0,
           0,
           0.03529411926865578,
           0.46274513006210327,
           0.2862745225429535,
           0.0941176638007164,
           0.7235294580459595,
           0.570588231086731,
           0,
           0,
           0,
           0,
           0,
           0,
           0,
           0,
           0,
           -0.03529411926865578,
           0.08235295116901398,
           0.2862745225429535,
           -0.0941176638007164,
           0.009803920984268188,
           0.229411780834198,
           0,
           0,
           0,
           0,
           0
          ],
          [
           0,
           0,
           0,
           0,
           0.027450978755950928,
           0.0313725620508194,
           -0.19607843458652496,
           -0.003921568393707275,
           0,
           0,
           0,
           0,
           0,
           0,
           0,
           0,
           0,
           0,
           0,
           -0.027450978755950928,
           -0.02745099365711212,
           0.19607843458652496,
           -0.003921568393707275,
           0,
           0,
           0,
           0,
           0,
           0
          ],
          [
           0,
           0,
           0,
           0,
           0,
           0.021568626165390015,
           0.3274509608745575,
           -0.6176470518112183,
           -0.2137254923582077,
           0,
           0,
           0,
           0,
           0,
           0,
           0,
           0,
           0,
           0,
           0,
           -0.021568626165390015,
           0.2803921401500702,
           0.009803950786590576,
           -0.20980392396450043,
           0,
           0,
           0,
           0,
           0
          ],
          [
           0,
           0,
           0,
           0,
           0,
           0,
           0.15882351994514465,
           0.5137255191802979,
           -0.26274508237838745,
           -0.2980392277240753,
           0,
           0,
           0,
           0,
           0,
           0,
           0,
           0,
           0,
           0,
           0,
           -0.15882351994514465,
           0.25098034739494324,
           0.26274508237838745,
           -0.1921568661928177,
           0,
           0,
           0,
           0
          ],
          [
           0,
           0,
           0,
           0,
           0,
           0,
           0,
           0.0313725471496582,
           0.18823528289794922,
           -0.12156862020492554,
           -0.1254901885986328,
           0,
           0,
           0,
           0,
           0,
           0,
           0,
           0,
           0,
           0,
           0,
           -0.0313725471496582,
           0.1764705777168274,
           0.12156862020492554,
           -0.1254901885986328,
           0,
           0,
           0
          ],
          [
           0,
           0,
           0,
           0,
           0,
           0,
           -0.36666664481163025,
           -0.5999999642372131,
           -0.13725492358207703,
           0.054901961237192154,
           0.003921568393707275,
           0,
           0,
           0,
           0,
           0,
           0,
           0,
           0,
           0,
           0,
           0.2137254774570465,
           -0.11764703691005707,
           -0.13725492358207703,
           -0.04313725605607033,
           0.003921568393707275,
           0,
           0,
           0
          ],
          [
           0,
           0,
           0,
           0,
           -0.17450980842113495,
           -0.6431372761726379,
           -0.0627451092004776,
           0.10784316062927246,
           0.7274510264396667,
           0.15294116735458374,
           0,
           0,
           0,
           0,
           0,
           0,
           0,
           0,
           0,
           0.08431373536586761,
           -0.09803920984268188,
           -0.0627451092004776,
           -0.10784316062927246,
           -0.052941203117370605,
           0.15294116735458374,
           0,
           0,
           0,
           0
          ],
          [
           0,
           0,
           -0.44509804248809814,
           -0.5686274170875549,
           -0.06666666269302368,
           0.01764705404639244,
           0.5960784554481506,
           0.17450980842113495,
           0,
           0,
           0,
           0,
           0,
           0,
           0,
           0,
           0,
           0.229411780834198,
           -0.24705879390239716,
           -0.06666666269302368,
           -0.01764705404639244,
           -0.125490203499794,
           0.13921569287776947,
           0,
           0,
           0,
           0,
           0,
           0
          ],
          [
           0,
           0,
           0.7627451419830322,
           0.9921568632125854,
           0.6803921461105347,
           0.29019609093666077,
           0,
           0,
           0,
           0,
           0,
           0,
           0,
           0,
           0,
           0,
           0,
           -0.2294117510318756,
           0,
           0.1509803831577301,
           0.22745099663734436,
           0,
           0,
           0,
           0,
           0,
           0,
           0,
           0
          ],
          [
           0,
           0,
           0,
           0,
           0,
           0,
           0,
           0,
           0,
           0,
           0,
           0,
           0,
           0,
           0,
           0,
           0,
           0,
           0,
           0,
           0,
           0,
           0,
           0,
           0,
           0,
           0,
           0,
           0
          ]
         ]
        }
       ],
       "layout": {
        "autosize": true,
        "coloraxis": {
         "colorscale": [
          [
           0,
           "#0d0887"
          ],
          [
           0.1111111111111111,
           "#46039f"
          ],
          [
           0.2222222222222222,
           "#7201a8"
          ],
          [
           0.3333333333333333,
           "#9c179e"
          ],
          [
           0.4444444444444444,
           "#bd3786"
          ],
          [
           0.5555555555555556,
           "#d8576b"
          ],
          [
           0.6666666666666666,
           "#ed7953"
          ],
          [
           0.7777777777777778,
           "#fb9f3a"
          ],
          [
           0.8888888888888888,
           "#fdca26"
          ],
          [
           1,
           "#f0f921"
          ]
         ]
        },
        "margin": {
         "t": 60
        },
        "template": {
         "data": {
          "bar": [
           {
            "error_x": {
             "color": "#2a3f5f"
            },
            "error_y": {
             "color": "#2a3f5f"
            },
            "marker": {
             "line": {
              "color": "#E5ECF6",
              "width": 0.5
             },
             "pattern": {
              "fillmode": "overlay",
              "size": 10,
              "solidity": 0.2
             }
            },
            "type": "bar"
           }
          ],
          "barpolar": [
           {
            "marker": {
             "line": {
              "color": "#E5ECF6",
              "width": 0.5
             },
             "pattern": {
              "fillmode": "overlay",
              "size": 10,
              "solidity": 0.2
             }
            },
            "type": "barpolar"
           }
          ],
          "carpet": [
           {
            "aaxis": {
             "endlinecolor": "#2a3f5f",
             "gridcolor": "white",
             "linecolor": "white",
             "minorgridcolor": "white",
             "startlinecolor": "#2a3f5f"
            },
            "baxis": {
             "endlinecolor": "#2a3f5f",
             "gridcolor": "white",
             "linecolor": "white",
             "minorgridcolor": "white",
             "startlinecolor": "#2a3f5f"
            },
            "type": "carpet"
           }
          ],
          "choropleth": [
           {
            "colorbar": {
             "outlinewidth": 0,
             "ticks": ""
            },
            "type": "choropleth"
           }
          ],
          "contour": [
           {
            "colorbar": {
             "outlinewidth": 0,
             "ticks": ""
            },
            "colorscale": [
             [
              0,
              "#0d0887"
             ],
             [
              0.1111111111111111,
              "#46039f"
             ],
             [
              0.2222222222222222,
              "#7201a8"
             ],
             [
              0.3333333333333333,
              "#9c179e"
             ],
             [
              0.4444444444444444,
              "#bd3786"
             ],
             [
              0.5555555555555556,
              "#d8576b"
             ],
             [
              0.6666666666666666,
              "#ed7953"
             ],
             [
              0.7777777777777778,
              "#fb9f3a"
             ],
             [
              0.8888888888888888,
              "#fdca26"
             ],
             [
              1,
              "#f0f921"
             ]
            ],
            "type": "contour"
           }
          ],
          "contourcarpet": [
           {
            "colorbar": {
             "outlinewidth": 0,
             "ticks": ""
            },
            "type": "contourcarpet"
           }
          ],
          "heatmap": [
           {
            "colorbar": {
             "outlinewidth": 0,
             "ticks": ""
            },
            "colorscale": [
             [
              0,
              "#0d0887"
             ],
             [
              0.1111111111111111,
              "#46039f"
             ],
             [
              0.2222222222222222,
              "#7201a8"
             ],
             [
              0.3333333333333333,
              "#9c179e"
             ],
             [
              0.4444444444444444,
              "#bd3786"
             ],
             [
              0.5555555555555556,
              "#d8576b"
             ],
             [
              0.6666666666666666,
              "#ed7953"
             ],
             [
              0.7777777777777778,
              "#fb9f3a"
             ],
             [
              0.8888888888888888,
              "#fdca26"
             ],
             [
              1,
              "#f0f921"
             ]
            ],
            "type": "heatmap"
           }
          ],
          "heatmapgl": [
           {
            "colorbar": {
             "outlinewidth": 0,
             "ticks": ""
            },
            "colorscale": [
             [
              0,
              "#0d0887"
             ],
             [
              0.1111111111111111,
              "#46039f"
             ],
             [
              0.2222222222222222,
              "#7201a8"
             ],
             [
              0.3333333333333333,
              "#9c179e"
             ],
             [
              0.4444444444444444,
              "#bd3786"
             ],
             [
              0.5555555555555556,
              "#d8576b"
             ],
             [
              0.6666666666666666,
              "#ed7953"
             ],
             [
              0.7777777777777778,
              "#fb9f3a"
             ],
             [
              0.8888888888888888,
              "#fdca26"
             ],
             [
              1,
              "#f0f921"
             ]
            ],
            "type": "heatmapgl"
           }
          ],
          "histogram": [
           {
            "marker": {
             "pattern": {
              "fillmode": "overlay",
              "size": 10,
              "solidity": 0.2
             }
            },
            "type": "histogram"
           }
          ],
          "histogram2d": [
           {
            "colorbar": {
             "outlinewidth": 0,
             "ticks": ""
            },
            "colorscale": [
             [
              0,
              "#0d0887"
             ],
             [
              0.1111111111111111,
              "#46039f"
             ],
             [
              0.2222222222222222,
              "#7201a8"
             ],
             [
              0.3333333333333333,
              "#9c179e"
             ],
             [
              0.4444444444444444,
              "#bd3786"
             ],
             [
              0.5555555555555556,
              "#d8576b"
             ],
             [
              0.6666666666666666,
              "#ed7953"
             ],
             [
              0.7777777777777778,
              "#fb9f3a"
             ],
             [
              0.8888888888888888,
              "#fdca26"
             ],
             [
              1,
              "#f0f921"
             ]
            ],
            "type": "histogram2d"
           }
          ],
          "histogram2dcontour": [
           {
            "colorbar": {
             "outlinewidth": 0,
             "ticks": ""
            },
            "colorscale": [
             [
              0,
              "#0d0887"
             ],
             [
              0.1111111111111111,
              "#46039f"
             ],
             [
              0.2222222222222222,
              "#7201a8"
             ],
             [
              0.3333333333333333,
              "#9c179e"
             ],
             [
              0.4444444444444444,
              "#bd3786"
             ],
             [
              0.5555555555555556,
              "#d8576b"
             ],
             [
              0.6666666666666666,
              "#ed7953"
             ],
             [
              0.7777777777777778,
              "#fb9f3a"
             ],
             [
              0.8888888888888888,
              "#fdca26"
             ],
             [
              1,
              "#f0f921"
             ]
            ],
            "type": "histogram2dcontour"
           }
          ],
          "mesh3d": [
           {
            "colorbar": {
             "outlinewidth": 0,
             "ticks": ""
            },
            "type": "mesh3d"
           }
          ],
          "parcoords": [
           {
            "line": {
             "colorbar": {
              "outlinewidth": 0,
              "ticks": ""
             }
            },
            "type": "parcoords"
           }
          ],
          "pie": [
           {
            "automargin": true,
            "type": "pie"
           }
          ],
          "scatter": [
           {
            "marker": {
             "colorbar": {
              "outlinewidth": 0,
              "ticks": ""
             }
            },
            "type": "scatter"
           }
          ],
          "scatter3d": [
           {
            "line": {
             "colorbar": {
              "outlinewidth": 0,
              "ticks": ""
             }
            },
            "marker": {
             "colorbar": {
              "outlinewidth": 0,
              "ticks": ""
             }
            },
            "type": "scatter3d"
           }
          ],
          "scattercarpet": [
           {
            "marker": {
             "colorbar": {
              "outlinewidth": 0,
              "ticks": ""
             }
            },
            "type": "scattercarpet"
           }
          ],
          "scattergeo": [
           {
            "marker": {
             "colorbar": {
              "outlinewidth": 0,
              "ticks": ""
             }
            },
            "type": "scattergeo"
           }
          ],
          "scattergl": [
           {
            "marker": {
             "colorbar": {
              "outlinewidth": 0,
              "ticks": ""
             }
            },
            "type": "scattergl"
           }
          ],
          "scattermapbox": [
           {
            "marker": {
             "colorbar": {
              "outlinewidth": 0,
              "ticks": ""
             }
            },
            "type": "scattermapbox"
           }
          ],
          "scatterpolar": [
           {
            "marker": {
             "colorbar": {
              "outlinewidth": 0,
              "ticks": ""
             }
            },
            "type": "scatterpolar"
           }
          ],
          "scatterpolargl": [
           {
            "marker": {
             "colorbar": {
              "outlinewidth": 0,
              "ticks": ""
             }
            },
            "type": "scatterpolargl"
           }
          ],
          "scatterternary": [
           {
            "marker": {
             "colorbar": {
              "outlinewidth": 0,
              "ticks": ""
             }
            },
            "type": "scatterternary"
           }
          ],
          "surface": [
           {
            "colorbar": {
             "outlinewidth": 0,
             "ticks": ""
            },
            "colorscale": [
             [
              0,
              "#0d0887"
             ],
             [
              0.1111111111111111,
              "#46039f"
             ],
             [
              0.2222222222222222,
              "#7201a8"
             ],
             [
              0.3333333333333333,
              "#9c179e"
             ],
             [
              0.4444444444444444,
              "#bd3786"
             ],
             [
              0.5555555555555556,
              "#d8576b"
             ],
             [
              0.6666666666666666,
              "#ed7953"
             ],
             [
              0.7777777777777778,
              "#fb9f3a"
             ],
             [
              0.8888888888888888,
              "#fdca26"
             ],
             [
              1,
              "#f0f921"
             ]
            ],
            "type": "surface"
           }
          ],
          "table": [
           {
            "cells": {
             "fill": {
              "color": "#EBF0F8"
             },
             "line": {
              "color": "white"
             }
            },
            "header": {
             "fill": {
              "color": "#C8D4E3"
             },
             "line": {
              "color": "white"
             }
            },
            "type": "table"
           }
          ]
         },
         "layout": {
          "annotationdefaults": {
           "arrowcolor": "#2a3f5f",
           "arrowhead": 0,
           "arrowwidth": 1
          },
          "autotypenumbers": "strict",
          "coloraxis": {
           "colorbar": {
            "outlinewidth": 0,
            "ticks": ""
           }
          },
          "colorscale": {
           "diverging": [
            [
             0,
             "#8e0152"
            ],
            [
             0.1,
             "#c51b7d"
            ],
            [
             0.2,
             "#de77ae"
            ],
            [
             0.3,
             "#f1b6da"
            ],
            [
             0.4,
             "#fde0ef"
            ],
            [
             0.5,
             "#f7f7f7"
            ],
            [
             0.6,
             "#e6f5d0"
            ],
            [
             0.7,
             "#b8e186"
            ],
            [
             0.8,
             "#7fbc41"
            ],
            [
             0.9,
             "#4d9221"
            ],
            [
             1,
             "#276419"
            ]
           ],
           "sequential": [
            [
             0,
             "#0d0887"
            ],
            [
             0.1111111111111111,
             "#46039f"
            ],
            [
             0.2222222222222222,
             "#7201a8"
            ],
            [
             0.3333333333333333,
             "#9c179e"
            ],
            [
             0.4444444444444444,
             "#bd3786"
            ],
            [
             0.5555555555555556,
             "#d8576b"
            ],
            [
             0.6666666666666666,
             "#ed7953"
            ],
            [
             0.7777777777777778,
             "#fb9f3a"
            ],
            [
             0.8888888888888888,
             "#fdca26"
            ],
            [
             1,
             "#f0f921"
            ]
           ],
           "sequentialminus": [
            [
             0,
             "#0d0887"
            ],
            [
             0.1111111111111111,
             "#46039f"
            ],
            [
             0.2222222222222222,
             "#7201a8"
            ],
            [
             0.3333333333333333,
             "#9c179e"
            ],
            [
             0.4444444444444444,
             "#bd3786"
            ],
            [
             0.5555555555555556,
             "#d8576b"
            ],
            [
             0.6666666666666666,
             "#ed7953"
            ],
            [
             0.7777777777777778,
             "#fb9f3a"
            ],
            [
             0.8888888888888888,
             "#fdca26"
            ],
            [
             1,
             "#f0f921"
            ]
           ]
          },
          "colorway": [
           "#636efa",
           "#EF553B",
           "#00cc96",
           "#ab63fa",
           "#FFA15A",
           "#19d3f3",
           "#FF6692",
           "#B6E880",
           "#FF97FF",
           "#FECB52"
          ],
          "font": {
           "color": "#2a3f5f"
          },
          "geo": {
           "bgcolor": "white",
           "lakecolor": "white",
           "landcolor": "#E5ECF6",
           "showlakes": true,
           "showland": true,
           "subunitcolor": "white"
          },
          "hoverlabel": {
           "align": "left"
          },
          "hovermode": "closest",
          "mapbox": {
           "style": "light"
          },
          "paper_bgcolor": "white",
          "plot_bgcolor": "#E5ECF6",
          "polar": {
           "angularaxis": {
            "gridcolor": "white",
            "linecolor": "white",
            "ticks": ""
           },
           "bgcolor": "#E5ECF6",
           "radialaxis": {
            "gridcolor": "white",
            "linecolor": "white",
            "ticks": ""
           }
          },
          "scene": {
           "xaxis": {
            "backgroundcolor": "#E5ECF6",
            "gridcolor": "white",
            "gridwidth": 2,
            "linecolor": "white",
            "showbackground": true,
            "ticks": "",
            "zerolinecolor": "white"
           },
           "yaxis": {
            "backgroundcolor": "#E5ECF6",
            "gridcolor": "white",
            "gridwidth": 2,
            "linecolor": "white",
            "showbackground": true,
            "ticks": "",
            "zerolinecolor": "white"
           },
           "zaxis": {
            "backgroundcolor": "#E5ECF6",
            "gridcolor": "white",
            "gridwidth": 2,
            "linecolor": "white",
            "showbackground": true,
            "ticks": "",
            "zerolinecolor": "white"
           }
          },
          "shapedefaults": {
           "line": {
            "color": "#2a3f5f"
           }
          },
          "ternary": {
           "aaxis": {
            "gridcolor": "white",
            "linecolor": "white",
            "ticks": ""
           },
           "baxis": {
            "gridcolor": "white",
            "linecolor": "white",
            "ticks": ""
           },
           "bgcolor": "#E5ECF6",
           "caxis": {
            "gridcolor": "white",
            "linecolor": "white",
            "ticks": ""
           }
          },
          "title": {
           "x": 0.05
          },
          "xaxis": {
           "automargin": true,
           "gridcolor": "white",
           "linecolor": "white",
           "ticks": "",
           "title": {
            "standoff": 15
           },
           "zerolinecolor": "white",
           "zerolinewidth": 2
          },
          "yaxis": {
           "automargin": true,
           "gridcolor": "white",
           "linecolor": "white",
           "ticks": "",
           "title": {
            "standoff": 15
           },
           "zerolinecolor": "white",
           "zerolinewidth": 2
          }
         }
        },
        "xaxis": {
         "anchor": "y",
         "autorange": true,
         "constrain": "domain",
         "domain": [
          0.4320568252007412,
          0.5679431747992588
         ],
         "range": [
          -0.5,
          28.5
         ],
         "scaleanchor": "y"
        },
        "yaxis": {
         "anchor": "x",
         "autorange": true,
         "constrain": "domain",
         "domain": [
          0,
          1
         ],
         "range": [
          28.5,
          -0.5
         ]
        }
       }
      },
      "image/png": "[encoded data removed]",
      "text/html": [
       "<div>                            <div id=\"7845922e-82e8-41d1-acb6-9daf4dc82d7f\" class=\"plotly-graph-div\" style=\"height:525px; width:100%;\"></div>            <script type=\"text/javascript\">                require([\"plotly\"], function(Plotly) {                    window.PLOTLYENV=window.PLOTLYENV || {};                                    if (document.getElementById(\"7845922e-82e8-41d1-acb6-9daf4dc82d7f\")) {                    Plotly.newPlot(                        \"7845922e-82e8-41d1-acb6-9daf4dc82d7f\",                        [{\"coloraxis\":\"coloraxis\",\"hovertemplate\":\"x: %{x}<br>y: %{y}<br>color: %{z}<extra></extra>\",\"name\":\"0\",\"type\":\"heatmap\",\"xaxis\":\"x\",\"yaxis\":\"y\",\"z\":[[0.024019604548811913,1.622058629989624,1.84852933883667,0.0,-0.024019604548811913,-0.3367646336555481,0.15637260675430298,0.0,0.0,0.0,0.0,0.0,0.0,0.0,0.0,0.0,0.0,0.0,0.0,0.0,0.0,0.0,0.0,0.0,0.0,0.0,0.0,0.0,0.0],[0.008823529817163944,2.948529005050659,0.9186273813247681,0.0,-0.008823529817163944,-1.092646837234497,0.9186273813247681,0.0,0.0,-0.048039209097623825,-0.19313722848892212,-0.09607833623886108,0.4892156720161438,0.37450969219207764,0.0,0.0,0.0,0.0,0.0,0.0,0.0,0.0,0.0,0.0,0.0,0.0,0.0,0.0,0.0],[0.4387255012989044,3.016176223754883,1.9857841730117798,0.0,-0.4387255012989044,-0.39460766315460205,1.9210783243179321,0.0,0.0,-0.01764705963432789,-0.4294116497039795,1.3303921222686768,0.6715685725212097,0.0,0.0,0.0,0.0,0.0,0.0,0.0,0.0,-0.029411766678094864,0.0,-0.019607871770858765,0.2921568751335144,-0.17450976371765137,0.2352941334247589,0.0,0.0],[0.8774509429931641,0.48529407382011414,0.0,0.0,-0.8774509429931641,0.48529407382011414,0.0,0.0,0.0,0.0,-0.010784313082695007,-0.3715687394142151,0.7696077823638916,0.0,0.0,0.0,0.0,0.0,-0.09607842564582825,-0.04117649793624878,-0.11764711141586304,-0.16274505853652954,0.0,0.003921627998352051,0.12549015879631042,0.07254904508590698,0.333333283662796,0.0,0.0],[-0.024019604548811913,-1.622058629989624,-1.84852933883667,0.0,0.024019604548811913,0.3367646336555481,-0.15637260675430298,0.0,0.0,0.0,0.0,-0.4774509370326996,-0.2921569347381592,0.06470587104558945,0.0,0.0,0.0,0.0,-0.03529411926865578,-0.21568620204925537,-0.2862745523452759,0.09411764144897461,0.05294111371040344,-0.20588243007659912,0.0,0.0,0.0,0.0,0.0],[0.008823529817163944,0.9975489974021912,-0.24705883860588074,0.0,-0.008823529817163944,0.8367646336555481,-0.24705883860588074,0.0,0.0,-0.4323529601097107,-0.5294116735458374,0.5156861543655396,0.44999995827674866,0.0,0.0,0.0,0.0,0.0,0.0,-0.027450978755950928,-0.5725491046905518,0.4431372880935669,0.003921568393707275,0.0,0.0,0.0,0.0,0.0,0.0],[-0.4387255012989044,-2.1720588207244873,1.382843017578125,0.0,0.4387255012989044,-0.44950979948043823,1.3181371688842773,0.0,0.0,-0.114705890417099,0.19509801268577576,0.0,0.0,0.0,0.0,0.0,0.0,0.0,0.0,0.0,-0.021568626165390015,-0.5274509787559509,0.2647058665752411,0.20980392396450043,0.0,0.0,0.0,0.0,0.0],[0.0,0.0,0.0,0.0,0.0,0.0,0.0,0.0,0.0,0.0,0.0,0.0,0.0,0.0,0.0,0.0,0.0,0.0,0.0,0.0,0.0,-0.15882351994514465,-0.3019607663154602,0.2627451419830322,0.29019609093666077,0.0,0.0,0.0,0.0],[0.0,0.0,0.0,0.0,0.0,0.0,0.0,0.0,0.0,0.0,0.0,0.0,0.0,0.0,0.0,0.0,0.0,0.0,0.0,0.0,0.0,0.0,-0.0313725471496582,-0.7999999523162842,0.13725489377975464,0.1254901885986328,0.0,0.0,0.0],[0.0,-0.048039209097623825,-1.2852940559387207,-1.847058892250061,-1.097058653831482,-0.1333332061767578,0.0,0.0,0.0,0.048039209097623825,0.19313722848892212,0.0666666030883789,-0.3696077764034271,-0.28235289454460144,0.0,0.0,0.0,0.0,0.0,0.0,0.0,-0.2137254774570465,-0.21176475286483765,-0.13725489377975464,0.22352933883666992,0.003921568393707275,0.0,0.0,0.0],[0.0,0.01764705963432789,1.2411763668060303,0.5558823347091675,0.6715685725212097,0.0,0.0,0.0,0.0,-0.01764705963432789,0.11960786581039429,-0.20686261355876923,0.6715685725212097,0.0,0.0,0.0,0.0,0.0,0.0,-0.08431373536586761,-0.2549020051956177,-0.0627450942993164,0.10784316062927246,0.2568627595901489,0.15294116735458374,0.0,0.0,0.0,0.0],[0.0,0.0,0.010784313082695007,0.3617646098136902,-0.9519608020782471,0.0,0.0,0.0,0.0,0.0,-0.010784313082695007,0.8892156481742859,-0.5558823347091675,0.0,0.0,0.0,0.0,-0.229411780834198,-0.35294121503829956,-0.06666672229766846,0.017647087574005127,0.3529411852359772,0.13921569287776947,0.0,0.0,0.0,0.0,0.0,0.0],[0.0,0.0,0.0,-0.8127449750900269,-0.292156845331192,0.06078431010246277,0.0,0.0,0.0,0.0,0.0,0.4460783898830414,-0.3901959955692291,0.06078431010246277,0.0,0.0,0.0,-0.2294117510318756,0.0,0.1509803831577301,0.22745099663734436,0.0,0.0,0.0,0.0,0.0,0.0,0.0,0.0],[0.0,-0.8774510025978088,-1.2627450227737427,1.2313724756240845,0.6029411554336548,0.0,0.0,0.0,0.0,0.4323529601097107,-0.48039206862449646,-0.47058817744255066,0.44999995827674866,0.0,0.0,0.0,0.0,0.0,0.0,0.0,0.0,0.0,0.0,0.0,0.0,0.0,0.0,0.0,0.0],[0.0,0.8774509429931641,0.48529407382011414,0.0,0.0,0.0,0.0,0.0,0.0,-0.114705890417099,0.19509801268577576,0.0,0.0,0.0,0.0,0.0,0.0,0.0,0.0,0.0,0.0,0.0,0.0,0.0,0.0,0.0,0.0,0.0,0.0],[0.0,0.0,0.0,0.0,0.0,0.0,0.0,0.0,0.0,0.0,0.0,0.0,0.0,0.0,0.0,0.0,0.0,0.0,0.0,0.0,0.0,0.0,0.0,0.0,0.0,0.0,0.0,0.0,0.0],[0.0,0.0,0.0,0.0,0.0,0.0,0.0,0.0,0.0,0.0,0.0,0.0,0.0,0.0,0.0,0.0,0.0,0.0,0.0,0.0,0.0,0.0,0.0,0.0,0.0,0.0,0.0,0.0,0.0],[0.0,0.0,0.0,0.0,0.0,0.0,-0.04117647185921669,-0.07058823853731155,-0.5137255191802979,-0.39411765336990356,-0.8254901766777039,-0.7333333492279053,0.0,0.0,0.0,0.0,0.0,0.0,0.0,0.0,0.0,0.029411766678094864,0.0,0.019607871770858765,-0.2921568751335144,0.17450976371765137,-0.2352941334247589,0.0,0.0],[0.0,0.0,0.0,-0.09607842564582825,-0.8333333730697632,-0.5058823227882385,-0.16274510324001312,0.0,0.003921595402061939,0.43529415130615234,0.6999999284744263,0.4313725233078003,0.0,0.0,0.0,0.0,0.0,0.0,0.09607842564582825,0.01764702796936035,-0.11764705181121826,-0.16274510324001312,0.0,-0.003921595402061939,0.08235295116901398,-0.029411762952804565,0.18039214611053467,0.0,0.0],[0.0,0.0,0.0,0.03529411926865578,0.46274513006210327,0.2862745225429535,0.0941176638007164,0.7235294580459595,0.570588231086731,0.0,0.0,0.0,0.0,0.0,0.0,0.0,0.0,0.0,-0.03529411926865578,0.08235295116901398,0.2862745225429535,-0.0941176638007164,0.009803920984268188,0.229411780834198,0.0,0.0,0.0,0.0,0.0],[0.0,0.0,0.0,0.0,0.027450978755950928,0.0313725620508194,-0.19607843458652496,-0.003921568393707275,0.0,0.0,0.0,0.0,0.0,0.0,0.0,0.0,0.0,0.0,0.0,-0.027450978755950928,-0.02745099365711212,0.19607843458652496,-0.003921568393707275,0.0,0.0,0.0,0.0,0.0,0.0],[0.0,0.0,0.0,0.0,0.0,0.021568626165390015,0.3274509608745575,-0.6176470518112183,-0.2137254923582077,0.0,0.0,0.0,0.0,0.0,0.0,0.0,0.0,0.0,0.0,0.0,-0.021568626165390015,0.2803921401500702,0.009803950786590576,-0.20980392396450043,0.0,0.0,0.0,0.0,0.0],[0.0,0.0,0.0,0.0,0.0,0.0,0.15882351994514465,0.5137255191802979,-0.26274508237838745,-0.2980392277240753,0.0,0.0,0.0,0.0,0.0,0.0,0.0,0.0,0.0,0.0,0.0,-0.15882351994514465,0.25098034739494324,0.26274508237838745,-0.1921568661928177,0.0,0.0,0.0,0.0],[0.0,0.0,0.0,0.0,0.0,0.0,0.0,0.0313725471496582,0.18823528289794922,-0.12156862020492554,-0.1254901885986328,0.0,0.0,0.0,0.0,0.0,0.0,0.0,0.0,0.0,0.0,0.0,-0.0313725471496582,0.1764705777168274,0.12156862020492554,-0.1254901885986328,0.0,0.0,0.0],[0.0,0.0,0.0,0.0,0.0,0.0,-0.36666664481163025,-0.5999999642372131,-0.13725492358207703,0.054901961237192154,0.003921568393707275,0.0,0.0,0.0,0.0,0.0,0.0,0.0,0.0,0.0,0.0,0.2137254774570465,-0.11764703691005707,-0.13725492358207703,-0.04313725605607033,0.003921568393707275,0.0,0.0,0.0],[0.0,0.0,0.0,0.0,-0.17450980842113495,-0.6431372761726379,-0.0627451092004776,0.10784316062927246,0.7274510264396667,0.15294116735458374,0.0,0.0,0.0,0.0,0.0,0.0,0.0,0.0,0.0,0.08431373536586761,-0.09803920984268188,-0.0627451092004776,-0.10784316062927246,-0.052941203117370605,0.15294116735458374,0.0,0.0,0.0,0.0],[0.0,0.0,-0.44509804248809814,-0.5686274170875549,-0.06666666269302368,0.01764705404639244,0.5960784554481506,0.17450980842113495,0.0,0.0,0.0,0.0,0.0,0.0,0.0,0.0,0.0,0.229411780834198,-0.24705879390239716,-0.06666666269302368,-0.01764705404639244,-0.125490203499794,0.13921569287776947,0.0,0.0,0.0,0.0,0.0,0.0],[0.0,0.0,0.7627451419830322,0.9921568632125854,0.6803921461105347,0.29019609093666077,0.0,0.0,0.0,0.0,0.0,0.0,0.0,0.0,0.0,0.0,0.0,-0.2294117510318756,0.0,0.1509803831577301,0.22745099663734436,0.0,0.0,0.0,0.0,0.0,0.0,0.0,0.0],[0.0,0.0,0.0,0.0,0.0,0.0,0.0,0.0,0.0,0.0,0.0,0.0,0.0,0.0,0.0,0.0,0.0,0.0,0.0,0.0,0.0,0.0,0.0,0.0,0.0,0.0,0.0,0.0,0.0]]}],                        {\"coloraxis\":{\"colorscale\":[[0.0,\"#0d0887\"],[0.1111111111111111,\"#46039f\"],[0.2222222222222222,\"#7201a8\"],[0.3333333333333333,\"#9c179e\"],[0.4444444444444444,\"#bd3786\"],[0.5555555555555556,\"#d8576b\"],[0.6666666666666666,\"#ed7953\"],[0.7777777777777778,\"#fb9f3a\"],[0.8888888888888888,\"#fdca26\"],[1.0,\"#f0f921\"]]},\"margin\":{\"t\":60},\"template\":{\"data\":{\"bar\":[{\"error_x\":{\"color\":\"#2a3f5f\"},\"error_y\":{\"color\":\"#2a3f5f\"},\"marker\":{\"line\":{\"color\":\"#E5ECF6\",\"width\":0.5},\"pattern\":{\"fillmode\":\"overlay\",\"size\":10,\"solidity\":0.2}},\"type\":\"bar\"}],\"barpolar\":[{\"marker\":{\"line\":{\"color\":\"#E5ECF6\",\"width\":0.5},\"pattern\":{\"fillmode\":\"overlay\",\"size\":10,\"solidity\":0.2}},\"type\":\"barpolar\"}],\"carpet\":[{\"aaxis\":{\"endlinecolor\":\"#2a3f5f\",\"gridcolor\":\"white\",\"linecolor\":\"white\",\"minorgridcolor\":\"white\",\"startlinecolor\":\"#2a3f5f\"},\"baxis\":{\"endlinecolor\":\"#2a3f5f\",\"gridcolor\":\"white\",\"linecolor\":\"white\",\"minorgridcolor\":\"white\",\"startlinecolor\":\"#2a3f5f\"},\"type\":\"carpet\"}],\"choropleth\":[{\"colorbar\":{\"outlinewidth\":0,\"ticks\":\"\"},\"type\":\"choropleth\"}],\"contour\":[{\"colorbar\":{\"outlinewidth\":0,\"ticks\":\"\"},\"colorscale\":[[0.0,\"#0d0887\"],[0.1111111111111111,\"#46039f\"],[0.2222222222222222,\"#7201a8\"],[0.3333333333333333,\"#9c179e\"],[0.4444444444444444,\"#bd3786\"],[0.5555555555555556,\"#d8576b\"],[0.6666666666666666,\"#ed7953\"],[0.7777777777777778,\"#fb9f3a\"],[0.8888888888888888,\"#fdca26\"],[1.0,\"#f0f921\"]],\"type\":\"contour\"}],\"contourcarpet\":[{\"colorbar\":{\"outlinewidth\":0,\"ticks\":\"\"},\"type\":\"contourcarpet\"}],\"heatmap\":[{\"colorbar\":{\"outlinewidth\":0,\"ticks\":\"\"},\"colorscale\":[[0.0,\"#0d0887\"],[0.1111111111111111,\"#46039f\"],[0.2222222222222222,\"#7201a8\"],[0.3333333333333333,\"#9c179e\"],[0.4444444444444444,\"#bd3786\"],[0.5555555555555556,\"#d8576b\"],[0.6666666666666666,\"#ed7953\"],[0.7777777777777778,\"#fb9f3a\"],[0.8888888888888888,\"#fdca26\"],[1.0,\"#f0f921\"]],\"type\":\"heatmap\"}],\"heatmapgl\":[{\"colorbar\":{\"outlinewidth\":0,\"ticks\":\"\"},\"colorscale\":[[0.0,\"#0d0887\"],[0.1111111111111111,\"#46039f\"],[0.2222222222222222,\"#7201a8\"],[0.3333333333333333,\"#9c179e\"],[0.4444444444444444,\"#bd3786\"],[0.5555555555555556,\"#d8576b\"],[0.6666666666666666,\"#ed7953\"],[0.7777777777777778,\"#fb9f3a\"],[0.8888888888888888,\"#fdca26\"],[1.0,\"#f0f921\"]],\"type\":\"heatmapgl\"}],\"histogram\":[{\"marker\":{\"pattern\":{\"fillmode\":\"overlay\",\"size\":10,\"solidity\":0.2}},\"type\":\"histogram\"}],\"histogram2d\":[{\"colorbar\":{\"outlinewidth\":0,\"ticks\":\"\"},\"colorscale\":[[0.0,\"#0d0887\"],[0.1111111111111111,\"#46039f\"],[0.2222222222222222,\"#7201a8\"],[0.3333333333333333,\"#9c179e\"],[0.4444444444444444,\"#bd3786\"],[0.5555555555555556,\"#d8576b\"],[0.6666666666666666,\"#ed7953\"],[0.7777777777777778,\"#fb9f3a\"],[0.8888888888888888,\"#fdca26\"],[1.0,\"#f0f921\"]],\"type\":\"histogram2d\"}],\"histogram2dcontour\":[{\"colorbar\":{\"outlinewidth\":0,\"ticks\":\"\"},\"colorscale\":[[0.0,\"#0d0887\"],[0.1111111111111111,\"#46039f\"],[0.2222222222222222,\"#7201a8\"],[0.3333333333333333,\"#9c179e\"],[0.4444444444444444,\"#bd3786\"],[0.5555555555555556,\"#d8576b\"],[0.6666666666666666,\"#ed7953\"],[0.7777777777777778,\"#fb9f3a\"],[0.8888888888888888,\"#fdca26\"],[1.0,\"#f0f921\"]],\"type\":\"histogram2dcontour\"}],\"mesh3d\":[{\"colorbar\":{\"outlinewidth\":0,\"ticks\":\"\"},\"type\":\"mesh3d\"}],\"parcoords\":[{\"line\":{\"colorbar\":{\"outlinewidth\":0,\"ticks\":\"\"}},\"type\":\"parcoords\"}],\"pie\":[{\"automargin\":true,\"type\":\"pie\"}],\"scatter\":[{\"marker\":{\"colorbar\":{\"outlinewidth\":0,\"ticks\":\"\"}},\"type\":\"scatter\"}],\"scatter3d\":[{\"line\":{\"colorbar\":{\"outlinewidth\":0,\"ticks\":\"\"}},\"marker\":{\"colorbar\":{\"outlinewidth\":0,\"ticks\":\"\"}},\"type\":\"scatter3d\"}],\"scattercarpet\":[{\"marker\":{\"colorbar\":{\"outlinewidth\":0,\"ticks\":\"\"}},\"type\":\"scattercarpet\"}],\"scattergeo\":[{\"marker\":{\"colorbar\":{\"outlinewidth\":0,\"ticks\":\"\"}},\"type\":\"scattergeo\"}],\"scattergl\":[{\"marker\":{\"colorbar\":{\"outlinewidth\":0,\"ticks\":\"\"}},\"type\":\"scattergl\"}],\"scattermapbox\":[{\"marker\":{\"colorbar\":{\"outlinewidth\":0,\"ticks\":\"\"}},\"type\":\"scattermapbox\"}],\"scatterpolar\":[{\"marker\":{\"colorbar\":{\"outlinewidth\":0,\"ticks\":\"\"}},\"type\":\"scatterpolar\"}],\"scatterpolargl\":[{\"marker\":{\"colorbar\":{\"outlinewidth\":0,\"ticks\":\"\"}},\"type\":\"scatterpolargl\"}],\"scatterternary\":[{\"marker\":{\"colorbar\":{\"outlinewidth\":0,\"ticks\":\"\"}},\"type\":\"scatterternary\"}],\"surface\":[{\"colorbar\":{\"outlinewidth\":0,\"ticks\":\"\"},\"colorscale\":[[0.0,\"#0d0887\"],[0.1111111111111111,\"#46039f\"],[0.2222222222222222,\"#7201a8\"],[0.3333333333333333,\"#9c179e\"],[0.4444444444444444,\"#bd3786\"],[0.5555555555555556,\"#d8576b\"],[0.6666666666666666,\"#ed7953\"],[0.7777777777777778,\"#fb9f3a\"],[0.8888888888888888,\"#fdca26\"],[1.0,\"#f0f921\"]],\"type\":\"surface\"}],\"table\":[{\"cells\":{\"fill\":{\"color\":\"#EBF0F8\"},\"line\":{\"color\":\"white\"}},\"header\":{\"fill\":{\"color\":\"#C8D4E3\"},\"line\":{\"color\":\"white\"}},\"type\":\"table\"}]},\"layout\":{\"annotationdefaults\":{\"arrowcolor\":\"#2a3f5f\",\"arrowhead\":0,\"arrowwidth\":1},\"autotypenumbers\":\"strict\",\"coloraxis\":{\"colorbar\":{\"outlinewidth\":0,\"ticks\":\"\"}},\"colorscale\":{\"diverging\":[[0,\"#8e0152\"],[0.1,\"#c51b7d\"],[0.2,\"#de77ae\"],[0.3,\"#f1b6da\"],[0.4,\"#fde0ef\"],[0.5,\"#f7f7f7\"],[0.6,\"#e6f5d0\"],[0.7,\"#b8e186\"],[0.8,\"#7fbc41\"],[0.9,\"#4d9221\"],[1,\"#276419\"]],\"sequential\":[[0.0,\"#0d0887\"],[0.1111111111111111,\"#46039f\"],[0.2222222222222222,\"#7201a8\"],[0.3333333333333333,\"#9c179e\"],[0.4444444444444444,\"#bd3786\"],[0.5555555555555556,\"#d8576b\"],[0.6666666666666666,\"#ed7953\"],[0.7777777777777778,\"#fb9f3a\"],[0.8888888888888888,\"#fdca26\"],[1.0,\"#f0f921\"]],\"sequentialminus\":[[0.0,\"#0d0887\"],[0.1111111111111111,\"#46039f\"],[0.2222222222222222,\"#7201a8\"],[0.3333333333333333,\"#9c179e\"],[0.4444444444444444,\"#bd3786\"],[0.5555555555555556,\"#d8576b\"],[0.6666666666666666,\"#ed7953\"],[0.7777777777777778,\"#fb9f3a\"],[0.8888888888888888,\"#fdca26\"],[1.0,\"#f0f921\"]]},\"colorway\":[\"#636efa\",\"#EF553B\",\"#00cc96\",\"#ab63fa\",\"#FFA15A\",\"#19d3f3\",\"#FF6692\",\"#B6E880\",\"#FF97FF\",\"#FECB52\"],\"font\":{\"color\":\"#2a3f5f\"},\"geo\":{\"bgcolor\":\"white\",\"lakecolor\":\"white\",\"landcolor\":\"#E5ECF6\",\"showlakes\":true,\"showland\":true,\"subunitcolor\":\"white\"},\"hoverlabel\":{\"align\":\"left\"},\"hovermode\":\"closest\",\"mapbox\":{\"style\":\"light\"},\"paper_bgcolor\":\"white\",\"plot_bgcolor\":\"#E5ECF6\",\"polar\":{\"angularaxis\":{\"gridcolor\":\"white\",\"linecolor\":\"white\",\"ticks\":\"\"},\"bgcolor\":\"#E5ECF6\",\"radialaxis\":{\"gridcolor\":\"white\",\"linecolor\":\"white\",\"ticks\":\"\"}},\"scene\":{\"xaxis\":{\"backgroundcolor\":\"#E5ECF6\",\"gridcolor\":\"white\",\"gridwidth\":2,\"linecolor\":\"white\",\"showbackground\":true,\"ticks\":\"\",\"zerolinecolor\":\"white\"},\"yaxis\":{\"backgroundcolor\":\"#E5ECF6\",\"gridcolor\":\"white\",\"gridwidth\":2,\"linecolor\":\"white\",\"showbackground\":true,\"ticks\":\"\",\"zerolinecolor\":\"white\"},\"zaxis\":{\"backgroundcolor\":\"#E5ECF6\",\"gridcolor\":\"white\",\"gridwidth\":2,\"linecolor\":\"white\",\"showbackground\":true,\"ticks\":\"\",\"zerolinecolor\":\"white\"}},\"shapedefaults\":{\"line\":{\"color\":\"#2a3f5f\"}},\"ternary\":{\"aaxis\":{\"gridcolor\":\"white\",\"linecolor\":\"white\",\"ticks\":\"\"},\"baxis\":{\"gridcolor\":\"white\",\"linecolor\":\"white\",\"ticks\":\"\"},\"bgcolor\":\"#E5ECF6\",\"caxis\":{\"gridcolor\":\"white\",\"linecolor\":\"white\",\"ticks\":\"\"}},\"title\":{\"x\":0.05},\"xaxis\":{\"automargin\":true,\"gridcolor\":\"white\",\"linecolor\":\"white\",\"ticks\":\"\",\"title\":{\"standoff\":15},\"zerolinecolor\":\"white\",\"zerolinewidth\":2},\"yaxis\":{\"automargin\":true,\"gridcolor\":\"white\",\"linecolor\":\"white\",\"ticks\":\"\",\"title\":{\"standoff\":15},\"zerolinecolor\":\"white\",\"zerolinewidth\":2}}},\"xaxis\":{\"anchor\":\"y\",\"constrain\":\"domain\",\"domain\":[0.0,1.0],\"scaleanchor\":\"y\"},\"yaxis\":{\"anchor\":\"x\",\"autorange\":\"reversed\",\"constrain\":\"domain\",\"domain\":[0.0,1.0]}},                        {\"responsive\": true}                    ).then(function(){\n",
       "                            \n",
       "var gd = document.getElementById('7845922e-82e8-41d1-acb6-9daf4dc82d7f');\n",
       "var x = new MutationObserver(function (mutations, observer) {{\n",
       "        var display = window.getComputedStyle(gd).display;\n",
       "        if (!display || display === 'none') {{\n",
       "            console.log([gd, 'removed!']);\n",
       "            Plotly.purge(gd);\n",
       "            observer.disconnect();\n",
       "        }}\n",
       "}});\n",
       "\n",
       "// Listen for the removal of the full notebook cells\n",
       "var notebookContainer = gd.closest('#notebook-container');\n",
       "if (notebookContainer) {{\n",
       "    x.observe(notebookContainer, {childList: true});\n",
       "}}\n",
       "\n",
       "// Listen for the clearing of the current output cell\n",
       "var outputEl = gd.closest('.output');\n",
       "if (outputEl) {{\n",
       "    x.observe(outputEl, {childList: true});\n",
       "}}\n",
       "\n",
       "                        })                };                });            </script>        </div>"
      ]
     },
     "metadata": {},
     "output_type": "display_data"
    }
   ],
   "source": [
    "px.imshow(wavelet_coeffs[0])"
   ]
  },
  {
   "cell_type": "code",
   "execution_count": null,
   "id": "ad578ec1-5b5e-4958-ae41-024273d3769c",
   "metadata": {},
   "outputs": [],
   "source": []
  }
 ],
 "metadata": {
  "kernelspec": {
   "display_name": "Python 3",
   "language": "python",
   "name": "python3"
  },
  "language_info": {
   "codemirror_mode": {
    "name": "ipython",
    "version": 3
   },
   "file_extension": ".py",
   "mimetype": "text/x-python",
   "name": "python",
   "nbconvert_exporter": "python",
   "pygments_lexer": "ipython3",
   "version": "3.7.10"
  }
 },
 "nbformat": 4,
 "nbformat_minor": 5
}
