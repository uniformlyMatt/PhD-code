{
 "cells": [
  {
   "cell_type": "code",
   "execution_count": 1,
   "metadata": {},
   "outputs": [],
   "source": [
    "import pandas as pd"
   ]
  },
  {
   "cell_type": "code",
   "execution_count": 4,
   "metadata": {},
   "outputs": [],
   "source": [
    "scores = pd.read_csv('../compare-dim-reduction/results/pc1_scores_all_models.csv')\n",
    "pwpca_scores = pd.read_csv('results/pwpca_scores.csv')"
   ]
  },
  {
   "cell_type": "code",
   "execution_count": 7,
   "metadata": {},
   "outputs": [],
   "source": [
    "scores['PWPCA_PC1'] = -pwpca_scores['PWPCA_PC1']\n",
    "scores['PWPCA_PC2'] = -pwpca_scores['PWPCA_PC2']"
   ]
  },
  {
   "cell_type": "code",
   "execution_count": 8,
   "metadata": {},
   "outputs": [
    {
     "data": {
      "text/html": [
       "<div>\n",
       "<style scoped>\n",
       "    .dataframe tbody tr th:only-of-type {\n",
       "        vertical-align: middle;\n",
       "    }\n",
       "\n",
       "    .dataframe tbody tr th {\n",
       "        vertical-align: top;\n",
       "    }\n",
       "\n",
       "    .dataframe thead th {\n",
       "        text-align: right;\n",
       "    }\n",
       "</style>\n",
       "<table border=\"1\" class=\"dataframe\">\n",
       "  <thead>\n",
       "    <tr style=\"text-align: right;\">\n",
       "      <th></th>\n",
       "      <th>PCA_C_PC1</th>\n",
       "      <th>PCA_PC1</th>\n",
       "      <th>PLNPCA_PC1</th>\n",
       "      <th>AE1_dim1</th>\n",
       "      <th>AE2_dim1</th>\n",
       "      <th>PWPCA_PC1</th>\n",
       "      <th>PWPCA_PC2</th>\n",
       "    </tr>\n",
       "  </thead>\n",
       "  <tbody>\n",
       "    <tr>\n",
       "      <th>PCA_C_PC1</th>\n",
       "      <td>1.000000</td>\n",
       "      <td>0.996077</td>\n",
       "      <td>0.998430</td>\n",
       "      <td>0.303121</td>\n",
       "      <td>0.633258</td>\n",
       "      <td>2.118125e-01</td>\n",
       "      <td>-9.889305e-02</td>\n",
       "    </tr>\n",
       "    <tr>\n",
       "      <th>PCA_PC1</th>\n",
       "      <td>0.996077</td>\n",
       "      <td>1.000000</td>\n",
       "      <td>0.994160</td>\n",
       "      <td>0.257876</td>\n",
       "      <td>0.668691</td>\n",
       "      <td>2.045010e-01</td>\n",
       "      <td>-9.167701e-02</td>\n",
       "    </tr>\n",
       "    <tr>\n",
       "      <th>PLNPCA_PC1</th>\n",
       "      <td>0.998430</td>\n",
       "      <td>0.994160</td>\n",
       "      <td>1.000000</td>\n",
       "      <td>0.299425</td>\n",
       "      <td>0.617944</td>\n",
       "      <td>2.156232e-01</td>\n",
       "      <td>-9.639342e-02</td>\n",
       "    </tr>\n",
       "    <tr>\n",
       "      <th>AE1_dim1</th>\n",
       "      <td>0.303121</td>\n",
       "      <td>0.257876</td>\n",
       "      <td>0.299425</td>\n",
       "      <td>1.000000</td>\n",
       "      <td>-0.242713</td>\n",
       "      <td>8.527243e-02</td>\n",
       "      <td>-7.224610e-02</td>\n",
       "    </tr>\n",
       "    <tr>\n",
       "      <th>AE2_dim1</th>\n",
       "      <td>0.633258</td>\n",
       "      <td>0.668691</td>\n",
       "      <td>0.617944</td>\n",
       "      <td>-0.242713</td>\n",
       "      <td>1.000000</td>\n",
       "      <td>4.450094e-02</td>\n",
       "      <td>-5.183261e-02</td>\n",
       "    </tr>\n",
       "    <tr>\n",
       "      <th>PWPCA_PC1</th>\n",
       "      <td>0.211813</td>\n",
       "      <td>0.204501</td>\n",
       "      <td>0.215623</td>\n",
       "      <td>0.085272</td>\n",
       "      <td>0.044501</td>\n",
       "      <td>1.000000e+00</td>\n",
       "      <td>-1.381665e-16</td>\n",
       "    </tr>\n",
       "    <tr>\n",
       "      <th>PWPCA_PC2</th>\n",
       "      <td>-0.098893</td>\n",
       "      <td>-0.091677</td>\n",
       "      <td>-0.096393</td>\n",
       "      <td>-0.072246</td>\n",
       "      <td>-0.051833</td>\n",
       "      <td>-1.381665e-16</td>\n",
       "      <td>1.000000e+00</td>\n",
       "    </tr>\n",
       "  </tbody>\n",
       "</table>\n",
       "</div>"
      ],
      "text/plain": [
       "            PCA_C_PC1   PCA_PC1  PLNPCA_PC1  AE1_dim1  AE2_dim1     PWPCA_PC1  \\\n",
       "PCA_C_PC1    1.000000  0.996077    0.998430  0.303121  0.633258  2.118125e-01   \n",
       "PCA_PC1      0.996077  1.000000    0.994160  0.257876  0.668691  2.045010e-01   \n",
       "PLNPCA_PC1   0.998430  0.994160    1.000000  0.299425  0.617944  2.156232e-01   \n",
       "AE1_dim1     0.303121  0.257876    0.299425  1.000000 -0.242713  8.527243e-02   \n",
       "AE2_dim1     0.633258  0.668691    0.617944 -0.242713  1.000000  4.450094e-02   \n",
       "PWPCA_PC1    0.211813  0.204501    0.215623  0.085272  0.044501  1.000000e+00   \n",
       "PWPCA_PC2   -0.098893 -0.091677   -0.096393 -0.072246 -0.051833 -1.381665e-16   \n",
       "\n",
       "               PWPCA_PC2  \n",
       "PCA_C_PC1  -9.889305e-02  \n",
       "PCA_PC1    -9.167701e-02  \n",
       "PLNPCA_PC1 -9.639342e-02  \n",
       "AE1_dim1   -7.224610e-02  \n",
       "AE2_dim1   -5.183261e-02  \n",
       "PWPCA_PC1  -1.381665e-16  \n",
       "PWPCA_PC2   1.000000e+00  "
      ]
     },
     "execution_count": 8,
     "metadata": {},
     "output_type": "execute_result"
    }
   ],
   "source": [
    "scores.corr()"
   ]
  },
  {
   "cell_type": "code",
   "execution_count": null,
   "metadata": {},
   "outputs": [],
   "source": []
  }
 ],
 "metadata": {
  "kernelspec": {
   "display_name": "Python 3.8.12 ('main')",
   "language": "python",
   "name": "python3"
  },
  "language_info": {
   "codemirror_mode": {
    "name": "ipython",
    "version": 3
   },
   "file_extension": ".py",
   "mimetype": "text/x-python",
   "name": "python",
   "nbconvert_exporter": "python",
   "pygments_lexer": "ipython3",
   "version": "3.8.12"
  },
  "orig_nbformat": 4,
  "vscode": {
   "interpreter": {
    "hash": "95fcb3d26fcf6b8fee2bc73beef9b2c64c45c076807d060a2219ef4ef654d43e"
   }
  }
 },
 "nbformat": 4,
 "nbformat_minor": 2
}
