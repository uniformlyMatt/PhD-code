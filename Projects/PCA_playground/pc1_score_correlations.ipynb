{
 "cells": [
  {
   "cell_type": "code",
   "execution_count": 5,
   "metadata": {},
   "outputs": [],
   "source": [
    "import pandas as pd\n",
    "\n",
    "scores = pd.read_csv('../compare-dim-reduction/results/pc1_scores_all_models.csv')\n",
    "pwpca_scores = pd.read_csv('bib_decorrelated_latent_space.csv')"
   ]
  },
  {
   "cell_type": "code",
   "execution_count": 6,
   "metadata": {},
   "outputs": [],
   "source": [
    "scores['PWPCA_PC1'] = pwpca_scores['PWPCA_PC1']\n",
    "scores['PWPCA_PC2'] = pwpca_scores['PWPCA_PC2']"
   ]
  },
  {
   "cell_type": "code",
   "execution_count": 7,
   "metadata": {},
   "outputs": [
    {
     "data": {
      "text/html": [
       "<div>\n",
       "<style scoped>\n",
       "    .dataframe tbody tr th:only-of-type {\n",
       "        vertical-align: middle;\n",
       "    }\n",
       "\n",
       "    .dataframe tbody tr th {\n",
       "        vertical-align: top;\n",
       "    }\n",
       "\n",
       "    .dataframe thead th {\n",
       "        text-align: right;\n",
       "    }\n",
       "</style>\n",
       "<table border=\"1\" class=\"dataframe\">\n",
       "  <thead>\n",
       "    <tr style=\"text-align: right;\">\n",
       "      <th></th>\n",
       "      <th>PCA_C_PC1</th>\n",
       "      <th>PCA_PC1</th>\n",
       "      <th>PLNPCA_PC1</th>\n",
       "      <th>AE1_dim1</th>\n",
       "      <th>AE2_dim1</th>\n",
       "      <th>PWPCA_PC1</th>\n",
       "      <th>PWPCA_PC2</th>\n",
       "    </tr>\n",
       "  </thead>\n",
       "  <tbody>\n",
       "    <tr>\n",
       "      <th>PCA_C_PC1</th>\n",
       "      <td>1.000000</td>\n",
       "      <td>0.996077</td>\n",
       "      <td>0.998430</td>\n",
       "      <td>0.303121</td>\n",
       "      <td>0.633258</td>\n",
       "      <td>-1.635293e-01</td>\n",
       "      <td>2.069284e-01</td>\n",
       "    </tr>\n",
       "    <tr>\n",
       "      <th>PCA_PC1</th>\n",
       "      <td>0.996077</td>\n",
       "      <td>1.000000</td>\n",
       "      <td>0.994160</td>\n",
       "      <td>0.257876</td>\n",
       "      <td>0.668691</td>\n",
       "      <td>-1.566594e-01</td>\n",
       "      <td>1.978319e-01</td>\n",
       "    </tr>\n",
       "    <tr>\n",
       "      <th>PLNPCA_PC1</th>\n",
       "      <td>0.998430</td>\n",
       "      <td>0.994160</td>\n",
       "      <td>1.000000</td>\n",
       "      <td>0.299425</td>\n",
       "      <td>0.617944</td>\n",
       "      <td>-1.650177e-01</td>\n",
       "      <td>2.056644e-01</td>\n",
       "    </tr>\n",
       "    <tr>\n",
       "      <th>AE1_dim1</th>\n",
       "      <td>0.303121</td>\n",
       "      <td>0.257876</td>\n",
       "      <td>0.299425</td>\n",
       "      <td>1.000000</td>\n",
       "      <td>-0.242713</td>\n",
       "      <td>-1.043088e-01</td>\n",
       "      <td>7.632634e-02</td>\n",
       "    </tr>\n",
       "    <tr>\n",
       "      <th>AE2_dim1</th>\n",
       "      <td>0.633258</td>\n",
       "      <td>0.668691</td>\n",
       "      <td>0.617944</td>\n",
       "      <td>-0.242713</td>\n",
       "      <td>1.000000</td>\n",
       "      <td>-4.247971e-03</td>\n",
       "      <td>1.202408e-01</td>\n",
       "    </tr>\n",
       "    <tr>\n",
       "      <th>PWPCA_PC1</th>\n",
       "      <td>-0.163529</td>\n",
       "      <td>-0.156659</td>\n",
       "      <td>-0.165018</td>\n",
       "      <td>-0.104309</td>\n",
       "      <td>-0.004248</td>\n",
       "      <td>1.000000e+00</td>\n",
       "      <td>1.815649e-16</td>\n",
       "    </tr>\n",
       "    <tr>\n",
       "      <th>PWPCA_PC2</th>\n",
       "      <td>0.206928</td>\n",
       "      <td>0.197832</td>\n",
       "      <td>0.205664</td>\n",
       "      <td>0.076326</td>\n",
       "      <td>0.120241</td>\n",
       "      <td>1.815649e-16</td>\n",
       "      <td>1.000000e+00</td>\n",
       "    </tr>\n",
       "  </tbody>\n",
       "</table>\n",
       "</div>"
      ],
      "text/plain": [
       "            PCA_C_PC1   PCA_PC1  PLNPCA_PC1  AE1_dim1  AE2_dim1     PWPCA_PC1  \\\n",
       "PCA_C_PC1    1.000000  0.996077    0.998430  0.303121  0.633258 -1.635293e-01   \n",
       "PCA_PC1      0.996077  1.000000    0.994160  0.257876  0.668691 -1.566594e-01   \n",
       "PLNPCA_PC1   0.998430  0.994160    1.000000  0.299425  0.617944 -1.650177e-01   \n",
       "AE1_dim1     0.303121  0.257876    0.299425  1.000000 -0.242713 -1.043088e-01   \n",
       "AE2_dim1     0.633258  0.668691    0.617944 -0.242713  1.000000 -4.247971e-03   \n",
       "PWPCA_PC1   -0.163529 -0.156659   -0.165018 -0.104309 -0.004248  1.000000e+00   \n",
       "PWPCA_PC2    0.206928  0.197832    0.205664  0.076326  0.120241  1.815649e-16   \n",
       "\n",
       "               PWPCA_PC2  \n",
       "PCA_C_PC1   2.069284e-01  \n",
       "PCA_PC1     1.978319e-01  \n",
       "PLNPCA_PC1  2.056644e-01  \n",
       "AE1_dim1    7.632634e-02  \n",
       "AE2_dim1    1.202408e-01  \n",
       "PWPCA_PC1   1.815649e-16  \n",
       "PWPCA_PC2   1.000000e+00  "
      ]
     },
     "execution_count": 7,
     "metadata": {},
     "output_type": "execute_result"
    }
   ],
   "source": [
    "scores.corr()"
   ]
  },
  {
   "cell_type": "code",
   "execution_count": null,
   "metadata": {},
   "outputs": [],
   "source": []
  }
 ],
 "metadata": {
  "kernelspec": {
   "display_name": "Python 3.8.12 ('main')",
   "language": "python",
   "name": "python3"
  },
  "language_info": {
   "codemirror_mode": {
    "name": "ipython",
    "version": 3
   },
   "file_extension": ".py",
   "mimetype": "text/x-python",
   "name": "python",
   "nbconvert_exporter": "python",
   "pygments_lexer": "ipython3",
   "version": "3.8.12"
  },
  "orig_nbformat": 4,
  "vscode": {
   "interpreter": {
    "hash": "95fcb3d26fcf6b8fee2bc73beef9b2c64c45c076807d060a2219ef4ef654d43e"
   }
  }
 },
 "nbformat": 4,
 "nbformat_minor": 2
}
