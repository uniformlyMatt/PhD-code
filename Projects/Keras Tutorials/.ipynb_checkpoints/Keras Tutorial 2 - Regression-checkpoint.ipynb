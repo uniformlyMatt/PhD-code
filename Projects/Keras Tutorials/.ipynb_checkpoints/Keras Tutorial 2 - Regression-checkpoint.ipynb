{
 "cells": [
  {
   "cell_type": "markdown",
   "id": "constant-concern",
   "metadata": {},
   "source": [
    "# Keras for Regression\n",
    "\n",
    "# Overview\n",
    "\n",
    "Simple linear regression is a key part of modern machine learning. Given a set of variables contained in the rows of the data matrix $X \\subset \\mathbb{R}^{p \\times n}$, the goal of linear regression is to build a model that accurately captures the linear relationship between $X$ and a continuous target variable $Y \\subset \\mathbb{R}^{p \\times 1}$. That is, we are trying to solve\n",
    "$$\n",
    "            \\text{arg}\\min_{f \\in \\mathcal{L}} ||f(x) - y||_2, \\quad \\forall x \\in X, y \\in Y,\n",
    "$$\n",
    "where $\\mathcal{L}$ is the set of linear functions.\n",
    "\n",
    "## Analytic solution when $X$ is a square matrix\n",
    "\n",
    "$$\n",
    "    Y = X\\cdot m + b,\n",
    "$$\n",
    "\n",
    "where $m = [ m_1, m_2, \\ldots, m_n ]^T \\subset \\mathbb{R}^{n\\times 1}$.\n",
    "\n",
    "But, if we just append a column of ones to the $X$ matrix, we can capture all of the linear parameters in a single vector:\n",
    "\n",
    "$$\n",
    "    Y = X\\beta,\n",
    "$$\n",
    "where $\\beta = [ b, m_1, m_2, \\ldots, m_n ]^T$.\n",
    "\n",
    "**Note:** Some code cells are marked with an asterisk and a number like this: \\*2. At the end of this notebook, I give suggestions for how to get started customizing neural networks by changing parameters in these marked cells."
   ]
  },
  {
   "cell_type": "code",
   "execution_count": null,
   "id": "crude-water",
   "metadata": {},
   "outputs": [],
   "source": []
  }
 ],
 "metadata": {
  "kernelspec": {
   "display_name": "Python 3",
   "language": "python",
   "name": "python3"
  },
  "language_info": {
   "codemirror_mode": {
    "name": "ipython",
    "version": 3
   },
   "file_extension": ".py",
   "mimetype": "text/x-python",
   "name": "python",
   "nbconvert_exporter": "python",
   "pygments_lexer": "ipython3",
   "version": "3.7.10"
  }
 },
 "nbformat": 4,
 "nbformat_minor": 5
}
