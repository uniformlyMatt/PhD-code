{
 "cells": [
  {
   "cell_type": "code",
   "execution_count": 2,
   "id": "06a1f9c3-6888-42c5-aa2e-023353794498",
   "metadata": {},
   "outputs": [],
   "source": [
    "import numpy as np\n",
    "from sklearn.metrics.pairwise import euclidean_distances\n",
    "from keras.datasets import mnist"
   ]
  },
  {
   "cell_type": "code",
   "execution_count": 3,
   "id": "f07fb894-6099-4836-8d03-5c7fec4570cf",
   "metadata": {},
   "outputs": [
    {
     "name": "stdout",
     "output_type": "stream",
     "text": [
      "(60000, 784) (10000, 784)\n",
      "(60000,) (10000,)\n"
     ]
    }
   ],
   "source": [
    "(X_train, y_train), (X_test, y_test) = mnist.load_data()\n",
    "\n",
    "X_train = X_train.astype('float32') / 255.\n",
    "X_test = X_test.astype('float32') / 255.\n",
    "\n",
    "X_train = X_train.reshape((len(X_train), np.prod(X_train.shape[1:])))\n",
    "X_test = X_test.reshape((len(X_test), np.prod(X_test.shape[1:])))\n",
    "\n",
    "print(X_train.shape, X_test.shape)\n",
    "print(y_train.shape, y_test.shape)"
   ]
  },
  {
   "cell_type": "code",
   "execution_count": 5,
   "id": "d5d716b8-375e-4123-bc77-26d458075bb6",
   "metadata": {},
   "outputs": [],
   "source": [
    "dist = euclidean_distances(X_train)"
   ]
  },
  {
   "cell_type": "code",
   "execution_count": 6,
   "id": "493b83f7-0d66-48c2-a8ec-aea9152352b6",
   "metadata": {},
   "outputs": [
    {
     "data": {
      "text/plain": [
       "(60000, 60000)"
      ]
     },
     "execution_count": 6,
     "metadata": {},
     "output_type": "execute_result"
    }
   ],
   "source": [
    "dist.shape"
   ]
  },
  {
   "cell_type": "code",
   "execution_count": null,
   "id": "98caf56a-a644-4e24-bfe3-c25a14a095b9",
   "metadata": {},
   "outputs": [],
   "source": [
    "class kernelPCA:\n",
    "    \n",
    "    def __init__(\n",
    "        self,\n",
    "        n_components = 2,\n",
    "        affinity = 'euclidean',\n",
    "        gamma = None,\n",
    "        random_state = None,\n",
    "        eigen_solver = None,\n",
    "        n_neighbors = None,\n",
    "        n_jobs = None\n",
    "    ):\n",
    "        self.n_components = n_components\n",
    "        self.affinity = affinity\n",
    "        self.gamma = gamma\n",
    "        self.random_state = random_state\n",
    "        self.eigen_solver = eigen_solver\n",
    "        self.n_neighbors = n_neighbors\n",
    "        self.n_jobs = n_jobs\n",
    "        \n",
    "    def _get_affinity_matrix(self, X):\n",
    "        if self.affinity not 'euclidean':\n",
    "            print('Only euclidean nearest neighbors currently supported')\n",
    "            return None\n",
    "        else:\n",
    "            self.affinity_matrix = euclidean_distances(X)\n",
    "            return self.affinity_matrix"
   ]
  },
  {
   "cell_type": "code",
   "execution_count": 33,
   "id": "566a9a93-813a-45cc-bec1-dc8698154d6f",
   "metadata": {},
   "outputs": [],
   "source": [
    "def kernelPCA(X, n_components = 4, gamma = 0.15):\n",
    "    \"\"\" Maps dataset X into RKHS, then computes PCA. \n",
    "    \n",
    "        args:\n",
    "        -----\n",
    "        X - dataset\n",
    "        n_components - size of lower-dimensional space\n",
    "        gamma - parameter for radial basis functions\n",
    "    \"\"\"\n",
    "    \n",
    "    distance_matrix = euclidean_distances(X)\n",
    "    degree_matrix = np.diag(np.sum(distance_matrix, axis = 1))\n",
    "    graph_laplacian = degree_matrix - distance_matrix\n",
    "    \n",
    "    \n",
    "    \n",
    "def rbf(X, gamma = 0.15, beta = 2):\n",
    "    return np.exp(-X**beta/gamma)"
   ]
  },
  {
   "cell_type": "code",
   "execution_count": 34,
   "id": "4ff5d23c-210d-4a27-90c4-440e28be494d",
   "metadata": {},
   "outputs": [
    {
     "data": {
      "text/plain": [
       "array([0.0287578 , 0.97947768, 0.83382921, 0.07883061, 0.02150253,\n",
       "       0.67221829, 0.03446362, 0.09455952, 0.00725603, 0.73598226,\n",
       "       0.73818357, 0.70793935, 0.17919687, 0.0191783 , 0.00720335,\n",
       "       0.01458811, 0.00241013, 0.01529532, 0.04756785, 0.06730078,\n",
       "       0.04873366, 0.76939478, 0.86237541, 0.1009262 , 0.01685297,\n",
       "       0.98705563, 0.98415428, 0.52696025, 0.99669994, 0.13586464,\n",
       "       0.2739348 , 0.00336789, 0.0707909 , 0.91208891, 0.0239291 ,\n",
       "       0.49202555, 0.99754007, 0.02911599, 0.98573858, 0.81338379,\n",
       "       0.95698147, 0.19991652, 0.00312212, 0.33135803, 0.10520638,\n",
       "       0.77147519, 0.00455484, 0.36640691, 0.99633966, 0.8402049 ,\n",
       "       0.00540482, 0.05272295, 0.00344761, 0.0387942 , 0.0041489 ,\n",
       "       0.55111259, 0.02062406, 0.02965849, 0.18788129, 0.0015962 ,\n",
       "       0.00547099, 0.42322147, 0.10036529, 0.93449589, 0.40589411,\n",
       "       0.9992538 , 0.07161015, 0.02431381, 0.1946307 , 0.99497551,\n",
       "       0.04542073, 0.0022874 , 0.00530672, 0.17754056, 0.35786909,\n",
       "       0.77167338, 0.19570339, 0.00407458, 0.26520459, 0.27872671,\n",
       "       0.99478834, 0.97700023, 0.00777999, 0.8579522 , 0.08197071,\n",
       "       0.01006023, 0.00572828, 0.85608707, 0.0414245 , 0.36844476,\n",
       "       0.00395148, 0.02646402, 0.55474516, 0.01165947, 0.00278943,\n",
       "       0.00324521, 0.99831764, 0.0027062 , 0.00323704, 0.43661022])"
      ]
     },
     "execution_count": 34,
     "metadata": {},
     "output_type": "execute_result"
    }
   ],
   "source": [
    "test = np.random.rand(100)\n",
    "rbf(test)"
   ]
  },
  {
   "cell_type": "code",
   "execution_count": 35,
   "id": "012a2202-46d1-4318-ada2-3a014e12987e",
   "metadata": {},
   "outputs": [
    {
     "data": {
      "text/plain": [
       "(100, 100)"
      ]
     },
     "execution_count": 35,
     "metadata": {},
     "output_type": "execute_result"
    }
   ],
   "source": [
    "kernelPCA(test.reshape((-1,1)))"
   ]
  },
  {
   "cell_type": "code",
   "execution_count": null,
   "id": "de35b73c-e728-4a68-8c68-d9f7c553d8cf",
   "metadata": {},
   "outputs": [],
   "source": []
  }
 ],
 "metadata": {
  "kernelspec": {
   "display_name": "Python 3",
   "language": "python",
   "name": "python3"
  },
  "language_info": {
   "codemirror_mode": {
    "name": "ipython",
    "version": 3
   },
   "file_extension": ".py",
   "mimetype": "text/x-python",
   "name": "python",
   "nbconvert_exporter": "python",
   "pygments_lexer": "ipython3",
   "version": "3.7.10"
  }
 },
 "nbformat": 4,
 "nbformat_minor": 5
}
