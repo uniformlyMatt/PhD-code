{
 "cells": [
  {
   "cell_type": "markdown",
   "id": "368f0323-86a0-4532-9372-021487976122",
   "metadata": {},
   "source": [
    "# Goal\n",
    "\n",
    "I want to explore various wavelet decompositions on digital images.\n",
    "\n",
    "Questions:\n",
    "- What effect do various scale and translation parameters have on the decomposition?\n",
    "- How similar are the decompositions of the same object imaged at two different scales?\n",
    "- How similar are the decompositions of translated of the same objects?\n",
    "\n",
    "The overall goal is to investigate if wavelet decompositions might be suitable for constructing adjacency graphs for real-world digital image data."
   ]
  },
  {
   "cell_type": "code",
   "execution_count": null,
   "id": "9ae0409f-a6f9-424b-91d3-b721eda864a1",
   "metadata": {},
   "outputs": [],
   "source": [
    "import numpy as np\n",
    "import plotly.express as px\n",
    "import plotly.graph_objects as go\n",
    "\n",
    "from sklearn.decomposition import PCA\n",
    "from sklearn.metrics.pairwise import euclidean_distances\n",
    "from sklearn.metrics import classification_report\n",
    "\n",
    "from scipy.linalg import eigh\n",
    "\n",
    "import pyshearlab as ps\n",
    "\n",
    "from keras.datasets import mnist\n",
    "from keras.utils import to_categorical\n",
    "\n",
    "from tabulate import tabulate"
   ]
  }
 ],
 "metadata": {
  "kernelspec": {
   "display_name": "Python 3",
   "language": "python",
   "name": "python3"
  },
  "language_info": {
   "codemirror_mode": {
    "name": "ipython",
    "version": 3
   },
   "file_extension": ".py",
   "mimetype": "text/x-python",
   "name": "python",
   "nbconvert_exporter": "python",
   "pygments_lexer": "ipython3",
   "version": "3.7.10"
  }
 },
 "nbformat": 4,
 "nbformat_minor": 5
}
