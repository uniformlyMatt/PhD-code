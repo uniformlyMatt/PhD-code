{
 "cells": [
  {
   "cell_type": "markdown",
   "id": "8cc3ffe1-23fb-46d4-86a0-5a7e11bdac3f",
   "metadata": {},
   "source": [
    "# Goal\n",
    "\n",
    "Will training and testing error change when I randomly permute the pixels of the training images?"
   ]
  },
  {
   "cell_type": "code",
   "execution_count": 2,
   "id": "3b8318df-4458-4d4f-a217-7b6c50bb607f",
   "metadata": {},
   "outputs": [],
   "source": [
    "import numpy as np\n",
    "import plotly.express as px\n",
    "import plotly.graph_objects as go\n",
    "\n",
    "from sklearn.metrics import classification_report\n",
    "\n",
    "from keras.layers import Input, Dense, Flatten\n",
    "from keras.models import Model, Sequential\n",
    "from keras.datasets import mnist\n",
    "from keras.optimizers import SGD\n",
    "from keras.utils import to_categorical\n",
    "\n",
    "from tabulate import tabulate"
   ]
  },
  {
   "cell_type": "code",
   "execution_count": 30,
   "id": "a3a4fde7-891e-471b-ba6b-f557592756b2",
   "metadata": {},
   "outputs": [],
   "source": [
    "# load in the MNIST dataset\n",
    "(X_train, y_train), (X_test, y_test) = mnist.load_data()"
   ]
  },
  {
   "cell_type": "code",
   "execution_count": 31,
   "id": "c00e2d03-1590-48bf-af05-68d4949e60d6",
   "metadata": {},
   "outputs": [],
   "source": [
    "# only do this for grayscale images\n",
    "X_train = X_train.astype('float32') / 255.\n",
    "X_test = X_test.astype('float32') / 255.\n",
    "\n",
    "X_train = X_train.reshape((len(X_train), np.prod(X_train.shape[1:])))\n",
    "X_test = X_test.reshape((len(X_test), np.prod(X_test.shape[1:])))"
   ]
  },
  {
   "cell_type": "code",
   "execution_count": 6,
   "id": "a5280240-d2ae-4eda-9e36-ae41f58da707",
   "metadata": {},
   "outputs": [
    {
     "data": {
      "text/plain": [
       "(60000, 784)"
      ]
     },
     "execution_count": 6,
     "metadata": {},
     "output_type": "execute_result"
    }
   ],
   "source": [
    "# randomly permute the pixels in X_train\n",
    "X_train = np.asarray([np.random.permutation(X) for X in X_train])\n",
    "X_train.shape"
   ]
  },
  {
   "cell_type": "code",
   "execution_count": 35,
   "id": "703ddb58-7491-41d9-99df-0637ea4dd192",
   "metadata": {},
   "outputs": [],
   "source": [
    "y_train = to_categorical(y_train)\n",
    "y_test = to_categorical(y_test)"
   ]
  },
  {
   "cell_type": "code",
   "execution_count": 17,
   "id": "f836c4c4-9a35-4b4f-b205-0779b6b39b26",
   "metadata": {},
   "outputs": [],
   "source": [
    "model = Sequential([\n",
    "    Input(shape = (784,)),\n",
    "    Dense(units = 64, activation = 'relu', use_bias = True),\n",
    "    Dense(units = 64, activation = 'relu', use_bias = True),\n",
    "    Dense(units = 10, activation = 'softmax', use_bias = False)\n",
    "])"
   ]
  },
  {
   "cell_type": "code",
   "execution_count": 20,
   "id": "508a57c8-2a1a-4fdd-8a22-ddcadb6f388d",
   "metadata": {},
   "outputs": [],
   "source": [
    "model.compile(\n",
    "    loss = 'categorical_crossentropy',\n",
    "    optimizer = 'adam',\n",
    "    metrics = ['accuracy']\n",
    ")"
   ]
  },
  {
   "cell_type": "code",
   "execution_count": 27,
   "id": "26c00b97-995d-4787-8098-186219e631a6",
   "metadata": {
    "collapsed": true,
    "jupyter": {
     "outputs_hidden": true
    },
    "tags": []
   },
   "outputs": [
    {
     "name": "stdout",
     "output_type": "stream",
     "text": [
      "Epoch 1/200\n",
      "1875/1875 [==============================] - 1s 783us/step - loss: 0.9160 - accuracy: 0.6739 - val_loss: 9.5822 - val_accuracy: 0.1121\n",
      "Epoch 2/200\n",
      "1875/1875 [==============================] - 1s 741us/step - loss: 0.9159 - accuracy: 0.6726 - val_loss: 9.3982 - val_accuracy: 0.1114\n",
      "Epoch 3/200\n",
      "1875/1875 [==============================] - 1s 752us/step - loss: 0.9086 - accuracy: 0.6747 - val_loss: 9.4700 - val_accuracy: 0.1046\n",
      "Epoch 4/200\n",
      "1875/1875 [==============================] - 1s 780us/step - loss: 0.9109 - accuracy: 0.6749 - val_loss: 9.2899 - val_accuracy: 0.1153\n",
      "Epoch 5/200\n",
      "1875/1875 [==============================] - 1s 733us/step - loss: 0.9122 - accuracy: 0.6753 - val_loss: 9.5042 - val_accuracy: 0.1041\n",
      "Epoch 6/200\n",
      "1875/1875 [==============================] - 1s 765us/step - loss: 0.9061 - accuracy: 0.6751 - val_loss: 9.5644 - val_accuracy: 0.1162\n",
      "Epoch 7/200\n",
      "1875/1875 [==============================] - 1s 747us/step - loss: 0.9079 - accuracy: 0.6763 - val_loss: 9.3546 - val_accuracy: 0.1177\n",
      "Epoch 8/200\n",
      "1875/1875 [==============================] - 1s 719us/step - loss: 0.9049 - accuracy: 0.6767 - val_loss: 9.5789 - val_accuracy: 0.1040\n",
      "Epoch 9/200\n",
      "1875/1875 [==============================] - 1s 759us/step - loss: 0.9055 - accuracy: 0.6765 - val_loss: 9.7851 - val_accuracy: 0.0990\n",
      "Epoch 10/200\n",
      "1875/1875 [==============================] - 2s 806us/step - loss: 0.9057 - accuracy: 0.6764 - val_loss: 9.7275 - val_accuracy: 0.1019\n",
      "Epoch 11/200\n",
      "1875/1875 [==============================] - 1s 800us/step - loss: 0.9008 - accuracy: 0.6768 - val_loss: 9.8030 - val_accuracy: 0.1054\n",
      "Epoch 12/200\n",
      "1875/1875 [==============================] - 1s 796us/step - loss: 0.9002 - accuracy: 0.6776 - val_loss: 10.0561 - val_accuracy: 0.1057\n",
      "Epoch 13/200\n",
      "1875/1875 [==============================] - 1s 781us/step - loss: 0.9016 - accuracy: 0.6779 - val_loss: 9.6338 - val_accuracy: 0.1035\n",
      "Epoch 14/200\n",
      "1875/1875 [==============================] - 1s 759us/step - loss: 0.8964 - accuracy: 0.6784 - val_loss: 9.6686 - val_accuracy: 0.1076\n",
      "Epoch 15/200\n",
      "1875/1875 [==============================] - 1s 747us/step - loss: 0.8985 - accuracy: 0.6784 - val_loss: 10.0870 - val_accuracy: 0.1125\n",
      "Epoch 16/200\n",
      "1875/1875 [==============================] - 1s 747us/step - loss: 0.8957 - accuracy: 0.6798 - val_loss: 9.9941 - val_accuracy: 0.1131\n",
      "Epoch 17/200\n",
      "1875/1875 [==============================] - 1s 752us/step - loss: 0.8958 - accuracy: 0.6798 - val_loss: 9.8376 - val_accuracy: 0.1041\n",
      "Epoch 18/200\n",
      "1875/1875 [==============================] - 1s 744us/step - loss: 0.8918 - accuracy: 0.6812 - val_loss: 9.9384 - val_accuracy: 0.1093\n",
      "Epoch 19/200\n",
      "1875/1875 [==============================] - 1s 776us/step - loss: 0.8889 - accuracy: 0.6825 - val_loss: 9.9659 - val_accuracy: 0.1052\n",
      "Epoch 20/200\n",
      "1875/1875 [==============================] - 1s 743us/step - loss: 0.8915 - accuracy: 0.6806 - val_loss: 10.2259 - val_accuracy: 0.1096\n",
      "Epoch 21/200\n",
      "1875/1875 [==============================] - 1s 750us/step - loss: 0.8873 - accuracy: 0.6841 - val_loss: 10.3934 - val_accuracy: 0.1160\n",
      "Epoch 22/200\n",
      "1875/1875 [==============================] - 1s 766us/step - loss: 0.8901 - accuracy: 0.6813 - val_loss: 10.0697 - val_accuracy: 0.1029\n",
      "Epoch 23/200\n",
      "1875/1875 [==============================] - 1s 764us/step - loss: 0.8815 - accuracy: 0.6845 - val_loss: 10.1232 - val_accuracy: 0.1163\n",
      "Epoch 24/200\n",
      "1875/1875 [==============================] - 1s 756us/step - loss: 0.8866 - accuracy: 0.6834 - val_loss: 10.1801 - val_accuracy: 0.1203\n",
      "Epoch 25/200\n",
      "1875/1875 [==============================] - 1s 712us/step - loss: 0.8831 - accuracy: 0.6853 - val_loss: 10.2780 - val_accuracy: 0.1151\n",
      "Epoch 26/200\n",
      "1875/1875 [==============================] - 1s 774us/step - loss: 0.8809 - accuracy: 0.6860 - val_loss: 10.1411 - val_accuracy: 0.1156\n",
      "Epoch 27/200\n",
      "1875/1875 [==============================] - 1s 782us/step - loss: 0.8804 - accuracy: 0.6840 - val_loss: 10.4765 - val_accuracy: 0.0957\n",
      "Epoch 28/200\n",
      "1875/1875 [==============================] - 1s 792us/step - loss: 0.8805 - accuracy: 0.6861 - val_loss: 10.6902 - val_accuracy: 0.1117\n",
      "Epoch 29/200\n",
      "1875/1875 [==============================] - 2s 822us/step - loss: 0.8807 - accuracy: 0.6841 - val_loss: 10.4935 - val_accuracy: 0.1018\n",
      "Epoch 30/200\n",
      "1875/1875 [==============================] - 1s 722us/step - loss: 0.8740 - accuracy: 0.6885 - val_loss: 10.3738 - val_accuracy: 0.0969\n",
      "Epoch 31/200\n",
      "1875/1875 [==============================] - 1s 720us/step - loss: 0.8765 - accuracy: 0.6876 - val_loss: 10.4850 - val_accuracy: 0.1091\n",
      "Epoch 32/200\n",
      "1875/1875 [==============================] - 1s 742us/step - loss: 0.8752 - accuracy: 0.6882 - val_loss: 10.4145 - val_accuracy: 0.1117\n",
      "Epoch 33/200\n",
      "1875/1875 [==============================] - 1s 748us/step - loss: 0.8749 - accuracy: 0.6881 - val_loss: 10.6807 - val_accuracy: 0.1137\n",
      "Epoch 34/200\n",
      "1875/1875 [==============================] - 1s 771us/step - loss: 0.8699 - accuracy: 0.6891 - val_loss: 10.5821 - val_accuracy: 0.1079\n",
      "Epoch 35/200\n",
      "1875/1875 [==============================] - 2s 800us/step - loss: 0.8675 - accuracy: 0.6909 - val_loss: 10.6765 - val_accuracy: 0.1095\n",
      "Epoch 36/200\n",
      "1875/1875 [==============================] - 1s 756us/step - loss: 0.8715 - accuracy: 0.6896 - val_loss: 10.9734 - val_accuracy: 0.1059\n",
      "Epoch 37/200\n",
      "1875/1875 [==============================] - 1s 743us/step - loss: 0.8707 - accuracy: 0.6881 - val_loss: 10.6079 - val_accuracy: 0.1209\n",
      "Epoch 38/200\n",
      "1875/1875 [==============================] - 1s 718us/step - loss: 0.8655 - accuracy: 0.6917 - val_loss: 10.7991 - val_accuracy: 0.0990\n",
      "Epoch 39/200\n",
      "1875/1875 [==============================] - 1s 724us/step - loss: 0.8677 - accuracy: 0.6913 - val_loss: 10.8433 - val_accuracy: 0.1025\n",
      "Epoch 40/200\n",
      "1875/1875 [==============================] - 1s 730us/step - loss: 0.8644 - accuracy: 0.6928 - val_loss: 10.9774 - val_accuracy: 0.1046\n",
      "Epoch 41/200\n",
      "1875/1875 [==============================] - 1s 748us/step - loss: 0.8658 - accuracy: 0.6920 - val_loss: 11.3135 - val_accuracy: 0.0905\n",
      "Epoch 42/200\n",
      "1875/1875 [==============================] - 1s 724us/step - loss: 0.8669 - accuracy: 0.6917 - val_loss: 10.7533 - val_accuracy: 0.0965\n",
      "Epoch 43/200\n",
      "1875/1875 [==============================] - 1s 739us/step - loss: 0.8627 - accuracy: 0.6926 - val_loss: 10.7345 - val_accuracy: 0.1059\n",
      "Epoch 44/200\n",
      "1875/1875 [==============================] - 1s 751us/step - loss: 0.8577 - accuracy: 0.6942 - val_loss: 10.9257 - val_accuracy: 0.1042\n",
      "Epoch 45/200\n",
      "1875/1875 [==============================] - 1s 733us/step - loss: 0.8613 - accuracy: 0.6936 - val_loss: 10.9045 - val_accuracy: 0.0992\n",
      "Epoch 46/200\n",
      "1875/1875 [==============================] - 1s 728us/step - loss: 0.8602 - accuracy: 0.6927 - val_loss: 11.0137 - val_accuracy: 0.1080\n",
      "Epoch 47/200\n",
      "1875/1875 [==============================] - 1s 749us/step - loss: 0.8592 - accuracy: 0.6943 - val_loss: 11.1133 - val_accuracy: 0.1149\n",
      "Epoch 48/200\n",
      "1875/1875 [==============================] - 1s 737us/step - loss: 0.8571 - accuracy: 0.6949 - val_loss: 11.1304 - val_accuracy: 0.1127\n",
      "Epoch 49/200\n",
      "1875/1875 [==============================] - 1s 754us/step - loss: 0.8608 - accuracy: 0.6951 - val_loss: 11.0961 - val_accuracy: 0.1059\n",
      "Epoch 50/200\n",
      "1875/1875 [==============================] - 1s 747us/step - loss: 0.8537 - accuracy: 0.6957 - val_loss: 11.6828 - val_accuracy: 0.1038\n",
      "Epoch 51/200\n",
      "1875/1875 [==============================] - 1s 748us/step - loss: 0.8541 - accuracy: 0.6950 - val_loss: 11.3856 - val_accuracy: 0.1085\n",
      "Epoch 52/200\n",
      "1875/1875 [==============================] - 1s 745us/step - loss: 0.8489 - accuracy: 0.6968 - val_loss: 11.5207 - val_accuracy: 0.1045\n",
      "Epoch 53/200\n",
      "1875/1875 [==============================] - 1s 739us/step - loss: 0.8516 - accuracy: 0.6969 - val_loss: 11.3856 - val_accuracy: 0.1048\n",
      "Epoch 54/200\n",
      "1875/1875 [==============================] - 1s 731us/step - loss: 0.8520 - accuracy: 0.6972 - val_loss: 11.6959 - val_accuracy: 0.1010\n",
      "Epoch 55/200\n",
      "1875/1875 [==============================] - 1s 732us/step - loss: 0.8503 - accuracy: 0.6964 - val_loss: 11.5200 - val_accuracy: 0.1056\n",
      "Epoch 56/200\n",
      "1875/1875 [==============================] - 1s 762us/step - loss: 0.8517 - accuracy: 0.6958 - val_loss: 11.4588 - val_accuracy: 0.0934\n",
      "Epoch 57/200\n",
      "1875/1875 [==============================] - 1s 716us/step - loss: 0.8530 - accuracy: 0.6954 - val_loss: 11.3376 - val_accuracy: 0.1080\n",
      "Epoch 58/200\n",
      "1875/1875 [==============================] - 1s 729us/step - loss: 0.8454 - accuracy: 0.6993 - val_loss: 11.4944 - val_accuracy: 0.0938\n",
      "Epoch 59/200\n",
      "1875/1875 [==============================] - 1s 740us/step - loss: 0.8447 - accuracy: 0.6982 - val_loss: 11.3987 - val_accuracy: 0.1110\n",
      "Epoch 60/200\n",
      "1875/1875 [==============================] - 1s 760us/step - loss: 0.8473 - accuracy: 0.6982 - val_loss: 11.4854 - val_accuracy: 0.1090\n",
      "Epoch 61/200\n",
      "1875/1875 [==============================] - 1s 743us/step - loss: 0.8436 - accuracy: 0.7014 - val_loss: 11.4990 - val_accuracy: 0.0902\n",
      "Epoch 62/200\n",
      "1875/1875 [==============================] - 1s 744us/step - loss: 0.8456 - accuracy: 0.6975 - val_loss: 11.6784 - val_accuracy: 0.0925\n",
      "Epoch 63/200\n",
      "1875/1875 [==============================] - 1s 746us/step - loss: 0.8434 - accuracy: 0.6993 - val_loss: 11.4882 - val_accuracy: 0.1011\n",
      "Epoch 64/200\n",
      "1875/1875 [==============================] - 1s 744us/step - loss: 0.8450 - accuracy: 0.6987 - val_loss: 11.5381 - val_accuracy: 0.0929\n",
      "Epoch 65/200\n",
      "1875/1875 [==============================] - 1s 753us/step - loss: 0.8394 - accuracy: 0.7003 - val_loss: 11.8801 - val_accuracy: 0.1019\n",
      "Epoch 66/200\n",
      "1875/1875 [==============================] - 1s 751us/step - loss: 0.8388 - accuracy: 0.7018 - val_loss: 12.1795 - val_accuracy: 0.1150\n",
      "Epoch 67/200\n",
      "1875/1875 [==============================] - 1s 786us/step - loss: 0.8372 - accuracy: 0.7018 - val_loss: 12.0062 - val_accuracy: 0.1018\n",
      "Epoch 68/200\n",
      "1875/1875 [==============================] - 1s 690us/step - loss: 0.8373 - accuracy: 0.7023 - val_loss: 11.8499 - val_accuracy: 0.1005\n",
      "Epoch 69/200\n",
      "1875/1875 [==============================] - 1s 710us/step - loss: 0.8351 - accuracy: 0.7033 - val_loss: 11.8626 - val_accuracy: 0.0938\n",
      "Epoch 70/200\n",
      "1875/1875 [==============================] - 1s 715us/step - loss: 0.8421 - accuracy: 0.6998 - val_loss: 11.7567 - val_accuracy: 0.0949\n",
      "Epoch 71/200\n",
      "1875/1875 [==============================] - 1s 733us/step - loss: 0.8351 - accuracy: 0.7011 - val_loss: 12.2729 - val_accuracy: 0.1069\n",
      "Epoch 72/200\n",
      "1875/1875 [==============================] - 1s 735us/step - loss: 0.8324 - accuracy: 0.7026 - val_loss: 11.8959 - val_accuracy: 0.0932\n",
      "Epoch 73/200\n",
      "1875/1875 [==============================] - 1s 751us/step - loss: 0.8350 - accuracy: 0.7021 - val_loss: 11.9058 - val_accuracy: 0.1110\n",
      "Epoch 74/200\n",
      "1875/1875 [==============================] - 1s 743us/step - loss: 0.8312 - accuracy: 0.7039 - val_loss: 12.3445 - val_accuracy: 0.1078\n",
      "Epoch 75/200\n",
      "1875/1875 [==============================] - 1s 769us/step - loss: 0.8313 - accuracy: 0.7042 - val_loss: 11.8929 - val_accuracy: 0.1210\n",
      "Epoch 76/200\n",
      "1875/1875 [==============================] - 1s 719us/step - loss: 0.8303 - accuracy: 0.7034 - val_loss: 11.8519 - val_accuracy: 0.1182\n",
      "Epoch 77/200\n",
      "1875/1875 [==============================] - 1s 732us/step - loss: 0.8291 - accuracy: 0.7042 - val_loss: 11.8117 - val_accuracy: 0.0963\n",
      "Epoch 78/200\n",
      "1875/1875 [==============================] - 1s 701us/step - loss: 0.8290 - accuracy: 0.7045 - val_loss: 11.6196 - val_accuracy: 0.0999\n",
      "Epoch 79/200\n",
      "1875/1875 [==============================] - 1s 708us/step - loss: 0.8316 - accuracy: 0.7031 - val_loss: 12.1926 - val_accuracy: 0.1152\n",
      "Epoch 80/200\n",
      "1875/1875 [==============================] - 1s 724us/step - loss: 0.8280 - accuracy: 0.7056 - val_loss: 12.4081 - val_accuracy: 0.1081\n",
      "Epoch 81/200\n",
      "1875/1875 [==============================] - 1s 743us/step - loss: 0.8233 - accuracy: 0.7078 - val_loss: 12.2910 - val_accuracy: 0.0998\n",
      "Epoch 82/200\n",
      "1875/1875 [==============================] - 1s 748us/step - loss: 0.8242 - accuracy: 0.7048 - val_loss: 12.6657 - val_accuracy: 0.1028\n",
      "Epoch 83/200\n",
      "1875/1875 [==============================] - 1s 750us/step - loss: 0.8267 - accuracy: 0.7056 - val_loss: 12.3068 - val_accuracy: 0.1054\n",
      "Epoch 84/200\n",
      "1875/1875 [==============================] - 1s 738us/step - loss: 0.8235 - accuracy: 0.7070 - val_loss: 12.4057 - val_accuracy: 0.1110\n",
      "Epoch 85/200\n",
      "1875/1875 [==============================] - 1s 759us/step - loss: 0.8275 - accuracy: 0.7068 - val_loss: 12.1834 - val_accuracy: 0.1145\n",
      "Epoch 86/200\n",
      "1875/1875 [==============================] - 1s 698us/step - loss: 0.8204 - accuracy: 0.7071 - val_loss: 12.1846 - val_accuracy: 0.1082\n",
      "Epoch 87/200\n",
      "1875/1875 [==============================] - 1s 712us/step - loss: 0.8225 - accuracy: 0.7072 - val_loss: 12.4039 - val_accuracy: 0.1090\n",
      "Epoch 88/200\n",
      "1875/1875 [==============================] - 1s 735us/step - loss: 0.8184 - accuracy: 0.7089 - val_loss: 12.8854 - val_accuracy: 0.0925\n",
      "Epoch 89/200\n",
      "1875/1875 [==============================] - 1s 738us/step - loss: 0.8197 - accuracy: 0.7098 - val_loss: 12.4362 - val_accuracy: 0.1141\n",
      "Epoch 90/200\n",
      "1875/1875 [==============================] - 1s 748us/step - loss: 0.8204 - accuracy: 0.7053 - val_loss: 12.5645 - val_accuracy: 0.0925\n",
      "Epoch 91/200\n",
      "1875/1875 [==============================] - 1s 764us/step - loss: 0.8157 - accuracy: 0.7112 - val_loss: 12.7699 - val_accuracy: 0.0946\n",
      "Epoch 92/200\n",
      "1875/1875 [==============================] - 1s 748us/step - loss: 0.8209 - accuracy: 0.7081 - val_loss: 12.8560 - val_accuracy: 0.1009\n",
      "Epoch 93/200\n",
      "1875/1875 [==============================] - 1s 794us/step - loss: 0.8131 - accuracy: 0.7091 - val_loss: 13.0195 - val_accuracy: 0.0965\n",
      "Epoch 94/200\n",
      "1875/1875 [==============================] - 1s 743us/step - loss: 0.8196 - accuracy: 0.7100 - val_loss: 12.7236 - val_accuracy: 0.1041\n",
      "Epoch 95/200\n",
      "1875/1875 [==============================] - 1s 720us/step - loss: 0.8153 - accuracy: 0.7099 - val_loss: 12.6553 - val_accuracy: 0.0978\n",
      "Epoch 96/200\n",
      "1875/1875 [==============================] - 1s 722us/step - loss: 0.8167 - accuracy: 0.7092 - val_loss: 13.0013 - val_accuracy: 0.1062\n",
      "Epoch 97/200\n",
      "1875/1875 [==============================] - 1s 735us/step - loss: 0.8140 - accuracy: 0.7116 - val_loss: 12.8772 - val_accuracy: 0.1145\n",
      "Epoch 98/200\n",
      "1875/1875 [==============================] - 1s 746us/step - loss: 0.8160 - accuracy: 0.7078 - val_loss: 12.7152 - val_accuracy: 0.0984\n",
      "Epoch 99/200\n",
      "1875/1875 [==============================] - 1s 759us/step - loss: 0.8140 - accuracy: 0.7107 - val_loss: 12.9018 - val_accuracy: 0.1027\n",
      "Epoch 100/200\n",
      "1875/1875 [==============================] - 1s 755us/step - loss: 0.8122 - accuracy: 0.7109 - val_loss: 12.9335 - val_accuracy: 0.1070\n",
      "Epoch 101/200\n",
      "1875/1875 [==============================] - 1s 728us/step - loss: 0.8136 - accuracy: 0.7129 - val_loss: 13.1491 - val_accuracy: 0.1048\n",
      "Epoch 102/200\n",
      "1875/1875 [==============================] - 1s 763us/step - loss: 0.8112 - accuracy: 0.7104 - val_loss: 12.9770 - val_accuracy: 0.1158\n",
      "Epoch 103/200\n",
      "1875/1875 [==============================] - 1s 701us/step - loss: 0.8080 - accuracy: 0.7126 - val_loss: 12.7355 - val_accuracy: 0.1079\n",
      "Epoch 104/200\n",
      "1875/1875 [==============================] - 1s 709us/step - loss: 0.8110 - accuracy: 0.7103 - val_loss: 13.2854 - val_accuracy: 0.1105\n",
      "Epoch 105/200\n",
      "1875/1875 [==============================] - 1s 721us/step - loss: 0.8060 - accuracy: 0.7135 - val_loss: 13.1098 - val_accuracy: 0.1050\n",
      "Epoch 106/200\n",
      "1875/1875 [==============================] - 1s 728us/step - loss: 0.8049 - accuracy: 0.7123 - val_loss: 12.9163 - val_accuracy: 0.1096\n",
      "Epoch 107/200\n",
      "1875/1875 [==============================] - 1s 739us/step - loss: 0.8079 - accuracy: 0.7136 - val_loss: 13.0137 - val_accuracy: 0.0926\n",
      "Epoch 108/200\n",
      "1875/1875 [==============================] - 1s 741us/step - loss: 0.8107 - accuracy: 0.7120 - val_loss: 13.3532 - val_accuracy: 0.0911\n",
      "Epoch 109/200\n",
      "1875/1875 [==============================] - 1s 751us/step - loss: 0.8038 - accuracy: 0.7135 - val_loss: 13.3667 - val_accuracy: 0.1100\n",
      "Epoch 110/200\n",
      "1875/1875 [==============================] - 1s 723us/step - loss: 0.8030 - accuracy: 0.7140 - val_loss: 13.4977 - val_accuracy: 0.1110\n",
      "Epoch 111/200\n",
      "1875/1875 [==============================] - 1s 731us/step - loss: 0.7966 - accuracy: 0.7182 - val_loss: 13.3985 - val_accuracy: 0.1056\n",
      "Epoch 112/200\n",
      "1875/1875 [==============================] - 1s 751us/step - loss: 0.8033 - accuracy: 0.7136 - val_loss: 13.1230 - val_accuracy: 0.1010\n",
      "Epoch 113/200\n",
      "1875/1875 [==============================] - 1s 744us/step - loss: 0.8048 - accuracy: 0.7127 - val_loss: 12.8191 - val_accuracy: 0.1065\n",
      "Epoch 114/200\n",
      "1875/1875 [==============================] - 1s 737us/step - loss: 0.8014 - accuracy: 0.7131 - val_loss: 13.0889 - val_accuracy: 0.1007\n",
      "Epoch 115/200\n",
      "1875/1875 [==============================] - 1s 696us/step - loss: 0.8006 - accuracy: 0.7173 - val_loss: 13.4726 - val_accuracy: 0.1126\n",
      "Epoch 116/200\n",
      "1875/1875 [==============================] - 1s 723us/step - loss: 0.8012 - accuracy: 0.7145 - val_loss: 13.5646 - val_accuracy: 0.1118\n",
      "Epoch 117/200\n",
      "1875/1875 [==============================] - 1s 706us/step - loss: 0.7988 - accuracy: 0.7147 - val_loss: 13.6558 - val_accuracy: 0.1038\n",
      "Epoch 118/200\n",
      "1875/1875 [==============================] - 1s 725us/step - loss: 0.7991 - accuracy: 0.7156 - val_loss: 13.5025 - val_accuracy: 0.1133\n",
      "Epoch 119/200\n",
      "1875/1875 [==============================] - 1s 769us/step - loss: 0.7965 - accuracy: 0.7183 - val_loss: 13.5076 - val_accuracy: 0.1046\n",
      "Epoch 120/200\n",
      "1875/1875 [==============================] - 1s 723us/step - loss: 0.8009 - accuracy: 0.7147 - val_loss: 13.2812 - val_accuracy: 0.1073\n",
      "Epoch 121/200\n",
      "1875/1875 [==============================] - 1s 734us/step - loss: 0.7968 - accuracy: 0.7162 - val_loss: 13.2089 - val_accuracy: 0.1125\n",
      "Epoch 122/200\n",
      "1875/1875 [==============================] - 1s 783us/step - loss: 0.7948 - accuracy: 0.7173 - val_loss: 13.6629 - val_accuracy: 0.1034\n",
      "Epoch 123/200\n",
      "1875/1875 [==============================] - 1s 754us/step - loss: 0.7934 - accuracy: 0.7180 - val_loss: 13.3634 - val_accuracy: 0.1121\n",
      "Epoch 124/200\n",
      "1875/1875 [==============================] - 1s 727us/step - loss: 0.7940 - accuracy: 0.7190 - val_loss: 14.1289 - val_accuracy: 0.1048\n",
      "Epoch 125/200\n",
      "1875/1875 [==============================] - 1s 756us/step - loss: 0.7946 - accuracy: 0.7176 - val_loss: 13.4723 - val_accuracy: 0.1022\n",
      "Epoch 126/200\n",
      "1875/1875 [==============================] - 1s 737us/step - loss: 0.7930 - accuracy: 0.7179 - val_loss: 14.0073 - val_accuracy: 0.1090\n",
      "Epoch 127/200\n",
      "1875/1875 [==============================] - 1s 713us/step - loss: 0.7900 - accuracy: 0.7189 - val_loss: 13.7250 - val_accuracy: 0.1098\n",
      "Epoch 128/200\n",
      "1875/1875 [==============================] - 1s 710us/step - loss: 0.7911 - accuracy: 0.7192 - val_loss: 14.2215 - val_accuracy: 0.1184\n",
      "Epoch 129/200\n",
      "1875/1875 [==============================] - 1s 719us/step - loss: 0.7905 - accuracy: 0.7199 - val_loss: 13.5686 - val_accuracy: 0.1031\n",
      "Epoch 130/200\n",
      "1875/1875 [==============================] - 1s 730us/step - loss: 0.7895 - accuracy: 0.7201 - val_loss: 14.0663 - val_accuracy: 0.1116\n",
      "Epoch 131/200\n",
      "1875/1875 [==============================] - 1s 757us/step - loss: 0.7976 - accuracy: 0.7147 - val_loss: 13.5864 - val_accuracy: 0.0935\n",
      "Epoch 132/200\n",
      "1875/1875 [==============================] - 1s 744us/step - loss: 0.7891 - accuracy: 0.7202 - val_loss: 13.6317 - val_accuracy: 0.1092\n",
      "Epoch 133/200\n",
      "1875/1875 [==============================] - 1s 725us/step - loss: 0.7866 - accuracy: 0.7204 - val_loss: 14.0581 - val_accuracy: 0.0996\n",
      "Epoch 134/200\n",
      "1875/1875 [==============================] - 1s 718us/step - loss: 0.7890 - accuracy: 0.7188 - val_loss: 14.3991 - val_accuracy: 0.1016\n",
      "Epoch 135/200\n",
      "1875/1875 [==============================] - 1s 715us/step - loss: 0.7854 - accuracy: 0.7199 - val_loss: 13.7774 - val_accuracy: 0.1032\n",
      "Epoch 136/200\n",
      "1875/1875 [==============================] - 1s 730us/step - loss: 0.7914 - accuracy: 0.7194 - val_loss: 13.5821 - val_accuracy: 0.0927\n",
      "Epoch 137/200\n",
      "1875/1875 [==============================] - 1s 731us/step - loss: 0.7848 - accuracy: 0.7212 - val_loss: 13.7277 - val_accuracy: 0.0948\n",
      "Epoch 138/200\n",
      "1875/1875 [==============================] - 1s 788us/step - loss: 0.7861 - accuracy: 0.7202 - val_loss: 13.9473 - val_accuracy: 0.1015\n",
      "Epoch 139/200\n",
      "1875/1875 [==============================] - 1s 763us/step - loss: 0.7827 - accuracy: 0.7227 - val_loss: 14.1575 - val_accuracy: 0.1099\n",
      "Epoch 140/200\n",
      "1875/1875 [==============================] - 1s 740us/step - loss: 0.7841 - accuracy: 0.7219 - val_loss: 14.1828 - val_accuracy: 0.1015\n",
      "Epoch 141/200\n",
      "1875/1875 [==============================] - 1s 752us/step - loss: 0.7857 - accuracy: 0.7199 - val_loss: 14.3488 - val_accuracy: 0.1015\n",
      "Epoch 142/200\n",
      "1875/1875 [==============================] - 1s 732us/step - loss: 0.7834 - accuracy: 0.7225 - val_loss: 13.9367 - val_accuracy: 0.1115\n",
      "Epoch 143/200\n",
      "1875/1875 [==============================] - 1s 730us/step - loss: 0.7800 - accuracy: 0.7214 - val_loss: 14.1498 - val_accuracy: 0.1004\n",
      "Epoch 144/200\n",
      "1875/1875 [==============================] - 1s 736us/step - loss: 0.7777 - accuracy: 0.7229 - val_loss: 14.4331 - val_accuracy: 0.1097\n",
      "Epoch 145/200\n",
      "1875/1875 [==============================] - 1s 733us/step - loss: 0.7827 - accuracy: 0.7231 - val_loss: 13.9339 - val_accuracy: 0.1087\n",
      "Epoch 146/200\n",
      "1875/1875 [==============================] - 1s 745us/step - loss: 0.7840 - accuracy: 0.7198 - val_loss: 14.2159 - val_accuracy: 0.0964\n",
      "Epoch 147/200\n",
      "1875/1875 [==============================] - 1s 761us/step - loss: 0.7828 - accuracy: 0.7225 - val_loss: 14.5781 - val_accuracy: 0.1006\n",
      "Epoch 148/200\n",
      "1875/1875 [==============================] - 1s 764us/step - loss: 0.7795 - accuracy: 0.7239 - val_loss: 14.5129 - val_accuracy: 0.1045\n",
      "Epoch 149/200\n",
      "1875/1875 [==============================] - 1s 758us/step - loss: 0.7780 - accuracy: 0.7232 - val_loss: 15.0041 - val_accuracy: 0.1070\n",
      "Epoch 150/200\n",
      "1875/1875 [==============================] - 1s 742us/step - loss: 0.7844 - accuracy: 0.7229 - val_loss: 14.2935 - val_accuracy: 0.1045\n",
      "Epoch 151/200\n",
      "1875/1875 [==============================] - 1s 729us/step - loss: 0.7782 - accuracy: 0.7224 - val_loss: 14.5724 - val_accuracy: 0.1035\n",
      "Epoch 152/200\n",
      "1875/1875 [==============================] - 1s 748us/step - loss: 0.7812 - accuracy: 0.7217 - val_loss: 14.2101 - val_accuracy: 0.0964\n",
      "Epoch 153/200\n",
      "1875/1875 [==============================] - 1s 770us/step - loss: 0.7752 - accuracy: 0.7256 - val_loss: 14.2599 - val_accuracy: 0.0987\n",
      "Epoch 154/200\n",
      "1875/1875 [==============================] - 1s 752us/step - loss: 0.7784 - accuracy: 0.7245 - val_loss: 13.8531 - val_accuracy: 0.1058\n",
      "Epoch 155/200\n",
      "1875/1875 [==============================] - 1s 751us/step - loss: 0.7774 - accuracy: 0.7259 - val_loss: 13.6242 - val_accuracy: 0.1006\n",
      "Epoch 156/200\n",
      "1875/1875 [==============================] - 1s 795us/step - loss: 0.7764 - accuracy: 0.7252 - val_loss: 14.2353 - val_accuracy: 0.1141\n",
      "Epoch 157/200\n",
      "1875/1875 [==============================] - 1s 751us/step - loss: 0.7801 - accuracy: 0.7222 - val_loss: 14.0411 - val_accuracy: 0.1154\n",
      "Epoch 158/200\n",
      "1875/1875 [==============================] - 1s 765us/step - loss: 0.7757 - accuracy: 0.7246 - val_loss: 13.8491 - val_accuracy: 0.1174\n",
      "Epoch 159/200\n",
      "1875/1875 [==============================] - 1s 737us/step - loss: 0.7691 - accuracy: 0.7277 - val_loss: 14.3118 - val_accuracy: 0.1116\n",
      "Epoch 160/200\n",
      "1875/1875 [==============================] - 1s 747us/step - loss: 0.7745 - accuracy: 0.7245 - val_loss: 13.7345 - val_accuracy: 0.1164\n",
      "Epoch 161/200\n",
      "1875/1875 [==============================] - 1s 740us/step - loss: 0.7735 - accuracy: 0.7252 - val_loss: 14.5651 - val_accuracy: 0.1126\n",
      "Epoch 162/200\n",
      "1875/1875 [==============================] - 1s 752us/step - loss: 0.7704 - accuracy: 0.7269 - val_loss: 14.0950 - val_accuracy: 0.1108\n",
      "Epoch 163/200\n",
      "1875/1875 [==============================] - 1s 742us/step - loss: 0.7705 - accuracy: 0.7255 - val_loss: 14.4549 - val_accuracy: 0.1039\n",
      "Epoch 164/200\n",
      "1875/1875 [==============================] - 1s 740us/step - loss: 0.7761 - accuracy: 0.7251 - val_loss: 14.6311 - val_accuracy: 0.1103\n",
      "Epoch 165/200\n",
      "1875/1875 [==============================] - 1s 743us/step - loss: 0.7719 - accuracy: 0.7262 - val_loss: 14.6835 - val_accuracy: 0.1178\n",
      "Epoch 166/200\n",
      "1875/1875 [==============================] - 1s 736us/step - loss: 0.7680 - accuracy: 0.7284 - val_loss: 14.4183 - val_accuracy: 0.1025\n",
      "Epoch 167/200\n",
      "1875/1875 [==============================] - 1s 761us/step - loss: 0.7707 - accuracy: 0.7268 - val_loss: 14.7829 - val_accuracy: 0.1102\n",
      "Epoch 168/200\n",
      "1875/1875 [==============================] - 1s 750us/step - loss: 0.7683 - accuracy: 0.7266 - val_loss: 14.1894 - val_accuracy: 0.1112\n",
      "Epoch 169/200\n",
      "1875/1875 [==============================] - 1s 746us/step - loss: 0.7680 - accuracy: 0.7272 - val_loss: 15.0634 - val_accuracy: 0.1043\n",
      "Epoch 170/200\n",
      "1875/1875 [==============================] - 1s 763us/step - loss: 0.7704 - accuracy: 0.7285 - val_loss: 14.9940 - val_accuracy: 0.1108\n",
      "Epoch 171/200\n",
      "1875/1875 [==============================] - 1s 748us/step - loss: 0.7656 - accuracy: 0.7284 - val_loss: 14.7978 - val_accuracy: 0.1065\n",
      "Epoch 172/200\n",
      "1875/1875 [==============================] - 1s 748us/step - loss: 0.7678 - accuracy: 0.7269 - val_loss: 14.7801 - val_accuracy: 0.0924\n",
      "Epoch 173/200\n",
      "1875/1875 [==============================] - 1s 758us/step - loss: 0.7650 - accuracy: 0.7276 - val_loss: 14.8362 - val_accuracy: 0.0973\n",
      "Epoch 174/200\n",
      "1875/1875 [==============================] - 1s 728us/step - loss: 0.7641 - accuracy: 0.7298 - val_loss: 14.9803 - val_accuracy: 0.1025\n",
      "Epoch 175/200\n",
      "1875/1875 [==============================] - 1s 743us/step - loss: 0.7629 - accuracy: 0.7281 - val_loss: 15.1500 - val_accuracy: 0.1082\n",
      "Epoch 176/200\n",
      "1875/1875 [==============================] - 1s 745us/step - loss: 0.7644 - accuracy: 0.7285 - val_loss: 15.3677 - val_accuracy: 0.1004\n",
      "Epoch 177/200\n",
      "1875/1875 [==============================] - 1s 763us/step - loss: 0.7642 - accuracy: 0.7291 - val_loss: 15.1573 - val_accuracy: 0.1092\n",
      "Epoch 178/200\n",
      "1875/1875 [==============================] - 1s 741us/step - loss: 0.7634 - accuracy: 0.7284 - val_loss: 15.4161 - val_accuracy: 0.1171\n",
      "Epoch 179/200\n",
      "1875/1875 [==============================] - 1s 780us/step - loss: 0.7625 - accuracy: 0.7299 - val_loss: 15.2301 - val_accuracy: 0.1028\n",
      "Epoch 180/200\n",
      "1875/1875 [==============================] - 1s 762us/step - loss: 0.7644 - accuracy: 0.7286 - val_loss: 15.2721 - val_accuracy: 0.1133\n",
      "Epoch 181/200\n",
      "1875/1875 [==============================] - 1s 761us/step - loss: 0.7603 - accuracy: 0.7302 - val_loss: 15.4083 - val_accuracy: 0.1126\n",
      "Epoch 182/200\n",
      "1875/1875 [==============================] - 1s 746us/step - loss: 0.7631 - accuracy: 0.7309 - val_loss: 15.7900 - val_accuracy: 0.1028\n",
      "Epoch 183/200\n",
      "1875/1875 [==============================] - 1s 786us/step - loss: 0.7622 - accuracy: 0.7286 - val_loss: 15.4772 - val_accuracy: 0.1016\n",
      "Epoch 184/200\n",
      "1875/1875 [==============================] - 1s 785us/step - loss: 0.7609 - accuracy: 0.7292 - val_loss: 15.9532 - val_accuracy: 0.0930\n",
      "Epoch 185/200\n",
      "1875/1875 [==============================] - 1s 788us/step - loss: 0.7596 - accuracy: 0.7312 - val_loss: 15.3433 - val_accuracy: 0.0980\n",
      "Epoch 186/200\n",
      "1875/1875 [==============================] - 1s 732us/step - loss: 0.7577 - accuracy: 0.7311 - val_loss: 15.7103 - val_accuracy: 0.1127\n",
      "Epoch 187/200\n",
      "1875/1875 [==============================] - 1s 717us/step - loss: 0.7592 - accuracy: 0.7307 - val_loss: 15.5050 - val_accuracy: 0.1020\n",
      "Epoch 188/200\n",
      "1875/1875 [==============================] - 1s 750us/step - loss: 0.7606 - accuracy: 0.7299 - val_loss: 15.1856 - val_accuracy: 0.1100\n",
      "Epoch 189/200\n",
      "1875/1875 [==============================] - 1s 749us/step - loss: 0.7575 - accuracy: 0.7322 - val_loss: 15.0085 - val_accuracy: 0.1196\n",
      "Epoch 190/200\n",
      "1875/1875 [==============================] - 1s 770us/step - loss: 0.7592 - accuracy: 0.7307 - val_loss: 15.4661 - val_accuracy: 0.1093\n",
      "Epoch 191/200\n",
      "1875/1875 [==============================] - 1s 736us/step - loss: 0.7584 - accuracy: 0.7322 - val_loss: 15.9326 - val_accuracy: 0.1097\n",
      "Epoch 192/200\n",
      "1875/1875 [==============================] - 1s 730us/step - loss: 0.7554 - accuracy: 0.7315 - val_loss: 15.6300 - val_accuracy: 0.1142\n",
      "Epoch 193/200\n",
      "1875/1875 [==============================] - 1s 735us/step - loss: 0.7538 - accuracy: 0.7325 - val_loss: 15.8645 - val_accuracy: 0.1108\n",
      "Epoch 194/200\n",
      "1875/1875 [==============================] - 1s 747us/step - loss: 0.7581 - accuracy: 0.7309 - val_loss: 15.4233 - val_accuracy: 0.0953\n",
      "Epoch 195/200\n",
      "1875/1875 [==============================] - 1s 758us/step - loss: 0.7545 - accuracy: 0.7341 - val_loss: 15.6430 - val_accuracy: 0.1020\n",
      "Epoch 196/200\n",
      "1875/1875 [==============================] - 1s 746us/step - loss: 0.7542 - accuracy: 0.7325 - val_loss: 15.3977 - val_accuracy: 0.1165\n",
      "Epoch 197/200\n",
      "1875/1875 [==============================] - 1s 737us/step - loss: 0.7536 - accuracy: 0.7325 - val_loss: 15.5143 - val_accuracy: 0.1057\n",
      "Epoch 198/200\n",
      "1875/1875 [==============================] - 1s 733us/step - loss: 0.7556 - accuracy: 0.7330 - val_loss: 15.1702 - val_accuracy: 0.1024\n",
      "Epoch 199/200\n",
      "1875/1875 [==============================] - 1s 766us/step - loss: 0.7531 - accuracy: 0.7318 - val_loss: 15.9072 - val_accuracy: 0.1062\n",
      "Epoch 200/200\n",
      "1875/1875 [==============================] - 1s 742us/step - loss: 0.7526 - accuracy: 0.7341 - val_loss: 15.7137 - val_accuracy: 0.1105\n"
     ]
    }
   ],
   "source": [
    "history = model.fit(\n",
    "    X_train,\n",
    "    y_train,\n",
    "    epochs = 200,\n",
    "    validation_data = (X_test, y_test)\n",
    ")"
   ]
  },
  {
   "cell_type": "code",
   "execution_count": 28,
   "id": "639eb233-7b6d-4b06-ad3d-b1bd7e476721",
   "metadata": {},
   "outputs": [
    {
     "data": {
      "application/vnd.plotly.v1+json": {
       "config": {
        "plotlyServerURL": "https://plot.ly"
       },
       "data": [
        {
         "hovertemplate": "variable=0<br>index=%{x}<br>value=%{y}<extra></extra>",
         "legendgroup": "0",
         "line": {
          "color": "#636efa",
          "dash": "solid"
         },
         "mode": "lines",
         "name": "0",
         "orientation": "v",
         "showlegend": true,
         "type": "scatter",
         "x": [
          0,
          1,
          2,
          3,
          4,
          5,
          6,
          7,
          8,
          9,
          10,
          11,
          12,
          13,
          14,
          15,
          16,
          17,
          18,
          19,
          20,
          21,
          22,
          23,
          24,
          25,
          26,
          27,
          28,
          29,
          30,
          31,
          32,
          33,
          34,
          35,
          36,
          37,
          38,
          39,
          40,
          41,
          42,
          43,
          44,
          45,
          46,
          47,
          48,
          49,
          50,
          51,
          52,
          53,
          54,
          55,
          56,
          57,
          58,
          59,
          60,
          61,
          62,
          63,
          64,
          65,
          66,
          67,
          68,
          69,
          70,
          71,
          72,
          73,
          74,
          75,
          76,
          77,
          78,
          79,
          80,
          81,
          82,
          83,
          84,
          85,
          86,
          87,
          88,
          89,
          90,
          91,
          92,
          93,
          94,
          95,
          96,
          97,
          98,
          99,
          100,
          101,
          102,
          103,
          104,
          105,
          106,
          107,
          108,
          109,
          110,
          111,
          112,
          113,
          114,
          115,
          116,
          117,
          118,
          119,
          120,
          121,
          122,
          123,
          124,
          125,
          126,
          127,
          128,
          129,
          130,
          131,
          132,
          133,
          134,
          135,
          136,
          137,
          138,
          139,
          140,
          141,
          142,
          143,
          144,
          145,
          146,
          147,
          148,
          149,
          150,
          151,
          152,
          153,
          154,
          155,
          156,
          157,
          158,
          159,
          160,
          161,
          162,
          163,
          164,
          165,
          166,
          167,
          168,
          169,
          170,
          171,
          172,
          173,
          174,
          175,
          176,
          177,
          178,
          179,
          180,
          181,
          182,
          183,
          184,
          185,
          186,
          187,
          188,
          189,
          190,
          191,
          192,
          193,
          194,
          195,
          196,
          197,
          198,
          199
         ],
         "xaxis": "x",
         "y": [
          0.673883318901062,
          0.6726166605949402,
          0.6747333407402039,
          0.6748666763305664,
          0.6753000020980835,
          0.675083339214325,
          0.6762833595275879,
          0.676716685295105,
          0.6764500141143799,
          0.6763666868209839,
          0.6767666935920715,
          0.677649974822998,
          0.6778666377067566,
          0.6784499883651733,
          0.6783833503723145,
          0.6798499822616577,
          0.6798333525657654,
          0.6811500191688538,
          0.6825166940689087,
          0.680566668510437,
          0.6840833425521851,
          0.6813499927520752,
          0.6845166683197021,
          0.6834166646003723,
          0.6853333115577698,
          0.686033308506012,
          0.6839666962623596,
          0.6860666871070862,
          0.6840500235557556,
          0.6884666681289673,
          0.6876333355903625,
          0.6881666779518127,
          0.6881499886512756,
          0.6890833377838135,
          0.6908833384513855,
          0.6895666718482971,
          0.6881499886512756,
          0.6917333602905273,
          0.6912833452224731,
          0.6928333044052124,
          0.6919666528701782,
          0.6917333602905273,
          0.6925666928291321,
          0.694183349609375,
          0.6935666799545288,
          0.6926666498184204,
          0.6942833065986633,
          0.6948500275611877,
          0.6950500011444092,
          0.6957333087921143,
          0.6950166821479797,
          0.6967666745185852,
          0.6968500018119812,
          0.6971666812896729,
          0.6963833570480347,
          0.6957833170890808,
          0.6953666806221008,
          0.6992999911308289,
          0.6981666684150696,
          0.6982333064079285,
          0.7013833522796631,
          0.6975333094596863,
          0.699316680431366,
          0.6986666917800903,
          0.7002833485603333,
          0.7018333077430725,
          0.7018166780471802,
          0.7023000121116638,
          0.7032666802406311,
          0.6997666954994202,
          0.7010833621025085,
          0.7026166915893555,
          0.7020999789237976,
          0.7038833498954773,
          0.7042499780654907,
          0.703416645526886,
          0.7041666507720947,
          0.7045333385467529,
          0.7031333446502686,
          0.7055666446685791,
          0.7077666521072388,
          0.7048166394233704,
          0.7055500149726868,
          0.7069833278656006,
          0.706849992275238,
          0.7070833444595337,
          0.7071666717529297,
          0.708899974822998,
          0.709766685962677,
          0.7052833437919617,
          0.7111833095550537,
          0.708133339881897,
          0.7090833187103271,
          0.7100499868392944,
          0.7099499702453613,
          0.7092499732971191,
          0.711566686630249,
          0.7078166604042053,
          0.7107166647911072,
          0.7108833193778992,
          0.7128666639328003,
          0.7103999853134155,
          0.7126166820526123,
          0.7102500200271606,
          0.713450014591217,
          0.7123333215713501,
          0.713616669178009,
          0.7119666934013367,
          0.7135499715805054,
          0.7140166759490967,
          0.7182000279426575,
          0.7135999798774719,
          0.7127000093460083,
          0.7131166458129883,
          0.7172666788101196,
          0.7145166397094727,
          0.7146666646003723,
          0.7156000137329102,
          0.7182999849319458,
          0.7146833539009094,
          0.7162333130836487,
          0.7172999978065491,
          0.7179666757583618,
          0.7189833521842957,
          0.7176499962806702,
          0.7179499864578247,
          0.7189499735832214,
          0.7192000150680542,
          0.7198666930198669,
          0.7201166749000549,
          0.7147499918937683,
          0.720216691493988,
          0.72038334608078,
          0.718833327293396,
          0.7198500037193298,
          0.7194166779518127,
          0.7211833596229553,
          0.720216691493988,
          0.7226666808128357,
          0.7218666672706604,
          0.7199166417121887,
          0.722516655921936,
          0.7214000225067139,
          0.7228833436965942,
          0.7230666875839233,
          0.7197833061218262,
          0.7224833369255066,
          0.7238666415214539,
          0.7232333421707153,
          0.7228500247001648,
          0.722350001335144,
          0.7217166423797607,
          0.7255833148956299,
          0.7244833111763,
          0.7259166836738586,
          0.7251666784286499,
          0.7222333550453186,
          0.7245500087738037,
          0.727733314037323,
          0.7245000004768372,
          0.7251666784286499,
          0.7269166707992554,
          0.7254999876022339,
          0.7250999808311462,
          0.7261999845504761,
          0.7283833622932434,
          0.7267833352088928,
          0.7265833616256714,
          0.7271833419799805,
          0.7285333275794983,
          0.7284333109855652,
          0.7269333600997925,
          0.727649986743927,
          0.7297833561897278,
          0.7280833125114441,
          0.7284500002861023,
          0.7291499972343445,
          0.7283999919891357,
          0.7298833131790161,
          0.7286333441734314,
          0.7301999926567078,
          0.7309166789054871,
          0.7286166548728943,
          0.729200005531311,
          0.7311833500862122,
          0.7311166524887085,
          0.7306833267211914,
          0.7299333214759827,
          0.7322333455085754,
          0.7306666374206543,
          0.7321666479110718,
          0.7315333485603333,
          0.7324666380882263,
          0.7309166789054871,
          0.7341166734695435,
          0.7325166463851929,
          0.7325000166893005,
          0.7329833507537842,
          0.7318000197410583,
          0.734083354473114
         ],
         "yaxis": "y"
        }
       ],
       "layout": {
        "autosize": true,
        "legend": {
         "title": {
          "text": "variable"
         },
         "tracegroupgap": 0
        },
        "margin": {
         "t": 60
        },
        "template": {
         "data": {
          "bar": [
           {
            "error_x": {
             "color": "#2a3f5f"
            },
            "error_y": {
             "color": "#2a3f5f"
            },
            "marker": {
             "line": {
              "color": "#E5ECF6",
              "width": 0.5
             },
             "pattern": {
              "fillmode": "overlay",
              "size": 10,
              "solidity": 0.2
             }
            },
            "type": "bar"
           }
          ],
          "barpolar": [
           {
            "marker": {
             "line": {
              "color": "#E5ECF6",
              "width": 0.5
             },
             "pattern": {
              "fillmode": "overlay",
              "size": 10,
              "solidity": 0.2
             }
            },
            "type": "barpolar"
           }
          ],
          "carpet": [
           {
            "aaxis": {
             "endlinecolor": "#2a3f5f",
             "gridcolor": "white",
             "linecolor": "white",
             "minorgridcolor": "white",
             "startlinecolor": "#2a3f5f"
            },
            "baxis": {
             "endlinecolor": "#2a3f5f",
             "gridcolor": "white",
             "linecolor": "white",
             "minorgridcolor": "white",
             "startlinecolor": "#2a3f5f"
            },
            "type": "carpet"
           }
          ],
          "choropleth": [
           {
            "colorbar": {
             "outlinewidth": 0,
             "ticks": ""
            },
            "type": "choropleth"
           }
          ],
          "contour": [
           {
            "colorbar": {
             "outlinewidth": 0,
             "ticks": ""
            },
            "colorscale": [
             [
              0,
              "#0d0887"
             ],
             [
              0.1111111111111111,
              "#46039f"
             ],
             [
              0.2222222222222222,
              "#7201a8"
             ],
             [
              0.3333333333333333,
              "#9c179e"
             ],
             [
              0.4444444444444444,
              "#bd3786"
             ],
             [
              0.5555555555555556,
              "#d8576b"
             ],
             [
              0.6666666666666666,
              "#ed7953"
             ],
             [
              0.7777777777777778,
              "#fb9f3a"
             ],
             [
              0.8888888888888888,
              "#fdca26"
             ],
             [
              1,
              "#f0f921"
             ]
            ],
            "type": "contour"
           }
          ],
          "contourcarpet": [
           {
            "colorbar": {
             "outlinewidth": 0,
             "ticks": ""
            },
            "type": "contourcarpet"
           }
          ],
          "heatmap": [
           {
            "colorbar": {
             "outlinewidth": 0,
             "ticks": ""
            },
            "colorscale": [
             [
              0,
              "#0d0887"
             ],
             [
              0.1111111111111111,
              "#46039f"
             ],
             [
              0.2222222222222222,
              "#7201a8"
             ],
             [
              0.3333333333333333,
              "#9c179e"
             ],
             [
              0.4444444444444444,
              "#bd3786"
             ],
             [
              0.5555555555555556,
              "#d8576b"
             ],
             [
              0.6666666666666666,
              "#ed7953"
             ],
             [
              0.7777777777777778,
              "#fb9f3a"
             ],
             [
              0.8888888888888888,
              "#fdca26"
             ],
             [
              1,
              "#f0f921"
             ]
            ],
            "type": "heatmap"
           }
          ],
          "heatmapgl": [
           {
            "colorbar": {
             "outlinewidth": 0,
             "ticks": ""
            },
            "colorscale": [
             [
              0,
              "#0d0887"
             ],
             [
              0.1111111111111111,
              "#46039f"
             ],
             [
              0.2222222222222222,
              "#7201a8"
             ],
             [
              0.3333333333333333,
              "#9c179e"
             ],
             [
              0.4444444444444444,
              "#bd3786"
             ],
             [
              0.5555555555555556,
              "#d8576b"
             ],
             [
              0.6666666666666666,
              "#ed7953"
             ],
             [
              0.7777777777777778,
              "#fb9f3a"
             ],
             [
              0.8888888888888888,
              "#fdca26"
             ],
             [
              1,
              "#f0f921"
             ]
            ],
            "type": "heatmapgl"
           }
          ],
          "histogram": [
           {
            "marker": {
             "pattern": {
              "fillmode": "overlay",
              "size": 10,
              "solidity": 0.2
             }
            },
            "type": "histogram"
           }
          ],
          "histogram2d": [
           {
            "colorbar": {
             "outlinewidth": 0,
             "ticks": ""
            },
            "colorscale": [
             [
              0,
              "#0d0887"
             ],
             [
              0.1111111111111111,
              "#46039f"
             ],
             [
              0.2222222222222222,
              "#7201a8"
             ],
             [
              0.3333333333333333,
              "#9c179e"
             ],
             [
              0.4444444444444444,
              "#bd3786"
             ],
             [
              0.5555555555555556,
              "#d8576b"
             ],
             [
              0.6666666666666666,
              "#ed7953"
             ],
             [
              0.7777777777777778,
              "#fb9f3a"
             ],
             [
              0.8888888888888888,
              "#fdca26"
             ],
             [
              1,
              "#f0f921"
             ]
            ],
            "type": "histogram2d"
           }
          ],
          "histogram2dcontour": [
           {
            "colorbar": {
             "outlinewidth": 0,
             "ticks": ""
            },
            "colorscale": [
             [
              0,
              "#0d0887"
             ],
             [
              0.1111111111111111,
              "#46039f"
             ],
             [
              0.2222222222222222,
              "#7201a8"
             ],
             [
              0.3333333333333333,
              "#9c179e"
             ],
             [
              0.4444444444444444,
              "#bd3786"
             ],
             [
              0.5555555555555556,
              "#d8576b"
             ],
             [
              0.6666666666666666,
              "#ed7953"
             ],
             [
              0.7777777777777778,
              "#fb9f3a"
             ],
             [
              0.8888888888888888,
              "#fdca26"
             ],
             [
              1,
              "#f0f921"
             ]
            ],
            "type": "histogram2dcontour"
           }
          ],
          "mesh3d": [
           {
            "colorbar": {
             "outlinewidth": 0,
             "ticks": ""
            },
            "type": "mesh3d"
           }
          ],
          "parcoords": [
           {
            "line": {
             "colorbar": {
              "outlinewidth": 0,
              "ticks": ""
             }
            },
            "type": "parcoords"
           }
          ],
          "pie": [
           {
            "automargin": true,
            "type": "pie"
           }
          ],
          "scatter": [
           {
            "marker": {
             "colorbar": {
              "outlinewidth": 0,
              "ticks": ""
             }
            },
            "type": "scatter"
           }
          ],
          "scatter3d": [
           {
            "line": {
             "colorbar": {
              "outlinewidth": 0,
              "ticks": ""
             }
            },
            "marker": {
             "colorbar": {
              "outlinewidth": 0,
              "ticks": ""
             }
            },
            "type": "scatter3d"
           }
          ],
          "scattercarpet": [
           {
            "marker": {
             "colorbar": {
              "outlinewidth": 0,
              "ticks": ""
             }
            },
            "type": "scattercarpet"
           }
          ],
          "scattergeo": [
           {
            "marker": {
             "colorbar": {
              "outlinewidth": 0,
              "ticks": ""
             }
            },
            "type": "scattergeo"
           }
          ],
          "scattergl": [
           {
            "marker": {
             "colorbar": {
              "outlinewidth": 0,
              "ticks": ""
             }
            },
            "type": "scattergl"
           }
          ],
          "scattermapbox": [
           {
            "marker": {
             "colorbar": {
              "outlinewidth": 0,
              "ticks": ""
             }
            },
            "type": "scattermapbox"
           }
          ],
          "scatterpolar": [
           {
            "marker": {
             "colorbar": {
              "outlinewidth": 0,
              "ticks": ""
             }
            },
            "type": "scatterpolar"
           }
          ],
          "scatterpolargl": [
           {
            "marker": {
             "colorbar": {
              "outlinewidth": 0,
              "ticks": ""
             }
            },
            "type": "scatterpolargl"
           }
          ],
          "scatterternary": [
           {
            "marker": {
             "colorbar": {
              "outlinewidth": 0,
              "ticks": ""
             }
            },
            "type": "scatterternary"
           }
          ],
          "surface": [
           {
            "colorbar": {
             "outlinewidth": 0,
             "ticks": ""
            },
            "colorscale": [
             [
              0,
              "#0d0887"
             ],
             [
              0.1111111111111111,
              "#46039f"
             ],
             [
              0.2222222222222222,
              "#7201a8"
             ],
             [
              0.3333333333333333,
              "#9c179e"
             ],
             [
              0.4444444444444444,
              "#bd3786"
             ],
             [
              0.5555555555555556,
              "#d8576b"
             ],
             [
              0.6666666666666666,
              "#ed7953"
             ],
             [
              0.7777777777777778,
              "#fb9f3a"
             ],
             [
              0.8888888888888888,
              "#fdca26"
             ],
             [
              1,
              "#f0f921"
             ]
            ],
            "type": "surface"
           }
          ],
          "table": [
           {
            "cells": {
             "fill": {
              "color": "#EBF0F8"
             },
             "line": {
              "color": "white"
             }
            },
            "header": {
             "fill": {
              "color": "#C8D4E3"
             },
             "line": {
              "color": "white"
             }
            },
            "type": "table"
           }
          ]
         },
         "layout": {
          "annotationdefaults": {
           "arrowcolor": "#2a3f5f",
           "arrowhead": 0,
           "arrowwidth": 1
          },
          "autotypenumbers": "strict",
          "coloraxis": {
           "colorbar": {
            "outlinewidth": 0,
            "ticks": ""
           }
          },
          "colorscale": {
           "diverging": [
            [
             0,
             "#8e0152"
            ],
            [
             0.1,
             "#c51b7d"
            ],
            [
             0.2,
             "#de77ae"
            ],
            [
             0.3,
             "#f1b6da"
            ],
            [
             0.4,
             "#fde0ef"
            ],
            [
             0.5,
             "#f7f7f7"
            ],
            [
             0.6,
             "#e6f5d0"
            ],
            [
             0.7,
             "#b8e186"
            ],
            [
             0.8,
             "#7fbc41"
            ],
            [
             0.9,
             "#4d9221"
            ],
            [
             1,
             "#276419"
            ]
           ],
           "sequential": [
            [
             0,
             "#0d0887"
            ],
            [
             0.1111111111111111,
             "#46039f"
            ],
            [
             0.2222222222222222,
             "#7201a8"
            ],
            [
             0.3333333333333333,
             "#9c179e"
            ],
            [
             0.4444444444444444,
             "#bd3786"
            ],
            [
             0.5555555555555556,
             "#d8576b"
            ],
            [
             0.6666666666666666,
             "#ed7953"
            ],
            [
             0.7777777777777778,
             "#fb9f3a"
            ],
            [
             0.8888888888888888,
             "#fdca26"
            ],
            [
             1,
             "#f0f921"
            ]
           ],
           "sequentialminus": [
            [
             0,
             "#0d0887"
            ],
            [
             0.1111111111111111,
             "#46039f"
            ],
            [
             0.2222222222222222,
             "#7201a8"
            ],
            [
             0.3333333333333333,
             "#9c179e"
            ],
            [
             0.4444444444444444,
             "#bd3786"
            ],
            [
             0.5555555555555556,
             "#d8576b"
            ],
            [
             0.6666666666666666,
             "#ed7953"
            ],
            [
             0.7777777777777778,
             "#fb9f3a"
            ],
            [
             0.8888888888888888,
             "#fdca26"
            ],
            [
             1,
             "#f0f921"
            ]
           ]
          },
          "colorway": [
           "#636efa",
           "#EF553B",
           "#00cc96",
           "#ab63fa",
           "#FFA15A",
           "#19d3f3",
           "#FF6692",
           "#B6E880",
           "#FF97FF",
           "#FECB52"
          ],
          "font": {
           "color": "#2a3f5f"
          },
          "geo": {
           "bgcolor": "white",
           "lakecolor": "white",
           "landcolor": "#E5ECF6",
           "showlakes": true,
           "showland": true,
           "subunitcolor": "white"
          },
          "hoverlabel": {
           "align": "left"
          },
          "hovermode": "closest",
          "mapbox": {
           "style": "light"
          },
          "paper_bgcolor": "white",
          "plot_bgcolor": "#E5ECF6",
          "polar": {
           "angularaxis": {
            "gridcolor": "white",
            "linecolor": "white",
            "ticks": ""
           },
           "bgcolor": "#E5ECF6",
           "radialaxis": {
            "gridcolor": "white",
            "linecolor": "white",
            "ticks": ""
           }
          },
          "scene": {
           "xaxis": {
            "backgroundcolor": "#E5ECF6",
            "gridcolor": "white",
            "gridwidth": 2,
            "linecolor": "white",
            "showbackground": true,
            "ticks": "",
            "zerolinecolor": "white"
           },
           "yaxis": {
            "backgroundcolor": "#E5ECF6",
            "gridcolor": "white",
            "gridwidth": 2,
            "linecolor": "white",
            "showbackground": true,
            "ticks": "",
            "zerolinecolor": "white"
           },
           "zaxis": {
            "backgroundcolor": "#E5ECF6",
            "gridcolor": "white",
            "gridwidth": 2,
            "linecolor": "white",
            "showbackground": true,
            "ticks": "",
            "zerolinecolor": "white"
           }
          },
          "shapedefaults": {
           "line": {
            "color": "#2a3f5f"
           }
          },
          "ternary": {
           "aaxis": {
            "gridcolor": "white",
            "linecolor": "white",
            "ticks": ""
           },
           "baxis": {
            "gridcolor": "white",
            "linecolor": "white",
            "ticks": ""
           },
           "bgcolor": "#E5ECF6",
           "caxis": {
            "gridcolor": "white",
            "linecolor": "white",
            "ticks": ""
           }
          },
          "title": {
           "x": 0.05
          },
          "xaxis": {
           "automargin": true,
           "gridcolor": "white",
           "linecolor": "white",
           "ticks": "",
           "title": {
            "standoff": 15
           },
           "zerolinecolor": "white",
           "zerolinewidth": 2
          },
          "yaxis": {
           "automargin": true,
           "gridcolor": "white",
           "linecolor": "white",
           "ticks": "",
           "title": {
            "standoff": 15
           },
           "zerolinecolor": "white",
           "zerolinewidth": 2
          }
         }
        },
        "xaxis": {
         "anchor": "y",
         "autorange": true,
         "domain": [
          0,
          1
         ],
         "range": [
          0,
          199
         ],
         "title": {
          "text": "index"
         },
         "type": "linear"
        },
        "yaxis": {
         "anchor": "x",
         "autorange": true,
         "domain": [
          0,
          1
         ],
         "range": [
          0.6691999932130178,
          0.7375333408514658
         ],
         "title": {
          "text": "value"
         },
         "type": "linear"
        }
       }
      },
      "image/png": "[encoded data removed]",
      "text/html": [
       "<div>                            <div id=\"8f699079-9e8c-49f3-9d8c-7819266df041\" class=\"plotly-graph-div\" style=\"height:525px; width:100%;\"></div>            <script type=\"text/javascript\">                require([\"plotly\"], function(Plotly) {                    window.PLOTLYENV=window.PLOTLYENV || {};                                    if (document.getElementById(\"8f699079-9e8c-49f3-9d8c-7819266df041\")) {                    Plotly.newPlot(                        \"8f699079-9e8c-49f3-9d8c-7819266df041\",                        [{\"hovertemplate\":\"variable=0<br>index=%{x}<br>value=%{y}<extra></extra>\",\"legendgroup\":\"0\",\"line\":{\"color\":\"#636efa\",\"dash\":\"solid\"},\"mode\":\"lines\",\"name\":\"0\",\"orientation\":\"v\",\"showlegend\":true,\"type\":\"scatter\",\"x\":[0,1,2,3,4,5,6,7,8,9,10,11,12,13,14,15,16,17,18,19,20,21,22,23,24,25,26,27,28,29,30,31,32,33,34,35,36,37,38,39,40,41,42,43,44,45,46,47,48,49,50,51,52,53,54,55,56,57,58,59,60,61,62,63,64,65,66,67,68,69,70,71,72,73,74,75,76,77,78,79,80,81,82,83,84,85,86,87,88,89,90,91,92,93,94,95,96,97,98,99,100,101,102,103,104,105,106,107,108,109,110,111,112,113,114,115,116,117,118,119,120,121,122,123,124,125,126,127,128,129,130,131,132,133,134,135,136,137,138,139,140,141,142,143,144,145,146,147,148,149,150,151,152,153,154,155,156,157,158,159,160,161,162,163,164,165,166,167,168,169,170,171,172,173,174,175,176,177,178,179,180,181,182,183,184,185,186,187,188,189,190,191,192,193,194,195,196,197,198,199],\"xaxis\":\"x\",\"y\":[0.673883318901062,0.6726166605949402,0.6747333407402039,0.6748666763305664,0.6753000020980835,0.675083339214325,0.6762833595275879,0.676716685295105,0.6764500141143799,0.6763666868209839,0.6767666935920715,0.677649974822998,0.6778666377067566,0.6784499883651733,0.6783833503723145,0.6798499822616577,0.6798333525657654,0.6811500191688538,0.6825166940689087,0.680566668510437,0.6840833425521851,0.6813499927520752,0.6845166683197021,0.6834166646003723,0.6853333115577698,0.686033308506012,0.6839666962623596,0.6860666871070862,0.6840500235557556,0.6884666681289673,0.6876333355903625,0.6881666779518127,0.6881499886512756,0.6890833377838135,0.6908833384513855,0.6895666718482971,0.6881499886512756,0.6917333602905273,0.6912833452224731,0.6928333044052124,0.6919666528701782,0.6917333602905273,0.6925666928291321,0.694183349609375,0.6935666799545288,0.6926666498184204,0.6942833065986633,0.6948500275611877,0.6950500011444092,0.6957333087921143,0.6950166821479797,0.6967666745185852,0.6968500018119812,0.6971666812896729,0.6963833570480347,0.6957833170890808,0.6953666806221008,0.6992999911308289,0.6981666684150696,0.6982333064079285,0.7013833522796631,0.6975333094596863,0.699316680431366,0.6986666917800903,0.7002833485603333,0.7018333077430725,0.7018166780471802,0.7023000121116638,0.7032666802406311,0.6997666954994202,0.7010833621025085,0.7026166915893555,0.7020999789237976,0.7038833498954773,0.7042499780654907,0.703416645526886,0.7041666507720947,0.7045333385467529,0.7031333446502686,0.7055666446685791,0.7077666521072388,0.7048166394233704,0.7055500149726868,0.7069833278656006,0.706849992275238,0.7070833444595337,0.7071666717529297,0.708899974822998,0.709766685962677,0.7052833437919617,0.7111833095550537,0.708133339881897,0.7090833187103271,0.7100499868392944,0.7099499702453613,0.7092499732971191,0.711566686630249,0.7078166604042053,0.7107166647911072,0.7108833193778992,0.7128666639328003,0.7103999853134155,0.7126166820526123,0.7102500200271606,0.713450014591217,0.7123333215713501,0.713616669178009,0.7119666934013367,0.7135499715805054,0.7140166759490967,0.7182000279426575,0.7135999798774719,0.7127000093460083,0.7131166458129883,0.7172666788101196,0.7145166397094727,0.7146666646003723,0.7156000137329102,0.7182999849319458,0.7146833539009094,0.7162333130836487,0.7172999978065491,0.7179666757583618,0.7189833521842957,0.7176499962806702,0.7179499864578247,0.7189499735832214,0.7192000150680542,0.7198666930198669,0.7201166749000549,0.7147499918937683,0.720216691493988,0.72038334608078,0.718833327293396,0.7198500037193298,0.7194166779518127,0.7211833596229553,0.720216691493988,0.7226666808128357,0.7218666672706604,0.7199166417121887,0.722516655921936,0.7214000225067139,0.7228833436965942,0.7230666875839233,0.7197833061218262,0.7224833369255066,0.7238666415214539,0.7232333421707153,0.7228500247001648,0.722350001335144,0.7217166423797607,0.7255833148956299,0.7244833111763,0.7259166836738586,0.7251666784286499,0.7222333550453186,0.7245500087738037,0.727733314037323,0.7245000004768372,0.7251666784286499,0.7269166707992554,0.7254999876022339,0.7250999808311462,0.7261999845504761,0.7283833622932434,0.7267833352088928,0.7265833616256714,0.7271833419799805,0.7285333275794983,0.7284333109855652,0.7269333600997925,0.727649986743927,0.7297833561897278,0.7280833125114441,0.7284500002861023,0.7291499972343445,0.7283999919891357,0.7298833131790161,0.7286333441734314,0.7301999926567078,0.7309166789054871,0.7286166548728943,0.729200005531311,0.7311833500862122,0.7311166524887085,0.7306833267211914,0.7299333214759827,0.7322333455085754,0.7306666374206543,0.7321666479110718,0.7315333485603333,0.7324666380882263,0.7309166789054871,0.7341166734695435,0.7325166463851929,0.7325000166893005,0.7329833507537842,0.7318000197410583,0.734083354473114],\"yaxis\":\"y\"}],                        {\"legend\":{\"title\":{\"text\":\"variable\"},\"tracegroupgap\":0},\"margin\":{\"t\":60},\"template\":{\"data\":{\"bar\":[{\"error_x\":{\"color\":\"#2a3f5f\"},\"error_y\":{\"color\":\"#2a3f5f\"},\"marker\":{\"line\":{\"color\":\"#E5ECF6\",\"width\":0.5},\"pattern\":{\"fillmode\":\"overlay\",\"size\":10,\"solidity\":0.2}},\"type\":\"bar\"}],\"barpolar\":[{\"marker\":{\"line\":{\"color\":\"#E5ECF6\",\"width\":0.5},\"pattern\":{\"fillmode\":\"overlay\",\"size\":10,\"solidity\":0.2}},\"type\":\"barpolar\"}],\"carpet\":[{\"aaxis\":{\"endlinecolor\":\"#2a3f5f\",\"gridcolor\":\"white\",\"linecolor\":\"white\",\"minorgridcolor\":\"white\",\"startlinecolor\":\"#2a3f5f\"},\"baxis\":{\"endlinecolor\":\"#2a3f5f\",\"gridcolor\":\"white\",\"linecolor\":\"white\",\"minorgridcolor\":\"white\",\"startlinecolor\":\"#2a3f5f\"},\"type\":\"carpet\"}],\"choropleth\":[{\"colorbar\":{\"outlinewidth\":0,\"ticks\":\"\"},\"type\":\"choropleth\"}],\"contour\":[{\"colorbar\":{\"outlinewidth\":0,\"ticks\":\"\"},\"colorscale\":[[0.0,\"#0d0887\"],[0.1111111111111111,\"#46039f\"],[0.2222222222222222,\"#7201a8\"],[0.3333333333333333,\"#9c179e\"],[0.4444444444444444,\"#bd3786\"],[0.5555555555555556,\"#d8576b\"],[0.6666666666666666,\"#ed7953\"],[0.7777777777777778,\"#fb9f3a\"],[0.8888888888888888,\"#fdca26\"],[1.0,\"#f0f921\"]],\"type\":\"contour\"}],\"contourcarpet\":[{\"colorbar\":{\"outlinewidth\":0,\"ticks\":\"\"},\"type\":\"contourcarpet\"}],\"heatmap\":[{\"colorbar\":{\"outlinewidth\":0,\"ticks\":\"\"},\"colorscale\":[[0.0,\"#0d0887\"],[0.1111111111111111,\"#46039f\"],[0.2222222222222222,\"#7201a8\"],[0.3333333333333333,\"#9c179e\"],[0.4444444444444444,\"#bd3786\"],[0.5555555555555556,\"#d8576b\"],[0.6666666666666666,\"#ed7953\"],[0.7777777777777778,\"#fb9f3a\"],[0.8888888888888888,\"#fdca26\"],[1.0,\"#f0f921\"]],\"type\":\"heatmap\"}],\"heatmapgl\":[{\"colorbar\":{\"outlinewidth\":0,\"ticks\":\"\"},\"colorscale\":[[0.0,\"#0d0887\"],[0.1111111111111111,\"#46039f\"],[0.2222222222222222,\"#7201a8\"],[0.3333333333333333,\"#9c179e\"],[0.4444444444444444,\"#bd3786\"],[0.5555555555555556,\"#d8576b\"],[0.6666666666666666,\"#ed7953\"],[0.7777777777777778,\"#fb9f3a\"],[0.8888888888888888,\"#fdca26\"],[1.0,\"#f0f921\"]],\"type\":\"heatmapgl\"}],\"histogram\":[{\"marker\":{\"pattern\":{\"fillmode\":\"overlay\",\"size\":10,\"solidity\":0.2}},\"type\":\"histogram\"}],\"histogram2d\":[{\"colorbar\":{\"outlinewidth\":0,\"ticks\":\"\"},\"colorscale\":[[0.0,\"#0d0887\"],[0.1111111111111111,\"#46039f\"],[0.2222222222222222,\"#7201a8\"],[0.3333333333333333,\"#9c179e\"],[0.4444444444444444,\"#bd3786\"],[0.5555555555555556,\"#d8576b\"],[0.6666666666666666,\"#ed7953\"],[0.7777777777777778,\"#fb9f3a\"],[0.8888888888888888,\"#fdca26\"],[1.0,\"#f0f921\"]],\"type\":\"histogram2d\"}],\"histogram2dcontour\":[{\"colorbar\":{\"outlinewidth\":0,\"ticks\":\"\"},\"colorscale\":[[0.0,\"#0d0887\"],[0.1111111111111111,\"#46039f\"],[0.2222222222222222,\"#7201a8\"],[0.3333333333333333,\"#9c179e\"],[0.4444444444444444,\"#bd3786\"],[0.5555555555555556,\"#d8576b\"],[0.6666666666666666,\"#ed7953\"],[0.7777777777777778,\"#fb9f3a\"],[0.8888888888888888,\"#fdca26\"],[1.0,\"#f0f921\"]],\"type\":\"histogram2dcontour\"}],\"mesh3d\":[{\"colorbar\":{\"outlinewidth\":0,\"ticks\":\"\"},\"type\":\"mesh3d\"}],\"parcoords\":[{\"line\":{\"colorbar\":{\"outlinewidth\":0,\"ticks\":\"\"}},\"type\":\"parcoords\"}],\"pie\":[{\"automargin\":true,\"type\":\"pie\"}],\"scatter\":[{\"marker\":{\"colorbar\":{\"outlinewidth\":0,\"ticks\":\"\"}},\"type\":\"scatter\"}],\"scatter3d\":[{\"line\":{\"colorbar\":{\"outlinewidth\":0,\"ticks\":\"\"}},\"marker\":{\"colorbar\":{\"outlinewidth\":0,\"ticks\":\"\"}},\"type\":\"scatter3d\"}],\"scattercarpet\":[{\"marker\":{\"colorbar\":{\"outlinewidth\":0,\"ticks\":\"\"}},\"type\":\"scattercarpet\"}],\"scattergeo\":[{\"marker\":{\"colorbar\":{\"outlinewidth\":0,\"ticks\":\"\"}},\"type\":\"scattergeo\"}],\"scattergl\":[{\"marker\":{\"colorbar\":{\"outlinewidth\":0,\"ticks\":\"\"}},\"type\":\"scattergl\"}],\"scattermapbox\":[{\"marker\":{\"colorbar\":{\"outlinewidth\":0,\"ticks\":\"\"}},\"type\":\"scattermapbox\"}],\"scatterpolar\":[{\"marker\":{\"colorbar\":{\"outlinewidth\":0,\"ticks\":\"\"}},\"type\":\"scatterpolar\"}],\"scatterpolargl\":[{\"marker\":{\"colorbar\":{\"outlinewidth\":0,\"ticks\":\"\"}},\"type\":\"scatterpolargl\"}],\"scatterternary\":[{\"marker\":{\"colorbar\":{\"outlinewidth\":0,\"ticks\":\"\"}},\"type\":\"scatterternary\"}],\"surface\":[{\"colorbar\":{\"outlinewidth\":0,\"ticks\":\"\"},\"colorscale\":[[0.0,\"#0d0887\"],[0.1111111111111111,\"#46039f\"],[0.2222222222222222,\"#7201a8\"],[0.3333333333333333,\"#9c179e\"],[0.4444444444444444,\"#bd3786\"],[0.5555555555555556,\"#d8576b\"],[0.6666666666666666,\"#ed7953\"],[0.7777777777777778,\"#fb9f3a\"],[0.8888888888888888,\"#fdca26\"],[1.0,\"#f0f921\"]],\"type\":\"surface\"}],\"table\":[{\"cells\":{\"fill\":{\"color\":\"#EBF0F8\"},\"line\":{\"color\":\"white\"}},\"header\":{\"fill\":{\"color\":\"#C8D4E3\"},\"line\":{\"color\":\"white\"}},\"type\":\"table\"}]},\"layout\":{\"annotationdefaults\":{\"arrowcolor\":\"#2a3f5f\",\"arrowhead\":0,\"arrowwidth\":1},\"autotypenumbers\":\"strict\",\"coloraxis\":{\"colorbar\":{\"outlinewidth\":0,\"ticks\":\"\"}},\"colorscale\":{\"diverging\":[[0,\"#8e0152\"],[0.1,\"#c51b7d\"],[0.2,\"#de77ae\"],[0.3,\"#f1b6da\"],[0.4,\"#fde0ef\"],[0.5,\"#f7f7f7\"],[0.6,\"#e6f5d0\"],[0.7,\"#b8e186\"],[0.8,\"#7fbc41\"],[0.9,\"#4d9221\"],[1,\"#276419\"]],\"sequential\":[[0.0,\"#0d0887\"],[0.1111111111111111,\"#46039f\"],[0.2222222222222222,\"#7201a8\"],[0.3333333333333333,\"#9c179e\"],[0.4444444444444444,\"#bd3786\"],[0.5555555555555556,\"#d8576b\"],[0.6666666666666666,\"#ed7953\"],[0.7777777777777778,\"#fb9f3a\"],[0.8888888888888888,\"#fdca26\"],[1.0,\"#f0f921\"]],\"sequentialminus\":[[0.0,\"#0d0887\"],[0.1111111111111111,\"#46039f\"],[0.2222222222222222,\"#7201a8\"],[0.3333333333333333,\"#9c179e\"],[0.4444444444444444,\"#bd3786\"],[0.5555555555555556,\"#d8576b\"],[0.6666666666666666,\"#ed7953\"],[0.7777777777777778,\"#fb9f3a\"],[0.8888888888888888,\"#fdca26\"],[1.0,\"#f0f921\"]]},\"colorway\":[\"#636efa\",\"#EF553B\",\"#00cc96\",\"#ab63fa\",\"#FFA15A\",\"#19d3f3\",\"#FF6692\",\"#B6E880\",\"#FF97FF\",\"#FECB52\"],\"font\":{\"color\":\"#2a3f5f\"},\"geo\":{\"bgcolor\":\"white\",\"lakecolor\":\"white\",\"landcolor\":\"#E5ECF6\",\"showlakes\":true,\"showland\":true,\"subunitcolor\":\"white\"},\"hoverlabel\":{\"align\":\"left\"},\"hovermode\":\"closest\",\"mapbox\":{\"style\":\"light\"},\"paper_bgcolor\":\"white\",\"plot_bgcolor\":\"#E5ECF6\",\"polar\":{\"angularaxis\":{\"gridcolor\":\"white\",\"linecolor\":\"white\",\"ticks\":\"\"},\"bgcolor\":\"#E5ECF6\",\"radialaxis\":{\"gridcolor\":\"white\",\"linecolor\":\"white\",\"ticks\":\"\"}},\"scene\":{\"xaxis\":{\"backgroundcolor\":\"#E5ECF6\",\"gridcolor\":\"white\",\"gridwidth\":2,\"linecolor\":\"white\",\"showbackground\":true,\"ticks\":\"\",\"zerolinecolor\":\"white\"},\"yaxis\":{\"backgroundcolor\":\"#E5ECF6\",\"gridcolor\":\"white\",\"gridwidth\":2,\"linecolor\":\"white\",\"showbackground\":true,\"ticks\":\"\",\"zerolinecolor\":\"white\"},\"zaxis\":{\"backgroundcolor\":\"#E5ECF6\",\"gridcolor\":\"white\",\"gridwidth\":2,\"linecolor\":\"white\",\"showbackground\":true,\"ticks\":\"\",\"zerolinecolor\":\"white\"}},\"shapedefaults\":{\"line\":{\"color\":\"#2a3f5f\"}},\"ternary\":{\"aaxis\":{\"gridcolor\":\"white\",\"linecolor\":\"white\",\"ticks\":\"\"},\"baxis\":{\"gridcolor\":\"white\",\"linecolor\":\"white\",\"ticks\":\"\"},\"bgcolor\":\"#E5ECF6\",\"caxis\":{\"gridcolor\":\"white\",\"linecolor\":\"white\",\"ticks\":\"\"}},\"title\":{\"x\":0.05},\"xaxis\":{\"automargin\":true,\"gridcolor\":\"white\",\"linecolor\":\"white\",\"ticks\":\"\",\"title\":{\"standoff\":15},\"zerolinecolor\":\"white\",\"zerolinewidth\":2},\"yaxis\":{\"automargin\":true,\"gridcolor\":\"white\",\"linecolor\":\"white\",\"ticks\":\"\",\"title\":{\"standoff\":15},\"zerolinecolor\":\"white\",\"zerolinewidth\":2}}},\"xaxis\":{\"anchor\":\"y\",\"domain\":[0.0,1.0],\"title\":{\"text\":\"index\"}},\"yaxis\":{\"anchor\":\"x\",\"domain\":[0.0,1.0],\"title\":{\"text\":\"value\"}}},                        {\"responsive\": true}                    ).then(function(){\n",
       "                            \n",
       "var gd = document.getElementById('8f699079-9e8c-49f3-9d8c-7819266df041');\n",
       "var x = new MutationObserver(function (mutations, observer) {{\n",
       "        var display = window.getComputedStyle(gd).display;\n",
       "        if (!display || display === 'none') {{\n",
       "            console.log([gd, 'removed!']);\n",
       "            Plotly.purge(gd);\n",
       "            observer.disconnect();\n",
       "        }}\n",
       "}});\n",
       "\n",
       "// Listen for the removal of the full notebook cells\n",
       "var notebookContainer = gd.closest('#notebook-container');\n",
       "if (notebookContainer) {{\n",
       "    x.observe(notebookContainer, {childList: true});\n",
       "}}\n",
       "\n",
       "// Listen for the clearing of the current output cell\n",
       "var outputEl = gd.closest('.output');\n",
       "if (outputEl) {{\n",
       "    x.observe(outputEl, {childList: true});\n",
       "}}\n",
       "\n",
       "                        })                };                });            </script>        </div>"
      ]
     },
     "metadata": {},
     "output_type": "display_data"
    }
   ],
   "source": [
    "px.line(history.history['accuracy'])"
   ]
  },
  {
   "cell_type": "code",
   "execution_count": 29,
   "id": "714cb23b-a2c8-4a1b-8b74-0e3e868ec931",
   "metadata": {},
   "outputs": [
    {
     "data": {
      "application/vnd.plotly.v1+json": {
       "config": {
        "plotlyServerURL": "https://plot.ly"
       },
       "data": [
        {
         "hovertemplate": "variable=0<br>index=%{x}<br>value=%{y}<extra></extra>",
         "legendgroup": "0",
         "line": {
          "color": "#636efa",
          "dash": "solid"
         },
         "mode": "lines",
         "name": "0",
         "orientation": "v",
         "showlegend": true,
         "type": "scatter",
         "x": [
          0,
          1,
          2,
          3,
          4,
          5,
          6,
          7,
          8,
          9,
          10,
          11,
          12,
          13,
          14,
          15,
          16,
          17,
          18,
          19,
          20,
          21,
          22,
          23,
          24,
          25,
          26,
          27,
          28,
          29,
          30,
          31,
          32,
          33,
          34,
          35,
          36,
          37,
          38,
          39,
          40,
          41,
          42,
          43,
          44,
          45,
          46,
          47,
          48,
          49,
          50,
          51,
          52,
          53,
          54,
          55,
          56,
          57,
          58,
          59,
          60,
          61,
          62,
          63,
          64,
          65,
          66,
          67,
          68,
          69,
          70,
          71,
          72,
          73,
          74,
          75,
          76,
          77,
          78,
          79,
          80,
          81,
          82,
          83,
          84,
          85,
          86,
          87,
          88,
          89,
          90,
          91,
          92,
          93,
          94,
          95,
          96,
          97,
          98,
          99,
          100,
          101,
          102,
          103,
          104,
          105,
          106,
          107,
          108,
          109,
          110,
          111,
          112,
          113,
          114,
          115,
          116,
          117,
          118,
          119,
          120,
          121,
          122,
          123,
          124,
          125,
          126,
          127,
          128,
          129,
          130,
          131,
          132,
          133,
          134,
          135,
          136,
          137,
          138,
          139,
          140,
          141,
          142,
          143,
          144,
          145,
          146,
          147,
          148,
          149,
          150,
          151,
          152,
          153,
          154,
          155,
          156,
          157,
          158,
          159,
          160,
          161,
          162,
          163,
          164,
          165,
          166,
          167,
          168,
          169,
          170,
          171,
          172,
          173,
          174,
          175,
          176,
          177,
          178,
          179,
          180,
          181,
          182,
          183,
          184,
          185,
          186,
          187,
          188,
          189,
          190,
          191,
          192,
          193,
          194,
          195,
          196,
          197,
          198,
          199
         ],
         "xaxis": "x",
         "y": [
          0.11209999769926071,
          0.11140000075101852,
          0.10459999740123749,
          0.1152999997138977,
          0.10409999638795853,
          0.11620000004768372,
          0.1177000030875206,
          0.10400000214576721,
          0.0989999994635582,
          0.10189999639987946,
          0.10540000349283218,
          0.10570000112056732,
          0.10350000113248825,
          0.10760000348091125,
          0.11249999701976776,
          0.11309999972581863,
          0.10409999638795853,
          0.10930000245571136,
          0.10520000010728836,
          0.1096000000834465,
          0.11599999666213989,
          0.10289999842643738,
          0.11630000174045563,
          0.12030000239610672,
          0.11509999632835388,
          0.11559999734163284,
          0.09570000320672989,
          0.11169999837875366,
          0.10180000215768814,
          0.09690000116825104,
          0.10909999907016754,
          0.11169999837875366,
          0.1137000024318695,
          0.10790000110864639,
          0.10949999839067459,
          0.10589999705553055,
          0.120899997651577,
          0.0989999994635582,
          0.10249999910593033,
          0.10459999740123749,
          0.09049999713897705,
          0.09650000184774399,
          0.10589999705553055,
          0.10419999808073044,
          0.09920000284910202,
          0.1080000028014183,
          0.11490000039339066,
          0.11270000040531158,
          0.10589999705553055,
          0.10379999876022339,
          0.10849999636411667,
          0.10450000315904617,
          0.10480000078678131,
          0.10100000351667404,
          0.10559999942779541,
          0.0934000015258789,
          0.1080000028014183,
          0.09380000084638596,
          0.11100000143051147,
          0.10899999737739563,
          0.09019999951124191,
          0.0925000011920929,
          0.10109999775886536,
          0.09290000051259995,
          0.10189999639987946,
          0.11500000208616257,
          0.10180000215768814,
          0.10050000250339508,
          0.09380000084638596,
          0.09489999711513519,
          0.10689999908208847,
          0.09319999814033508,
          0.11100000143051147,
          0.10779999941587448,
          0.12099999934434891,
          0.11819999665021896,
          0.09629999846220016,
          0.09989999979734421,
          0.1151999980211258,
          0.10809999704360962,
          0.0997999981045723,
          0.10279999673366547,
          0.10540000349283218,
          0.11100000143051147,
          0.1145000010728836,
          0.10819999873638153,
          0.10899999737739563,
          0.0925000011920929,
          0.11410000175237656,
          0.0925000011920929,
          0.09459999948740005,
          0.10090000182390213,
          0.09650000184774399,
          0.10409999638795853,
          0.09780000150203705,
          0.10620000213384628,
          0.1145000010728836,
          0.09839999675750732,
          0.10270000249147415,
          0.10700000077486038,
          0.10480000078678131,
          0.11580000072717667,
          0.10790000110864639,
          0.11050000041723251,
          0.10499999672174454,
          0.1096000000834465,
          0.09260000288486481,
          0.09109999984502792,
          0.10999999940395355,
          0.11100000143051147,
          0.10559999942779541,
          0.10100000351667404,
          0.10649999976158142,
          0.1006999984383583,
          0.11259999871253967,
          0.11180000007152557,
          0.10379999876022339,
          0.11330000311136246,
          0.10459999740123749,
          0.10729999840259552,
          0.11249999701976776,
          0.10339999943971634,
          0.11209999769926071,
          0.10480000078678131,
          0.10220000147819519,
          0.10899999737739563,
          0.10980000346899033,
          0.11840000003576279,
          0.1031000018119812,
          0.11159999668598175,
          0.09350000321865082,
          0.10920000076293945,
          0.09960000216960907,
          0.10159999877214432,
          0.10320000350475311,
          0.09269999712705612,
          0.09480000287294388,
          0.1014999970793724,
          0.10989999771118164,
          0.1014999970793724,
          0.1014999970793724,
          0.11150000244379044,
          0.10040000081062317,
          0.10970000177621841,
          0.10869999974966049,
          0.09640000015497208,
          0.1005999967455864,
          0.10450000315904617,
          0.10700000077486038,
          0.10450000315904617,
          0.10350000113248825,
          0.09640000015497208,
          0.09870000183582306,
          0.10580000281333923,
          0.1005999967455864,
          0.11410000175237656,
          0.11540000140666962,
          0.11739999800920486,
          0.11159999668598175,
          0.11640000343322754,
          0.11259999871253967,
          0.11079999804496765,
          0.1039000004529953,
          0.11029999703168869,
          0.11779999732971191,
          0.10249999910593033,
          0.11020000278949738,
          0.1111999973654747,
          0.10429999977350235,
          0.11079999804496765,
          0.10649999976158142,
          0.09239999949932098,
          0.09730000048875809,
          0.10249999910593033,
          0.10819999873638153,
          0.10040000081062317,
          0.10920000076293945,
          0.11710000038146973,
          0.10279999673366547,
          0.11330000311136246,
          0.11259999871253967,
          0.10279999673366547,
          0.10159999877214432,
          0.09300000220537186,
          0.09799999743700027,
          0.11270000040531158,
          0.10199999809265137,
          0.10999999940395355,
          0.11959999799728394,
          0.10930000245571136,
          0.10970000177621841,
          0.11420000344514847,
          0.11079999804496765,
          0.09529999643564224,
          0.10199999809265137,
          0.11649999767541885,
          0.10570000112056732,
          0.10239999741315842,
          0.10620000213384628,
          0.11050000041723251
         ],
         "yaxis": "y"
        }
       ],
       "layout": {
        "autosize": true,
        "legend": {
         "title": {
          "text": "variable"
         },
         "tracegroupgap": 0
        },
        "margin": {
         "t": 60
        },
        "template": {
         "data": {
          "bar": [
           {
            "error_x": {
             "color": "#2a3f5f"
            },
            "error_y": {
             "color": "#2a3f5f"
            },
            "marker": {
             "line": {
              "color": "#E5ECF6",
              "width": 0.5
             },
             "pattern": {
              "fillmode": "overlay",
              "size": 10,
              "solidity": 0.2
             }
            },
            "type": "bar"
           }
          ],
          "barpolar": [
           {
            "marker": {
             "line": {
              "color": "#E5ECF6",
              "width": 0.5
             },
             "pattern": {
              "fillmode": "overlay",
              "size": 10,
              "solidity": 0.2
             }
            },
            "type": "barpolar"
           }
          ],
          "carpet": [
           {
            "aaxis": {
             "endlinecolor": "#2a3f5f",
             "gridcolor": "white",
             "linecolor": "white",
             "minorgridcolor": "white",
             "startlinecolor": "#2a3f5f"
            },
            "baxis": {
             "endlinecolor": "#2a3f5f",
             "gridcolor": "white",
             "linecolor": "white",
             "minorgridcolor": "white",
             "startlinecolor": "#2a3f5f"
            },
            "type": "carpet"
           }
          ],
          "choropleth": [
           {
            "colorbar": {
             "outlinewidth": 0,
             "ticks": ""
            },
            "type": "choropleth"
           }
          ],
          "contour": [
           {
            "colorbar": {
             "outlinewidth": 0,
             "ticks": ""
            },
            "colorscale": [
             [
              0,
              "#0d0887"
             ],
             [
              0.1111111111111111,
              "#46039f"
             ],
             [
              0.2222222222222222,
              "#7201a8"
             ],
             [
              0.3333333333333333,
              "#9c179e"
             ],
             [
              0.4444444444444444,
              "#bd3786"
             ],
             [
              0.5555555555555556,
              "#d8576b"
             ],
             [
              0.6666666666666666,
              "#ed7953"
             ],
             [
              0.7777777777777778,
              "#fb9f3a"
             ],
             [
              0.8888888888888888,
              "#fdca26"
             ],
             [
              1,
              "#f0f921"
             ]
            ],
            "type": "contour"
           }
          ],
          "contourcarpet": [
           {
            "colorbar": {
             "outlinewidth": 0,
             "ticks": ""
            },
            "type": "contourcarpet"
           }
          ],
          "heatmap": [
           {
            "colorbar": {
             "outlinewidth": 0,
             "ticks": ""
            },
            "colorscale": [
             [
              0,
              "#0d0887"
             ],
             [
              0.1111111111111111,
              "#46039f"
             ],
             [
              0.2222222222222222,
              "#7201a8"
             ],
             [
              0.3333333333333333,
              "#9c179e"
             ],
             [
              0.4444444444444444,
              "#bd3786"
             ],
             [
              0.5555555555555556,
              "#d8576b"
             ],
             [
              0.6666666666666666,
              "#ed7953"
             ],
             [
              0.7777777777777778,
              "#fb9f3a"
             ],
             [
              0.8888888888888888,
              "#fdca26"
             ],
             [
              1,
              "#f0f921"
             ]
            ],
            "type": "heatmap"
           }
          ],
          "heatmapgl": [
           {
            "colorbar": {
             "outlinewidth": 0,
             "ticks": ""
            },
            "colorscale": [
             [
              0,
              "#0d0887"
             ],
             [
              0.1111111111111111,
              "#46039f"
             ],
             [
              0.2222222222222222,
              "#7201a8"
             ],
             [
              0.3333333333333333,
              "#9c179e"
             ],
             [
              0.4444444444444444,
              "#bd3786"
             ],
             [
              0.5555555555555556,
              "#d8576b"
             ],
             [
              0.6666666666666666,
              "#ed7953"
             ],
             [
              0.7777777777777778,
              "#fb9f3a"
             ],
             [
              0.8888888888888888,
              "#fdca26"
             ],
             [
              1,
              "#f0f921"
             ]
            ],
            "type": "heatmapgl"
           }
          ],
          "histogram": [
           {
            "marker": {
             "pattern": {
              "fillmode": "overlay",
              "size": 10,
              "solidity": 0.2
             }
            },
            "type": "histogram"
           }
          ],
          "histogram2d": [
           {
            "colorbar": {
             "outlinewidth": 0,
             "ticks": ""
            },
            "colorscale": [
             [
              0,
              "#0d0887"
             ],
             [
              0.1111111111111111,
              "#46039f"
             ],
             [
              0.2222222222222222,
              "#7201a8"
             ],
             [
              0.3333333333333333,
              "#9c179e"
             ],
             [
              0.4444444444444444,
              "#bd3786"
             ],
             [
              0.5555555555555556,
              "#d8576b"
             ],
             [
              0.6666666666666666,
              "#ed7953"
             ],
             [
              0.7777777777777778,
              "#fb9f3a"
             ],
             [
              0.8888888888888888,
              "#fdca26"
             ],
             [
              1,
              "#f0f921"
             ]
            ],
            "type": "histogram2d"
           }
          ],
          "histogram2dcontour": [
           {
            "colorbar": {
             "outlinewidth": 0,
             "ticks": ""
            },
            "colorscale": [
             [
              0,
              "#0d0887"
             ],
             [
              0.1111111111111111,
              "#46039f"
             ],
             [
              0.2222222222222222,
              "#7201a8"
             ],
             [
              0.3333333333333333,
              "#9c179e"
             ],
             [
              0.4444444444444444,
              "#bd3786"
             ],
             [
              0.5555555555555556,
              "#d8576b"
             ],
             [
              0.6666666666666666,
              "#ed7953"
             ],
             [
              0.7777777777777778,
              "#fb9f3a"
             ],
             [
              0.8888888888888888,
              "#fdca26"
             ],
             [
              1,
              "#f0f921"
             ]
            ],
            "type": "histogram2dcontour"
           }
          ],
          "mesh3d": [
           {
            "colorbar": {
             "outlinewidth": 0,
             "ticks": ""
            },
            "type": "mesh3d"
           }
          ],
          "parcoords": [
           {
            "line": {
             "colorbar": {
              "outlinewidth": 0,
              "ticks": ""
             }
            },
            "type": "parcoords"
           }
          ],
          "pie": [
           {
            "automargin": true,
            "type": "pie"
           }
          ],
          "scatter": [
           {
            "marker": {
             "colorbar": {
              "outlinewidth": 0,
              "ticks": ""
             }
            },
            "type": "scatter"
           }
          ],
          "scatter3d": [
           {
            "line": {
             "colorbar": {
              "outlinewidth": 0,
              "ticks": ""
             }
            },
            "marker": {
             "colorbar": {
              "outlinewidth": 0,
              "ticks": ""
             }
            },
            "type": "scatter3d"
           }
          ],
          "scattercarpet": [
           {
            "marker": {
             "colorbar": {
              "outlinewidth": 0,
              "ticks": ""
             }
            },
            "type": "scattercarpet"
           }
          ],
          "scattergeo": [
           {
            "marker": {
             "colorbar": {
              "outlinewidth": 0,
              "ticks": ""
             }
            },
            "type": "scattergeo"
           }
          ],
          "scattergl": [
           {
            "marker": {
             "colorbar": {
              "outlinewidth": 0,
              "ticks": ""
             }
            },
            "type": "scattergl"
           }
          ],
          "scattermapbox": [
           {
            "marker": {
             "colorbar": {
              "outlinewidth": 0,
              "ticks": ""
             }
            },
            "type": "scattermapbox"
           }
          ],
          "scatterpolar": [
           {
            "marker": {
             "colorbar": {
              "outlinewidth": 0,
              "ticks": ""
             }
            },
            "type": "scatterpolar"
           }
          ],
          "scatterpolargl": [
           {
            "marker": {
             "colorbar": {
              "outlinewidth": 0,
              "ticks": ""
             }
            },
            "type": "scatterpolargl"
           }
          ],
          "scatterternary": [
           {
            "marker": {
             "colorbar": {
              "outlinewidth": 0,
              "ticks": ""
             }
            },
            "type": "scatterternary"
           }
          ],
          "surface": [
           {
            "colorbar": {
             "outlinewidth": 0,
             "ticks": ""
            },
            "colorscale": [
             [
              0,
              "#0d0887"
             ],
             [
              0.1111111111111111,
              "#46039f"
             ],
             [
              0.2222222222222222,
              "#7201a8"
             ],
             [
              0.3333333333333333,
              "#9c179e"
             ],
             [
              0.4444444444444444,
              "#bd3786"
             ],
             [
              0.5555555555555556,
              "#d8576b"
             ],
             [
              0.6666666666666666,
              "#ed7953"
             ],
             [
              0.7777777777777778,
              "#fb9f3a"
             ],
             [
              0.8888888888888888,
              "#fdca26"
             ],
             [
              1,
              "#f0f921"
             ]
            ],
            "type": "surface"
           }
          ],
          "table": [
           {
            "cells": {
             "fill": {
              "color": "#EBF0F8"
             },
             "line": {
              "color": "white"
             }
            },
            "header": {
             "fill": {
              "color": "#C8D4E3"
             },
             "line": {
              "color": "white"
             }
            },
            "type": "table"
           }
          ]
         },
         "layout": {
          "annotationdefaults": {
           "arrowcolor": "#2a3f5f",
           "arrowhead": 0,
           "arrowwidth": 1
          },
          "autotypenumbers": "strict",
          "coloraxis": {
           "colorbar": {
            "outlinewidth": 0,
            "ticks": ""
           }
          },
          "colorscale": {
           "diverging": [
            [
             0,
             "#8e0152"
            ],
            [
             0.1,
             "#c51b7d"
            ],
            [
             0.2,
             "#de77ae"
            ],
            [
             0.3,
             "#f1b6da"
            ],
            [
             0.4,
             "#fde0ef"
            ],
            [
             0.5,
             "#f7f7f7"
            ],
            [
             0.6,
             "#e6f5d0"
            ],
            [
             0.7,
             "#b8e186"
            ],
            [
             0.8,
             "#7fbc41"
            ],
            [
             0.9,
             "#4d9221"
            ],
            [
             1,
             "#276419"
            ]
           ],
           "sequential": [
            [
             0,
             "#0d0887"
            ],
            [
             0.1111111111111111,
             "#46039f"
            ],
            [
             0.2222222222222222,
             "#7201a8"
            ],
            [
             0.3333333333333333,
             "#9c179e"
            ],
            [
             0.4444444444444444,
             "#bd3786"
            ],
            [
             0.5555555555555556,
             "#d8576b"
            ],
            [
             0.6666666666666666,
             "#ed7953"
            ],
            [
             0.7777777777777778,
             "#fb9f3a"
            ],
            [
             0.8888888888888888,
             "#fdca26"
            ],
            [
             1,
             "#f0f921"
            ]
           ],
           "sequentialminus": [
            [
             0,
             "#0d0887"
            ],
            [
             0.1111111111111111,
             "#46039f"
            ],
            [
             0.2222222222222222,
             "#7201a8"
            ],
            [
             0.3333333333333333,
             "#9c179e"
            ],
            [
             0.4444444444444444,
             "#bd3786"
            ],
            [
             0.5555555555555556,
             "#d8576b"
            ],
            [
             0.6666666666666666,
             "#ed7953"
            ],
            [
             0.7777777777777778,
             "#fb9f3a"
            ],
            [
             0.8888888888888888,
             "#fdca26"
            ],
            [
             1,
             "#f0f921"
            ]
           ]
          },
          "colorway": [
           "#636efa",
           "#EF553B",
           "#00cc96",
           "#ab63fa",
           "#FFA15A",
           "#19d3f3",
           "#FF6692",
           "#B6E880",
           "#FF97FF",
           "#FECB52"
          ],
          "font": {
           "color": "#2a3f5f"
          },
          "geo": {
           "bgcolor": "white",
           "lakecolor": "white",
           "landcolor": "#E5ECF6",
           "showlakes": true,
           "showland": true,
           "subunitcolor": "white"
          },
          "hoverlabel": {
           "align": "left"
          },
          "hovermode": "closest",
          "mapbox": {
           "style": "light"
          },
          "paper_bgcolor": "white",
          "plot_bgcolor": "#E5ECF6",
          "polar": {
           "angularaxis": {
            "gridcolor": "white",
            "linecolor": "white",
            "ticks": ""
           },
           "bgcolor": "#E5ECF6",
           "radialaxis": {
            "gridcolor": "white",
            "linecolor": "white",
            "ticks": ""
           }
          },
          "scene": {
           "xaxis": {
            "backgroundcolor": "#E5ECF6",
            "gridcolor": "white",
            "gridwidth": 2,
            "linecolor": "white",
            "showbackground": true,
            "ticks": "",
            "zerolinecolor": "white"
           },
           "yaxis": {
            "backgroundcolor": "#E5ECF6",
            "gridcolor": "white",
            "gridwidth": 2,
            "linecolor": "white",
            "showbackground": true,
            "ticks": "",
            "zerolinecolor": "white"
           },
           "zaxis": {
            "backgroundcolor": "#E5ECF6",
            "gridcolor": "white",
            "gridwidth": 2,
            "linecolor": "white",
            "showbackground": true,
            "ticks": "",
            "zerolinecolor": "white"
           }
          },
          "shapedefaults": {
           "line": {
            "color": "#2a3f5f"
           }
          },
          "ternary": {
           "aaxis": {
            "gridcolor": "white",
            "linecolor": "white",
            "ticks": ""
           },
           "baxis": {
            "gridcolor": "white",
            "linecolor": "white",
            "ticks": ""
           },
           "bgcolor": "#E5ECF6",
           "caxis": {
            "gridcolor": "white",
            "linecolor": "white",
            "ticks": ""
           }
          },
          "title": {
           "x": 0.05
          },
          "xaxis": {
           "automargin": true,
           "gridcolor": "white",
           "linecolor": "white",
           "ticks": "",
           "title": {
            "standoff": 15
           },
           "zerolinecolor": "white",
           "zerolinewidth": 2
          },
          "yaxis": {
           "automargin": true,
           "gridcolor": "white",
           "linecolor": "white",
           "ticks": "",
           "title": {
            "standoff": 15
           },
           "zerolinecolor": "white",
           "zerolinewidth": 2
          }
         }
        },
        "xaxis": {
         "anchor": "y",
         "autorange": true,
         "domain": [
          0,
          1
         ],
         "range": [
          0,
          199
         ],
         "title": {
          "text": "index"
         },
         "type": "linear"
        },
        "yaxis": {
         "anchor": "x",
         "autorange": true,
         "domain": [
          0,
          1
         ],
         "range": [
          0.08848888840940264,
          0.12271111044618818
         ],
         "title": {
          "text": "value"
         },
         "type": "linear"
        }
       }
      },
      "image/png": "[encoded data removed]",
      "text/html": [
       "<div>                            <div id=\"9c99ac8a-c884-44db-b221-bf225a08860c\" class=\"plotly-graph-div\" style=\"height:525px; width:100%;\"></div>            <script type=\"text/javascript\">                require([\"plotly\"], function(Plotly) {                    window.PLOTLYENV=window.PLOTLYENV || {};                                    if (document.getElementById(\"9c99ac8a-c884-44db-b221-bf225a08860c\")) {                    Plotly.newPlot(                        \"9c99ac8a-c884-44db-b221-bf225a08860c\",                        [{\"hovertemplate\":\"variable=0<br>index=%{x}<br>value=%{y}<extra></extra>\",\"legendgroup\":\"0\",\"line\":{\"color\":\"#636efa\",\"dash\":\"solid\"},\"mode\":\"lines\",\"name\":\"0\",\"orientation\":\"v\",\"showlegend\":true,\"type\":\"scatter\",\"x\":[0,1,2,3,4,5,6,7,8,9,10,11,12,13,14,15,16,17,18,19,20,21,22,23,24,25,26,27,28,29,30,31,32,33,34,35,36,37,38,39,40,41,42,43,44,45,46,47,48,49,50,51,52,53,54,55,56,57,58,59,60,61,62,63,64,65,66,67,68,69,70,71,72,73,74,75,76,77,78,79,80,81,82,83,84,85,86,87,88,89,90,91,92,93,94,95,96,97,98,99,100,101,102,103,104,105,106,107,108,109,110,111,112,113,114,115,116,117,118,119,120,121,122,123,124,125,126,127,128,129,130,131,132,133,134,135,136,137,138,139,140,141,142,143,144,145,146,147,148,149,150,151,152,153,154,155,156,157,158,159,160,161,162,163,164,165,166,167,168,169,170,171,172,173,174,175,176,177,178,179,180,181,182,183,184,185,186,187,188,189,190,191,192,193,194,195,196,197,198,199],\"xaxis\":\"x\",\"y\":[0.11209999769926071,0.11140000075101852,0.10459999740123749,0.1152999997138977,0.10409999638795853,0.11620000004768372,0.1177000030875206,0.10400000214576721,0.0989999994635582,0.10189999639987946,0.10540000349283218,0.10570000112056732,0.10350000113248825,0.10760000348091125,0.11249999701976776,0.11309999972581863,0.10409999638795853,0.10930000245571136,0.10520000010728836,0.1096000000834465,0.11599999666213989,0.10289999842643738,0.11630000174045563,0.12030000239610672,0.11509999632835388,0.11559999734163284,0.09570000320672989,0.11169999837875366,0.10180000215768814,0.09690000116825104,0.10909999907016754,0.11169999837875366,0.1137000024318695,0.10790000110864639,0.10949999839067459,0.10589999705553055,0.120899997651577,0.0989999994635582,0.10249999910593033,0.10459999740123749,0.09049999713897705,0.09650000184774399,0.10589999705553055,0.10419999808073044,0.09920000284910202,0.1080000028014183,0.11490000039339066,0.11270000040531158,0.10589999705553055,0.10379999876022339,0.10849999636411667,0.10450000315904617,0.10480000078678131,0.10100000351667404,0.10559999942779541,0.0934000015258789,0.1080000028014183,0.09380000084638596,0.11100000143051147,0.10899999737739563,0.09019999951124191,0.0925000011920929,0.10109999775886536,0.09290000051259995,0.10189999639987946,0.11500000208616257,0.10180000215768814,0.10050000250339508,0.09380000084638596,0.09489999711513519,0.10689999908208847,0.09319999814033508,0.11100000143051147,0.10779999941587448,0.12099999934434891,0.11819999665021896,0.09629999846220016,0.09989999979734421,0.1151999980211258,0.10809999704360962,0.0997999981045723,0.10279999673366547,0.10540000349283218,0.11100000143051147,0.1145000010728836,0.10819999873638153,0.10899999737739563,0.0925000011920929,0.11410000175237656,0.0925000011920929,0.09459999948740005,0.10090000182390213,0.09650000184774399,0.10409999638795853,0.09780000150203705,0.10620000213384628,0.1145000010728836,0.09839999675750732,0.10270000249147415,0.10700000077486038,0.10480000078678131,0.11580000072717667,0.10790000110864639,0.11050000041723251,0.10499999672174454,0.1096000000834465,0.09260000288486481,0.09109999984502792,0.10999999940395355,0.11100000143051147,0.10559999942779541,0.10100000351667404,0.10649999976158142,0.1006999984383583,0.11259999871253967,0.11180000007152557,0.10379999876022339,0.11330000311136246,0.10459999740123749,0.10729999840259552,0.11249999701976776,0.10339999943971634,0.11209999769926071,0.10480000078678131,0.10220000147819519,0.10899999737739563,0.10980000346899033,0.11840000003576279,0.1031000018119812,0.11159999668598175,0.09350000321865082,0.10920000076293945,0.09960000216960907,0.10159999877214432,0.10320000350475311,0.09269999712705612,0.09480000287294388,0.1014999970793724,0.10989999771118164,0.1014999970793724,0.1014999970793724,0.11150000244379044,0.10040000081062317,0.10970000177621841,0.10869999974966049,0.09640000015497208,0.1005999967455864,0.10450000315904617,0.10700000077486038,0.10450000315904617,0.10350000113248825,0.09640000015497208,0.09870000183582306,0.10580000281333923,0.1005999967455864,0.11410000175237656,0.11540000140666962,0.11739999800920486,0.11159999668598175,0.11640000343322754,0.11259999871253967,0.11079999804496765,0.1039000004529953,0.11029999703168869,0.11779999732971191,0.10249999910593033,0.11020000278949738,0.1111999973654747,0.10429999977350235,0.11079999804496765,0.10649999976158142,0.09239999949932098,0.09730000048875809,0.10249999910593033,0.10819999873638153,0.10040000081062317,0.10920000076293945,0.11710000038146973,0.10279999673366547,0.11330000311136246,0.11259999871253967,0.10279999673366547,0.10159999877214432,0.09300000220537186,0.09799999743700027,0.11270000040531158,0.10199999809265137,0.10999999940395355,0.11959999799728394,0.10930000245571136,0.10970000177621841,0.11420000344514847,0.11079999804496765,0.09529999643564224,0.10199999809265137,0.11649999767541885,0.10570000112056732,0.10239999741315842,0.10620000213384628,0.11050000041723251],\"yaxis\":\"y\"}],                        {\"legend\":{\"title\":{\"text\":\"variable\"},\"tracegroupgap\":0},\"margin\":{\"t\":60},\"template\":{\"data\":{\"bar\":[{\"error_x\":{\"color\":\"#2a3f5f\"},\"error_y\":{\"color\":\"#2a3f5f\"},\"marker\":{\"line\":{\"color\":\"#E5ECF6\",\"width\":0.5},\"pattern\":{\"fillmode\":\"overlay\",\"size\":10,\"solidity\":0.2}},\"type\":\"bar\"}],\"barpolar\":[{\"marker\":{\"line\":{\"color\":\"#E5ECF6\",\"width\":0.5},\"pattern\":{\"fillmode\":\"overlay\",\"size\":10,\"solidity\":0.2}},\"type\":\"barpolar\"}],\"carpet\":[{\"aaxis\":{\"endlinecolor\":\"#2a3f5f\",\"gridcolor\":\"white\",\"linecolor\":\"white\",\"minorgridcolor\":\"white\",\"startlinecolor\":\"#2a3f5f\"},\"baxis\":{\"endlinecolor\":\"#2a3f5f\",\"gridcolor\":\"white\",\"linecolor\":\"white\",\"minorgridcolor\":\"white\",\"startlinecolor\":\"#2a3f5f\"},\"type\":\"carpet\"}],\"choropleth\":[{\"colorbar\":{\"outlinewidth\":0,\"ticks\":\"\"},\"type\":\"choropleth\"}],\"contour\":[{\"colorbar\":{\"outlinewidth\":0,\"ticks\":\"\"},\"colorscale\":[[0.0,\"#0d0887\"],[0.1111111111111111,\"#46039f\"],[0.2222222222222222,\"#7201a8\"],[0.3333333333333333,\"#9c179e\"],[0.4444444444444444,\"#bd3786\"],[0.5555555555555556,\"#d8576b\"],[0.6666666666666666,\"#ed7953\"],[0.7777777777777778,\"#fb9f3a\"],[0.8888888888888888,\"#fdca26\"],[1.0,\"#f0f921\"]],\"type\":\"contour\"}],\"contourcarpet\":[{\"colorbar\":{\"outlinewidth\":0,\"ticks\":\"\"},\"type\":\"contourcarpet\"}],\"heatmap\":[{\"colorbar\":{\"outlinewidth\":0,\"ticks\":\"\"},\"colorscale\":[[0.0,\"#0d0887\"],[0.1111111111111111,\"#46039f\"],[0.2222222222222222,\"#7201a8\"],[0.3333333333333333,\"#9c179e\"],[0.4444444444444444,\"#bd3786\"],[0.5555555555555556,\"#d8576b\"],[0.6666666666666666,\"#ed7953\"],[0.7777777777777778,\"#fb9f3a\"],[0.8888888888888888,\"#fdca26\"],[1.0,\"#f0f921\"]],\"type\":\"heatmap\"}],\"heatmapgl\":[{\"colorbar\":{\"outlinewidth\":0,\"ticks\":\"\"},\"colorscale\":[[0.0,\"#0d0887\"],[0.1111111111111111,\"#46039f\"],[0.2222222222222222,\"#7201a8\"],[0.3333333333333333,\"#9c179e\"],[0.4444444444444444,\"#bd3786\"],[0.5555555555555556,\"#d8576b\"],[0.6666666666666666,\"#ed7953\"],[0.7777777777777778,\"#fb9f3a\"],[0.8888888888888888,\"#fdca26\"],[1.0,\"#f0f921\"]],\"type\":\"heatmapgl\"}],\"histogram\":[{\"marker\":{\"pattern\":{\"fillmode\":\"overlay\",\"size\":10,\"solidity\":0.2}},\"type\":\"histogram\"}],\"histogram2d\":[{\"colorbar\":{\"outlinewidth\":0,\"ticks\":\"\"},\"colorscale\":[[0.0,\"#0d0887\"],[0.1111111111111111,\"#46039f\"],[0.2222222222222222,\"#7201a8\"],[0.3333333333333333,\"#9c179e\"],[0.4444444444444444,\"#bd3786\"],[0.5555555555555556,\"#d8576b\"],[0.6666666666666666,\"#ed7953\"],[0.7777777777777778,\"#fb9f3a\"],[0.8888888888888888,\"#fdca26\"],[1.0,\"#f0f921\"]],\"type\":\"histogram2d\"}],\"histogram2dcontour\":[{\"colorbar\":{\"outlinewidth\":0,\"ticks\":\"\"},\"colorscale\":[[0.0,\"#0d0887\"],[0.1111111111111111,\"#46039f\"],[0.2222222222222222,\"#7201a8\"],[0.3333333333333333,\"#9c179e\"],[0.4444444444444444,\"#bd3786\"],[0.5555555555555556,\"#d8576b\"],[0.6666666666666666,\"#ed7953\"],[0.7777777777777778,\"#fb9f3a\"],[0.8888888888888888,\"#fdca26\"],[1.0,\"#f0f921\"]],\"type\":\"histogram2dcontour\"}],\"mesh3d\":[{\"colorbar\":{\"outlinewidth\":0,\"ticks\":\"\"},\"type\":\"mesh3d\"}],\"parcoords\":[{\"line\":{\"colorbar\":{\"outlinewidth\":0,\"ticks\":\"\"}},\"type\":\"parcoords\"}],\"pie\":[{\"automargin\":true,\"type\":\"pie\"}],\"scatter\":[{\"marker\":{\"colorbar\":{\"outlinewidth\":0,\"ticks\":\"\"}},\"type\":\"scatter\"}],\"scatter3d\":[{\"line\":{\"colorbar\":{\"outlinewidth\":0,\"ticks\":\"\"}},\"marker\":{\"colorbar\":{\"outlinewidth\":0,\"ticks\":\"\"}},\"type\":\"scatter3d\"}],\"scattercarpet\":[{\"marker\":{\"colorbar\":{\"outlinewidth\":0,\"ticks\":\"\"}},\"type\":\"scattercarpet\"}],\"scattergeo\":[{\"marker\":{\"colorbar\":{\"outlinewidth\":0,\"ticks\":\"\"}},\"type\":\"scattergeo\"}],\"scattergl\":[{\"marker\":{\"colorbar\":{\"outlinewidth\":0,\"ticks\":\"\"}},\"type\":\"scattergl\"}],\"scattermapbox\":[{\"marker\":{\"colorbar\":{\"outlinewidth\":0,\"ticks\":\"\"}},\"type\":\"scattermapbox\"}],\"scatterpolar\":[{\"marker\":{\"colorbar\":{\"outlinewidth\":0,\"ticks\":\"\"}},\"type\":\"scatterpolar\"}],\"scatterpolargl\":[{\"marker\":{\"colorbar\":{\"outlinewidth\":0,\"ticks\":\"\"}},\"type\":\"scatterpolargl\"}],\"scatterternary\":[{\"marker\":{\"colorbar\":{\"outlinewidth\":0,\"ticks\":\"\"}},\"type\":\"scatterternary\"}],\"surface\":[{\"colorbar\":{\"outlinewidth\":0,\"ticks\":\"\"},\"colorscale\":[[0.0,\"#0d0887\"],[0.1111111111111111,\"#46039f\"],[0.2222222222222222,\"#7201a8\"],[0.3333333333333333,\"#9c179e\"],[0.4444444444444444,\"#bd3786\"],[0.5555555555555556,\"#d8576b\"],[0.6666666666666666,\"#ed7953\"],[0.7777777777777778,\"#fb9f3a\"],[0.8888888888888888,\"#fdca26\"],[1.0,\"#f0f921\"]],\"type\":\"surface\"}],\"table\":[{\"cells\":{\"fill\":{\"color\":\"#EBF0F8\"},\"line\":{\"color\":\"white\"}},\"header\":{\"fill\":{\"color\":\"#C8D4E3\"},\"line\":{\"color\":\"white\"}},\"type\":\"table\"}]},\"layout\":{\"annotationdefaults\":{\"arrowcolor\":\"#2a3f5f\",\"arrowhead\":0,\"arrowwidth\":1},\"autotypenumbers\":\"strict\",\"coloraxis\":{\"colorbar\":{\"outlinewidth\":0,\"ticks\":\"\"}},\"colorscale\":{\"diverging\":[[0,\"#8e0152\"],[0.1,\"#c51b7d\"],[0.2,\"#de77ae\"],[0.3,\"#f1b6da\"],[0.4,\"#fde0ef\"],[0.5,\"#f7f7f7\"],[0.6,\"#e6f5d0\"],[0.7,\"#b8e186\"],[0.8,\"#7fbc41\"],[0.9,\"#4d9221\"],[1,\"#276419\"]],\"sequential\":[[0.0,\"#0d0887\"],[0.1111111111111111,\"#46039f\"],[0.2222222222222222,\"#7201a8\"],[0.3333333333333333,\"#9c179e\"],[0.4444444444444444,\"#bd3786\"],[0.5555555555555556,\"#d8576b\"],[0.6666666666666666,\"#ed7953\"],[0.7777777777777778,\"#fb9f3a\"],[0.8888888888888888,\"#fdca26\"],[1.0,\"#f0f921\"]],\"sequentialminus\":[[0.0,\"#0d0887\"],[0.1111111111111111,\"#46039f\"],[0.2222222222222222,\"#7201a8\"],[0.3333333333333333,\"#9c179e\"],[0.4444444444444444,\"#bd3786\"],[0.5555555555555556,\"#d8576b\"],[0.6666666666666666,\"#ed7953\"],[0.7777777777777778,\"#fb9f3a\"],[0.8888888888888888,\"#fdca26\"],[1.0,\"#f0f921\"]]},\"colorway\":[\"#636efa\",\"#EF553B\",\"#00cc96\",\"#ab63fa\",\"#FFA15A\",\"#19d3f3\",\"#FF6692\",\"#B6E880\",\"#FF97FF\",\"#FECB52\"],\"font\":{\"color\":\"#2a3f5f\"},\"geo\":{\"bgcolor\":\"white\",\"lakecolor\":\"white\",\"landcolor\":\"#E5ECF6\",\"showlakes\":true,\"showland\":true,\"subunitcolor\":\"white\"},\"hoverlabel\":{\"align\":\"left\"},\"hovermode\":\"closest\",\"mapbox\":{\"style\":\"light\"},\"paper_bgcolor\":\"white\",\"plot_bgcolor\":\"#E5ECF6\",\"polar\":{\"angularaxis\":{\"gridcolor\":\"white\",\"linecolor\":\"white\",\"ticks\":\"\"},\"bgcolor\":\"#E5ECF6\",\"radialaxis\":{\"gridcolor\":\"white\",\"linecolor\":\"white\",\"ticks\":\"\"}},\"scene\":{\"xaxis\":{\"backgroundcolor\":\"#E5ECF6\",\"gridcolor\":\"white\",\"gridwidth\":2,\"linecolor\":\"white\",\"showbackground\":true,\"ticks\":\"\",\"zerolinecolor\":\"white\"},\"yaxis\":{\"backgroundcolor\":\"#E5ECF6\",\"gridcolor\":\"white\",\"gridwidth\":2,\"linecolor\":\"white\",\"showbackground\":true,\"ticks\":\"\",\"zerolinecolor\":\"white\"},\"zaxis\":{\"backgroundcolor\":\"#E5ECF6\",\"gridcolor\":\"white\",\"gridwidth\":2,\"linecolor\":\"white\",\"showbackground\":true,\"ticks\":\"\",\"zerolinecolor\":\"white\"}},\"shapedefaults\":{\"line\":{\"color\":\"#2a3f5f\"}},\"ternary\":{\"aaxis\":{\"gridcolor\":\"white\",\"linecolor\":\"white\",\"ticks\":\"\"},\"baxis\":{\"gridcolor\":\"white\",\"linecolor\":\"white\",\"ticks\":\"\"},\"bgcolor\":\"#E5ECF6\",\"caxis\":{\"gridcolor\":\"white\",\"linecolor\":\"white\",\"ticks\":\"\"}},\"title\":{\"x\":0.05},\"xaxis\":{\"automargin\":true,\"gridcolor\":\"white\",\"linecolor\":\"white\",\"ticks\":\"\",\"title\":{\"standoff\":15},\"zerolinecolor\":\"white\",\"zerolinewidth\":2},\"yaxis\":{\"automargin\":true,\"gridcolor\":\"white\",\"linecolor\":\"white\",\"ticks\":\"\",\"title\":{\"standoff\":15},\"zerolinecolor\":\"white\",\"zerolinewidth\":2}}},\"xaxis\":{\"anchor\":\"y\",\"domain\":[0.0,1.0],\"title\":{\"text\":\"index\"}},\"yaxis\":{\"anchor\":\"x\",\"domain\":[0.0,1.0],\"title\":{\"text\":\"value\"}}},                        {\"responsive\": true}                    ).then(function(){\n",
       "                            \n",
       "var gd = document.getElementById('9c99ac8a-c884-44db-b221-bf225a08860c');\n",
       "var x = new MutationObserver(function (mutations, observer) {{\n",
       "        var display = window.getComputedStyle(gd).display;\n",
       "        if (!display || display === 'none') {{\n",
       "            console.log([gd, 'removed!']);\n",
       "            Plotly.purge(gd);\n",
       "            observer.disconnect();\n",
       "        }}\n",
       "}});\n",
       "\n",
       "// Listen for the removal of the full notebook cells\n",
       "var notebookContainer = gd.closest('#notebook-container');\n",
       "if (notebookContainer) {{\n",
       "    x.observe(notebookContainer, {childList: true});\n",
       "}}\n",
       "\n",
       "// Listen for the clearing of the current output cell\n",
       "var outputEl = gd.closest('.output');\n",
       "if (outputEl) {{\n",
       "    x.observe(outputEl, {childList: true});\n",
       "}}\n",
       "\n",
       "                        })                };                });            </script>        </div>"
      ]
     },
     "metadata": {},
     "output_type": "display_data"
    }
   ],
   "source": [
    "px.line(history.history['val_accuracy'])"
   ]
  },
  {
   "cell_type": "markdown",
   "id": "c2b8223c-dbc4-450c-bc47-7bd286b13627",
   "metadata": {},
   "source": [
    "## Same model, but with non-permuted pixels"
   ]
  },
  {
   "cell_type": "code",
   "execution_count": 36,
   "id": "5e8a651d-08b6-49df-a21c-771e7bb3732e",
   "metadata": {},
   "outputs": [],
   "source": [
    "model = Sequential([\n",
    "    Input(shape = (784,)),\n",
    "    Dense(units = 64, activation = 'relu', use_bias = True),\n",
    "    Dense(units = 64, activation = 'relu', use_bias = True),\n",
    "    Dense(units = 10, activation = 'softmax', use_bias = False)\n",
    "])"
   ]
  },
  {
   "cell_type": "code",
   "execution_count": 37,
   "id": "a6803785-10c9-4d43-878e-1d59a3c85533",
   "metadata": {},
   "outputs": [],
   "source": [
    "model.compile(\n",
    "    loss = 'categorical_crossentropy',\n",
    "    optimizer = 'adam',\n",
    "    metrics = ['accuracy']\n",
    ")"
   ]
  },
  {
   "cell_type": "code",
   "execution_count": 38,
   "id": "9bcd8df4-4228-42d7-bfc4-164c97eda100",
   "metadata": {},
   "outputs": [
    {
     "name": "stdout",
     "output_type": "stream",
     "text": [
      "Epoch 1/300\n",
      "1875/1875 [==============================] - 2s 806us/step - loss: 0.2765 - accuracy: 0.9190 - val_loss: 0.1554 - val_accuracy: 0.9520\n",
      "Epoch 2/300\n",
      "1875/1875 [==============================] - 1s 738us/step - loss: 0.1275 - accuracy: 0.9614 - val_loss: 0.1138 - val_accuracy: 0.9649\n",
      "Epoch 3/300\n",
      "1875/1875 [==============================] - 1s 743us/step - loss: 0.0910 - accuracy: 0.9715 - val_loss: 0.0971 - val_accuracy: 0.9709\n",
      "Epoch 4/300\n",
      "1875/1875 [==============================] - 1s 785us/step - loss: 0.0701 - accuracy: 0.9789 - val_loss: 0.0893 - val_accuracy: 0.9725\n",
      "Epoch 5/300\n",
      "1875/1875 [==============================] - 1s 713us/step - loss: 0.0585 - accuracy: 0.9816 - val_loss: 0.0962 - val_accuracy: 0.9722\n",
      "Epoch 6/300\n",
      "1875/1875 [==============================] - 1s 754us/step - loss: 0.0479 - accuracy: 0.9846 - val_loss: 0.0981 - val_accuracy: 0.9720\n",
      "Epoch 7/300\n",
      "1875/1875 [==============================] - 1s 792us/step - loss: 0.0427 - accuracy: 0.9864 - val_loss: 0.0970 - val_accuracy: 0.9711\n",
      "Epoch 8/300\n",
      "1875/1875 [==============================] - 2s 816us/step - loss: 0.0347 - accuracy: 0.9891 - val_loss: 0.0960 - val_accuracy: 0.9728\n",
      "Epoch 9/300\n",
      "1875/1875 [==============================] - 2s 801us/step - loss: 0.0303 - accuracy: 0.9904 - val_loss: 0.0927 - val_accuracy: 0.9747\n",
      "Epoch 10/300\n",
      "1875/1875 [==============================] - 1s 780us/step - loss: 0.0268 - accuracy: 0.9912 - val_loss: 0.1109 - val_accuracy: 0.9731\n",
      "Epoch 11/300\n",
      "1875/1875 [==============================] - 2s 806us/step - loss: 0.0237 - accuracy: 0.9923 - val_loss: 0.1101 - val_accuracy: 0.9721\n",
      "Epoch 12/300\n",
      "1875/1875 [==============================] - 1s 784us/step - loss: 0.0207 - accuracy: 0.9929 - val_loss: 0.0932 - val_accuracy: 0.9777\n",
      "Epoch 13/300\n",
      "1875/1875 [==============================] - 1s 745us/step - loss: 0.0193 - accuracy: 0.9935 - val_loss: 0.1006 - val_accuracy: 0.9766\n",
      "Epoch 14/300\n",
      "1875/1875 [==============================] - 1s 741us/step - loss: 0.0189 - accuracy: 0.9936 - val_loss: 0.1082 - val_accuracy: 0.9755\n",
      "Epoch 15/300\n",
      "1875/1875 [==============================] - 1s 734us/step - loss: 0.0154 - accuracy: 0.9945 - val_loss: 0.1115 - val_accuracy: 0.9727\n",
      "Epoch 16/300\n",
      "1875/1875 [==============================] - 1s 750us/step - loss: 0.0158 - accuracy: 0.9945 - val_loss: 0.1088 - val_accuracy: 0.9763\n",
      "Epoch 17/300\n",
      "1875/1875 [==============================] - 1s 726us/step - loss: 0.0167 - accuracy: 0.9947 - val_loss: 0.1153 - val_accuracy: 0.9769\n",
      "Epoch 18/300\n",
      "1875/1875 [==============================] - 1s 734us/step - loss: 0.0125 - accuracy: 0.9959 - val_loss: 0.1232 - val_accuracy: 0.9757\n",
      "Epoch 19/300\n",
      "1875/1875 [==============================] - 1s 754us/step - loss: 0.0111 - accuracy: 0.9963 - val_loss: 0.1326 - val_accuracy: 0.9737\n",
      "Epoch 20/300\n",
      "1875/1875 [==============================] - 1s 756us/step - loss: 0.0113 - accuracy: 0.9962 - val_loss: 0.1230 - val_accuracy: 0.9755\n",
      "Epoch 21/300\n",
      "1875/1875 [==============================] - 1s 744us/step - loss: 0.0126 - accuracy: 0.9959 - val_loss: 0.1370 - val_accuracy: 0.9729\n",
      "Epoch 22/300\n",
      "1875/1875 [==============================] - 1s 749us/step - loss: 0.0118 - accuracy: 0.9959 - val_loss: 0.1270 - val_accuracy: 0.9781\n",
      "Epoch 23/300\n",
      "1875/1875 [==============================] - 1s 748us/step - loss: 0.0082 - accuracy: 0.9973 - val_loss: 0.1340 - val_accuracy: 0.9763\n",
      "Epoch 24/300\n",
      "1875/1875 [==============================] - 1s 745us/step - loss: 0.0123 - accuracy: 0.9959 - val_loss: 0.1410 - val_accuracy: 0.9755\n",
      "Epoch 25/300\n",
      "1875/1875 [==============================] - 1s 758us/step - loss: 0.0100 - accuracy: 0.9967 - val_loss: 0.1739 - val_accuracy: 0.9726\n",
      "Epoch 26/300\n",
      "1875/1875 [==============================] - 1s 744us/step - loss: 0.0122 - accuracy: 0.9960 - val_loss: 0.1610 - val_accuracy: 0.9740\n",
      "Epoch 27/300\n",
      "1875/1875 [==============================] - 1s 733us/step - loss: 0.0074 - accuracy: 0.9975 - val_loss: 0.1561 - val_accuracy: 0.9753\n",
      "Epoch 28/300\n",
      "1875/1875 [==============================] - 1s 759us/step - loss: 0.0095 - accuracy: 0.9967 - val_loss: 0.1652 - val_accuracy: 0.9754\n",
      "Epoch 29/300\n",
      "1875/1875 [==============================] - 1s 745us/step - loss: 0.0100 - accuracy: 0.9966 - val_loss: 0.1534 - val_accuracy: 0.9763\n",
      "Epoch 30/300\n",
      "1875/1875 [==============================] - 1s 766us/step - loss: 0.0093 - accuracy: 0.9971 - val_loss: 0.1738 - val_accuracy: 0.9739\n",
      "Epoch 31/300\n",
      "1875/1875 [==============================] - 1s 742us/step - loss: 0.0069 - accuracy: 0.9979 - val_loss: 0.1824 - val_accuracy: 0.9752\n",
      "Epoch 32/300\n",
      "1875/1875 [==============================] - 1s 755us/step - loss: 0.0104 - accuracy: 0.9970 - val_loss: 0.1953 - val_accuracy: 0.9737\n",
      "Epoch 33/300\n",
      "1875/1875 [==============================] - 1s 767us/step - loss: 0.0100 - accuracy: 0.9968 - val_loss: 0.1661 - val_accuracy: 0.9762\n",
      "Epoch 34/300\n",
      "1875/1875 [==============================] - 1s 739us/step - loss: 0.0067 - accuracy: 0.9977 - val_loss: 0.1779 - val_accuracy: 0.9748\n",
      "Epoch 35/300\n",
      "1875/1875 [==============================] - 1s 764us/step - loss: 0.0074 - accuracy: 0.9975 - val_loss: 0.1848 - val_accuracy: 0.9740\n",
      "Epoch 36/300\n",
      "1875/1875 [==============================] - 1s 744us/step - loss: 0.0060 - accuracy: 0.9980 - val_loss: 0.1881 - val_accuracy: 0.9747\n",
      "Epoch 37/300\n",
      "1875/1875 [==============================] - 1s 751us/step - loss: 0.0086 - accuracy: 0.9971 - val_loss: 0.1831 - val_accuracy: 0.9749\n",
      "Epoch 38/300\n",
      "1875/1875 [==============================] - 1s 742us/step - loss: 0.0094 - accuracy: 0.9973 - val_loss: 0.1951 - val_accuracy: 0.9733\n",
      "Epoch 39/300\n",
      "1875/1875 [==============================] - 1s 735us/step - loss: 0.0080 - accuracy: 0.9974 - val_loss: 0.1815 - val_accuracy: 0.9764\n",
      "Epoch 40/300\n",
      "1875/1875 [==============================] - 1s 746us/step - loss: 0.0065 - accuracy: 0.9981 - val_loss: 0.1888 - val_accuracy: 0.9760\n",
      "Epoch 41/300\n",
      "1875/1875 [==============================] - 1s 738us/step - loss: 0.0075 - accuracy: 0.9975 - val_loss: 0.1783 - val_accuracy: 0.9781\n",
      "Epoch 42/300\n",
      "1875/1875 [==============================] - 1s 757us/step - loss: 0.0066 - accuracy: 0.9978 - val_loss: 0.2147 - val_accuracy: 0.9737\n",
      "Epoch 43/300\n",
      "1875/1875 [==============================] - 1s 754us/step - loss: 0.0084 - accuracy: 0.9975 - val_loss: 0.1733 - val_accuracy: 0.9784\n",
      "Epoch 44/300\n",
      "1875/1875 [==============================] - 1s 793us/step - loss: 0.0054 - accuracy: 0.9985 - val_loss: 0.1900 - val_accuracy: 0.9774\n",
      "Epoch 45/300\n",
      "1875/1875 [==============================] - 1s 764us/step - loss: 0.0084 - accuracy: 0.9976 - val_loss: 0.2104 - val_accuracy: 0.9751\n",
      "Epoch 46/300\n",
      "1875/1875 [==============================] - 1s 753us/step - loss: 0.0077 - accuracy: 0.9975 - val_loss: 0.1842 - val_accuracy: 0.9775\n",
      "Epoch 47/300\n",
      "1875/1875 [==============================] - 1s 702us/step - loss: 0.0070 - accuracy: 0.9977 - val_loss: 0.2038 - val_accuracy: 0.9772\n",
      "Epoch 48/300\n",
      "1875/1875 [==============================] - 1s 703us/step - loss: 0.0054 - accuracy: 0.9985 - val_loss: 0.2228 - val_accuracy: 0.9740\n",
      "Epoch 49/300\n",
      "1875/1875 [==============================] - 1s 761us/step - loss: 0.0089 - accuracy: 0.9976 - val_loss: 0.2091 - val_accuracy: 0.9743\n",
      "Epoch 50/300\n",
      "1875/1875 [==============================] - 1s 732us/step - loss: 0.0062 - accuracy: 0.9981 - val_loss: 0.1942 - val_accuracy: 0.9768\n",
      "Epoch 51/300\n",
      "1875/1875 [==============================] - 1s 716us/step - loss: 0.0059 - accuracy: 0.9984 - val_loss: 0.2003 - val_accuracy: 0.9776\n",
      "Epoch 52/300\n",
      "1875/1875 [==============================] - 1s 757us/step - loss: 0.0058 - accuracy: 0.9982 - val_loss: 0.1949 - val_accuracy: 0.9773\n",
      "Epoch 53/300\n",
      "1875/1875 [==============================] - 1s 722us/step - loss: 0.0069 - accuracy: 0.9983 - val_loss: 0.1996 - val_accuracy: 0.9779\n",
      "Epoch 54/300\n",
      "1875/1875 [==============================] - 1s 742us/step - loss: 0.0073 - accuracy: 0.9977 - val_loss: 0.1999 - val_accuracy: 0.9778\n",
      "Epoch 55/300\n",
      "1875/1875 [==============================] - 1s 750us/step - loss: 0.0062 - accuracy: 0.9983 - val_loss: 0.2108 - val_accuracy: 0.9777\n",
      "Epoch 56/300\n",
      "1875/1875 [==============================] - 1s 697us/step - loss: 0.0069 - accuracy: 0.9979 - val_loss: 0.2267 - val_accuracy: 0.9773\n",
      "Epoch 57/300\n",
      "1875/1875 [==============================] - 1s 739us/step - loss: 0.0068 - accuracy: 0.9980 - val_loss: 0.2133 - val_accuracy: 0.9781\n",
      "Epoch 58/300\n",
      "1875/1875 [==============================] - 1s 761us/step - loss: 0.0070 - accuracy: 0.9980 - val_loss: 0.2397 - val_accuracy: 0.9742\n",
      "Epoch 59/300\n",
      "1875/1875 [==============================] - 1s 744us/step - loss: 0.0072 - accuracy: 0.9983 - val_loss: 0.2017 - val_accuracy: 0.9786\n",
      "Epoch 60/300\n",
      "1875/1875 [==============================] - 1s 712us/step - loss: 0.0055 - accuracy: 0.9983 - val_loss: 0.2077 - val_accuracy: 0.9779\n",
      "Epoch 61/300\n",
      "1875/1875 [==============================] - 1s 758us/step - loss: 0.0046 - accuracy: 0.9987 - val_loss: 0.2240 - val_accuracy: 0.9784\n",
      "Epoch 62/300\n",
      "1875/1875 [==============================] - 1s 713us/step - loss: 0.0074 - accuracy: 0.9980 - val_loss: 0.2159 - val_accuracy: 0.9788\n",
      "Epoch 63/300\n",
      "1875/1875 [==============================] - 1s 744us/step - loss: 0.0038 - accuracy: 0.9991 - val_loss: 0.2217 - val_accuracy: 0.9776\n",
      "Epoch 64/300\n",
      "1875/1875 [==============================] - 1s 746us/step - loss: 0.0087 - accuracy: 0.9976 - val_loss: 0.2276 - val_accuracy: 0.9779\n",
      "Epoch 65/300\n",
      "1875/1875 [==============================] - 1s 735us/step - loss: 0.0052 - accuracy: 0.9987 - val_loss: 0.2098 - val_accuracy: 0.9777\n",
      "Epoch 66/300\n",
      "1875/1875 [==============================] - 1s 740us/step - loss: 0.0055 - accuracy: 0.9984 - val_loss: 0.2505 - val_accuracy: 0.9760\n",
      "Epoch 67/300\n",
      "1875/1875 [==============================] - 1s 749us/step - loss: 0.0062 - accuracy: 0.9983 - val_loss: 0.2479 - val_accuracy: 0.9752\n",
      "Epoch 68/300\n",
      "1875/1875 [==============================] - 1s 725us/step - loss: 0.0057 - accuracy: 0.9983 - val_loss: 0.2392 - val_accuracy: 0.9765\n",
      "Epoch 69/300\n",
      "1875/1875 [==============================] - 1s 746us/step - loss: 0.0060 - accuracy: 0.9984 - val_loss: 0.2497 - val_accuracy: 0.9773\n",
      "Epoch 70/300\n",
      "1875/1875 [==============================] - 1s 761us/step - loss: 0.0076 - accuracy: 0.9981 - val_loss: 0.2401 - val_accuracy: 0.9780\n",
      "Epoch 71/300\n",
      "1875/1875 [==============================] - 1s 735us/step - loss: 0.0050 - accuracy: 0.9988 - val_loss: 0.2276 - val_accuracy: 0.9776\n",
      "Epoch 72/300\n",
      "1875/1875 [==============================] - 1s 773us/step - loss: 0.0080 - accuracy: 0.9982 - val_loss: 0.2350 - val_accuracy: 0.9771\n",
      "Epoch 73/300\n",
      "1875/1875 [==============================] - 1s 763us/step - loss: 0.0048 - accuracy: 0.9987 - val_loss: 0.2557 - val_accuracy: 0.9771\n",
      "Epoch 74/300\n",
      "1875/1875 [==============================] - 1s 745us/step - loss: 0.0071 - accuracy: 0.9984 - val_loss: 0.2079 - val_accuracy: 0.9800\n",
      "Epoch 75/300\n",
      "1875/1875 [==============================] - 1s 736us/step - loss: 0.0071 - accuracy: 0.9982 - val_loss: 0.2546 - val_accuracy: 0.9770\n",
      "Epoch 76/300\n",
      "1875/1875 [==============================] - 1s 736us/step - loss: 0.0055 - accuracy: 0.9985 - val_loss: 0.2596 - val_accuracy: 0.9771\n",
      "Epoch 77/300\n",
      "1875/1875 [==============================] - 1s 769us/step - loss: 0.0059 - accuracy: 0.9985 - val_loss: 0.2432 - val_accuracy: 0.9787\n",
      "Epoch 78/300\n",
      "1875/1875 [==============================] - 1s 750us/step - loss: 0.0063 - accuracy: 0.9983 - val_loss: 0.2599 - val_accuracy: 0.9764\n",
      "Epoch 79/300\n",
      "1875/1875 [==============================] - 1s 724us/step - loss: 0.0066 - accuracy: 0.9985 - val_loss: 0.2582 - val_accuracy: 0.9766\n",
      "Epoch 80/300\n",
      "1875/1875 [==============================] - 1s 723us/step - loss: 0.0041 - accuracy: 0.9987 - val_loss: 0.2554 - val_accuracy: 0.9762\n",
      "Epoch 81/300\n",
      "1875/1875 [==============================] - 1s 758us/step - loss: 0.0064 - accuracy: 0.9983 - val_loss: 0.2718 - val_accuracy: 0.9772\n",
      "Epoch 82/300\n",
      "1875/1875 [==============================] - 1s 731us/step - loss: 0.0043 - accuracy: 0.9989 - val_loss: 0.2679 - val_accuracy: 0.9768\n",
      "Epoch 83/300\n",
      "1875/1875 [==============================] - 1s 757us/step - loss: 0.0048 - accuracy: 0.9987 - val_loss: 0.2538 - val_accuracy: 0.9794\n",
      "Epoch 84/300\n",
      "1875/1875 [==============================] - 1s 754us/step - loss: 0.0085 - accuracy: 0.9982 - val_loss: 0.2479 - val_accuracy: 0.9784\n",
      "Epoch 85/300\n",
      "1875/1875 [==============================] - 1s 756us/step - loss: 0.0052 - accuracy: 0.9988 - val_loss: 0.2611 - val_accuracy: 0.9764\n",
      "Epoch 86/300\n",
      "1875/1875 [==============================] - 1s 762us/step - loss: 0.0060 - accuracy: 0.9986 - val_loss: 0.2804 - val_accuracy: 0.9763\n",
      "Epoch 87/300\n",
      "1875/1875 [==============================] - 2s 829us/step - loss: 0.0051 - accuracy: 0.9988 - val_loss: 0.2609 - val_accuracy: 0.9790\n",
      "Epoch 88/300\n",
      "1875/1875 [==============================] - 2s 820us/step - loss: 0.0047 - accuracy: 0.9987 - val_loss: 0.2587 - val_accuracy: 0.9790\n",
      "Epoch 89/300\n",
      "1875/1875 [==============================] - 1s 759us/step - loss: 0.0066 - accuracy: 0.9983 - val_loss: 0.3368 - val_accuracy: 0.9748\n",
      "Epoch 90/300\n",
      "1875/1875 [==============================] - 1s 789us/step - loss: 0.0055 - accuracy: 0.9987 - val_loss: 0.3013 - val_accuracy: 0.9744\n",
      "Epoch 91/300\n",
      "1875/1875 [==============================] - 1s 726us/step - loss: 0.0057 - accuracy: 0.9985 - val_loss: 0.2884 - val_accuracy: 0.9766\n",
      "Epoch 92/300\n",
      "1875/1875 [==============================] - 1s 760us/step - loss: 0.0046 - accuracy: 0.9989 - val_loss: 0.2925 - val_accuracy: 0.9761\n",
      "Epoch 93/300\n",
      "1875/1875 [==============================] - 1s 746us/step - loss: 0.0037 - accuracy: 0.9989 - val_loss: 0.2778 - val_accuracy: 0.9790\n",
      "Epoch 94/300\n",
      "1875/1875 [==============================] - 1s 739us/step - loss: 0.0067 - accuracy: 0.9985 - val_loss: 0.2844 - val_accuracy: 0.9796\n",
      "Epoch 95/300\n",
      "1875/1875 [==============================] - 1s 740us/step - loss: 0.0070 - accuracy: 0.9985 - val_loss: 0.3022 - val_accuracy: 0.9750\n",
      "Epoch 96/300\n",
      "1875/1875 [==============================] - 1s 738us/step - loss: 0.0059 - accuracy: 0.9988 - val_loss: 0.2873 - val_accuracy: 0.9783\n",
      "Epoch 97/300\n",
      "1875/1875 [==============================] - 1s 751us/step - loss: 0.0057 - accuracy: 0.9987 - val_loss: 0.3122 - val_accuracy: 0.9780\n",
      "Epoch 98/300\n",
      "1875/1875 [==============================] - 1s 748us/step - loss: 0.0052 - accuracy: 0.9988 - val_loss: 0.3202 - val_accuracy: 0.9756\n",
      "Epoch 99/300\n",
      "1875/1875 [==============================] - 1s 739us/step - loss: 0.0056 - accuracy: 0.9987 - val_loss: 0.2829 - val_accuracy: 0.9784\n",
      "Epoch 100/300\n",
      "1875/1875 [==============================] - 1s 739us/step - loss: 0.0049 - accuracy: 0.9988 - val_loss: 0.3536 - val_accuracy: 0.9756\n",
      "Epoch 101/300\n",
      "1875/1875 [==============================] - 1s 739us/step - loss: 0.0048 - accuracy: 0.9988 - val_loss: 0.3395 - val_accuracy: 0.9754\n",
      "Epoch 102/300\n",
      "1875/1875 [==============================] - 1s 752us/step - loss: 0.0049 - accuracy: 0.9988 - val_loss: 0.3535 - val_accuracy: 0.9759\n",
      "Epoch 103/300\n",
      "1875/1875 [==============================] - 1s 722us/step - loss: 0.0051 - accuracy: 0.9988 - val_loss: 0.3361 - val_accuracy: 0.9776\n",
      "Epoch 104/300\n",
      "1875/1875 [==============================] - 1s 727us/step - loss: 0.0078 - accuracy: 0.9984 - val_loss: 0.3111 - val_accuracy: 0.9778\n",
      "Epoch 105/300\n",
      "1875/1875 [==============================] - 1s 730us/step - loss: 0.0040 - accuracy: 0.9991 - val_loss: 0.3278 - val_accuracy: 0.9781\n",
      "Epoch 106/300\n",
      "1875/1875 [==============================] - 1s 755us/step - loss: 0.0050 - accuracy: 0.9988 - val_loss: 0.3338 - val_accuracy: 0.9774\n",
      "Epoch 107/300\n",
      "1875/1875 [==============================] - 1s 767us/step - loss: 0.0080 - accuracy: 0.9984 - val_loss: 0.3199 - val_accuracy: 0.9771\n",
      "Epoch 108/300\n",
      "1875/1875 [==============================] - 1s 757us/step - loss: 0.0034 - accuracy: 0.9992 - val_loss: 0.3202 - val_accuracy: 0.9761\n",
      "Epoch 109/300\n",
      "1875/1875 [==============================] - 1s 709us/step - loss: 0.0056 - accuracy: 0.9985 - val_loss: 0.3289 - val_accuracy: 0.9763\n",
      "Epoch 110/300\n",
      "1875/1875 [==============================] - 1s 719us/step - loss: 0.0046 - accuracy: 0.9987 - val_loss: 0.3143 - val_accuracy: 0.9784\n",
      "Epoch 111/300\n",
      "1875/1875 [==============================] - 1s 743us/step - loss: 0.0044 - accuracy: 0.9989 - val_loss: 0.3313 - val_accuracy: 0.9782\n",
      "Epoch 112/300\n",
      "1875/1875 [==============================] - 1s 724us/step - loss: 0.0072 - accuracy: 0.9985 - val_loss: 0.3390 - val_accuracy: 0.9775\n",
      "Epoch 113/300\n",
      "1875/1875 [==============================] - 1s 740us/step - loss: 0.0029 - accuracy: 0.9992 - val_loss: 0.3773 - val_accuracy: 0.9759\n",
      "Epoch 114/300\n",
      "1875/1875 [==============================] - 1s 745us/step - loss: 0.0068 - accuracy: 0.9986 - val_loss: 0.3781 - val_accuracy: 0.9751\n",
      "Epoch 115/300\n",
      "1875/1875 [==============================] - 1s 782us/step - loss: 0.0045 - accuracy: 0.9991 - val_loss: 0.3256 - val_accuracy: 0.9770\n",
      "Epoch 116/300\n",
      "1875/1875 [==============================] - 1s 778us/step - loss: 0.0054 - accuracy: 0.9988 - val_loss: 0.3519 - val_accuracy: 0.9755\n",
      "Epoch 117/300\n",
      "1875/1875 [==============================] - 1s 767us/step - loss: 0.0070 - accuracy: 0.9984 - val_loss: 0.3098 - val_accuracy: 0.9786\n",
      "Epoch 118/300\n",
      "1875/1875 [==============================] - 1s 751us/step - loss: 0.0042 - accuracy: 0.9988 - val_loss: 0.3528 - val_accuracy: 0.9774\n",
      "Epoch 119/300\n",
      "1875/1875 [==============================] - 1s 731us/step - loss: 0.0061 - accuracy: 0.9987 - val_loss: 0.3203 - val_accuracy: 0.9776\n",
      "Epoch 120/300\n",
      "1875/1875 [==============================] - 1s 736us/step - loss: 0.0039 - accuracy: 0.9991 - val_loss: 0.3838 - val_accuracy: 0.9764\n",
      "Epoch 121/300\n",
      "1875/1875 [==============================] - 1s 734us/step - loss: 0.0066 - accuracy: 0.9985 - val_loss: 0.3539 - val_accuracy: 0.9788\n",
      "Epoch 122/300\n",
      "1875/1875 [==============================] - 1s 711us/step - loss: 0.0062 - accuracy: 0.9988 - val_loss: 0.3457 - val_accuracy: 0.9763\n",
      "Epoch 123/300\n",
      "1875/1875 [==============================] - 1s 740us/step - loss: 0.0044 - accuracy: 0.9989 - val_loss: 0.3371 - val_accuracy: 0.9787\n",
      "Epoch 124/300\n",
      "1875/1875 [==============================] - 1s 754us/step - loss: 0.0026 - accuracy: 0.9995 - val_loss: 0.3317 - val_accuracy: 0.9780\n",
      "Epoch 125/300\n",
      "1875/1875 [==============================] - 1s 735us/step - loss: 0.0052 - accuracy: 0.9990 - val_loss: 0.3407 - val_accuracy: 0.9789\n",
      "Epoch 126/300\n",
      "1875/1875 [==============================] - 1s 721us/step - loss: 0.0047 - accuracy: 0.9989 - val_loss: 0.3482 - val_accuracy: 0.9792\n",
      "Epoch 127/300\n",
      "1875/1875 [==============================] - 1s 755us/step - loss: 0.0059 - accuracy: 0.9988 - val_loss: 0.3690 - val_accuracy: 0.9762\n",
      "Epoch 128/300\n",
      "1875/1875 [==============================] - 1s 739us/step - loss: 0.0055 - accuracy: 0.9987 - val_loss: 0.3373 - val_accuracy: 0.9771\n",
      "Epoch 129/300\n",
      "1875/1875 [==============================] - 1s 755us/step - loss: 0.0038 - accuracy: 0.9992 - val_loss: 0.3213 - val_accuracy: 0.9788\n",
      "Epoch 130/300\n",
      "1875/1875 [==============================] - 1s 753us/step - loss: 0.0063 - accuracy: 0.9989 - val_loss: 0.3290 - val_accuracy: 0.9793\n",
      "Epoch 131/300\n",
      "1875/1875 [==============================] - 1s 781us/step - loss: 0.0049 - accuracy: 0.9990 - val_loss: 0.4117 - val_accuracy: 0.9752\n",
      "Epoch 132/300\n",
      "1875/1875 [==============================] - 1s 762us/step - loss: 0.0066 - accuracy: 0.9988 - val_loss: 0.3953 - val_accuracy: 0.9763\n",
      "Epoch 133/300\n",
      "1875/1875 [==============================] - 1s 734us/step - loss: 0.0053 - accuracy: 0.9990 - val_loss: 0.3815 - val_accuracy: 0.9777\n",
      "Epoch 134/300\n",
      "1875/1875 [==============================] - 1s 731us/step - loss: 0.0040 - accuracy: 0.9990 - val_loss: 0.3913 - val_accuracy: 0.9780\n",
      "Epoch 135/300\n",
      "1875/1875 [==============================] - 1s 751us/step - loss: 0.0052 - accuracy: 0.9988 - val_loss: 0.3870 - val_accuracy: 0.9778\n",
      "Epoch 136/300\n",
      "1875/1875 [==============================] - 1s 736us/step - loss: 0.0043 - accuracy: 0.9988 - val_loss: 0.3868 - val_accuracy: 0.9761\n",
      "Epoch 137/300\n",
      "1875/1875 [==============================] - 1s 746us/step - loss: 0.0049 - accuracy: 0.9990 - val_loss: 0.4205 - val_accuracy: 0.9757\n",
      "Epoch 138/300\n",
      "1875/1875 [==============================] - 1s 739us/step - loss: 0.0058 - accuracy: 0.9988 - val_loss: 0.3713 - val_accuracy: 0.9789\n",
      "Epoch 139/300\n",
      "1875/1875 [==============================] - 1s 762us/step - loss: 0.0048 - accuracy: 0.9990 - val_loss: 0.4040 - val_accuracy: 0.9781\n",
      "Epoch 140/300\n",
      "1875/1875 [==============================] - 1s 745us/step - loss: 0.0052 - accuracy: 0.9991 - val_loss: 0.4079 - val_accuracy: 0.9774\n",
      "Epoch 141/300\n",
      "1875/1875 [==============================] - 1s 762us/step - loss: 0.0056 - accuracy: 0.9989 - val_loss: 0.4120 - val_accuracy: 0.9767\n",
      "Epoch 142/300\n",
      "1875/1875 [==============================] - 1s 774us/step - loss: 0.0045 - accuracy: 0.9990 - val_loss: 0.3929 - val_accuracy: 0.9785\n",
      "Epoch 143/300\n",
      "1875/1875 [==============================] - 1s 733us/step - loss: 0.0048 - accuracy: 0.9991 - val_loss: 0.3976 - val_accuracy: 0.9768\n",
      "Epoch 144/300\n",
      "1875/1875 [==============================] - 1s 779us/step - loss: 0.0045 - accuracy: 0.9991 - val_loss: 0.3455 - val_accuracy: 0.9793\n",
      "Epoch 145/300\n",
      "1875/1875 [==============================] - 1s 759us/step - loss: 0.0066 - accuracy: 0.9986 - val_loss: 0.3993 - val_accuracy: 0.9773\n",
      "Epoch 146/300\n",
      "1875/1875 [==============================] - 1s 737us/step - loss: 0.0052 - accuracy: 0.9990 - val_loss: 0.4265 - val_accuracy: 0.9791\n",
      "Epoch 147/300\n",
      "1875/1875 [==============================] - 1s 758us/step - loss: 0.0036 - accuracy: 0.9993 - val_loss: 0.4072 - val_accuracy: 0.9754\n",
      "Epoch 148/300\n",
      "1875/1875 [==============================] - 1s 754us/step - loss: 0.0053 - accuracy: 0.9990 - val_loss: 0.3911 - val_accuracy: 0.9799\n",
      "Epoch 149/300\n",
      "1875/1875 [==============================] - 1s 762us/step - loss: 0.0062 - accuracy: 0.9987 - val_loss: 0.4108 - val_accuracy: 0.9757\n",
      "Epoch 150/300\n",
      "1875/1875 [==============================] - 1s 771us/step - loss: 0.0035 - accuracy: 0.9993 - val_loss: 0.3780 - val_accuracy: 0.9784\n",
      "Epoch 151/300\n",
      "1875/1875 [==============================] - 1s 789us/step - loss: 0.0053 - accuracy: 0.9990 - val_loss: 0.4160 - val_accuracy: 0.9782\n",
      "Epoch 152/300\n",
      "1875/1875 [==============================] - 1s 775us/step - loss: 0.0032 - accuracy: 0.9993 - val_loss: 0.4113 - val_accuracy: 0.9764\n",
      "Epoch 153/300\n",
      "1875/1875 [==============================] - 1s 765us/step - loss: 0.0042 - accuracy: 0.9992 - val_loss: 0.4450 - val_accuracy: 0.9762\n",
      "Epoch 154/300\n",
      "1875/1875 [==============================] - 1s 777us/step - loss: 0.0045 - accuracy: 0.9990 - val_loss: 0.5658 - val_accuracy: 0.9698\n",
      "Epoch 155/300\n",
      "1875/1875 [==============================] - 1s 754us/step - loss: 0.0061 - accuracy: 0.9989 - val_loss: 0.4680 - val_accuracy: 0.9766\n",
      "Epoch 156/300\n",
      "1875/1875 [==============================] - 1s 736us/step - loss: 0.0033 - accuracy: 0.9994 - val_loss: 0.3890 - val_accuracy: 0.9795\n",
      "Epoch 157/300\n",
      "1875/1875 [==============================] - 1s 750us/step - loss: 0.0076 - accuracy: 0.9988 - val_loss: 0.4570 - val_accuracy: 0.9760\n",
      "Epoch 158/300\n",
      "1875/1875 [==============================] - 1s 767us/step - loss: 0.0035 - accuracy: 0.9994 - val_loss: 0.3904 - val_accuracy: 0.9787\n",
      "Epoch 159/300\n",
      "1875/1875 [==============================] - 1s 793us/step - loss: 0.0028 - accuracy: 0.9994 - val_loss: 0.5018 - val_accuracy: 0.9747\n",
      "Epoch 160/300\n",
      "1875/1875 [==============================] - 1s 792us/step - loss: 0.0093 - accuracy: 0.9987 - val_loss: 0.4447 - val_accuracy: 0.9775\n",
      "Epoch 161/300\n",
      "1875/1875 [==============================] - 1s 744us/step - loss: 0.0049 - accuracy: 0.9991 - val_loss: 0.4776 - val_accuracy: 0.9761\n",
      "Epoch 162/300\n",
      "1875/1875 [==============================] - 1s 772us/step - loss: 0.0033 - accuracy: 0.9993 - val_loss: 0.4732 - val_accuracy: 0.9763\n",
      "Epoch 163/300\n",
      "1875/1875 [==============================] - 2s 808us/step - loss: 0.0055 - accuracy: 0.9990 - val_loss: 0.4629 - val_accuracy: 0.9762\n",
      "Epoch 164/300\n",
      "1875/1875 [==============================] - 1s 795us/step - loss: 0.0044 - accuracy: 0.9991 - val_loss: 0.4515 - val_accuracy: 0.9762\n",
      "Epoch 165/300\n",
      "1875/1875 [==============================] - 1s 785us/step - loss: 0.0035 - accuracy: 0.9993 - val_loss: 0.4146 - val_accuracy: 0.9774\n",
      "Epoch 166/300\n",
      "1875/1875 [==============================] - 1s 749us/step - loss: 0.0039 - accuracy: 0.9992 - val_loss: 0.4222 - val_accuracy: 0.9794\n",
      "Epoch 167/300\n",
      "1875/1875 [==============================] - 1s 793us/step - loss: 0.0070 - accuracy: 0.9988 - val_loss: 0.4417 - val_accuracy: 0.9776\n",
      "Epoch 168/300\n",
      "1875/1875 [==============================] - 1s 740us/step - loss: 0.0038 - accuracy: 0.9993 - val_loss: 0.4433 - val_accuracy: 0.9772\n",
      "Epoch 169/300\n",
      "1875/1875 [==============================] - 1s 756us/step - loss: 0.0050 - accuracy: 0.9990 - val_loss: 0.4823 - val_accuracy: 0.9758\n",
      "Epoch 170/300\n",
      "1875/1875 [==============================] - 1s 750us/step - loss: 0.0052 - accuracy: 0.9991 - val_loss: 0.5028 - val_accuracy: 0.9755\n",
      "Epoch 171/300\n",
      "1875/1875 [==============================] - 1s 776us/step - loss: 0.0054 - accuracy: 0.9990 - val_loss: 0.4876 - val_accuracy: 0.9772\n",
      "Epoch 172/300\n",
      "1875/1875 [==============================] - 1s 774us/step - loss: 0.0059 - accuracy: 0.9990 - val_loss: 0.4461 - val_accuracy: 0.9780\n",
      "Epoch 173/300\n",
      "1875/1875 [==============================] - 1s 713us/step - loss: 0.0055 - accuracy: 0.9990 - val_loss: 0.4520 - val_accuracy: 0.9773\n",
      "Epoch 174/300\n",
      "1875/1875 [==============================] - 1s 705us/step - loss: 0.0059 - accuracy: 0.9990 - val_loss: 0.4794 - val_accuracy: 0.9782\n",
      "Epoch 175/300\n",
      "1875/1875 [==============================] - 1s 756us/step - loss: 0.0051 - accuracy: 0.9992 - val_loss: 0.4863 - val_accuracy: 0.9754\n",
      "Epoch 176/300\n",
      "1875/1875 [==============================] - 1s 721us/step - loss: 0.0045 - accuracy: 0.9990 - val_loss: 0.5554 - val_accuracy: 0.9730\n",
      "Epoch 177/300\n",
      "1875/1875 [==============================] - 1s 699us/step - loss: 0.0030 - accuracy: 0.9994 - val_loss: 0.4976 - val_accuracy: 0.9759\n",
      "Epoch 178/300\n",
      "1875/1875 [==============================] - 1s 717us/step - loss: 0.0059 - accuracy: 0.9990 - val_loss: 0.5290 - val_accuracy: 0.9773\n",
      "Epoch 179/300\n",
      "1875/1875 [==============================] - 1s 726us/step - loss: 0.0062 - accuracy: 0.9987 - val_loss: 0.4748 - val_accuracy: 0.9774\n",
      "Epoch 180/300\n",
      "1875/1875 [==============================] - 1s 730us/step - loss: 0.0071 - accuracy: 0.9989 - val_loss: 0.4644 - val_accuracy: 0.9778\n",
      "Epoch 181/300\n",
      "1875/1875 [==============================] - 1s 745us/step - loss: 0.0033 - accuracy: 0.9994 - val_loss: 0.5632 - val_accuracy: 0.9741\n",
      "Epoch 182/300\n",
      "1875/1875 [==============================] - 1s 741us/step - loss: 0.0043 - accuracy: 0.9993 - val_loss: 0.4173 - val_accuracy: 0.9770\n",
      "Epoch 183/300\n",
      "1875/1875 [==============================] - 1s 743us/step - loss: 0.0047 - accuracy: 0.9992 - val_loss: 0.4789 - val_accuracy: 0.9784\n",
      "Epoch 184/300\n",
      "1875/1875 [==============================] - 1s 736us/step - loss: 0.0046 - accuracy: 0.9991 - val_loss: 0.5377 - val_accuracy: 0.9752\n",
      "Epoch 185/300\n",
      "1875/1875 [==============================] - 1s 730us/step - loss: 0.0037 - accuracy: 0.9992 - val_loss: 0.5094 - val_accuracy: 0.9769\n",
      "Epoch 186/300\n",
      "1875/1875 [==============================] - 1s 710us/step - loss: 0.0061 - accuracy: 0.9989 - val_loss: 0.5342 - val_accuracy: 0.9760\n",
      "Epoch 187/300\n",
      "1875/1875 [==============================] - 1s 713us/step - loss: 0.0029 - accuracy: 0.9992 - val_loss: 0.4737 - val_accuracy: 0.9786\n",
      "Epoch 188/300\n",
      "1875/1875 [==============================] - 1s 714us/step - loss: 0.0056 - accuracy: 0.9992 - val_loss: 0.4989 - val_accuracy: 0.9784\n",
      "Epoch 189/300\n",
      "1875/1875 [==============================] - 1s 703us/step - loss: 0.0037 - accuracy: 0.9991 - val_loss: 0.5164 - val_accuracy: 0.9772\n",
      "Epoch 190/300\n",
      "1875/1875 [==============================] - 1s 710us/step - loss: 0.0051 - accuracy: 0.9991 - val_loss: 0.4999 - val_accuracy: 0.9772\n",
      "Epoch 191/300\n",
      "1875/1875 [==============================] - 1s 718us/step - loss: 0.0053 - accuracy: 0.9992 - val_loss: 0.5223 - val_accuracy: 0.9760\n",
      "Epoch 192/300\n",
      "1875/1875 [==============================] - 1s 723us/step - loss: 0.0063 - accuracy: 0.9990 - val_loss: 0.4649 - val_accuracy: 0.9795\n",
      "Epoch 193/300\n",
      "1875/1875 [==============================] - 1s 752us/step - loss: 0.0042 - accuracy: 0.9992 - val_loss: 0.4863 - val_accuracy: 0.9779\n",
      "Epoch 194/300\n",
      "1875/1875 [==============================] - 1s 702us/step - loss: 0.0036 - accuracy: 0.9994 - val_loss: 0.4676 - val_accuracy: 0.9783\n",
      "Epoch 195/300\n",
      "1875/1875 [==============================] - 2s 811us/step - loss: 0.0031 - accuracy: 0.9994 - val_loss: 0.5245 - val_accuracy: 0.9771\n",
      "Epoch 196/300\n",
      "1875/1875 [==============================] - 2s 801us/step - loss: 0.0052 - accuracy: 0.9991 - val_loss: 0.5090 - val_accuracy: 0.9770\n",
      "Epoch 197/300\n",
      "1875/1875 [==============================] - 2s 801us/step - loss: 0.0045 - accuracy: 0.9993 - val_loss: 0.5205 - val_accuracy: 0.9771\n",
      "Epoch 198/300\n",
      "1875/1875 [==============================] - 1s 721us/step - loss: 0.0042 - accuracy: 0.9990 - val_loss: 0.5734 - val_accuracy: 0.9769\n",
      "Epoch 199/300\n",
      "1875/1875 [==============================] - 1s 750us/step - loss: 0.0067 - accuracy: 0.9990 - val_loss: 0.5422 - val_accuracy: 0.9779\n",
      "Epoch 200/300\n",
      "1875/1875 [==============================] - 1s 711us/step - loss: 0.0025 - accuracy: 0.9993 - val_loss: 0.5301 - val_accuracy: 0.9786\n",
      "Epoch 201/300\n",
      "1875/1875 [==============================] - 1s 738us/step - loss: 0.0069 - accuracy: 0.9990 - val_loss: 0.5783 - val_accuracy: 0.9760\n",
      "Epoch 202/300\n",
      "1875/1875 [==============================] - 1s 746us/step - loss: 0.0051 - accuracy: 0.9992 - val_loss: 0.5079 - val_accuracy: 0.9783\n",
      "Epoch 203/300\n",
      "1875/1875 [==============================] - 1s 754us/step - loss: 0.0070 - accuracy: 0.9990 - val_loss: 0.5500 - val_accuracy: 0.9769\n",
      "Epoch 204/300\n",
      "1875/1875 [==============================] - 1s 765us/step - loss: 0.0039 - accuracy: 0.9993 - val_loss: 0.5266 - val_accuracy: 0.9789\n",
      "Epoch 205/300\n",
      "1875/1875 [==============================] - 1s 736us/step - loss: 0.0045 - accuracy: 0.9994 - val_loss: 0.5179 - val_accuracy: 0.9776\n",
      "Epoch 206/300\n",
      "1875/1875 [==============================] - 1s 757us/step - loss: 0.0056 - accuracy: 0.9991 - val_loss: 0.5195 - val_accuracy: 0.9777\n",
      "Epoch 207/300\n",
      "1875/1875 [==============================] - 1s 760us/step - loss: 0.0042 - accuracy: 0.9992 - val_loss: 0.5668 - val_accuracy: 0.9774\n",
      "Epoch 208/300\n",
      "1875/1875 [==============================] - 1s 748us/step - loss: 0.0027 - accuracy: 0.9994 - val_loss: 0.5308 - val_accuracy: 0.9794\n",
      "Epoch 209/300\n",
      "1875/1875 [==============================] - 1s 753us/step - loss: 0.0086 - accuracy: 0.9988 - val_loss: 0.4985 - val_accuracy: 0.9794\n",
      "Epoch 210/300\n",
      "1875/1875 [==============================] - 1s 766us/step - loss: 0.0017 - accuracy: 0.9996 - val_loss: 0.5220 - val_accuracy: 0.9789\n",
      "Epoch 211/300\n",
      "1875/1875 [==============================] - 1s 737us/step - loss: 0.0043 - accuracy: 0.9992 - val_loss: 0.5335 - val_accuracy: 0.9784\n",
      "Epoch 212/300\n",
      "1875/1875 [==============================] - 1s 748us/step - loss: 0.0073 - accuracy: 0.9989 - val_loss: 0.5478 - val_accuracy: 0.9775\n",
      "Epoch 213/300\n",
      "1875/1875 [==============================] - 1s 747us/step - loss: 0.0064 - accuracy: 0.9991 - val_loss: 0.5923 - val_accuracy: 0.9758\n",
      "Epoch 214/300\n",
      "1875/1875 [==============================] - 1s 737us/step - loss: 0.0049 - accuracy: 0.9993 - val_loss: 0.6133 - val_accuracy: 0.9776\n",
      "Epoch 215/300\n",
      "1875/1875 [==============================] - 1s 735us/step - loss: 0.0037 - accuracy: 0.9994 - val_loss: 0.5151 - val_accuracy: 0.9776\n",
      "Epoch 216/300\n",
      "1875/1875 [==============================] - 1s 734us/step - loss: 0.0050 - accuracy: 0.9992 - val_loss: 0.5727 - val_accuracy: 0.9781\n",
      "Epoch 217/300\n",
      "1875/1875 [==============================] - 1s 764us/step - loss: 0.0062 - accuracy: 0.9990 - val_loss: 0.5483 - val_accuracy: 0.9788\n",
      "Epoch 218/300\n",
      "1875/1875 [==============================] - 1s 743us/step - loss: 0.0050 - accuracy: 0.9992 - val_loss: 0.5270 - val_accuracy: 0.9789\n",
      "Epoch 219/300\n",
      "1875/1875 [==============================] - 1s 737us/step - loss: 0.0052 - accuracy: 0.9993 - val_loss: 0.5826 - val_accuracy: 0.9778\n",
      "Epoch 220/300\n",
      "1875/1875 [==============================] - 1s 766us/step - loss: 0.0049 - accuracy: 0.9992 - val_loss: 0.5944 - val_accuracy: 0.9763\n",
      "Epoch 221/300\n",
      "1875/1875 [==============================] - 1s 764us/step - loss: 0.0057 - accuracy: 0.9990 - val_loss: 0.5937 - val_accuracy: 0.9762\n",
      "Epoch 222/300\n",
      "1875/1875 [==============================] - 1s 748us/step - loss: 0.0034 - accuracy: 0.9994 - val_loss: 0.5894 - val_accuracy: 0.9785\n",
      "Epoch 223/300\n",
      "1875/1875 [==============================] - 1s 765us/step - loss: 0.0038 - accuracy: 0.9995 - val_loss: 0.5778 - val_accuracy: 0.9759\n",
      "Epoch 224/300\n",
      "1875/1875 [==============================] - 1s 754us/step - loss: 0.0058 - accuracy: 0.9990 - val_loss: 0.5910 - val_accuracy: 0.9785\n",
      "Epoch 225/300\n",
      "1875/1875 [==============================] - 1s 761us/step - loss: 0.0046 - accuracy: 0.9993 - val_loss: 0.6869 - val_accuracy: 0.9753\n",
      "Epoch 226/300\n",
      "1875/1875 [==============================] - 1s 732us/step - loss: 0.0049 - accuracy: 0.9994 - val_loss: 0.6181 - val_accuracy: 0.9763\n",
      "Epoch 227/300\n",
      "1875/1875 [==============================] - 1s 758us/step - loss: 0.0039 - accuracy: 0.9994 - val_loss: 0.5980 - val_accuracy: 0.9780\n",
      "Epoch 228/300\n",
      "1875/1875 [==============================] - 1s 756us/step - loss: 0.0055 - accuracy: 0.9992 - val_loss: 0.5527 - val_accuracy: 0.9777\n",
      "Epoch 229/300\n",
      "1875/1875 [==============================] - 1s 745us/step - loss: 0.0033 - accuracy: 0.9993 - val_loss: 0.5425 - val_accuracy: 0.9783\n",
      "Epoch 230/300\n",
      "1875/1875 [==============================] - 1s 747us/step - loss: 0.0023 - accuracy: 0.9996 - val_loss: 0.5624 - val_accuracy: 0.9776\n",
      "Epoch 231/300\n",
      "1875/1875 [==============================] - 1s 732us/step - loss: 0.0063 - accuracy: 0.9989 - val_loss: 0.6026 - val_accuracy: 0.9753\n",
      "Epoch 232/300\n",
      "1875/1875 [==============================] - 1s 751us/step - loss: 0.0035 - accuracy: 0.9994 - val_loss: 0.5774 - val_accuracy: 0.9781\n",
      "Epoch 233/300\n",
      "1875/1875 [==============================] - 1s 763us/step - loss: 0.0024 - accuracy: 0.9995 - val_loss: 0.6137 - val_accuracy: 0.9766\n",
      "Epoch 234/300\n",
      "1875/1875 [==============================] - 1s 760us/step - loss: 0.0080 - accuracy: 0.9990 - val_loss: 0.6174 - val_accuracy: 0.9776\n",
      "Epoch 235/300\n",
      "1875/1875 [==============================] - 1s 740us/step - loss: 0.0015 - accuracy: 0.9997 - val_loss: 0.6392 - val_accuracy: 0.9775\n",
      "Epoch 236/300\n",
      "1875/1875 [==============================] - 1s 748us/step - loss: 0.0044 - accuracy: 0.9993 - val_loss: 0.6584 - val_accuracy: 0.9766\n",
      "Epoch 237/300\n",
      "1875/1875 [==============================] - 1s 738us/step - loss: 0.0040 - accuracy: 0.9994 - val_loss: 0.6202 - val_accuracy: 0.9774\n",
      "Epoch 238/300\n",
      "1875/1875 [==============================] - 1s 766us/step - loss: 0.0067 - accuracy: 0.9988 - val_loss: 0.6415 - val_accuracy: 0.9772\n",
      "Epoch 239/300\n",
      "1875/1875 [==============================] - 1s 763us/step - loss: 0.0019 - accuracy: 0.9996 - val_loss: 0.6008 - val_accuracy: 0.9777\n",
      "Epoch 240/300\n",
      "1875/1875 [==============================] - 1s 736us/step - loss: 0.0056 - accuracy: 0.9992 - val_loss: 0.6028 - val_accuracy: 0.9794\n",
      "Epoch 241/300\n",
      "1875/1875 [==============================] - 1s 731us/step - loss: 0.0043 - accuracy: 0.9994 - val_loss: 0.6589 - val_accuracy: 0.9773\n",
      "Epoch 242/300\n",
      "1875/1875 [==============================] - 1s 767us/step - loss: 0.0035 - accuracy: 0.9994 - val_loss: 0.5947 - val_accuracy: 0.9781\n",
      "Epoch 243/300\n",
      "1875/1875 [==============================] - 1s 750us/step - loss: 0.0061 - accuracy: 0.9991 - val_loss: 0.6234 - val_accuracy: 0.9789\n",
      "Epoch 244/300\n",
      "1875/1875 [==============================] - 1s 727us/step - loss: 0.0029 - accuracy: 0.9995 - val_loss: 0.5639 - val_accuracy: 0.9786\n",
      "Epoch 245/300\n",
      "1875/1875 [==============================] - 1s 741us/step - loss: 0.0051 - accuracy: 0.9993 - val_loss: 0.6345 - val_accuracy: 0.9789\n",
      "Epoch 246/300\n",
      "1875/1875 [==============================] - 1s 748us/step - loss: 0.0039 - accuracy: 0.9995 - val_loss: 0.6797 - val_accuracy: 0.9769\n",
      "Epoch 247/300\n",
      "1875/1875 [==============================] - 1s 746us/step - loss: 0.0054 - accuracy: 0.9992 - val_loss: 0.5773 - val_accuracy: 0.9785\n",
      "Epoch 248/300\n",
      "1875/1875 [==============================] - 1s 737us/step - loss: 0.0039 - accuracy: 0.9995 - val_loss: 0.6416 - val_accuracy: 0.9770\n",
      "Epoch 249/300\n",
      "1875/1875 [==============================] - 1s 750us/step - loss: 0.0056 - accuracy: 0.9992 - val_loss: 0.6160 - val_accuracy: 0.9774\n",
      "Epoch 250/300\n",
      "1875/1875 [==============================] - 1s 760us/step - loss: 0.0032 - accuracy: 0.9995 - val_loss: 0.6260 - val_accuracy: 0.9781\n",
      "Epoch 251/300\n",
      "1875/1875 [==============================] - 1s 761us/step - loss: 0.0052 - accuracy: 0.9992 - val_loss: 0.6191 - val_accuracy: 0.9782\n",
      "Epoch 252/300\n",
      "1875/1875 [==============================] - 1s 753us/step - loss: 0.0056 - accuracy: 0.9992 - val_loss: 0.6541 - val_accuracy: 0.9773\n",
      "Epoch 253/300\n",
      "1875/1875 [==============================] - 1s 773us/step - loss: 0.0022 - accuracy: 0.9996 - val_loss: 0.6050 - val_accuracy: 0.9795\n",
      "Epoch 254/300\n",
      "1875/1875 [==============================] - 1s 770us/step - loss: 0.0067 - accuracy: 0.9990 - val_loss: 0.6106 - val_accuracy: 0.9779\n",
      "Epoch 255/300\n",
      "1875/1875 [==============================] - 1s 728us/step - loss: 0.0044 - accuracy: 0.9994 - val_loss: 0.6261 - val_accuracy: 0.9766\n",
      "Epoch 256/300\n",
      "1875/1875 [==============================] - 1s 735us/step - loss: 0.0045 - accuracy: 0.9994 - val_loss: 0.6086 - val_accuracy: 0.9777\n",
      "Epoch 257/300\n",
      "1875/1875 [==============================] - 1s 750us/step - loss: 0.0050 - accuracy: 0.9994 - val_loss: 0.7012 - val_accuracy: 0.9767\n",
      "Epoch 258/300\n",
      "1875/1875 [==============================] - 1s 731us/step - loss: 0.0043 - accuracy: 0.9994 - val_loss: 0.7604 - val_accuracy: 0.9764\n",
      "Epoch 259/300\n",
      "1875/1875 [==============================] - 1s 756us/step - loss: 0.0065 - accuracy: 0.9991 - val_loss: 0.6302 - val_accuracy: 0.9781\n",
      "Epoch 260/300\n",
      "1875/1875 [==============================] - 1s 762us/step - loss: 0.0033 - accuracy: 0.9996 - val_loss: 0.7133 - val_accuracy: 0.9762\n",
      "Epoch 261/300\n",
      "1875/1875 [==============================] - 1s 766us/step - loss: 0.0041 - accuracy: 0.9995 - val_loss: 0.6858 - val_accuracy: 0.9782\n",
      "Epoch 262/300\n",
      "1875/1875 [==============================] - 1s 744us/step - loss: 0.0062 - accuracy: 0.9991 - val_loss: 0.6954 - val_accuracy: 0.9761\n",
      "Epoch 263/300\n",
      "1875/1875 [==============================] - 1s 718us/step - loss: 0.0053 - accuracy: 0.9992 - val_loss: 0.6524 - val_accuracy: 0.9778\n",
      "Epoch 264/300\n",
      "1875/1875 [==============================] - 1s 779us/step - loss: 0.0059 - accuracy: 0.9993 - val_loss: 0.6665 - val_accuracy: 0.9774\n",
      "Epoch 265/300\n",
      "1875/1875 [==============================] - 1s 748us/step - loss: 0.0044 - accuracy: 0.9994 - val_loss: 0.6563 - val_accuracy: 0.9787\n",
      "Epoch 266/300\n",
      "1875/1875 [==============================] - 1s 754us/step - loss: 0.0061 - accuracy: 0.9992 - val_loss: 0.6451 - val_accuracy: 0.9789\n",
      "Epoch 267/300\n",
      "1875/1875 [==============================] - 1s 783us/step - loss: 0.0056 - accuracy: 0.9992 - val_loss: 0.6680 - val_accuracy: 0.9793\n",
      "Epoch 268/300\n",
      "1875/1875 [==============================] - 1s 798us/step - loss: 0.0041 - accuracy: 0.9994 - val_loss: 0.6969 - val_accuracy: 0.9772\n",
      "Epoch 269/300\n",
      "1875/1875 [==============================] - 1s 799us/step - loss: 0.0047 - accuracy: 0.9992 - val_loss: 0.7166 - val_accuracy: 0.9765\n",
      "Epoch 270/300\n",
      "1875/1875 [==============================] - 1s 752us/step - loss: 0.0032 - accuracy: 0.9995 - val_loss: 0.7347 - val_accuracy: 0.9769\n",
      "Epoch 271/300\n",
      "1875/1875 [==============================] - 1s 775us/step - loss: 0.0076 - accuracy: 0.9992 - val_loss: 0.7025 - val_accuracy: 0.9776\n",
      "Epoch 272/300\n",
      "1875/1875 [==============================] - 2s 807us/step - loss: 0.0033 - accuracy: 0.9996 - val_loss: 0.6467 - val_accuracy: 0.9792\n",
      "Epoch 273/300\n",
      "1875/1875 [==============================] - 1s 796us/step - loss: 0.0065 - accuracy: 0.9992 - val_loss: 0.6311 - val_accuracy: 0.9799\n",
      "Epoch 274/300\n",
      "1875/1875 [==============================] - 1s 788us/step - loss: 0.0055 - accuracy: 0.9994 - val_loss: 0.6783 - val_accuracy: 0.9784\n",
      "Epoch 275/300\n",
      "1875/1875 [==============================] - 1s 691us/step - loss: 0.0046 - accuracy: 0.9994 - val_loss: 0.6807 - val_accuracy: 0.9786\n",
      "Epoch 276/300\n",
      "1875/1875 [==============================] - 1s 780us/step - loss: 0.0035 - accuracy: 0.9995 - val_loss: 0.7642 - val_accuracy: 0.9776\n",
      "Epoch 277/300\n",
      "1875/1875 [==============================] - 1s 754us/step - loss: 0.0036 - accuracy: 0.9995 - val_loss: 0.7687 - val_accuracy: 0.9768\n",
      "Epoch 278/300\n",
      "1875/1875 [==============================] - 1s 720us/step - loss: 0.0067 - accuracy: 0.9993 - val_loss: 0.7561 - val_accuracy: 0.9772\n",
      "Epoch 279/300\n",
      "1875/1875 [==============================] - 1s 780us/step - loss: 0.0047 - accuracy: 0.9994 - val_loss: 0.7277 - val_accuracy: 0.9787\n",
      "Epoch 280/300\n",
      "1875/1875 [==============================] - 1s 727us/step - loss: 0.0046 - accuracy: 0.9994 - val_loss: 0.7503 - val_accuracy: 0.9758\n",
      "Epoch 281/300\n",
      "1875/1875 [==============================] - 1s 701us/step - loss: 0.0045 - accuracy: 0.9993 - val_loss: 0.6689 - val_accuracy: 0.9795\n",
      "Epoch 282/300\n",
      "1875/1875 [==============================] - 1s 704us/step - loss: 0.0023 - accuracy: 0.9997 - val_loss: 0.7413 - val_accuracy: 0.9774\n",
      "Epoch 283/300\n",
      "1875/1875 [==============================] - 1s 721us/step - loss: 0.0063 - accuracy: 0.9993 - val_loss: 0.7509 - val_accuracy: 0.9763\n",
      "Epoch 284/300\n",
      "1875/1875 [==============================] - 1s 723us/step - loss: 0.0030 - accuracy: 0.9996 - val_loss: 0.7313 - val_accuracy: 0.9776\n",
      "Epoch 285/300\n",
      "1875/1875 [==============================] - 1s 758us/step - loss: 0.0057 - accuracy: 0.9993 - val_loss: 0.7612 - val_accuracy: 0.9775\n",
      "Epoch 286/300\n",
      "1875/1875 [==============================] - 1s 740us/step - loss: 0.0060 - accuracy: 0.9991 - val_loss: 0.7696 - val_accuracy: 0.9777\n",
      "Epoch 287/300\n",
      "1875/1875 [==============================] - 1s 712us/step - loss: 0.0052 - accuracy: 0.9994 - val_loss: 0.6963 - val_accuracy: 0.9783\n",
      "Epoch 288/300\n",
      "1875/1875 [==============================] - 1s 746us/step - loss: 0.0065 - accuracy: 0.9992 - val_loss: 0.7139 - val_accuracy: 0.9782\n",
      "Epoch 289/300\n",
      "1875/1875 [==============================] - 1s 738us/step - loss: 0.0024 - accuracy: 0.9995 - val_loss: 0.7208 - val_accuracy: 0.9786\n",
      "Epoch 290/300\n",
      "1875/1875 [==============================] - 1s 763us/step - loss: 0.0023 - accuracy: 0.9997 - val_loss: 0.6999 - val_accuracy: 0.9784\n",
      "Epoch 291/300\n",
      "1875/1875 [==============================] - 1s 766us/step - loss: 0.0061 - accuracy: 0.9994 - val_loss: 0.7796 - val_accuracy: 0.9785\n",
      "Epoch 292/300\n",
      "1875/1875 [==============================] - 1s 750us/step - loss: 0.0048 - accuracy: 0.9993 - val_loss: 0.6872 - val_accuracy: 0.9815\n",
      "Epoch 293/300\n",
      "1875/1875 [==============================] - 1s 739us/step - loss: 0.0033 - accuracy: 0.9997 - val_loss: 0.7183 - val_accuracy: 0.9783\n",
      "Epoch 294/300\n",
      "1875/1875 [==============================] - 1s 746us/step - loss: 0.0080 - accuracy: 0.9990 - val_loss: 0.7216 - val_accuracy: 0.9790\n",
      "Epoch 295/300\n",
      "1875/1875 [==============================] - 1s 744us/step - loss: 0.0037 - accuracy: 0.9995 - val_loss: 0.7307 - val_accuracy: 0.9770\n",
      "Epoch 296/300\n",
      "1875/1875 [==============================] - 1s 745us/step - loss: 0.0040 - accuracy: 0.9994 - val_loss: 0.7396 - val_accuracy: 0.9778\n",
      "Epoch 297/300\n",
      "1875/1875 [==============================] - 1s 742us/step - loss: 0.0047 - accuracy: 0.9994 - val_loss: 0.7037 - val_accuracy: 0.9777\n",
      "Epoch 298/300\n",
      "1875/1875 [==============================] - 1s 771us/step - loss: 0.0028 - accuracy: 0.9995 - val_loss: 0.7221 - val_accuracy: 0.9765\n",
      "Epoch 299/300\n",
      "1875/1875 [==============================] - 1s 737us/step - loss: 0.0052 - accuracy: 0.9994 - val_loss: 0.7188 - val_accuracy: 0.9786\n",
      "Epoch 300/300\n",
      "1875/1875 [==============================] - 1s 737us/step - loss: 0.0028 - accuracy: 0.9995 - val_loss: 0.7767 - val_accuracy: 0.9780\n"
     ]
    }
   ],
   "source": [
    "history = model.fit(\n",
    "    X_train,\n",
    "    y_train,\n",
    "    epochs = 300,\n",
    "    validation_data = (X_test, y_test)\n",
    ")"
   ]
  },
  {
   "cell_type": "code",
   "execution_count": 40,
   "id": "f5ee9cb0-5b8f-48bd-b8ae-e07a1cae341f",
   "metadata": {},
   "outputs": [
    {
     "data": {
      "application/vnd.plotly.v1+json": {
       "config": {
        "plotlyServerURL": "https://plot.ly"
       },
       "data": [
        {
         "hovertemplate": "variable=0<br>index=%{x}<br>value=%{y}<extra></extra>",
         "legendgroup": "0",
         "line": {
          "color": "#636efa",
          "dash": "solid"
         },
         "mode": "lines",
         "name": "0",
         "orientation": "v",
         "showlegend": true,
         "type": "scatter",
         "x": [
          0,
          1,
          2,
          3,
          4,
          5,
          6,
          7,
          8,
          9,
          10,
          11,
          12,
          13,
          14,
          15,
          16,
          17,
          18,
          19,
          20,
          21,
          22,
          23,
          24,
          25,
          26,
          27,
          28,
          29,
          30,
          31,
          32,
          33,
          34,
          35,
          36,
          37,
          38,
          39,
          40,
          41,
          42,
          43,
          44,
          45,
          46,
          47,
          48,
          49,
          50,
          51,
          52,
          53,
          54,
          55,
          56,
          57,
          58,
          59,
          60,
          61,
          62,
          63,
          64,
          65,
          66,
          67,
          68,
          69,
          70,
          71,
          72,
          73,
          74,
          75,
          76,
          77,
          78,
          79,
          80,
          81,
          82,
          83,
          84,
          85,
          86,
          87,
          88,
          89,
          90,
          91,
          92,
          93,
          94,
          95,
          96,
          97,
          98,
          99,
          100,
          101,
          102,
          103,
          104,
          105,
          106,
          107,
          108,
          109,
          110,
          111,
          112,
          113,
          114,
          115,
          116,
          117,
          118,
          119,
          120,
          121,
          122,
          123,
          124,
          125,
          126,
          127,
          128,
          129,
          130,
          131,
          132,
          133,
          134,
          135,
          136,
          137,
          138,
          139,
          140,
          141,
          142,
          143,
          144,
          145,
          146,
          147,
          148,
          149,
          150,
          151,
          152,
          153,
          154,
          155,
          156,
          157,
          158,
          159,
          160,
          161,
          162,
          163,
          164,
          165,
          166,
          167,
          168,
          169,
          170,
          171,
          172,
          173,
          174,
          175,
          176,
          177,
          178,
          179,
          180,
          181,
          182,
          183,
          184,
          185,
          186,
          187,
          188,
          189,
          190,
          191,
          192,
          193,
          194,
          195,
          196,
          197,
          198,
          199,
          200,
          201,
          202,
          203,
          204,
          205,
          206,
          207,
          208,
          209,
          210,
          211,
          212,
          213,
          214,
          215,
          216,
          217,
          218,
          219,
          220,
          221,
          222,
          223,
          224,
          225,
          226,
          227,
          228,
          229,
          230,
          231,
          232,
          233,
          234,
          235,
          236,
          237,
          238,
          239,
          240,
          241,
          242,
          243,
          244,
          245,
          246,
          247,
          248,
          249,
          250,
          251,
          252,
          253,
          254,
          255,
          256,
          257,
          258,
          259,
          260,
          261,
          262,
          263,
          264,
          265,
          266,
          267,
          268,
          269,
          270,
          271,
          272,
          273,
          274,
          275,
          276,
          277,
          278,
          279,
          280,
          281,
          282,
          283,
          284,
          285,
          286,
          287,
          288,
          289,
          290,
          291,
          292,
          293,
          294,
          295,
          296,
          297,
          298,
          299
         ],
         "xaxis": "x",
         "y": [
          0.9190333485603333,
          0.9614166617393494,
          0.9715499877929688,
          0.9788833260536194,
          0.9816333055496216,
          0.9846166372299194,
          0.9864333271980286,
          0.9891499876976013,
          0.9903666377067566,
          0.9911500215530396,
          0.9923166632652283,
          0.9929166436195374,
          0.9935166835784912,
          0.9935833215713501,
          0.994533360004425,
          0.994533360004425,
          0.994700014591217,
          0.9959166646003723,
          0.9962833523750305,
          0.9961666464805603,
          0.9958666563034058,
          0.9959333539009094,
          0.9973166584968567,
          0.9959333539009094,
          0.9966833591461182,
          0.9960333108901978,
          0.9975000023841858,
          0.9966833591461182,
          0.9965999722480774,
          0.9970666766166687,
          0.9979000091552734,
          0.9970166683197021,
          0.9967666864395142,
          0.9977333545684814,
          0.9975166916847229,
          0.9980499744415283,
          0.9970666766166687,
          0.9972666501998901,
          0.9974333047866821,
          0.9980833530426025,
          0.9975166916847229,
          0.9978333115577698,
          0.9974833130836487,
          0.9984833598136902,
          0.9975500106811523,
          0.9975333213806152,
          0.9977499842643738,
          0.9984666705131531,
          0.9976166486740112,
          0.998116672039032,
          0.998449981212616,
          0.9981833100318909,
          0.998283326625824,
          0.9976999759674072,
          0.998283326625824,
          0.9979333281517029,
          0.99795001745224,
          0.9980000257492065,
          0.9982500076293945,
          0.998283326625824,
          0.9987000226974487,
          0.9980000257492065,
          0.9990666508674622,
          0.9975500106811523,
          0.9986500144004822,
          0.99836665391922,
          0.9982500076293945,
          0.9983166456222534,
          0.9983999729156494,
          0.9980833530426025,
          0.9987666606903076,
          0.998199999332428,
          0.9986500144004822,
          0.9984333515167236,
          0.9982166886329651,
          0.9985499978065491,
          0.9984666705131531,
          0.9983000159263611,
          0.9984666705131531,
          0.9987333416938782,
          0.9982500076293945,
          0.9988666772842407,
          0.9986500144004822,
          0.9982333183288574,
          0.9988499879837036,
          0.9986000061035156,
          0.9987666606903076,
          0.9987333416938782,
          0.998283326625824,
          0.9987000226974487,
          0.9984666705131531,
          0.9989166855812073,
          0.9989166855812073,
          0.9985499978065491,
          0.9984833598136902,
          0.9988333582878113,
          0.9986500144004822,
          0.9988166689872742,
          0.9986500144004822,
          0.9988333582878113,
          0.9987833499908447,
          0.9988166689872742,
          0.9988499879837036,
          0.99836665391922,
          0.9990833401679993,
          0.9988166689872742,
          0.9984166622161865,
          0.9992333054542542,
          0.998533308506012,
          0.9987166523933411,
          0.9989333152770996,
          0.9985166788101196,
          0.9991833567619324,
          0.9986166954040527,
          0.9990833401679993,
          0.9988499879837036,
          0.9984166622161865,
          0.9988166689872742,
          0.9987166523933411,
          0.9990500211715698,
          0.9985499978065491,
          0.9987999796867371,
          0.9988833069801331,
          0.9994666576385498,
          0.9989500045776367,
          0.9989166855812073,
          0.9987833499908447,
          0.9987333416938782,
          0.9992499947547913,
          0.9988999962806702,
          0.9989500045776367,
          0.9987999796867371,
          0.9989666938781738,
          0.9990000128746033,
          0.9988333582878113,
          0.9988333582878113,
          0.9990166425704956,
          0.9988499879837036,
          0.9989666938781738,
          0.9991166591644287,
          0.9988833069801331,
          0.9989500045776367,
          0.9990666508674622,
          0.9990500211715698,
          0.9986000061035156,
          0.9990333318710327,
          0.9992833137512207,
          0.9989666938781738,
          0.9987333416938782,
          0.9992833137512207,
          0.9989833235740662,
          0.9993000030517578,
          0.9991833567619324,
          0.9990000128746033,
          0.9989333152770996,
          0.9993833303451538,
          0.9987666606903076,
          0.9993500113487244,
          0.9994333386421204,
          0.9986500144004822,
          0.9990666508674622,
          0.9993000030517578,
          0.9990166425704956,
          0.9990666508674622,
          0.9993000030517578,
          0.9992499947547913,
          0.9988166689872742,
          0.9993333220481873,
          0.9989833235740662,
          0.9990500211715698,
          0.9989666938781738,
          0.9990000128746033,
          0.9990333318710327,
          0.9990166425704956,
          0.9991666674613953,
          0.9990333318710327,
          0.9994000196456909,
          0.9990333318710327,
          0.9987166523933411,
          0.9989333152770996,
          0.9994166493415833,
          0.9993166923522949,
          0.9991833567619324,
          0.9990666508674622,
          0.9992333054542542,
          0.9988833069801331,
          0.9991999864578247,
          0.9991833567619324,
          0.9991166591644287,
          0.9990500211715698,
          0.9991833567619324,
          0.9990333318710327,
          0.9991666674613953,
          0.9994000196456909,
          0.9993833303451538,
          0.9990666508674622,
          0.9992833137512207,
          0.9990333318710327,
          0.9989833235740662,
          0.9992833137512207,
          0.9990333318710327,
          0.9992333054542542,
          0.9990166425704956,
          0.9993166923522949,
          0.9994166493415833,
          0.9990833401679993,
          0.9992166757583618,
          0.9994333386421204,
          0.9988166689872742,
          0.9995666742324829,
          0.9992333054542542,
          0.9989166855812073,
          0.9990666508674622,
          0.9993000030517578,
          0.9993833303451538,
          0.9992166757583618,
          0.9990333318710327,
          0.9992166757583618,
          0.9992833137512207,
          0.9992333054542542,
          0.9989666938781738,
          0.9994333386421204,
          0.9994833469390869,
          0.9990000128746033,
          0.9992833137512207,
          0.9993666410446167,
          0.9994166493415833,
          0.9992166757583618,
          0.9993333220481873,
          0.9996166825294495,
          0.9988833069801331,
          0.9993500113487244,
          0.9994500279426575,
          0.9989500045776367,
          0.9997333288192749,
          0.9992833137512207,
          0.9994333386421204,
          0.9988499879837036,
          0.9995999932289124,
          0.9992166757583618,
          0.9994000196456909,
          0.9993833303451538,
          0.9990500211715698,
          0.9995333552360535,
          0.9993333220481873,
          0.9995499849319458,
          0.9991999864578247,
          0.9995499849319458,
          0.9991833567619324,
          0.9995333552360535,
          0.9992499947547913,
          0.9991666674613953,
          0.9995999932289124,
          0.9989833235740662,
          0.9993500113487244,
          0.9993666410446167,
          0.9993666410446167,
          0.9993666410446167,
          0.9991000294685364,
          0.9996333122253418,
          0.9995166659355164,
          0.9990666508674622,
          0.9991833567619324,
          0.9992833137512207,
          0.9993833303451538,
          0.9992499947547913,
          0.9992166757583618,
          0.9994000196456909,
          0.9991999864578247,
          0.9994500279426575,
          0.9991666674613953,
          0.9996333122253418,
          0.9991833567619324,
          0.9994000196456909,
          0.9993833303451538,
          0.9994999766349792,
          0.9994833469390869,
          0.9993000030517578,
          0.9994166493415833,
          0.9994166493415833,
          0.9993333220481873,
          0.9996500015258789,
          0.9993166923522949,
          0.9995999932289124,
          0.9993000030517578,
          0.9991499781608582,
          0.9994166493415833,
          0.9991666674613953,
          0.9995499849319458,
          0.9996833205223083,
          0.9994166493415833,
          0.9992833137512207,
          0.999666690826416,
          0.9990166425704956,
          0.9995499849319458,
          0.9994333386421204,
          0.9994000196456909,
          0.9994833469390869,
          0.9993500113487244,
          0.9995333552360535
         ],
         "yaxis": "y"
        }
       ],
       "layout": {
        "autosize": true,
        "legend": {
         "title": {
          "text": "variable"
         },
         "tracegroupgap": 0
        },
        "margin": {
         "t": 60
        },
        "template": {
         "data": {
          "bar": [
           {
            "error_x": {
             "color": "#2a3f5f"
            },
            "error_y": {
             "color": "#2a3f5f"
            },
            "marker": {
             "line": {
              "color": "#E5ECF6",
              "width": 0.5
             },
             "pattern": {
              "fillmode": "overlay",
              "size": 10,
              "solidity": 0.2
             }
            },
            "type": "bar"
           }
          ],
          "barpolar": [
           {
            "marker": {
             "line": {
              "color": "#E5ECF6",
              "width": 0.5
             },
             "pattern": {
              "fillmode": "overlay",
              "size": 10,
              "solidity": 0.2
             }
            },
            "type": "barpolar"
           }
          ],
          "carpet": [
           {
            "aaxis": {
             "endlinecolor": "#2a3f5f",
             "gridcolor": "white",
             "linecolor": "white",
             "minorgridcolor": "white",
             "startlinecolor": "#2a3f5f"
            },
            "baxis": {
             "endlinecolor": "#2a3f5f",
             "gridcolor": "white",
             "linecolor": "white",
             "minorgridcolor": "white",
             "startlinecolor": "#2a3f5f"
            },
            "type": "carpet"
           }
          ],
          "choropleth": [
           {
            "colorbar": {
             "outlinewidth": 0,
             "ticks": ""
            },
            "type": "choropleth"
           }
          ],
          "contour": [
           {
            "colorbar": {
             "outlinewidth": 0,
             "ticks": ""
            },
            "colorscale": [
             [
              0,
              "#0d0887"
             ],
             [
              0.1111111111111111,
              "#46039f"
             ],
             [
              0.2222222222222222,
              "#7201a8"
             ],
             [
              0.3333333333333333,
              "#9c179e"
             ],
             [
              0.4444444444444444,
              "#bd3786"
             ],
             [
              0.5555555555555556,
              "#d8576b"
             ],
             [
              0.6666666666666666,
              "#ed7953"
             ],
             [
              0.7777777777777778,
              "#fb9f3a"
             ],
             [
              0.8888888888888888,
              "#fdca26"
             ],
             [
              1,
              "#f0f921"
             ]
            ],
            "type": "contour"
           }
          ],
          "contourcarpet": [
           {
            "colorbar": {
             "outlinewidth": 0,
             "ticks": ""
            },
            "type": "contourcarpet"
           }
          ],
          "heatmap": [
           {
            "colorbar": {
             "outlinewidth": 0,
             "ticks": ""
            },
            "colorscale": [
             [
              0,
              "#0d0887"
             ],
             [
              0.1111111111111111,
              "#46039f"
             ],
             [
              0.2222222222222222,
              "#7201a8"
             ],
             [
              0.3333333333333333,
              "#9c179e"
             ],
             [
              0.4444444444444444,
              "#bd3786"
             ],
             [
              0.5555555555555556,
              "#d8576b"
             ],
             [
              0.6666666666666666,
              "#ed7953"
             ],
             [
              0.7777777777777778,
              "#fb9f3a"
             ],
             [
              0.8888888888888888,
              "#fdca26"
             ],
             [
              1,
              "#f0f921"
             ]
            ],
            "type": "heatmap"
           }
          ],
          "heatmapgl": [
           {
            "colorbar": {
             "outlinewidth": 0,
             "ticks": ""
            },
            "colorscale": [
             [
              0,
              "#0d0887"
             ],
             [
              0.1111111111111111,
              "#46039f"
             ],
             [
              0.2222222222222222,
              "#7201a8"
             ],
             [
              0.3333333333333333,
              "#9c179e"
             ],
             [
              0.4444444444444444,
              "#bd3786"
             ],
             [
              0.5555555555555556,
              "#d8576b"
             ],
             [
              0.6666666666666666,
              "#ed7953"
             ],
             [
              0.7777777777777778,
              "#fb9f3a"
             ],
             [
              0.8888888888888888,
              "#fdca26"
             ],
             [
              1,
              "#f0f921"
             ]
            ],
            "type": "heatmapgl"
           }
          ],
          "histogram": [
           {
            "marker": {
             "pattern": {
              "fillmode": "overlay",
              "size": 10,
              "solidity": 0.2
             }
            },
            "type": "histogram"
           }
          ],
          "histogram2d": [
           {
            "colorbar": {
             "outlinewidth": 0,
             "ticks": ""
            },
            "colorscale": [
             [
              0,
              "#0d0887"
             ],
             [
              0.1111111111111111,
              "#46039f"
             ],
             [
              0.2222222222222222,
              "#7201a8"
             ],
             [
              0.3333333333333333,
              "#9c179e"
             ],
             [
              0.4444444444444444,
              "#bd3786"
             ],
             [
              0.5555555555555556,
              "#d8576b"
             ],
             [
              0.6666666666666666,
              "#ed7953"
             ],
             [
              0.7777777777777778,
              "#fb9f3a"
             ],
             [
              0.8888888888888888,
              "#fdca26"
             ],
             [
              1,
              "#f0f921"
             ]
            ],
            "type": "histogram2d"
           }
          ],
          "histogram2dcontour": [
           {
            "colorbar": {
             "outlinewidth": 0,
             "ticks": ""
            },
            "colorscale": [
             [
              0,
              "#0d0887"
             ],
             [
              0.1111111111111111,
              "#46039f"
             ],
             [
              0.2222222222222222,
              "#7201a8"
             ],
             [
              0.3333333333333333,
              "#9c179e"
             ],
             [
              0.4444444444444444,
              "#bd3786"
             ],
             [
              0.5555555555555556,
              "#d8576b"
             ],
             [
              0.6666666666666666,
              "#ed7953"
             ],
             [
              0.7777777777777778,
              "#fb9f3a"
             ],
             [
              0.8888888888888888,
              "#fdca26"
             ],
             [
              1,
              "#f0f921"
             ]
            ],
            "type": "histogram2dcontour"
           }
          ],
          "mesh3d": [
           {
            "colorbar": {
             "outlinewidth": 0,
             "ticks": ""
            },
            "type": "mesh3d"
           }
          ],
          "parcoords": [
           {
            "line": {
             "colorbar": {
              "outlinewidth": 0,
              "ticks": ""
             }
            },
            "type": "parcoords"
           }
          ],
          "pie": [
           {
            "automargin": true,
            "type": "pie"
           }
          ],
          "scatter": [
           {
            "marker": {
             "colorbar": {
              "outlinewidth": 0,
              "ticks": ""
             }
            },
            "type": "scatter"
           }
          ],
          "scatter3d": [
           {
            "line": {
             "colorbar": {
              "outlinewidth": 0,
              "ticks": ""
             }
            },
            "marker": {
             "colorbar": {
              "outlinewidth": 0,
              "ticks": ""
             }
            },
            "type": "scatter3d"
           }
          ],
          "scattercarpet": [
           {
            "marker": {
             "colorbar": {
              "outlinewidth": 0,
              "ticks": ""
             }
            },
            "type": "scattercarpet"
           }
          ],
          "scattergeo": [
           {
            "marker": {
             "colorbar": {
              "outlinewidth": 0,
              "ticks": ""
             }
            },
            "type": "scattergeo"
           }
          ],
          "scattergl": [
           {
            "marker": {
             "colorbar": {
              "outlinewidth": 0,
              "ticks": ""
             }
            },
            "type": "scattergl"
           }
          ],
          "scattermapbox": [
           {
            "marker": {
             "colorbar": {
              "outlinewidth": 0,
              "ticks": ""
             }
            },
            "type": "scattermapbox"
           }
          ],
          "scatterpolar": [
           {
            "marker": {
             "colorbar": {
              "outlinewidth": 0,
              "ticks": ""
             }
            },
            "type": "scatterpolar"
           }
          ],
          "scatterpolargl": [
           {
            "marker": {
             "colorbar": {
              "outlinewidth": 0,
              "ticks": ""
             }
            },
            "type": "scatterpolargl"
           }
          ],
          "scatterternary": [
           {
            "marker": {
             "colorbar": {
              "outlinewidth": 0,
              "ticks": ""
             }
            },
            "type": "scatterternary"
           }
          ],
          "surface": [
           {
            "colorbar": {
             "outlinewidth": 0,
             "ticks": ""
            },
            "colorscale": [
             [
              0,
              "#0d0887"
             ],
             [
              0.1111111111111111,
              "#46039f"
             ],
             [
              0.2222222222222222,
              "#7201a8"
             ],
             [
              0.3333333333333333,
              "#9c179e"
             ],
             [
              0.4444444444444444,
              "#bd3786"
             ],
             [
              0.5555555555555556,
              "#d8576b"
             ],
             [
              0.6666666666666666,
              "#ed7953"
             ],
             [
              0.7777777777777778,
              "#fb9f3a"
             ],
             [
              0.8888888888888888,
              "#fdca26"
             ],
             [
              1,
              "#f0f921"
             ]
            ],
            "type": "surface"
           }
          ],
          "table": [
           {
            "cells": {
             "fill": {
              "color": "#EBF0F8"
             },
             "line": {
              "color": "white"
             }
            },
            "header": {
             "fill": {
              "color": "#C8D4E3"
             },
             "line": {
              "color": "white"
             }
            },
            "type": "table"
           }
          ]
         },
         "layout": {
          "annotationdefaults": {
           "arrowcolor": "#2a3f5f",
           "arrowhead": 0,
           "arrowwidth": 1
          },
          "autotypenumbers": "strict",
          "coloraxis": {
           "colorbar": {
            "outlinewidth": 0,
            "ticks": ""
           }
          },
          "colorscale": {
           "diverging": [
            [
             0,
             "#8e0152"
            ],
            [
             0.1,
             "#c51b7d"
            ],
            [
             0.2,
             "#de77ae"
            ],
            [
             0.3,
             "#f1b6da"
            ],
            [
             0.4,
             "#fde0ef"
            ],
            [
             0.5,
             "#f7f7f7"
            ],
            [
             0.6,
             "#e6f5d0"
            ],
            [
             0.7,
             "#b8e186"
            ],
            [
             0.8,
             "#7fbc41"
            ],
            [
             0.9,
             "#4d9221"
            ],
            [
             1,
             "#276419"
            ]
           ],
           "sequential": [
            [
             0,
             "#0d0887"
            ],
            [
             0.1111111111111111,
             "#46039f"
            ],
            [
             0.2222222222222222,
             "#7201a8"
            ],
            [
             0.3333333333333333,
             "#9c179e"
            ],
            [
             0.4444444444444444,
             "#bd3786"
            ],
            [
             0.5555555555555556,
             "#d8576b"
            ],
            [
             0.6666666666666666,
             "#ed7953"
            ],
            [
             0.7777777777777778,
             "#fb9f3a"
            ],
            [
             0.8888888888888888,
             "#fdca26"
            ],
            [
             1,
             "#f0f921"
            ]
           ],
           "sequentialminus": [
            [
             0,
             "#0d0887"
            ],
            [
             0.1111111111111111,
             "#46039f"
            ],
            [
             0.2222222222222222,
             "#7201a8"
            ],
            [
             0.3333333333333333,
             "#9c179e"
            ],
            [
             0.4444444444444444,
             "#bd3786"
            ],
            [
             0.5555555555555556,
             "#d8576b"
            ],
            [
             0.6666666666666666,
             "#ed7953"
            ],
            [
             0.7777777777777778,
             "#fb9f3a"
            ],
            [
             0.8888888888888888,
             "#fdca26"
            ],
            [
             1,
             "#f0f921"
            ]
           ]
          },
          "colorway": [
           "#636efa",
           "#EF553B",
           "#00cc96",
           "#ab63fa",
           "#FFA15A",
           "#19d3f3",
           "#FF6692",
           "#B6E880",
           "#FF97FF",
           "#FECB52"
          ],
          "font": {
           "color": "#2a3f5f"
          },
          "geo": {
           "bgcolor": "white",
           "lakecolor": "white",
           "landcolor": "#E5ECF6",
           "showlakes": true,
           "showland": true,
           "subunitcolor": "white"
          },
          "hoverlabel": {
           "align": "left"
          },
          "hovermode": "closest",
          "mapbox": {
           "style": "light"
          },
          "paper_bgcolor": "white",
          "plot_bgcolor": "#E5ECF6",
          "polar": {
           "angularaxis": {
            "gridcolor": "white",
            "linecolor": "white",
            "ticks": ""
           },
           "bgcolor": "#E5ECF6",
           "radialaxis": {
            "gridcolor": "white",
            "linecolor": "white",
            "ticks": ""
           }
          },
          "scene": {
           "xaxis": {
            "backgroundcolor": "#E5ECF6",
            "gridcolor": "white",
            "gridwidth": 2,
            "linecolor": "white",
            "showbackground": true,
            "ticks": "",
            "zerolinecolor": "white"
           },
           "yaxis": {
            "backgroundcolor": "#E5ECF6",
            "gridcolor": "white",
            "gridwidth": 2,
            "linecolor": "white",
            "showbackground": true,
            "ticks": "",
            "zerolinecolor": "white"
           },
           "zaxis": {
            "backgroundcolor": "#E5ECF6",
            "gridcolor": "white",
            "gridwidth": 2,
            "linecolor": "white",
            "showbackground": true,
            "ticks": "",
            "zerolinecolor": "white"
           }
          },
          "shapedefaults": {
           "line": {
            "color": "#2a3f5f"
           }
          },
          "ternary": {
           "aaxis": {
            "gridcolor": "white",
            "linecolor": "white",
            "ticks": ""
           },
           "baxis": {
            "gridcolor": "white",
            "linecolor": "white",
            "ticks": ""
           },
           "bgcolor": "#E5ECF6",
           "caxis": {
            "gridcolor": "white",
            "linecolor": "white",
            "ticks": ""
           }
          },
          "title": {
           "x": 0.05
          },
          "xaxis": {
           "automargin": true,
           "gridcolor": "white",
           "linecolor": "white",
           "ticks": "",
           "title": {
            "standoff": 15
           },
           "zerolinecolor": "white",
           "zerolinewidth": 2
          },
          "yaxis": {
           "automargin": true,
           "gridcolor": "white",
           "linecolor": "white",
           "ticks": "",
           "title": {
            "standoff": 15
           },
           "zerolinecolor": "white",
           "zerolinewidth": 2
          }
         }
        },
        "xaxis": {
         "anchor": "y",
         "autorange": true,
         "domain": [
          0,
          1
         ],
         "range": [
          0,
          299
         ],
         "title": {
          "text": "index"
         },
         "type": "linear"
        },
        "yaxis": {
         "anchor": "x",
         "autorange": true,
         "domain": [
          0,
          1
         ],
         "range": [
          0.9145500163237253,
          1.0042166610558827
         ],
         "title": {
          "text": "value"
         },
         "type": "linear"
        }
       }
      },
      "image/png": "[encoded data removed]",
      "text/html": [
       "<div>                            <div id=\"a3d34010-c98d-412c-a06c-cacaea02c6b1\" class=\"plotly-graph-div\" style=\"height:525px; width:100%;\"></div>            <script type=\"text/javascript\">                require([\"plotly\"], function(Plotly) {                    window.PLOTLYENV=window.PLOTLYENV || {};                                    if (document.getElementById(\"a3d34010-c98d-412c-a06c-cacaea02c6b1\")) {                    Plotly.newPlot(                        \"a3d34010-c98d-412c-a06c-cacaea02c6b1\",                        [{\"hovertemplate\":\"variable=0<br>index=%{x}<br>value=%{y}<extra></extra>\",\"legendgroup\":\"0\",\"line\":{\"color\":\"#636efa\",\"dash\":\"solid\"},\"mode\":\"lines\",\"name\":\"0\",\"orientation\":\"v\",\"showlegend\":true,\"type\":\"scatter\",\"x\":[0,1,2,3,4,5,6,7,8,9,10,11,12,13,14,15,16,17,18,19,20,21,22,23,24,25,26,27,28,29,30,31,32,33,34,35,36,37,38,39,40,41,42,43,44,45,46,47,48,49,50,51,52,53,54,55,56,57,58,59,60,61,62,63,64,65,66,67,68,69,70,71,72,73,74,75,76,77,78,79,80,81,82,83,84,85,86,87,88,89,90,91,92,93,94,95,96,97,98,99,100,101,102,103,104,105,106,107,108,109,110,111,112,113,114,115,116,117,118,119,120,121,122,123,124,125,126,127,128,129,130,131,132,133,134,135,136,137,138,139,140,141,142,143,144,145,146,147,148,149,150,151,152,153,154,155,156,157,158,159,160,161,162,163,164,165,166,167,168,169,170,171,172,173,174,175,176,177,178,179,180,181,182,183,184,185,186,187,188,189,190,191,192,193,194,195,196,197,198,199,200,201,202,203,204,205,206,207,208,209,210,211,212,213,214,215,216,217,218,219,220,221,222,223,224,225,226,227,228,229,230,231,232,233,234,235,236,237,238,239,240,241,242,243,244,245,246,247,248,249,250,251,252,253,254,255,256,257,258,259,260,261,262,263,264,265,266,267,268,269,270,271,272,273,274,275,276,277,278,279,280,281,282,283,284,285,286,287,288,289,290,291,292,293,294,295,296,297,298,299],\"xaxis\":\"x\",\"y\":[0.9190333485603333,0.9614166617393494,0.9715499877929688,0.9788833260536194,0.9816333055496216,0.9846166372299194,0.9864333271980286,0.9891499876976013,0.9903666377067566,0.9911500215530396,0.9923166632652283,0.9929166436195374,0.9935166835784912,0.9935833215713501,0.994533360004425,0.994533360004425,0.994700014591217,0.9959166646003723,0.9962833523750305,0.9961666464805603,0.9958666563034058,0.9959333539009094,0.9973166584968567,0.9959333539009094,0.9966833591461182,0.9960333108901978,0.9975000023841858,0.9966833591461182,0.9965999722480774,0.9970666766166687,0.9979000091552734,0.9970166683197021,0.9967666864395142,0.9977333545684814,0.9975166916847229,0.9980499744415283,0.9970666766166687,0.9972666501998901,0.9974333047866821,0.9980833530426025,0.9975166916847229,0.9978333115577698,0.9974833130836487,0.9984833598136902,0.9975500106811523,0.9975333213806152,0.9977499842643738,0.9984666705131531,0.9976166486740112,0.998116672039032,0.998449981212616,0.9981833100318909,0.998283326625824,0.9976999759674072,0.998283326625824,0.9979333281517029,0.99795001745224,0.9980000257492065,0.9982500076293945,0.998283326625824,0.9987000226974487,0.9980000257492065,0.9990666508674622,0.9975500106811523,0.9986500144004822,0.99836665391922,0.9982500076293945,0.9983166456222534,0.9983999729156494,0.9980833530426025,0.9987666606903076,0.998199999332428,0.9986500144004822,0.9984333515167236,0.9982166886329651,0.9985499978065491,0.9984666705131531,0.9983000159263611,0.9984666705131531,0.9987333416938782,0.9982500076293945,0.9988666772842407,0.9986500144004822,0.9982333183288574,0.9988499879837036,0.9986000061035156,0.9987666606903076,0.9987333416938782,0.998283326625824,0.9987000226974487,0.9984666705131531,0.9989166855812073,0.9989166855812073,0.9985499978065491,0.9984833598136902,0.9988333582878113,0.9986500144004822,0.9988166689872742,0.9986500144004822,0.9988333582878113,0.9987833499908447,0.9988166689872742,0.9988499879837036,0.99836665391922,0.9990833401679993,0.9988166689872742,0.9984166622161865,0.9992333054542542,0.998533308506012,0.9987166523933411,0.9989333152770996,0.9985166788101196,0.9991833567619324,0.9986166954040527,0.9990833401679993,0.9988499879837036,0.9984166622161865,0.9988166689872742,0.9987166523933411,0.9990500211715698,0.9985499978065491,0.9987999796867371,0.9988833069801331,0.9994666576385498,0.9989500045776367,0.9989166855812073,0.9987833499908447,0.9987333416938782,0.9992499947547913,0.9988999962806702,0.9989500045776367,0.9987999796867371,0.9989666938781738,0.9990000128746033,0.9988333582878113,0.9988333582878113,0.9990166425704956,0.9988499879837036,0.9989666938781738,0.9991166591644287,0.9988833069801331,0.9989500045776367,0.9990666508674622,0.9990500211715698,0.9986000061035156,0.9990333318710327,0.9992833137512207,0.9989666938781738,0.9987333416938782,0.9992833137512207,0.9989833235740662,0.9993000030517578,0.9991833567619324,0.9990000128746033,0.9989333152770996,0.9993833303451538,0.9987666606903076,0.9993500113487244,0.9994333386421204,0.9986500144004822,0.9990666508674622,0.9993000030517578,0.9990166425704956,0.9990666508674622,0.9993000030517578,0.9992499947547913,0.9988166689872742,0.9993333220481873,0.9989833235740662,0.9990500211715698,0.9989666938781738,0.9990000128746033,0.9990333318710327,0.9990166425704956,0.9991666674613953,0.9990333318710327,0.9994000196456909,0.9990333318710327,0.9987166523933411,0.9989333152770996,0.9994166493415833,0.9993166923522949,0.9991833567619324,0.9990666508674622,0.9992333054542542,0.9988833069801331,0.9991999864578247,0.9991833567619324,0.9991166591644287,0.9990500211715698,0.9991833567619324,0.9990333318710327,0.9991666674613953,0.9994000196456909,0.9993833303451538,0.9990666508674622,0.9992833137512207,0.9990333318710327,0.9989833235740662,0.9992833137512207,0.9990333318710327,0.9992333054542542,0.9990166425704956,0.9993166923522949,0.9994166493415833,0.9990833401679993,0.9992166757583618,0.9994333386421204,0.9988166689872742,0.9995666742324829,0.9992333054542542,0.9989166855812073,0.9990666508674622,0.9993000030517578,0.9993833303451538,0.9992166757583618,0.9990333318710327,0.9992166757583618,0.9992833137512207,0.9992333054542542,0.9989666938781738,0.9994333386421204,0.9994833469390869,0.9990000128746033,0.9992833137512207,0.9993666410446167,0.9994166493415833,0.9992166757583618,0.9993333220481873,0.9996166825294495,0.9988833069801331,0.9993500113487244,0.9994500279426575,0.9989500045776367,0.9997333288192749,0.9992833137512207,0.9994333386421204,0.9988499879837036,0.9995999932289124,0.9992166757583618,0.9994000196456909,0.9993833303451538,0.9990500211715698,0.9995333552360535,0.9993333220481873,0.9995499849319458,0.9991999864578247,0.9995499849319458,0.9991833567619324,0.9995333552360535,0.9992499947547913,0.9991666674613953,0.9995999932289124,0.9989833235740662,0.9993500113487244,0.9993666410446167,0.9993666410446167,0.9993666410446167,0.9991000294685364,0.9996333122253418,0.9995166659355164,0.9990666508674622,0.9991833567619324,0.9992833137512207,0.9993833303451538,0.9992499947547913,0.9992166757583618,0.9994000196456909,0.9991999864578247,0.9994500279426575,0.9991666674613953,0.9996333122253418,0.9991833567619324,0.9994000196456909,0.9993833303451538,0.9994999766349792,0.9994833469390869,0.9993000030517578,0.9994166493415833,0.9994166493415833,0.9993333220481873,0.9996500015258789,0.9993166923522949,0.9995999932289124,0.9993000030517578,0.9991499781608582,0.9994166493415833,0.9991666674613953,0.9995499849319458,0.9996833205223083,0.9994166493415833,0.9992833137512207,0.999666690826416,0.9990166425704956,0.9995499849319458,0.9994333386421204,0.9994000196456909,0.9994833469390869,0.9993500113487244,0.9995333552360535],\"yaxis\":\"y\"}],                        {\"legend\":{\"title\":{\"text\":\"variable\"},\"tracegroupgap\":0},\"margin\":{\"t\":60},\"template\":{\"data\":{\"bar\":[{\"error_x\":{\"color\":\"#2a3f5f\"},\"error_y\":{\"color\":\"#2a3f5f\"},\"marker\":{\"line\":{\"color\":\"#E5ECF6\",\"width\":0.5},\"pattern\":{\"fillmode\":\"overlay\",\"size\":10,\"solidity\":0.2}},\"type\":\"bar\"}],\"barpolar\":[{\"marker\":{\"line\":{\"color\":\"#E5ECF6\",\"width\":0.5},\"pattern\":{\"fillmode\":\"overlay\",\"size\":10,\"solidity\":0.2}},\"type\":\"barpolar\"}],\"carpet\":[{\"aaxis\":{\"endlinecolor\":\"#2a3f5f\",\"gridcolor\":\"white\",\"linecolor\":\"white\",\"minorgridcolor\":\"white\",\"startlinecolor\":\"#2a3f5f\"},\"baxis\":{\"endlinecolor\":\"#2a3f5f\",\"gridcolor\":\"white\",\"linecolor\":\"white\",\"minorgridcolor\":\"white\",\"startlinecolor\":\"#2a3f5f\"},\"type\":\"carpet\"}],\"choropleth\":[{\"colorbar\":{\"outlinewidth\":0,\"ticks\":\"\"},\"type\":\"choropleth\"}],\"contour\":[{\"colorbar\":{\"outlinewidth\":0,\"ticks\":\"\"},\"colorscale\":[[0.0,\"#0d0887\"],[0.1111111111111111,\"#46039f\"],[0.2222222222222222,\"#7201a8\"],[0.3333333333333333,\"#9c179e\"],[0.4444444444444444,\"#bd3786\"],[0.5555555555555556,\"#d8576b\"],[0.6666666666666666,\"#ed7953\"],[0.7777777777777778,\"#fb9f3a\"],[0.8888888888888888,\"#fdca26\"],[1.0,\"#f0f921\"]],\"type\":\"contour\"}],\"contourcarpet\":[{\"colorbar\":{\"outlinewidth\":0,\"ticks\":\"\"},\"type\":\"contourcarpet\"}],\"heatmap\":[{\"colorbar\":{\"outlinewidth\":0,\"ticks\":\"\"},\"colorscale\":[[0.0,\"#0d0887\"],[0.1111111111111111,\"#46039f\"],[0.2222222222222222,\"#7201a8\"],[0.3333333333333333,\"#9c179e\"],[0.4444444444444444,\"#bd3786\"],[0.5555555555555556,\"#d8576b\"],[0.6666666666666666,\"#ed7953\"],[0.7777777777777778,\"#fb9f3a\"],[0.8888888888888888,\"#fdca26\"],[1.0,\"#f0f921\"]],\"type\":\"heatmap\"}],\"heatmapgl\":[{\"colorbar\":{\"outlinewidth\":0,\"ticks\":\"\"},\"colorscale\":[[0.0,\"#0d0887\"],[0.1111111111111111,\"#46039f\"],[0.2222222222222222,\"#7201a8\"],[0.3333333333333333,\"#9c179e\"],[0.4444444444444444,\"#bd3786\"],[0.5555555555555556,\"#d8576b\"],[0.6666666666666666,\"#ed7953\"],[0.7777777777777778,\"#fb9f3a\"],[0.8888888888888888,\"#fdca26\"],[1.0,\"#f0f921\"]],\"type\":\"heatmapgl\"}],\"histogram\":[{\"marker\":{\"pattern\":{\"fillmode\":\"overlay\",\"size\":10,\"solidity\":0.2}},\"type\":\"histogram\"}],\"histogram2d\":[{\"colorbar\":{\"outlinewidth\":0,\"ticks\":\"\"},\"colorscale\":[[0.0,\"#0d0887\"],[0.1111111111111111,\"#46039f\"],[0.2222222222222222,\"#7201a8\"],[0.3333333333333333,\"#9c179e\"],[0.4444444444444444,\"#bd3786\"],[0.5555555555555556,\"#d8576b\"],[0.6666666666666666,\"#ed7953\"],[0.7777777777777778,\"#fb9f3a\"],[0.8888888888888888,\"#fdca26\"],[1.0,\"#f0f921\"]],\"type\":\"histogram2d\"}],\"histogram2dcontour\":[{\"colorbar\":{\"outlinewidth\":0,\"ticks\":\"\"},\"colorscale\":[[0.0,\"#0d0887\"],[0.1111111111111111,\"#46039f\"],[0.2222222222222222,\"#7201a8\"],[0.3333333333333333,\"#9c179e\"],[0.4444444444444444,\"#bd3786\"],[0.5555555555555556,\"#d8576b\"],[0.6666666666666666,\"#ed7953\"],[0.7777777777777778,\"#fb9f3a\"],[0.8888888888888888,\"#fdca26\"],[1.0,\"#f0f921\"]],\"type\":\"histogram2dcontour\"}],\"mesh3d\":[{\"colorbar\":{\"outlinewidth\":0,\"ticks\":\"\"},\"type\":\"mesh3d\"}],\"parcoords\":[{\"line\":{\"colorbar\":{\"outlinewidth\":0,\"ticks\":\"\"}},\"type\":\"parcoords\"}],\"pie\":[{\"automargin\":true,\"type\":\"pie\"}],\"scatter\":[{\"marker\":{\"colorbar\":{\"outlinewidth\":0,\"ticks\":\"\"}},\"type\":\"scatter\"}],\"scatter3d\":[{\"line\":{\"colorbar\":{\"outlinewidth\":0,\"ticks\":\"\"}},\"marker\":{\"colorbar\":{\"outlinewidth\":0,\"ticks\":\"\"}},\"type\":\"scatter3d\"}],\"scattercarpet\":[{\"marker\":{\"colorbar\":{\"outlinewidth\":0,\"ticks\":\"\"}},\"type\":\"scattercarpet\"}],\"scattergeo\":[{\"marker\":{\"colorbar\":{\"outlinewidth\":0,\"ticks\":\"\"}},\"type\":\"scattergeo\"}],\"scattergl\":[{\"marker\":{\"colorbar\":{\"outlinewidth\":0,\"ticks\":\"\"}},\"type\":\"scattergl\"}],\"scattermapbox\":[{\"marker\":{\"colorbar\":{\"outlinewidth\":0,\"ticks\":\"\"}},\"type\":\"scattermapbox\"}],\"scatterpolar\":[{\"marker\":{\"colorbar\":{\"outlinewidth\":0,\"ticks\":\"\"}},\"type\":\"scatterpolar\"}],\"scatterpolargl\":[{\"marker\":{\"colorbar\":{\"outlinewidth\":0,\"ticks\":\"\"}},\"type\":\"scatterpolargl\"}],\"scatterternary\":[{\"marker\":{\"colorbar\":{\"outlinewidth\":0,\"ticks\":\"\"}},\"type\":\"scatterternary\"}],\"surface\":[{\"colorbar\":{\"outlinewidth\":0,\"ticks\":\"\"},\"colorscale\":[[0.0,\"#0d0887\"],[0.1111111111111111,\"#46039f\"],[0.2222222222222222,\"#7201a8\"],[0.3333333333333333,\"#9c179e\"],[0.4444444444444444,\"#bd3786\"],[0.5555555555555556,\"#d8576b\"],[0.6666666666666666,\"#ed7953\"],[0.7777777777777778,\"#fb9f3a\"],[0.8888888888888888,\"#fdca26\"],[1.0,\"#f0f921\"]],\"type\":\"surface\"}],\"table\":[{\"cells\":{\"fill\":{\"color\":\"#EBF0F8\"},\"line\":{\"color\":\"white\"}},\"header\":{\"fill\":{\"color\":\"#C8D4E3\"},\"line\":{\"color\":\"white\"}},\"type\":\"table\"}]},\"layout\":{\"annotationdefaults\":{\"arrowcolor\":\"#2a3f5f\",\"arrowhead\":0,\"arrowwidth\":1},\"autotypenumbers\":\"strict\",\"coloraxis\":{\"colorbar\":{\"outlinewidth\":0,\"ticks\":\"\"}},\"colorscale\":{\"diverging\":[[0,\"#8e0152\"],[0.1,\"#c51b7d\"],[0.2,\"#de77ae\"],[0.3,\"#f1b6da\"],[0.4,\"#fde0ef\"],[0.5,\"#f7f7f7\"],[0.6,\"#e6f5d0\"],[0.7,\"#b8e186\"],[0.8,\"#7fbc41\"],[0.9,\"#4d9221\"],[1,\"#276419\"]],\"sequential\":[[0.0,\"#0d0887\"],[0.1111111111111111,\"#46039f\"],[0.2222222222222222,\"#7201a8\"],[0.3333333333333333,\"#9c179e\"],[0.4444444444444444,\"#bd3786\"],[0.5555555555555556,\"#d8576b\"],[0.6666666666666666,\"#ed7953\"],[0.7777777777777778,\"#fb9f3a\"],[0.8888888888888888,\"#fdca26\"],[1.0,\"#f0f921\"]],\"sequentialminus\":[[0.0,\"#0d0887\"],[0.1111111111111111,\"#46039f\"],[0.2222222222222222,\"#7201a8\"],[0.3333333333333333,\"#9c179e\"],[0.4444444444444444,\"#bd3786\"],[0.5555555555555556,\"#d8576b\"],[0.6666666666666666,\"#ed7953\"],[0.7777777777777778,\"#fb9f3a\"],[0.8888888888888888,\"#fdca26\"],[1.0,\"#f0f921\"]]},\"colorway\":[\"#636efa\",\"#EF553B\",\"#00cc96\",\"#ab63fa\",\"#FFA15A\",\"#19d3f3\",\"#FF6692\",\"#B6E880\",\"#FF97FF\",\"#FECB52\"],\"font\":{\"color\":\"#2a3f5f\"},\"geo\":{\"bgcolor\":\"white\",\"lakecolor\":\"white\",\"landcolor\":\"#E5ECF6\",\"showlakes\":true,\"showland\":true,\"subunitcolor\":\"white\"},\"hoverlabel\":{\"align\":\"left\"},\"hovermode\":\"closest\",\"mapbox\":{\"style\":\"light\"},\"paper_bgcolor\":\"white\",\"plot_bgcolor\":\"#E5ECF6\",\"polar\":{\"angularaxis\":{\"gridcolor\":\"white\",\"linecolor\":\"white\",\"ticks\":\"\"},\"bgcolor\":\"#E5ECF6\",\"radialaxis\":{\"gridcolor\":\"white\",\"linecolor\":\"white\",\"ticks\":\"\"}},\"scene\":{\"xaxis\":{\"backgroundcolor\":\"#E5ECF6\",\"gridcolor\":\"white\",\"gridwidth\":2,\"linecolor\":\"white\",\"showbackground\":true,\"ticks\":\"\",\"zerolinecolor\":\"white\"},\"yaxis\":{\"backgroundcolor\":\"#E5ECF6\",\"gridcolor\":\"white\",\"gridwidth\":2,\"linecolor\":\"white\",\"showbackground\":true,\"ticks\":\"\",\"zerolinecolor\":\"white\"},\"zaxis\":{\"backgroundcolor\":\"#E5ECF6\",\"gridcolor\":\"white\",\"gridwidth\":2,\"linecolor\":\"white\",\"showbackground\":true,\"ticks\":\"\",\"zerolinecolor\":\"white\"}},\"shapedefaults\":{\"line\":{\"color\":\"#2a3f5f\"}},\"ternary\":{\"aaxis\":{\"gridcolor\":\"white\",\"linecolor\":\"white\",\"ticks\":\"\"},\"baxis\":{\"gridcolor\":\"white\",\"linecolor\":\"white\",\"ticks\":\"\"},\"bgcolor\":\"#E5ECF6\",\"caxis\":{\"gridcolor\":\"white\",\"linecolor\":\"white\",\"ticks\":\"\"}},\"title\":{\"x\":0.05},\"xaxis\":{\"automargin\":true,\"gridcolor\":\"white\",\"linecolor\":\"white\",\"ticks\":\"\",\"title\":{\"standoff\":15},\"zerolinecolor\":\"white\",\"zerolinewidth\":2},\"yaxis\":{\"automargin\":true,\"gridcolor\":\"white\",\"linecolor\":\"white\",\"ticks\":\"\",\"title\":{\"standoff\":15},\"zerolinecolor\":\"white\",\"zerolinewidth\":2}}},\"xaxis\":{\"anchor\":\"y\",\"domain\":[0.0,1.0],\"title\":{\"text\":\"index\"}},\"yaxis\":{\"anchor\":\"x\",\"domain\":[0.0,1.0],\"title\":{\"text\":\"value\"}}},                        {\"responsive\": true}                    ).then(function(){\n",
       "                            \n",
       "var gd = document.getElementById('a3d34010-c98d-412c-a06c-cacaea02c6b1');\n",
       "var x = new MutationObserver(function (mutations, observer) {{\n",
       "        var display = window.getComputedStyle(gd).display;\n",
       "        if (!display || display === 'none') {{\n",
       "            console.log([gd, 'removed!']);\n",
       "            Plotly.purge(gd);\n",
       "            observer.disconnect();\n",
       "        }}\n",
       "}});\n",
       "\n",
       "// Listen for the removal of the full notebook cells\n",
       "var notebookContainer = gd.closest('#notebook-container');\n",
       "if (notebookContainer) {{\n",
       "    x.observe(notebookContainer, {childList: true});\n",
       "}}\n",
       "\n",
       "// Listen for the clearing of the current output cell\n",
       "var outputEl = gd.closest('.output');\n",
       "if (outputEl) {{\n",
       "    x.observe(outputEl, {childList: true});\n",
       "}}\n",
       "\n",
       "                        })                };                });            </script>        </div>"
      ]
     },
     "metadata": {},
     "output_type": "display_data"
    }
   ],
   "source": [
    "px.line(history.history['accuracy'])"
   ]
  },
  {
   "cell_type": "code",
   "execution_count": 41,
   "id": "6c5791f9-c909-44e5-9fbb-914943e45cc4",
   "metadata": {},
   "outputs": [
    {
     "data": {
      "application/vnd.plotly.v1+json": {
       "config": {
        "plotlyServerURL": "https://plot.ly"
       },
       "data": [
        {
         "hovertemplate": "variable=0<br>index=%{x}<br>value=%{y}<extra></extra>",
         "legendgroup": "0",
         "line": {
          "color": "#636efa",
          "dash": "solid"
         },
         "mode": "lines",
         "name": "0",
         "orientation": "v",
         "showlegend": true,
         "type": "scatter",
         "x": [
          0,
          1,
          2,
          3,
          4,
          5,
          6,
          7,
          8,
          9,
          10,
          11,
          12,
          13,
          14,
          15,
          16,
          17,
          18,
          19,
          20,
          21,
          22,
          23,
          24,
          25,
          26,
          27,
          28,
          29,
          30,
          31,
          32,
          33,
          34,
          35,
          36,
          37,
          38,
          39,
          40,
          41,
          42,
          43,
          44,
          45,
          46,
          47,
          48,
          49,
          50,
          51,
          52,
          53,
          54,
          55,
          56,
          57,
          58,
          59,
          60,
          61,
          62,
          63,
          64,
          65,
          66,
          67,
          68,
          69,
          70,
          71,
          72,
          73,
          74,
          75,
          76,
          77,
          78,
          79,
          80,
          81,
          82,
          83,
          84,
          85,
          86,
          87,
          88,
          89,
          90,
          91,
          92,
          93,
          94,
          95,
          96,
          97,
          98,
          99,
          100,
          101,
          102,
          103,
          104,
          105,
          106,
          107,
          108,
          109,
          110,
          111,
          112,
          113,
          114,
          115,
          116,
          117,
          118,
          119,
          120,
          121,
          122,
          123,
          124,
          125,
          126,
          127,
          128,
          129,
          130,
          131,
          132,
          133,
          134,
          135,
          136,
          137,
          138,
          139,
          140,
          141,
          142,
          143,
          144,
          145,
          146,
          147,
          148,
          149,
          150,
          151,
          152,
          153,
          154,
          155,
          156,
          157,
          158,
          159,
          160,
          161,
          162,
          163,
          164,
          165,
          166,
          167,
          168,
          169,
          170,
          171,
          172,
          173,
          174,
          175,
          176,
          177,
          178,
          179,
          180,
          181,
          182,
          183,
          184,
          185,
          186,
          187,
          188,
          189,
          190,
          191,
          192,
          193,
          194,
          195,
          196,
          197,
          198,
          199,
          200,
          201,
          202,
          203,
          204,
          205,
          206,
          207,
          208,
          209,
          210,
          211,
          212,
          213,
          214,
          215,
          216,
          217,
          218,
          219,
          220,
          221,
          222,
          223,
          224,
          225,
          226,
          227,
          228,
          229,
          230,
          231,
          232,
          233,
          234,
          235,
          236,
          237,
          238,
          239,
          240,
          241,
          242,
          243,
          244,
          245,
          246,
          247,
          248,
          249,
          250,
          251,
          252,
          253,
          254,
          255,
          256,
          257,
          258,
          259,
          260,
          261,
          262,
          263,
          264,
          265,
          266,
          267,
          268,
          269,
          270,
          271,
          272,
          273,
          274,
          275,
          276,
          277,
          278,
          279,
          280,
          281,
          282,
          283,
          284,
          285,
          286,
          287,
          288,
          289,
          290,
          291,
          292,
          293,
          294,
          295,
          296,
          297,
          298,
          299
         ],
         "xaxis": "x",
         "y": [
          0.9520000219345093,
          0.964900016784668,
          0.9708999991416931,
          0.9725000262260437,
          0.9721999764442444,
          0.972000002861023,
          0.9710999727249146,
          0.9728000164031982,
          0.9746999740600586,
          0.9731000065803528,
          0.972100019454956,
          0.9776999950408936,
          0.9765999913215637,
          0.9754999876022339,
          0.9726999998092651,
          0.9763000011444092,
          0.9768999814987183,
          0.9757000207901001,
          0.9736999869346619,
          0.9754999876022339,
          0.9728999733924866,
          0.9781000018119812,
          0.9763000011444092,
          0.9754999876022339,
          0.972599983215332,
          0.9739999771118164,
          0.9753000140190125,
          0.9753999710083008,
          0.9763000011444092,
          0.9739000201225281,
          0.9751999974250793,
          0.9736999869346619,
          0.9761999845504761,
          0.9747999906539917,
          0.9739999771118164,
          0.9746999740600586,
          0.9749000072479248,
          0.9732999801635742,
          0.9764000177383423,
          0.9760000109672546,
          0.9781000018119812,
          0.9736999869346619,
          0.9783999919891357,
          0.977400004863739,
          0.9750999808311462,
          0.9775000214576721,
          0.9771999716758728,
          0.9739999771118164,
          0.9743000268936157,
          0.9768000245094299,
          0.9775999784469604,
          0.9772999882698059,
          0.9779000282287598,
          0.9778000116348267,
          0.9776999950408936,
          0.9772999882698059,
          0.9781000018119812,
          0.9742000102996826,
          0.978600025177002,
          0.9779000282287598,
          0.9783999919891357,
          0.9787999987602234,
          0.9775999784469604,
          0.9779000282287598,
          0.9776999950408936,
          0.9760000109672546,
          0.9751999974250793,
          0.9764999747276306,
          0.9772999882698059,
          0.9779999852180481,
          0.9775999784469604,
          0.9771000146865845,
          0.9771000146865845,
          0.9800000190734863,
          0.9769999980926514,
          0.9771000146865845,
          0.9786999821662903,
          0.9764000177383423,
          0.9765999913215637,
          0.9761999845504761,
          0.9771999716758728,
          0.9768000245094299,
          0.9793999791145325,
          0.9783999919891357,
          0.9764000177383423,
          0.9763000011444092,
          0.9789999723434448,
          0.9789999723434448,
          0.9747999906539917,
          0.974399983882904,
          0.9765999913215637,
          0.9761000275611877,
          0.9789999723434448,
          0.9796000123023987,
          0.9750000238418579,
          0.9782999753952026,
          0.9779999852180481,
          0.975600004196167,
          0.9783999919891357,
          0.975600004196167,
          0.9753999710083008,
          0.9758999943733215,
          0.9775999784469604,
          0.9778000116348267,
          0.9781000018119812,
          0.977400004863739,
          0.9771000146865845,
          0.9761000275611877,
          0.9763000011444092,
          0.9783999919891357,
          0.9782000184059143,
          0.9775000214576721,
          0.9758999943733215,
          0.9750999808311462,
          0.9769999980926514,
          0.9754999876022339,
          0.978600025177002,
          0.977400004863739,
          0.9775999784469604,
          0.9764000177383423,
          0.9787999987602234,
          0.9763000011444092,
          0.9786999821662903,
          0.9779999852180481,
          0.9789000153541565,
          0.979200005531311,
          0.9761999845504761,
          0.9771000146865845,
          0.9787999987602234,
          0.9793000221252441,
          0.9751999974250793,
          0.9763000011444092,
          0.9776999950408936,
          0.9779999852180481,
          0.9778000116348267,
          0.9761000275611877,
          0.9757000207901001,
          0.9789000153541565,
          0.9781000018119812,
          0.977400004863739,
          0.9767000079154968,
          0.9785000085830688,
          0.9768000245094299,
          0.9793000221252441,
          0.9772999882698059,
          0.9790999889373779,
          0.9753999710083008,
          0.9799000024795532,
          0.9757000207901001,
          0.9783999919891357,
          0.9782000184059143,
          0.9764000177383423,
          0.9761999845504761,
          0.9697999954223633,
          0.9765999913215637,
          0.9794999957084656,
          0.9760000109672546,
          0.9786999821662903,
          0.9746999740600586,
          0.9775000214576721,
          0.9761000275611877,
          0.9763000011444092,
          0.9761999845504761,
          0.9761999845504761,
          0.977400004863739,
          0.9793999791145325,
          0.9775999784469604,
          0.9771999716758728,
          0.9757999777793884,
          0.9754999876022339,
          0.9771999716758728,
          0.9779999852180481,
          0.9772999882698059,
          0.9782000184059143,
          0.9753999710083008,
          0.9729999899864197,
          0.9758999943733215,
          0.9772999882698059,
          0.977400004863739,
          0.9778000116348267,
          0.9740999937057495,
          0.9769999980926514,
          0.9783999919891357,
          0.9751999974250793,
          0.9768999814987183,
          0.9760000109672546,
          0.978600025177002,
          0.9783999919891357,
          0.9771999716758728,
          0.9771999716758728,
          0.9760000109672546,
          0.9794999957084656,
          0.9779000282287598,
          0.9782999753952026,
          0.9771000146865845,
          0.9769999980926514,
          0.9771000146865845,
          0.9768999814987183,
          0.9779000282287598,
          0.978600025177002,
          0.9760000109672546,
          0.9782999753952026,
          0.9768999814987183,
          0.9789000153541565,
          0.9775999784469604,
          0.9776999950408936,
          0.977400004863739,
          0.9793999791145325,
          0.9793999791145325,
          0.9789000153541565,
          0.9783999919891357,
          0.9775000214576721,
          0.9757999777793884,
          0.9775999784469604,
          0.9775999784469604,
          0.9781000018119812,
          0.9787999987602234,
          0.9789000153541565,
          0.9778000116348267,
          0.9763000011444092,
          0.9761999845504761,
          0.9785000085830688,
          0.9758999943733215,
          0.9785000085830688,
          0.9753000140190125,
          0.9763000011444092,
          0.9779999852180481,
          0.9776999950408936,
          0.9782999753952026,
          0.9775999784469604,
          0.9753000140190125,
          0.9781000018119812,
          0.9765999913215637,
          0.9775999784469604,
          0.9775000214576721,
          0.9765999913215637,
          0.977400004863739,
          0.9771999716758728,
          0.9776999950408936,
          0.9793999791145325,
          0.9772999882698059,
          0.9781000018119812,
          0.9789000153541565,
          0.978600025177002,
          0.9789000153541565,
          0.9768999814987183,
          0.9785000085830688,
          0.9769999980926514,
          0.977400004863739,
          0.9781000018119812,
          0.9782000184059143,
          0.9772999882698059,
          0.9794999957084656,
          0.9779000282287598,
          0.9765999913215637,
          0.9776999950408936,
          0.9767000079154968,
          0.9764000177383423,
          0.9781000018119812,
          0.9761999845504761,
          0.9782000184059143,
          0.9761000275611877,
          0.9778000116348267,
          0.977400004863739,
          0.9786999821662903,
          0.9789000153541565,
          0.9793000221252441,
          0.9771999716758728,
          0.9764999747276306,
          0.9768999814987183,
          0.9775999784469604,
          0.979200005531311,
          0.9799000024795532,
          0.9783999919891357,
          0.978600025177002,
          0.9775999784469604,
          0.9768000245094299,
          0.9771999716758728,
          0.9786999821662903,
          0.9757999777793884,
          0.9794999957084656,
          0.977400004863739,
          0.9763000011444092,
          0.9775999784469604,
          0.9775000214576721,
          0.9776999950408936,
          0.9782999753952026,
          0.9782000184059143,
          0.978600025177002,
          0.9783999919891357,
          0.9785000085830688,
          0.9815000295639038,
          0.9782999753952026,
          0.9789999723434448,
          0.9769999980926514,
          0.9778000116348267,
          0.9776999950408936,
          0.9764999747276306,
          0.978600025177002,
          0.9779999852180481
         ],
         "yaxis": "y"
        }
       ],
       "layout": {
        "autosize": true,
        "legend": {
         "title": {
          "text": "variable"
         },
         "tracegroupgap": 0
        },
        "margin": {
         "t": 60
        },
        "template": {
         "data": {
          "bar": [
           {
            "error_x": {
             "color": "#2a3f5f"
            },
            "error_y": {
             "color": "#2a3f5f"
            },
            "marker": {
             "line": {
              "color": "#E5ECF6",
              "width": 0.5
             },
             "pattern": {
              "fillmode": "overlay",
              "size": 10,
              "solidity": 0.2
             }
            },
            "type": "bar"
           }
          ],
          "barpolar": [
           {
            "marker": {
             "line": {
              "color": "#E5ECF6",
              "width": 0.5
             },
             "pattern": {
              "fillmode": "overlay",
              "size": 10,
              "solidity": 0.2
             }
            },
            "type": "barpolar"
           }
          ],
          "carpet": [
           {
            "aaxis": {
             "endlinecolor": "#2a3f5f",
             "gridcolor": "white",
             "linecolor": "white",
             "minorgridcolor": "white",
             "startlinecolor": "#2a3f5f"
            },
            "baxis": {
             "endlinecolor": "#2a3f5f",
             "gridcolor": "white",
             "linecolor": "white",
             "minorgridcolor": "white",
             "startlinecolor": "#2a3f5f"
            },
            "type": "carpet"
           }
          ],
          "choropleth": [
           {
            "colorbar": {
             "outlinewidth": 0,
             "ticks": ""
            },
            "type": "choropleth"
           }
          ],
          "contour": [
           {
            "colorbar": {
             "outlinewidth": 0,
             "ticks": ""
            },
            "colorscale": [
             [
              0,
              "#0d0887"
             ],
             [
              0.1111111111111111,
              "#46039f"
             ],
             [
              0.2222222222222222,
              "#7201a8"
             ],
             [
              0.3333333333333333,
              "#9c179e"
             ],
             [
              0.4444444444444444,
              "#bd3786"
             ],
             [
              0.5555555555555556,
              "#d8576b"
             ],
             [
              0.6666666666666666,
              "#ed7953"
             ],
             [
              0.7777777777777778,
              "#fb9f3a"
             ],
             [
              0.8888888888888888,
              "#fdca26"
             ],
             [
              1,
              "#f0f921"
             ]
            ],
            "type": "contour"
           }
          ],
          "contourcarpet": [
           {
            "colorbar": {
             "outlinewidth": 0,
             "ticks": ""
            },
            "type": "contourcarpet"
           }
          ],
          "heatmap": [
           {
            "colorbar": {
             "outlinewidth": 0,
             "ticks": ""
            },
            "colorscale": [
             [
              0,
              "#0d0887"
             ],
             [
              0.1111111111111111,
              "#46039f"
             ],
             [
              0.2222222222222222,
              "#7201a8"
             ],
             [
              0.3333333333333333,
              "#9c179e"
             ],
             [
              0.4444444444444444,
              "#bd3786"
             ],
             [
              0.5555555555555556,
              "#d8576b"
             ],
             [
              0.6666666666666666,
              "#ed7953"
             ],
             [
              0.7777777777777778,
              "#fb9f3a"
             ],
             [
              0.8888888888888888,
              "#fdca26"
             ],
             [
              1,
              "#f0f921"
             ]
            ],
            "type": "heatmap"
           }
          ],
          "heatmapgl": [
           {
            "colorbar": {
             "outlinewidth": 0,
             "ticks": ""
            },
            "colorscale": [
             [
              0,
              "#0d0887"
             ],
             [
              0.1111111111111111,
              "#46039f"
             ],
             [
              0.2222222222222222,
              "#7201a8"
             ],
             [
              0.3333333333333333,
              "#9c179e"
             ],
             [
              0.4444444444444444,
              "#bd3786"
             ],
             [
              0.5555555555555556,
              "#d8576b"
             ],
             [
              0.6666666666666666,
              "#ed7953"
             ],
             [
              0.7777777777777778,
              "#fb9f3a"
             ],
             [
              0.8888888888888888,
              "#fdca26"
             ],
             [
              1,
              "#f0f921"
             ]
            ],
            "type": "heatmapgl"
           }
          ],
          "histogram": [
           {
            "marker": {
             "pattern": {
              "fillmode": "overlay",
              "size": 10,
              "solidity": 0.2
             }
            },
            "type": "histogram"
           }
          ],
          "histogram2d": [
           {
            "colorbar": {
             "outlinewidth": 0,
             "ticks": ""
            },
            "colorscale": [
             [
              0,
              "#0d0887"
             ],
             [
              0.1111111111111111,
              "#46039f"
             ],
             [
              0.2222222222222222,
              "#7201a8"
             ],
             [
              0.3333333333333333,
              "#9c179e"
             ],
             [
              0.4444444444444444,
              "#bd3786"
             ],
             [
              0.5555555555555556,
              "#d8576b"
             ],
             [
              0.6666666666666666,
              "#ed7953"
             ],
             [
              0.7777777777777778,
              "#fb9f3a"
             ],
             [
              0.8888888888888888,
              "#fdca26"
             ],
             [
              1,
              "#f0f921"
             ]
            ],
            "type": "histogram2d"
           }
          ],
          "histogram2dcontour": [
           {
            "colorbar": {
             "outlinewidth": 0,
             "ticks": ""
            },
            "colorscale": [
             [
              0,
              "#0d0887"
             ],
             [
              0.1111111111111111,
              "#46039f"
             ],
             [
              0.2222222222222222,
              "#7201a8"
             ],
             [
              0.3333333333333333,
              "#9c179e"
             ],
             [
              0.4444444444444444,
              "#bd3786"
             ],
             [
              0.5555555555555556,
              "#d8576b"
             ],
             [
              0.6666666666666666,
              "#ed7953"
             ],
             [
              0.7777777777777778,
              "#fb9f3a"
             ],
             [
              0.8888888888888888,
              "#fdca26"
             ],
             [
              1,
              "#f0f921"
             ]
            ],
            "type": "histogram2dcontour"
           }
          ],
          "mesh3d": [
           {
            "colorbar": {
             "outlinewidth": 0,
             "ticks": ""
            },
            "type": "mesh3d"
           }
          ],
          "parcoords": [
           {
            "line": {
             "colorbar": {
              "outlinewidth": 0,
              "ticks": ""
             }
            },
            "type": "parcoords"
           }
          ],
          "pie": [
           {
            "automargin": true,
            "type": "pie"
           }
          ],
          "scatter": [
           {
            "marker": {
             "colorbar": {
              "outlinewidth": 0,
              "ticks": ""
             }
            },
            "type": "scatter"
           }
          ],
          "scatter3d": [
           {
            "line": {
             "colorbar": {
              "outlinewidth": 0,
              "ticks": ""
             }
            },
            "marker": {
             "colorbar": {
              "outlinewidth": 0,
              "ticks": ""
             }
            },
            "type": "scatter3d"
           }
          ],
          "scattercarpet": [
           {
            "marker": {
             "colorbar": {
              "outlinewidth": 0,
              "ticks": ""
             }
            },
            "type": "scattercarpet"
           }
          ],
          "scattergeo": [
           {
            "marker": {
             "colorbar": {
              "outlinewidth": 0,
              "ticks": ""
             }
            },
            "type": "scattergeo"
           }
          ],
          "scattergl": [
           {
            "marker": {
             "colorbar": {
              "outlinewidth": 0,
              "ticks": ""
             }
            },
            "type": "scattergl"
           }
          ],
          "scattermapbox": [
           {
            "marker": {
             "colorbar": {
              "outlinewidth": 0,
              "ticks": ""
             }
            },
            "type": "scattermapbox"
           }
          ],
          "scatterpolar": [
           {
            "marker": {
             "colorbar": {
              "outlinewidth": 0,
              "ticks": ""
             }
            },
            "type": "scatterpolar"
           }
          ],
          "scatterpolargl": [
           {
            "marker": {
             "colorbar": {
              "outlinewidth": 0,
              "ticks": ""
             }
            },
            "type": "scatterpolargl"
           }
          ],
          "scatterternary": [
           {
            "marker": {
             "colorbar": {
              "outlinewidth": 0,
              "ticks": ""
             }
            },
            "type": "scatterternary"
           }
          ],
          "surface": [
           {
            "colorbar": {
             "outlinewidth": 0,
             "ticks": ""
            },
            "colorscale": [
             [
              0,
              "#0d0887"
             ],
             [
              0.1111111111111111,
              "#46039f"
             ],
             [
              0.2222222222222222,
              "#7201a8"
             ],
             [
              0.3333333333333333,
              "#9c179e"
             ],
             [
              0.4444444444444444,
              "#bd3786"
             ],
             [
              0.5555555555555556,
              "#d8576b"
             ],
             [
              0.6666666666666666,
              "#ed7953"
             ],
             [
              0.7777777777777778,
              "#fb9f3a"
             ],
             [
              0.8888888888888888,
              "#fdca26"
             ],
             [
              1,
              "#f0f921"
             ]
            ],
            "type": "surface"
           }
          ],
          "table": [
           {
            "cells": {
             "fill": {
              "color": "#EBF0F8"
             },
             "line": {
              "color": "white"
             }
            },
            "header": {
             "fill": {
              "color": "#C8D4E3"
             },
             "line": {
              "color": "white"
             }
            },
            "type": "table"
           }
          ]
         },
         "layout": {
          "annotationdefaults": {
           "arrowcolor": "#2a3f5f",
           "arrowhead": 0,
           "arrowwidth": 1
          },
          "autotypenumbers": "strict",
          "coloraxis": {
           "colorbar": {
            "outlinewidth": 0,
            "ticks": ""
           }
          },
          "colorscale": {
           "diverging": [
            [
             0,
             "#8e0152"
            ],
            [
             0.1,
             "#c51b7d"
            ],
            [
             0.2,
             "#de77ae"
            ],
            [
             0.3,
             "#f1b6da"
            ],
            [
             0.4,
             "#fde0ef"
            ],
            [
             0.5,
             "#f7f7f7"
            ],
            [
             0.6,
             "#e6f5d0"
            ],
            [
             0.7,
             "#b8e186"
            ],
            [
             0.8,
             "#7fbc41"
            ],
            [
             0.9,
             "#4d9221"
            ],
            [
             1,
             "#276419"
            ]
           ],
           "sequential": [
            [
             0,
             "#0d0887"
            ],
            [
             0.1111111111111111,
             "#46039f"
            ],
            [
             0.2222222222222222,
             "#7201a8"
            ],
            [
             0.3333333333333333,
             "#9c179e"
            ],
            [
             0.4444444444444444,
             "#bd3786"
            ],
            [
             0.5555555555555556,
             "#d8576b"
            ],
            [
             0.6666666666666666,
             "#ed7953"
            ],
            [
             0.7777777777777778,
             "#fb9f3a"
            ],
            [
             0.8888888888888888,
             "#fdca26"
            ],
            [
             1,
             "#f0f921"
            ]
           ],
           "sequentialminus": [
            [
             0,
             "#0d0887"
            ],
            [
             0.1111111111111111,
             "#46039f"
            ],
            [
             0.2222222222222222,
             "#7201a8"
            ],
            [
             0.3333333333333333,
             "#9c179e"
            ],
            [
             0.4444444444444444,
             "#bd3786"
            ],
            [
             0.5555555555555556,
             "#d8576b"
            ],
            [
             0.6666666666666666,
             "#ed7953"
            ],
            [
             0.7777777777777778,
             "#fb9f3a"
            ],
            [
             0.8888888888888888,
             "#fdca26"
            ],
            [
             1,
             "#f0f921"
            ]
           ]
          },
          "colorway": [
           "#636efa",
           "#EF553B",
           "#00cc96",
           "#ab63fa",
           "#FFA15A",
           "#19d3f3",
           "#FF6692",
           "#B6E880",
           "#FF97FF",
           "#FECB52"
          ],
          "font": {
           "color": "#2a3f5f"
          },
          "geo": {
           "bgcolor": "white",
           "lakecolor": "white",
           "landcolor": "#E5ECF6",
           "showlakes": true,
           "showland": true,
           "subunitcolor": "white"
          },
          "hoverlabel": {
           "align": "left"
          },
          "hovermode": "closest",
          "mapbox": {
           "style": "light"
          },
          "paper_bgcolor": "white",
          "plot_bgcolor": "#E5ECF6",
          "polar": {
           "angularaxis": {
            "gridcolor": "white",
            "linecolor": "white",
            "ticks": ""
           },
           "bgcolor": "#E5ECF6",
           "radialaxis": {
            "gridcolor": "white",
            "linecolor": "white",
            "ticks": ""
           }
          },
          "scene": {
           "xaxis": {
            "backgroundcolor": "#E5ECF6",
            "gridcolor": "white",
            "gridwidth": 2,
            "linecolor": "white",
            "showbackground": true,
            "ticks": "",
            "zerolinecolor": "white"
           },
           "yaxis": {
            "backgroundcolor": "#E5ECF6",
            "gridcolor": "white",
            "gridwidth": 2,
            "linecolor": "white",
            "showbackground": true,
            "ticks": "",
            "zerolinecolor": "white"
           },
           "zaxis": {
            "backgroundcolor": "#E5ECF6",
            "gridcolor": "white",
            "gridwidth": 2,
            "linecolor": "white",
            "showbackground": true,
            "ticks": "",
            "zerolinecolor": "white"
           }
          },
          "shapedefaults": {
           "line": {
            "color": "#2a3f5f"
           }
          },
          "ternary": {
           "aaxis": {
            "gridcolor": "white",
            "linecolor": "white",
            "ticks": ""
           },
           "baxis": {
            "gridcolor": "white",
            "linecolor": "white",
            "ticks": ""
           },
           "bgcolor": "#E5ECF6",
           "caxis": {
            "gridcolor": "white",
            "linecolor": "white",
            "ticks": ""
           }
          },
          "title": {
           "x": 0.05
          },
          "xaxis": {
           "automargin": true,
           "gridcolor": "white",
           "linecolor": "white",
           "ticks": "",
           "title": {
            "standoff": 15
           },
           "zerolinecolor": "white",
           "zerolinewidth": 2
          },
          "yaxis": {
           "automargin": true,
           "gridcolor": "white",
           "linecolor": "white",
           "ticks": "",
           "title": {
            "standoff": 15
           },
           "zerolinecolor": "white",
           "zerolinewidth": 2
          }
         }
        },
        "xaxis": {
         "anchor": "y",
         "autorange": true,
         "domain": [
          0,
          1
         ],
         "range": [
          0,
          299
         ],
         "title": {
          "text": "index"
         },
         "type": "linear"
        },
        "yaxis": {
         "anchor": "x",
         "autorange": true,
         "domain": [
          0,
          1
         ],
         "range": [
          0.9503611326217651,
          0.983138918876648
         ],
         "title": {
          "text": "value"
         },
         "type": "linear"
        }
       }
      },
      "image/png": "[encoded data removed]",
      "text/html": [
       "<div>                            <div id=\"979f6eab-2d88-468d-88c9-ac7b65733758\" class=\"plotly-graph-div\" style=\"height:525px; width:100%;\"></div>            <script type=\"text/javascript\">                require([\"plotly\"], function(Plotly) {                    window.PLOTLYENV=window.PLOTLYENV || {};                                    if (document.getElementById(\"979f6eab-2d88-468d-88c9-ac7b65733758\")) {                    Plotly.newPlot(                        \"979f6eab-2d88-468d-88c9-ac7b65733758\",                        [{\"hovertemplate\":\"variable=0<br>index=%{x}<br>value=%{y}<extra></extra>\",\"legendgroup\":\"0\",\"line\":{\"color\":\"#636efa\",\"dash\":\"solid\"},\"mode\":\"lines\",\"name\":\"0\",\"orientation\":\"v\",\"showlegend\":true,\"type\":\"scatter\",\"x\":[0,1,2,3,4,5,6,7,8,9,10,11,12,13,14,15,16,17,18,19,20,21,22,23,24,25,26,27,28,29,30,31,32,33,34,35,36,37,38,39,40,41,42,43,44,45,46,47,48,49,50,51,52,53,54,55,56,57,58,59,60,61,62,63,64,65,66,67,68,69,70,71,72,73,74,75,76,77,78,79,80,81,82,83,84,85,86,87,88,89,90,91,92,93,94,95,96,97,98,99,100,101,102,103,104,105,106,107,108,109,110,111,112,113,114,115,116,117,118,119,120,121,122,123,124,125,126,127,128,129,130,131,132,133,134,135,136,137,138,139,140,141,142,143,144,145,146,147,148,149,150,151,152,153,154,155,156,157,158,159,160,161,162,163,164,165,166,167,168,169,170,171,172,173,174,175,176,177,178,179,180,181,182,183,184,185,186,187,188,189,190,191,192,193,194,195,196,197,198,199,200,201,202,203,204,205,206,207,208,209,210,211,212,213,214,215,216,217,218,219,220,221,222,223,224,225,226,227,228,229,230,231,232,233,234,235,236,237,238,239,240,241,242,243,244,245,246,247,248,249,250,251,252,253,254,255,256,257,258,259,260,261,262,263,264,265,266,267,268,269,270,271,272,273,274,275,276,277,278,279,280,281,282,283,284,285,286,287,288,289,290,291,292,293,294,295,296,297,298,299],\"xaxis\":\"x\",\"y\":[0.9520000219345093,0.964900016784668,0.9708999991416931,0.9725000262260437,0.9721999764442444,0.972000002861023,0.9710999727249146,0.9728000164031982,0.9746999740600586,0.9731000065803528,0.972100019454956,0.9776999950408936,0.9765999913215637,0.9754999876022339,0.9726999998092651,0.9763000011444092,0.9768999814987183,0.9757000207901001,0.9736999869346619,0.9754999876022339,0.9728999733924866,0.9781000018119812,0.9763000011444092,0.9754999876022339,0.972599983215332,0.9739999771118164,0.9753000140190125,0.9753999710083008,0.9763000011444092,0.9739000201225281,0.9751999974250793,0.9736999869346619,0.9761999845504761,0.9747999906539917,0.9739999771118164,0.9746999740600586,0.9749000072479248,0.9732999801635742,0.9764000177383423,0.9760000109672546,0.9781000018119812,0.9736999869346619,0.9783999919891357,0.977400004863739,0.9750999808311462,0.9775000214576721,0.9771999716758728,0.9739999771118164,0.9743000268936157,0.9768000245094299,0.9775999784469604,0.9772999882698059,0.9779000282287598,0.9778000116348267,0.9776999950408936,0.9772999882698059,0.9781000018119812,0.9742000102996826,0.978600025177002,0.9779000282287598,0.9783999919891357,0.9787999987602234,0.9775999784469604,0.9779000282287598,0.9776999950408936,0.9760000109672546,0.9751999974250793,0.9764999747276306,0.9772999882698059,0.9779999852180481,0.9775999784469604,0.9771000146865845,0.9771000146865845,0.9800000190734863,0.9769999980926514,0.9771000146865845,0.9786999821662903,0.9764000177383423,0.9765999913215637,0.9761999845504761,0.9771999716758728,0.9768000245094299,0.9793999791145325,0.9783999919891357,0.9764000177383423,0.9763000011444092,0.9789999723434448,0.9789999723434448,0.9747999906539917,0.974399983882904,0.9765999913215637,0.9761000275611877,0.9789999723434448,0.9796000123023987,0.9750000238418579,0.9782999753952026,0.9779999852180481,0.975600004196167,0.9783999919891357,0.975600004196167,0.9753999710083008,0.9758999943733215,0.9775999784469604,0.9778000116348267,0.9781000018119812,0.977400004863739,0.9771000146865845,0.9761000275611877,0.9763000011444092,0.9783999919891357,0.9782000184059143,0.9775000214576721,0.9758999943733215,0.9750999808311462,0.9769999980926514,0.9754999876022339,0.978600025177002,0.977400004863739,0.9775999784469604,0.9764000177383423,0.9787999987602234,0.9763000011444092,0.9786999821662903,0.9779999852180481,0.9789000153541565,0.979200005531311,0.9761999845504761,0.9771000146865845,0.9787999987602234,0.9793000221252441,0.9751999974250793,0.9763000011444092,0.9776999950408936,0.9779999852180481,0.9778000116348267,0.9761000275611877,0.9757000207901001,0.9789000153541565,0.9781000018119812,0.977400004863739,0.9767000079154968,0.9785000085830688,0.9768000245094299,0.9793000221252441,0.9772999882698059,0.9790999889373779,0.9753999710083008,0.9799000024795532,0.9757000207901001,0.9783999919891357,0.9782000184059143,0.9764000177383423,0.9761999845504761,0.9697999954223633,0.9765999913215637,0.9794999957084656,0.9760000109672546,0.9786999821662903,0.9746999740600586,0.9775000214576721,0.9761000275611877,0.9763000011444092,0.9761999845504761,0.9761999845504761,0.977400004863739,0.9793999791145325,0.9775999784469604,0.9771999716758728,0.9757999777793884,0.9754999876022339,0.9771999716758728,0.9779999852180481,0.9772999882698059,0.9782000184059143,0.9753999710083008,0.9729999899864197,0.9758999943733215,0.9772999882698059,0.977400004863739,0.9778000116348267,0.9740999937057495,0.9769999980926514,0.9783999919891357,0.9751999974250793,0.9768999814987183,0.9760000109672546,0.978600025177002,0.9783999919891357,0.9771999716758728,0.9771999716758728,0.9760000109672546,0.9794999957084656,0.9779000282287598,0.9782999753952026,0.9771000146865845,0.9769999980926514,0.9771000146865845,0.9768999814987183,0.9779000282287598,0.978600025177002,0.9760000109672546,0.9782999753952026,0.9768999814987183,0.9789000153541565,0.9775999784469604,0.9776999950408936,0.977400004863739,0.9793999791145325,0.9793999791145325,0.9789000153541565,0.9783999919891357,0.9775000214576721,0.9757999777793884,0.9775999784469604,0.9775999784469604,0.9781000018119812,0.9787999987602234,0.9789000153541565,0.9778000116348267,0.9763000011444092,0.9761999845504761,0.9785000085830688,0.9758999943733215,0.9785000085830688,0.9753000140190125,0.9763000011444092,0.9779999852180481,0.9776999950408936,0.9782999753952026,0.9775999784469604,0.9753000140190125,0.9781000018119812,0.9765999913215637,0.9775999784469604,0.9775000214576721,0.9765999913215637,0.977400004863739,0.9771999716758728,0.9776999950408936,0.9793999791145325,0.9772999882698059,0.9781000018119812,0.9789000153541565,0.978600025177002,0.9789000153541565,0.9768999814987183,0.9785000085830688,0.9769999980926514,0.977400004863739,0.9781000018119812,0.9782000184059143,0.9772999882698059,0.9794999957084656,0.9779000282287598,0.9765999913215637,0.9776999950408936,0.9767000079154968,0.9764000177383423,0.9781000018119812,0.9761999845504761,0.9782000184059143,0.9761000275611877,0.9778000116348267,0.977400004863739,0.9786999821662903,0.9789000153541565,0.9793000221252441,0.9771999716758728,0.9764999747276306,0.9768999814987183,0.9775999784469604,0.979200005531311,0.9799000024795532,0.9783999919891357,0.978600025177002,0.9775999784469604,0.9768000245094299,0.9771999716758728,0.9786999821662903,0.9757999777793884,0.9794999957084656,0.977400004863739,0.9763000011444092,0.9775999784469604,0.9775000214576721,0.9776999950408936,0.9782999753952026,0.9782000184059143,0.978600025177002,0.9783999919891357,0.9785000085830688,0.9815000295639038,0.9782999753952026,0.9789999723434448,0.9769999980926514,0.9778000116348267,0.9776999950408936,0.9764999747276306,0.978600025177002,0.9779999852180481],\"yaxis\":\"y\"}],                        {\"legend\":{\"title\":{\"text\":\"variable\"},\"tracegroupgap\":0},\"margin\":{\"t\":60},\"template\":{\"data\":{\"bar\":[{\"error_x\":{\"color\":\"#2a3f5f\"},\"error_y\":{\"color\":\"#2a3f5f\"},\"marker\":{\"line\":{\"color\":\"#E5ECF6\",\"width\":0.5},\"pattern\":{\"fillmode\":\"overlay\",\"size\":10,\"solidity\":0.2}},\"type\":\"bar\"}],\"barpolar\":[{\"marker\":{\"line\":{\"color\":\"#E5ECF6\",\"width\":0.5},\"pattern\":{\"fillmode\":\"overlay\",\"size\":10,\"solidity\":0.2}},\"type\":\"barpolar\"}],\"carpet\":[{\"aaxis\":{\"endlinecolor\":\"#2a3f5f\",\"gridcolor\":\"white\",\"linecolor\":\"white\",\"minorgridcolor\":\"white\",\"startlinecolor\":\"#2a3f5f\"},\"baxis\":{\"endlinecolor\":\"#2a3f5f\",\"gridcolor\":\"white\",\"linecolor\":\"white\",\"minorgridcolor\":\"white\",\"startlinecolor\":\"#2a3f5f\"},\"type\":\"carpet\"}],\"choropleth\":[{\"colorbar\":{\"outlinewidth\":0,\"ticks\":\"\"},\"type\":\"choropleth\"}],\"contour\":[{\"colorbar\":{\"outlinewidth\":0,\"ticks\":\"\"},\"colorscale\":[[0.0,\"#0d0887\"],[0.1111111111111111,\"#46039f\"],[0.2222222222222222,\"#7201a8\"],[0.3333333333333333,\"#9c179e\"],[0.4444444444444444,\"#bd3786\"],[0.5555555555555556,\"#d8576b\"],[0.6666666666666666,\"#ed7953\"],[0.7777777777777778,\"#fb9f3a\"],[0.8888888888888888,\"#fdca26\"],[1.0,\"#f0f921\"]],\"type\":\"contour\"}],\"contourcarpet\":[{\"colorbar\":{\"outlinewidth\":0,\"ticks\":\"\"},\"type\":\"contourcarpet\"}],\"heatmap\":[{\"colorbar\":{\"outlinewidth\":0,\"ticks\":\"\"},\"colorscale\":[[0.0,\"#0d0887\"],[0.1111111111111111,\"#46039f\"],[0.2222222222222222,\"#7201a8\"],[0.3333333333333333,\"#9c179e\"],[0.4444444444444444,\"#bd3786\"],[0.5555555555555556,\"#d8576b\"],[0.6666666666666666,\"#ed7953\"],[0.7777777777777778,\"#fb9f3a\"],[0.8888888888888888,\"#fdca26\"],[1.0,\"#f0f921\"]],\"type\":\"heatmap\"}],\"heatmapgl\":[{\"colorbar\":{\"outlinewidth\":0,\"ticks\":\"\"},\"colorscale\":[[0.0,\"#0d0887\"],[0.1111111111111111,\"#46039f\"],[0.2222222222222222,\"#7201a8\"],[0.3333333333333333,\"#9c179e\"],[0.4444444444444444,\"#bd3786\"],[0.5555555555555556,\"#d8576b\"],[0.6666666666666666,\"#ed7953\"],[0.7777777777777778,\"#fb9f3a\"],[0.8888888888888888,\"#fdca26\"],[1.0,\"#f0f921\"]],\"type\":\"heatmapgl\"}],\"histogram\":[{\"marker\":{\"pattern\":{\"fillmode\":\"overlay\",\"size\":10,\"solidity\":0.2}},\"type\":\"histogram\"}],\"histogram2d\":[{\"colorbar\":{\"outlinewidth\":0,\"ticks\":\"\"},\"colorscale\":[[0.0,\"#0d0887\"],[0.1111111111111111,\"#46039f\"],[0.2222222222222222,\"#7201a8\"],[0.3333333333333333,\"#9c179e\"],[0.4444444444444444,\"#bd3786\"],[0.5555555555555556,\"#d8576b\"],[0.6666666666666666,\"#ed7953\"],[0.7777777777777778,\"#fb9f3a\"],[0.8888888888888888,\"#fdca26\"],[1.0,\"#f0f921\"]],\"type\":\"histogram2d\"}],\"histogram2dcontour\":[{\"colorbar\":{\"outlinewidth\":0,\"ticks\":\"\"},\"colorscale\":[[0.0,\"#0d0887\"],[0.1111111111111111,\"#46039f\"],[0.2222222222222222,\"#7201a8\"],[0.3333333333333333,\"#9c179e\"],[0.4444444444444444,\"#bd3786\"],[0.5555555555555556,\"#d8576b\"],[0.6666666666666666,\"#ed7953\"],[0.7777777777777778,\"#fb9f3a\"],[0.8888888888888888,\"#fdca26\"],[1.0,\"#f0f921\"]],\"type\":\"histogram2dcontour\"}],\"mesh3d\":[{\"colorbar\":{\"outlinewidth\":0,\"ticks\":\"\"},\"type\":\"mesh3d\"}],\"parcoords\":[{\"line\":{\"colorbar\":{\"outlinewidth\":0,\"ticks\":\"\"}},\"type\":\"parcoords\"}],\"pie\":[{\"automargin\":true,\"type\":\"pie\"}],\"scatter\":[{\"marker\":{\"colorbar\":{\"outlinewidth\":0,\"ticks\":\"\"}},\"type\":\"scatter\"}],\"scatter3d\":[{\"line\":{\"colorbar\":{\"outlinewidth\":0,\"ticks\":\"\"}},\"marker\":{\"colorbar\":{\"outlinewidth\":0,\"ticks\":\"\"}},\"type\":\"scatter3d\"}],\"scattercarpet\":[{\"marker\":{\"colorbar\":{\"outlinewidth\":0,\"ticks\":\"\"}},\"type\":\"scattercarpet\"}],\"scattergeo\":[{\"marker\":{\"colorbar\":{\"outlinewidth\":0,\"ticks\":\"\"}},\"type\":\"scattergeo\"}],\"scattergl\":[{\"marker\":{\"colorbar\":{\"outlinewidth\":0,\"ticks\":\"\"}},\"type\":\"scattergl\"}],\"scattermapbox\":[{\"marker\":{\"colorbar\":{\"outlinewidth\":0,\"ticks\":\"\"}},\"type\":\"scattermapbox\"}],\"scatterpolar\":[{\"marker\":{\"colorbar\":{\"outlinewidth\":0,\"ticks\":\"\"}},\"type\":\"scatterpolar\"}],\"scatterpolargl\":[{\"marker\":{\"colorbar\":{\"outlinewidth\":0,\"ticks\":\"\"}},\"type\":\"scatterpolargl\"}],\"scatterternary\":[{\"marker\":{\"colorbar\":{\"outlinewidth\":0,\"ticks\":\"\"}},\"type\":\"scatterternary\"}],\"surface\":[{\"colorbar\":{\"outlinewidth\":0,\"ticks\":\"\"},\"colorscale\":[[0.0,\"#0d0887\"],[0.1111111111111111,\"#46039f\"],[0.2222222222222222,\"#7201a8\"],[0.3333333333333333,\"#9c179e\"],[0.4444444444444444,\"#bd3786\"],[0.5555555555555556,\"#d8576b\"],[0.6666666666666666,\"#ed7953\"],[0.7777777777777778,\"#fb9f3a\"],[0.8888888888888888,\"#fdca26\"],[1.0,\"#f0f921\"]],\"type\":\"surface\"}],\"table\":[{\"cells\":{\"fill\":{\"color\":\"#EBF0F8\"},\"line\":{\"color\":\"white\"}},\"header\":{\"fill\":{\"color\":\"#C8D4E3\"},\"line\":{\"color\":\"white\"}},\"type\":\"table\"}]},\"layout\":{\"annotationdefaults\":{\"arrowcolor\":\"#2a3f5f\",\"arrowhead\":0,\"arrowwidth\":1},\"autotypenumbers\":\"strict\",\"coloraxis\":{\"colorbar\":{\"outlinewidth\":0,\"ticks\":\"\"}},\"colorscale\":{\"diverging\":[[0,\"#8e0152\"],[0.1,\"#c51b7d\"],[0.2,\"#de77ae\"],[0.3,\"#f1b6da\"],[0.4,\"#fde0ef\"],[0.5,\"#f7f7f7\"],[0.6,\"#e6f5d0\"],[0.7,\"#b8e186\"],[0.8,\"#7fbc41\"],[0.9,\"#4d9221\"],[1,\"#276419\"]],\"sequential\":[[0.0,\"#0d0887\"],[0.1111111111111111,\"#46039f\"],[0.2222222222222222,\"#7201a8\"],[0.3333333333333333,\"#9c179e\"],[0.4444444444444444,\"#bd3786\"],[0.5555555555555556,\"#d8576b\"],[0.6666666666666666,\"#ed7953\"],[0.7777777777777778,\"#fb9f3a\"],[0.8888888888888888,\"#fdca26\"],[1.0,\"#f0f921\"]],\"sequentialminus\":[[0.0,\"#0d0887\"],[0.1111111111111111,\"#46039f\"],[0.2222222222222222,\"#7201a8\"],[0.3333333333333333,\"#9c179e\"],[0.4444444444444444,\"#bd3786\"],[0.5555555555555556,\"#d8576b\"],[0.6666666666666666,\"#ed7953\"],[0.7777777777777778,\"#fb9f3a\"],[0.8888888888888888,\"#fdca26\"],[1.0,\"#f0f921\"]]},\"colorway\":[\"#636efa\",\"#EF553B\",\"#00cc96\",\"#ab63fa\",\"#FFA15A\",\"#19d3f3\",\"#FF6692\",\"#B6E880\",\"#FF97FF\",\"#FECB52\"],\"font\":{\"color\":\"#2a3f5f\"},\"geo\":{\"bgcolor\":\"white\",\"lakecolor\":\"white\",\"landcolor\":\"#E5ECF6\",\"showlakes\":true,\"showland\":true,\"subunitcolor\":\"white\"},\"hoverlabel\":{\"align\":\"left\"},\"hovermode\":\"closest\",\"mapbox\":{\"style\":\"light\"},\"paper_bgcolor\":\"white\",\"plot_bgcolor\":\"#E5ECF6\",\"polar\":{\"angularaxis\":{\"gridcolor\":\"white\",\"linecolor\":\"white\",\"ticks\":\"\"},\"bgcolor\":\"#E5ECF6\",\"radialaxis\":{\"gridcolor\":\"white\",\"linecolor\":\"white\",\"ticks\":\"\"}},\"scene\":{\"xaxis\":{\"backgroundcolor\":\"#E5ECF6\",\"gridcolor\":\"white\",\"gridwidth\":2,\"linecolor\":\"white\",\"showbackground\":true,\"ticks\":\"\",\"zerolinecolor\":\"white\"},\"yaxis\":{\"backgroundcolor\":\"#E5ECF6\",\"gridcolor\":\"white\",\"gridwidth\":2,\"linecolor\":\"white\",\"showbackground\":true,\"ticks\":\"\",\"zerolinecolor\":\"white\"},\"zaxis\":{\"backgroundcolor\":\"#E5ECF6\",\"gridcolor\":\"white\",\"gridwidth\":2,\"linecolor\":\"white\",\"showbackground\":true,\"ticks\":\"\",\"zerolinecolor\":\"white\"}},\"shapedefaults\":{\"line\":{\"color\":\"#2a3f5f\"}},\"ternary\":{\"aaxis\":{\"gridcolor\":\"white\",\"linecolor\":\"white\",\"ticks\":\"\"},\"baxis\":{\"gridcolor\":\"white\",\"linecolor\":\"white\",\"ticks\":\"\"},\"bgcolor\":\"#E5ECF6\",\"caxis\":{\"gridcolor\":\"white\",\"linecolor\":\"white\",\"ticks\":\"\"}},\"title\":{\"x\":0.05},\"xaxis\":{\"automargin\":true,\"gridcolor\":\"white\",\"linecolor\":\"white\",\"ticks\":\"\",\"title\":{\"standoff\":15},\"zerolinecolor\":\"white\",\"zerolinewidth\":2},\"yaxis\":{\"automargin\":true,\"gridcolor\":\"white\",\"linecolor\":\"white\",\"ticks\":\"\",\"title\":{\"standoff\":15},\"zerolinecolor\":\"white\",\"zerolinewidth\":2}}},\"xaxis\":{\"anchor\":\"y\",\"domain\":[0.0,1.0],\"title\":{\"text\":\"index\"}},\"yaxis\":{\"anchor\":\"x\",\"domain\":[0.0,1.0],\"title\":{\"text\":\"value\"}}},                        {\"responsive\": true}                    ).then(function(){\n",
       "                            \n",
       "var gd = document.getElementById('979f6eab-2d88-468d-88c9-ac7b65733758');\n",
       "var x = new MutationObserver(function (mutations, observer) {{\n",
       "        var display = window.getComputedStyle(gd).display;\n",
       "        if (!display || display === 'none') {{\n",
       "            console.log([gd, 'removed!']);\n",
       "            Plotly.purge(gd);\n",
       "            observer.disconnect();\n",
       "        }}\n",
       "}});\n",
       "\n",
       "// Listen for the removal of the full notebook cells\n",
       "var notebookContainer = gd.closest('#notebook-container');\n",
       "if (notebookContainer) {{\n",
       "    x.observe(notebookContainer, {childList: true});\n",
       "}}\n",
       "\n",
       "// Listen for the clearing of the current output cell\n",
       "var outputEl = gd.closest('.output');\n",
       "if (outputEl) {{\n",
       "    x.observe(outputEl, {childList: true});\n",
       "}}\n",
       "\n",
       "                        })                };                });            </script>        </div>"
      ]
     },
     "metadata": {},
     "output_type": "display_data"
    }
   ],
   "source": [
    "px.line(history.history['val_accuracy'])"
   ]
  },
  {
   "cell_type": "code",
   "execution_count": null,
   "id": "85171670-812e-4694-bb27-1ebee50882d4",
   "metadata": {},
   "outputs": [],
   "source": []
  }
 ],
 "metadata": {
  "kernelspec": {
   "display_name": "Python 3",
   "language": "python",
   "name": "python3"
  },
  "language_info": {
   "codemirror_mode": {
    "name": "ipython",
    "version": 3
   },
   "file_extension": ".py",
   "mimetype": "text/x-python",
   "name": "python",
   "nbconvert_exporter": "python",
   "pygments_lexer": "ipython3",
   "version": "3.7.10"
  }
 },
 "nbformat": 4,
 "nbformat_minor": 5
}
