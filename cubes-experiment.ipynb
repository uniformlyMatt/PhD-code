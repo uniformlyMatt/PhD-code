{
 "cells": [
  {
   "cell_type": "code",
   "execution_count": 1,
   "metadata": {},
   "outputs": [],
   "source": [
    "%matplotlib inline\n",
    "\n",
    "import numpy as np\n",
    "import pandas as pd\n",
    "import math\n",
    "import matplotlib.pyplot as plt\n",
    "import matplotlib.gridspec as gridspec\n",
    "from scipy.ndimage import morphology as morph\n",
    "from scipy.signal import fftconvolve, correlate\n",
    "import numpy.linalg as LA\n",
    "from sklearn.datasets import fetch_openml"
   ]
  },
  {
   "cell_type": "code",
   "execution_count": 2,
   "metadata": {},
   "outputs": [
    {
     "data": {
      "text/plain": [
       "<matplotlib.image.AxesImage at 0x1a2099f310>"
      ]
     },
     "execution_count": 2,
     "metadata": {},
     "output_type": "execute_result"
    },
    {
     "data": {
      "image/png": "[encoded data removed]",
      "text/plain": [
       "<Figure size 432x288 with 1 Axes>"
      ]
     },
     "metadata": {
      "needs_background": "light"
     },
     "output_type": "display_data"
    }
   ],
   "source": [
    "# Creates all combinations of 16 choose 4\n",
    "from itertools import combinations \n",
    "comb = combinations(range(16),4)\n",
    "sp = []\n",
    "for i in comb:   \n",
    "    sp.append(i)\n",
    "\n",
    "# Choose 100 random samples from each class (classes are uniquely determined by the empty quadrants)  \n",
    "sample=[0,0,0,0,0,0,0,0,0,0,0,0,0,0,0,0]\n",
    "c=[0,0,0,0]\n",
    "for j in range(15):\n",
    "    a=np.binary_repr(j+1,width=4)\n",
    "    for i in range(4):\n",
    "        if int(a[i])==1:\n",
    "            c[i]=np.random.choice(1820, 100, replace=False)\n",
    "        else:\n",
    "            c[i]=np.zeros(100)+1820\n",
    "    sample[j]=np.column_stack((c[0],c[1],c[2],c[3]))\n",
    "\n",
    "# Given a choice of 4 points out of 16, creates a quadrant with exactly 4 dots\n",
    "def sdot(sp_data): \n",
    "    q=np.zeros(16)\n",
    "    for j in sp_data:\n",
    "        q[j]=1\n",
    "    return np.array(q).reshape(4,4)\n",
    "\n",
    "# Creates the cube with 4 qudrants given a sample\n",
    "def sbuild(sample,sp):\n",
    "    qube=np.zeros((8,8))\n",
    "    if sample[0]<1820:\n",
    "        qube[4:8,4:8]=sdot(sp[sample[0]])\n",
    "    if sample[1]<1820:\n",
    "        qube[4:8,0:4]=sdot(sp[sample[1]])\n",
    "    if sample[2]<1820:\n",
    "        qube[0:4,4:8]=sdot(sp[sample[2]])      \n",
    "    if sample[3]<1820:\n",
    "        qube[0:4,0:4]=sdot(sp[sample[3]])\n",
    "    return qube    \n",
    "    \n",
    "# Transforms all samples into cubes\n",
    "sqples=[]\n",
    "for j in range(15):\n",
    "    aqple=[]\n",
    "    for k in range(100):\n",
    "        qube=sbuild(sample[j][k].astype(int),sp)\n",
    "        aqple.append(qube)\n",
    "    sqples.append(aqple) \n",
    "    \n",
    "plt.imshow(1-sqples[14][1], cmap = 'gray')"
   ]
  },
  {
   "cell_type": "code",
   "execution_count": 3,
   "metadata": {},
   "outputs": [
    {
     "data": {
      "image/png": "[encoded data removed]",
      "text/plain": [
       "<Figure size 432x288 with 1 Axes>"
      ]
     },
     "metadata": {
      "needs_background": "light"
     },
     "output_type": "display_data"
    }
   ],
   "source": [
    "for j in range(11):\n",
    "    plt.imshow(1-sqples[j][0], cmap = 'gray')"
   ]
  },
  {
   "cell_type": "code",
   "execution_count": null,
   "metadata": {},
   "outputs": [],
   "source": []
  },
  {
   "cell_type": "code",
   "execution_count": 4,
   "metadata": {},
   "outputs": [
    {
     "data": {
      "image/png": "[encoded data removed]",
      "text/plain": [
       "<Figure size 1152x1152 with 15 Axes>"
      ]
     },
     "metadata": {},
     "output_type": "display_data"
    }
   ],
   "source": [
    "fig, ax = plt.subplots(5,3,figsize=(16,16))\n",
    "ax\n",
    "\n",
    "ax[0,0].imshow(1-sqples[0][0], cmap = 'gray')\n",
    "ax[0,0].set(title = 'Class 0', xticks = [], yticks = []);\n",
    "ax[0,1].imshow(1-sqples[1][0], cmap = 'gray')\n",
    "ax[0,1].set(title = 'Class 1', xticks = [], yticks = []);\n",
    "ax[0,2].imshow(1-sqples[2][0], cmap = 'gray')\n",
    "ax[0,2].set(title = 'Class 2', xticks = [], yticks = []);\n",
    "ax[1,0].imshow(1-sqples[3][0], cmap = 'gray')\n",
    "ax[1,0].set(title = 'Class 3', xticks = [], yticks = []);\n",
    "ax[1,1].imshow(1-sqples[4][0], cmap = 'gray')\n",
    "ax[1,1].set(title = 'Class 4', xticks = [], yticks = []);\n",
    "ax[1,2].imshow(1-sqples[5][0], cmap = 'gray')\n",
    "ax[1,2].set(title = 'Class 5', xticks = [], yticks = []);\n",
    "ax[2,0].imshow(1-sqples[6][0], cmap = 'gray')\n",
    "ax[2,0].set(title = 'Class 6', xticks = [], yticks = []);\n",
    "ax[2,1].imshow(1-sqples[7][0], cmap = 'gray')\n",
    "ax[2,1].set(title = 'Class 7', xticks = [], yticks = []);\n",
    "ax[2,2].imshow(1-sqples[8][0], cmap = 'gray')\n",
    "ax[2,2].set(title = 'Class 8', xticks = [], yticks = []);\n",
    "ax[3,0].imshow(1-sqples[9][0], cmap = 'gray')\n",
    "ax[3,0].set(title = 'Class 9', xticks = [], yticks = []);\n",
    "ax[3,1].imshow(1-sqples[10][0], cmap = 'gray')\n",
    "ax[3,1].set(title = 'Class 10', xticks = [], yticks = []);\n",
    "ax[3,2].imshow(1-sqples[11][0], cmap = 'gray')\n",
    "ax[3,2].set(title = 'Class 11', xticks = [], yticks = []);\n",
    "ax[4,0].imshow(1-sqples[12][0], cmap = 'gray')\n",
    "ax[4,0].set(title = 'Class 12', xticks = [], yticks = []);\n",
    "ax[4,1].imshow(1-sqples[13][0], cmap = 'gray')\n",
    "ax[4,1].set(title = 'Class 13', xticks = [], yticks = []);\n",
    "ax[4,2].imshow(1-sqples[14][0], cmap = 'gray')\n",
    "ax[4,2].set(title = 'Class 14', xticks = [], yticks = []);"
   ]
  },
  {
   "cell_type": "code",
   "execution_count": 5,
   "metadata": {},
   "outputs": [],
   "source": [
    "def find_class(cube):\n",
    "    clas=0\n",
    "    if bool(sum(sum(cube[0:4,0:4]))):\n",
    "        clas+=1\n",
    "    if bool(sum(sum(cube[0:4,4:8]))):\n",
    "        clas+=2\n",
    "    if bool(sum(sum(cube[4:8,0:4]))):\n",
    "        clas+=4\n",
    "    if bool(sum(sum(cube[4:8,4:8]))):\n",
    "        clas+=8\n",
    "    return clas-1"
   ]
  },
  {
   "cell_type": "code",
   "execution_count": 6,
   "metadata": {},
   "outputs": [
    {
     "data": {
      "text/plain": [
       "4"
      ]
     },
     "execution_count": 6,
     "metadata": {},
     "output_type": "execute_result"
    }
   ],
   "source": [
    "find_class(sqples[4][1])"
   ]
  },
  {
   "cell_type": "code",
   "execution_count": 7,
   "metadata": {},
   "outputs": [
    {
     "data": {
      "text/plain": [
       "0.109375"
      ]
     },
     "execution_count": 7,
     "metadata": {},
     "output_type": "execute_result"
    }
   ],
   "source": [
    "np.array(sqples[5]).var()"
   ]
  },
  {
   "cell_type": "code",
   "execution_count": 8,
   "metadata": {},
   "outputs": [
    {
     "data": {
      "text/plain": [
       "<matplotlib.image.AxesImage at 0x1a20eb7490>"
      ]
     },
     "execution_count": 8,
     "metadata": {},
     "output_type": "execute_result"
    },
    {
     "data": {
      "image/png": "[encoded data removed]",
      "text/plain": [
       "<Figure size 432x288 with 1 Axes>"
      ]
     },
     "metadata": {
      "needs_background": "light"
     },
     "output_type": "display_data"
    }
   ],
   "source": [
    "z=np.array(sqples[5])\n",
    "plt.imshow(sum(sqples[2]), cmap = 'gray')"
   ]
  },
  {
   "cell_type": "code",
   "execution_count": null,
   "metadata": {},
   "outputs": [],
   "source": []
  }
 ],
 "metadata": {
  "kernelspec": {
   "display_name": "Python 3",
   "language": "python",
   "name": "python3"
  },
  "language_info": {
   "codemirror_mode": {
    "name": "ipython",
    "version": 3
   },
   "file_extension": ".py",
   "mimetype": "text/x-python",
   "name": "python",
   "nbconvert_exporter": "python",
   "pygments_lexer": "ipython3",
   "version": "3.7.1"
  }
 },
 "nbformat": 4,
 "nbformat_minor": 4
}
