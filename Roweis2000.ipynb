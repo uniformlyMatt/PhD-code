{
 "cells": [
  {
   "cell_type": "code",
   "execution_count": 1,
   "metadata": {},
   "outputs": [],
   "source": [
    "import numpy as np"
   ]
  },
  {
   "cell_type": "code",
   "execution_count": 4,
   "metadata": {
    "scrolled": true
   },
   "outputs": [
    {
     "data": {
      "text/plain": [
       "array([[[0.90655948, 0.87516048, 0.72854381, 0.76470628],\n",
       "        [0.4279056 , 0.39783869, 0.63368914, 0.55482699]],\n",
       "\n",
       "       [[0.73828853, 0.12093726, 0.75332192, 0.58525391],\n",
       "        [0.67051837, 0.82508448, 0.44141859, 0.84745429]],\n",
       "\n",
       "       [[0.28732762, 0.597262  , 0.78948747, 0.59848052],\n",
       "        [0.66640044, 0.74825536, 0.51515373, 0.60001835]]])"
      ]
     },
     "execution_count": 4,
     "metadata": {},
     "output_type": "execute_result"
    }
   ],
   "source": [
    "Z = np.random.rand(3,2,4)\n",
    "Z"
   ]
  },
  {
   "cell_type": "code",
   "execution_count": 25,
   "metadata": {},
   "outputs": [
    {
     "data": {
      "text/plain": [
       "(3, 2, 4)"
      ]
     },
     "execution_count": 25,
     "metadata": {},
     "output_type": "execute_result"
    }
   ],
   "source": [
    "Z.shape"
   ]
  },
  {
   "cell_type": "code",
   "execution_count": 8,
   "metadata": {},
   "outputs": [
    {
     "name": "stdout",
     "output_type": "stream",
     "text": [
      "This is the first object: 0\n",
      "This is the second object: \n",
      "[[0.90655948 0.4279056 ]\n",
      " [0.87516048 0.39783869]\n",
      " [0.72854381 0.63368914]\n",
      " [0.76470628 0.55482699]]\n",
      "This is the first object: 1\n",
      "This is the second object: \n",
      "[[0.73828853 0.67051837]\n",
      " [0.12093726 0.82508448]\n",
      " [0.75332192 0.44141859]\n",
      " [0.58525391 0.84745429]]\n",
      "This is the first object: 2\n",
      "This is the second object: \n",
      "[[0.28732762 0.66640044]\n",
      " [0.597262   0.74825536]\n",
      " [0.78948747 0.51515373]\n",
      " [0.59848052 0.60001835]]\n"
     ]
    }
   ],
   "source": [
    "for i, A in enumerate(Z.transpose(0,2,1)):\n",
    "    print('This is the first object: {}'.format(i))\n",
    "    print('This is the second object: \\n{}'.format(A))"
   ]
  },
  {
   "cell_type": "code",
   "execution_count": 10,
   "metadata": {},
   "outputs": [
    {
     "data": {
      "text/plain": [
       "array([[0.22061529, 0.88017188, 0.27979979, 0.18932592],\n",
       "       [0.28154013, 0.5279832 , 0.80689523, 0.03586219],\n",
       "       [0.91718388, 0.87098857, 0.76102898, 0.53948432]])"
      ]
     },
     "execution_count": 10,
     "metadata": {},
     "output_type": "execute_result"
    }
   ],
   "source": [
    "X = np.random.rand(3,4)\n",
    "X"
   ]
  },
  {
   "cell_type": "code",
   "execution_count": 16,
   "metadata": {},
   "outputs": [
    {
     "name": "stdout",
     "output_type": "stream",
     "text": [
      "A.T is :\n",
      " [[0.90655948 0.87516048 0.72854381 0.76470628]\n",
      " [0.4279056  0.39783869 0.63368914 0.55482699]]\n",
      "X[i] is: \n",
      "[0.22061529 0.88017188 0.27979979 0.18932592]\n",
      "[[ 0.6859442  -0.00501141  0.44874403  0.57538036]\n",
      " [ 0.20729031 -0.48233319  0.35388935  0.36550107]]\n",
      "A.T is :\n",
      " [[0.73828853 0.12093726 0.75332192 0.58525391]\n",
      " [0.67051837 0.82508448 0.44141859 0.84745429]]\n",
      "X[i] is: \n",
      "[0.28154013 0.5279832  0.80689523 0.03586219]\n",
      "[[ 0.4567484  -0.40704594 -0.05357331  0.54939172]\n",
      " [ 0.38897824  0.29710128 -0.36547664  0.8115921 ]]\n",
      "A.T is :\n",
      " [[0.28732762 0.597262   0.78948747 0.59848052]\n",
      " [0.66640044 0.74825536 0.51515373 0.60001835]]\n",
      "X[i] is: \n",
      "[0.91718388 0.87098857 0.76102898 0.53948432]\n",
      "[[-0.62985626 -0.27372657  0.02845849  0.05899621]\n",
      " [-0.25078344 -0.12273321 -0.24587525  0.06053404]]\n"
     ]
    }
   ],
   "source": [
    "for i, A in enumerate(Z.transpose(0,2,1)):\n",
    "    print('A.T is :\\n {}'.format(A.T))\n",
    "    print('X[i] is: \\n{}'.format(X[i]))\n",
    "    print(A.T - X[i])"
   ]
  },
  {
   "cell_type": "code",
   "execution_count": 13,
   "metadata": {},
   "outputs": [
    {
     "name": "stdout",
     "output_type": "stream",
     "text": [
      "[0.22061529 0.88017188 0.27979979 0.18932592]\n",
      "[0.28154013 0.5279832  0.80689523 0.03586219]\n",
      "[0.91718388 0.87098857 0.76102898 0.53948432]\n"
     ]
    }
   ],
   "source": [
    "for i in range(X.shape[0]):\n",
    "    print(X[i])"
   ]
  },
  {
   "cell_type": "code",
   "execution_count": 17,
   "metadata": {},
   "outputs": [
    {
     "data": {
      "text/plain": [
       "array([[0.93750588, 0.75938678, 1.28403855],\n",
       "       [0.75938678, 1.0103971 , 1.35150914],\n",
       "       [1.28403855, 1.35150914, 2.4700558 ]])"
      ]
     },
     "execution_count": 17,
     "metadata": {},
     "output_type": "execute_result"
    }
   ],
   "source": [
    "np.dot(X,X.T)"
   ]
  },
  {
   "cell_type": "code",
   "execution_count": 26,
   "metadata": {},
   "outputs": [
    {
     "data": {
      "text/plain": [
       "array([[0.93850588, 0.75938678, 1.28403855],\n",
       "       [0.76038678, 1.0103971 , 1.35150914],\n",
       "       [1.28503855, 1.35150914, 2.4700558 ]])"
      ]
     },
     "execution_count": 26,
     "metadata": {},
     "output_type": "execute_result"
    }
   ],
   "source": [
    "G = np.dot(X,X.T)\n",
    "G.flat[::Z.shape[1]+1] += 1/1000\n",
    "G"
   ]
  },
  {
   "cell_type": "code",
   "execution_count": 23,
   "metadata": {},
   "outputs": [
    {
     "data": {
      "text/plain": [
       "3"
      ]
     },
     "execution_count": 23,
     "metadata": {},
     "output_type": "execute_result"
    }
   ],
   "source": [
    "Z.shape[1]+1"
   ]
  },
  {
   "cell_type": "code",
   "execution_count": null,
   "metadata": {},
   "outputs": [],
   "source": []
  }
 ],
 "metadata": {
  "kernelspec": {
   "display_name": "Python 3",
   "language": "python",
   "name": "python3"
  },
  "language_info": {
   "codemirror_mode": {
    "name": "ipython",
    "version": 3
   },
   "file_extension": ".py",
   "mimetype": "text/x-python",
   "name": "python",
   "nbconvert_exporter": "python",
   "pygments_lexer": "ipython3",
   "version": "3.7.1"
  }
 },
 "nbformat": 4,
 "nbformat_minor": 4
}
